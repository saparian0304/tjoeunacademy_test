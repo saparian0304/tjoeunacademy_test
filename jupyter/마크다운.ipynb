{
 "cells": [
  {
   "cell_type": "markdown",
   "id": "3ccb7cdb",
   "metadata": {},
   "source": [
    "# 제목1\n",
    "## 제목2\n",
    "### 제목3\n",
    "#### 제목4\n"
   ]
  },
  {
   "cell_type": "markdown",
   "id": "9a1f486f",
   "metadata": {},
   "source": [
    "### 목록\n",
    "1. 자바\n",
    "2. 파이선\n",
    "3. 자바스크립트"
   ]
  },
  {
   "cell_type": "markdown",
   "id": "f03fd4c6",
   "metadata": {},
   "source": [
    "1. 자바\n",
    "    1. JSP\n",
    "    2. Spring\n",
    "2. 파이썬"
   ]
  },
  {
   "cell_type": "markdown",
   "id": "10c4cdb7",
   "metadata": {},
   "source": [
    "* 자바\n",
    "* 파이썬\n",
    "* 자바스크립트"
   ]
  },
  {
   "cell_type": "markdown",
   "id": "c6f2f981",
   "metadata": {},
   "source": [
    "### 줄바꿈(공백 두개)\n",
    "안녕하세요  \n",
    "저는  \n",
    "홍길동입니다"
   ]
  },
  {
   "cell_type": "markdown",
   "id": "aa94df8e",
   "metadata": {},
   "source": [
    "### 문단 바꿈 (엔터 두개)\n",
    "안녕하세요 저는 홍길동입니다\n",
    "\n",
    "반갑습니다"
   ]
  },
  {
   "cell_type": "markdown",
   "id": "8d84ddac",
   "metadata": {},
   "source": [
    "## 문자강조  \n",
    "안녕하세요 저는 *홍길동*입니다  \n",
    "안녕하세요 저는 **홍길동**입니다  \n",
    "안녕하세요 저는 __홍길동__입니다  \n",
    "안녕하세요 저는 ~~홍길동~~입니다  "
   ]
  },
  {
   "cell_type": "markdown",
   "id": "64d12d20",
   "metadata": {},
   "source": [
    "### 구분선 (- 3개)  \n",
    "자바는요 뭐가 어떻고....\n",
    "\n",
    "---  \n",
    "파이썬은요 뭐가 저래요"
   ]
  },
  {
   "cell_type": "markdown",
   "id": "37d0d7f4",
   "metadata": {},
   "source": [
    "### 링크\n",
    "여기는 [네이버](http://www.naver.com)입니다."
   ]
  },
  {
   "cell_type": "markdown",
   "id": "28377562",
   "metadata": {},
   "source": [
    "### 이미지\n",
    "![주피터](http://localhost:8888/static/base/images/logo.png?v=a2a176ee3cee251ffddf5fa21fe8e43727a9e5f87a06f9c91ad7b776d9e9d3d5e0159c16cc188a3965e00375fb4bc336c16067c688f5040c0c2d4bfdb852a9e4)"
   ]
  },
  {
   "cell_type": "markdown",
   "id": "8801e2ba",
   "metadata": {},
   "source": [
    "### 코드\n",
    "```python\n",
    "def test():\n",
    "    return 1\n",
    "```\n",
    "여러 데이터를 저장하려면 `list`를 사용하세요"
   ]
  }
 ],
 "metadata": {
  "kernelspec": {
   "display_name": "Python 3 (ipykernel)",
   "language": "python",
   "name": "python3"
  },
  "language_info": {
   "codemirror_mode": {
    "name": "ipython",
    "version": 3
   },
   "file_extension": ".py",
   "mimetype": "text/x-python",
   "name": "python",
   "nbconvert_exporter": "python",
   "pygments_lexer": "ipython3",
   "version": "3.9.12"
  }
 },
 "nbformat": 4,
 "nbformat_minor": 5
}
