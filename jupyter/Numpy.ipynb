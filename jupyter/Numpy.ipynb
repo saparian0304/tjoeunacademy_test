{
 "cells": [
  {
   "cell_type": "markdown",
   "id": "0d319ab1",
   "metadata": {},
   "source": [
    "### numeric + python\n",
    "- 숫자와 관련된 작업 도구\n",
    "- numpy array 자료형 : 파이썬의 리스트와 유사\n",
    "- 리스트는 자료형 제한없음, array는 동일한 자료형만 가능\n",
    "- 리스트보다 코드량도 적고, 속도도 빠름"
   ]
  },
  {
   "cell_type": "code",
   "execution_count": 2,
   "id": "4ba94a2e",
   "metadata": {},
   "outputs": [],
   "source": [
    "import numpy as np"
   ]
  },
  {
   "cell_type": "code",
   "execution_count": 4,
   "id": "d3245ecf",
   "metadata": {},
   "outputs": [
    {
     "data": {
      "text/plain": [
       "array([1, 2, 3])"
      ]
     },
     "execution_count": 4,
     "metadata": {},
     "output_type": "execute_result"
    }
   ],
   "source": [
    "plist = [1,2,3]    # 리스트\n",
    "# array로 변환\n",
    "arr = np.array(plist)\n",
    "arr"
   ]
  },
  {
   "cell_type": "code",
   "execution_count": 5,
   "id": "1547db5d",
   "metadata": {},
   "outputs": [
    {
     "data": {
      "text/plain": [
       "numpy.ndarray"
      ]
     },
     "execution_count": 5,
     "metadata": {},
     "output_type": "execute_result"
    }
   ],
   "source": [
    "# ndarray : n-dimension array\n",
    "type(arr)"
   ]
  },
  {
   "cell_type": "code",
   "execution_count": 6,
   "id": "c85290cc",
   "metadata": {},
   "outputs": [
    {
     "data": {
      "text/plain": [
       "(3,)"
      ]
     },
     "execution_count": 6,
     "metadata": {},
     "output_type": "execute_result"
    }
   ],
   "source": [
    "# 모양\n",
    "arr.shape"
   ]
  },
  {
   "cell_type": "code",
   "execution_count": 12,
   "id": "c6523b22",
   "metadata": {},
   "outputs": [
    {
     "data": {
      "text/plain": [
       "(2, 3)"
      ]
     },
     "execution_count": 12,
     "metadata": {},
     "output_type": "execute_result"
    }
   ],
   "source": [
    "# 2차원 2행, 3열\n",
    "[\n",
    "    [1,2,3],\n",
    "    [4,5,6]\n",
    "]\n",
    "arr = np.array([[1,2,3],[4,5,6]])\n",
    "arr.shape    # 행, 열"
   ]
  },
  {
   "cell_type": "code",
   "execution_count": 14,
   "id": "4edc0147",
   "metadata": {},
   "outputs": [
    {
     "data": {
      "text/plain": [
       "6"
      ]
     },
     "execution_count": 14,
     "metadata": {},
     "output_type": "execute_result"
    }
   ],
   "source": [
    "# 개수\n",
    "arr.size"
   ]
  },
  {
   "cell_type": "markdown",
   "id": "f61bd358",
   "metadata": {},
   "source": [
    "#### numpy array 생성방법"
   ]
  },
  {
   "cell_type": "code",
   "execution_count": 16,
   "id": "0e5fb806",
   "metadata": {},
   "outputs": [
    {
     "data": {
      "text/plain": [
       "array([7, 7, 7, 7, 7, 7, 7, 7, 7, 7])"
      ]
     },
     "execution_count": 16,
     "metadata": {},
     "output_type": "execute_result"
    }
   ],
   "source": [
    "# 1. 리스트를 변환 (상단에서 했음)\n",
    "# 2. 동일한 값으로 생성\n",
    "arr = np.full(10, 7)\n",
    "arr"
   ]
  },
  {
   "cell_type": "code",
   "execution_count": 25,
   "id": "7f06268d",
   "metadata": {},
   "outputs": [
    {
     "data": {
      "text/plain": [
       "array([[0, 0],\n",
       "       [0, 0],\n",
       "       [0, 0],\n",
       "       [0, 0],\n",
       "       [0, 0]])"
      ]
     },
     "execution_count": 25,
     "metadata": {},
     "output_type": "execute_result"
    }
   ],
   "source": [
    "# 3. 모든 값이 0으로 생성\n",
    "# arr = np.full(5,0)\n",
    "arr = np.zeros(10, dtype=int)\n",
    "arr\n",
    "arr = np.zeros((5,2), dtype=int)    # 5행 2열\n",
    "arr"
   ]
  },
  {
   "cell_type": "code",
   "execution_count": 27,
   "id": "ffa3f771",
   "metadata": {},
   "outputs": [
    {
     "data": {
      "text/plain": [
       "array([[1, 1],\n",
       "       [1, 1],\n",
       "       [1, 1],\n",
       "       [1, 1],\n",
       "       [1, 1]])"
      ]
     },
     "execution_count": 27,
     "metadata": {},
     "output_type": "execute_result"
    }
   ],
   "source": [
    "# 4. 모든 값이 1로 생성\n",
    "arr = np.ones((5,2), dtype=int)\n",
    "arr"
   ]
  },
  {
   "cell_type": "code",
   "execution_count": 15,
   "id": "ce0f367a",
   "metadata": {},
   "outputs": [
    {
     "data": {
      "text/plain": [
       "array([[4, 3, 5, 4, 4],\n",
       "       [5, 5, 4, 5, 5]])"
      ]
     },
     "execution_count": 15,
     "metadata": {},
     "output_type": "execute_result"
    }
   ],
   "source": [
    "# 5. 랜덤값으로 생성\n",
    "np.random.random(10)    # 0~1 사이의 실수를 뽑아줌\n",
    "np.random.randint(1,7, size=(2,5))"
   ]
  },
  {
   "cell_type": "code",
   "execution_count": 7,
   "id": "1d93df9f",
   "metadata": {},
   "outputs": [
    {
     "data": {
      "text/plain": [
       "array([1, 2, 3, 4, 5, 6])"
      ]
     },
     "execution_count": 7,
     "metadata": {},
     "output_type": "execute_result"
    }
   ],
   "source": [
    "# 6. 범위값으로 생성\n",
    "np.arange(10)\n",
    "np.arange(1,7)"
   ]
  },
  {
   "cell_type": "markdown",
   "id": "d3669cf8",
   "metadata": {},
   "source": [
    "#### 인덱싱 / 슬라이싱"
   ]
  },
  {
   "cell_type": "code",
   "execution_count": 8,
   "id": "b688a860",
   "metadata": {},
   "outputs": [
    {
     "data": {
      "text/plain": [
       "array([ 1,  4,  7, 10, 13, 16, 19])"
      ]
     },
     "execution_count": 8,
     "metadata": {},
     "output_type": "execute_result"
    }
   ],
   "source": [
    "arr = np.arange(1,20,3)\n",
    "arr"
   ]
  },
  {
   "cell_type": "code",
   "execution_count": 9,
   "id": "8acd5ca4",
   "metadata": {},
   "outputs": [
    {
     "data": {
      "text/plain": [
       "(1, 19)"
      ]
     },
     "execution_count": 9,
     "metadata": {},
     "output_type": "execute_result"
    }
   ],
   "source": [
    "# 인덱싱\n",
    "arr[0], arr[-1]"
   ]
  },
  {
   "cell_type": "code",
   "execution_count": 11,
   "id": "e85ddd6f",
   "metadata": {},
   "outputs": [
    {
     "data": {
      "text/plain": [
       "array([ 4, 10])"
      ]
     },
     "execution_count": 11,
     "metadata": {},
     "output_type": "execute_result"
    }
   ],
   "source": [
    "# 인덱스 각각\n",
    "# 1번, 3번\n",
    "arr[[1,3]]"
   ]
  },
  {
   "cell_type": "code",
   "execution_count": 20,
   "id": "f4db4517",
   "metadata": {},
   "outputs": [
    {
     "data": {
      "text/plain": [
       "array([ 1,  7, 13, 19])"
      ]
     },
     "execution_count": 20,
     "metadata": {},
     "output_type": "execute_result"
    }
   ],
   "source": [
    "# 슬라이싱\n",
    "arr[1:4]  # 1부터 4 전까지\n",
    "arr[:4]   # 맨 앞에서부터 4 전까지\n",
    "arr[3:]   # 3부터 맨 끝까지\n",
    "arr[:]    # 맨 앞에서부터 맨 끝까지\n",
    "arr[::2]  # 맨 앞에서부터 맨 끝까지 2개 요소마다"
   ]
  },
  {
   "cell_type": "code",
   "execution_count": 22,
   "id": "31b06bdd",
   "metadata": {},
   "outputs": [
    {
     "data": {
      "text/plain": [
       "array(['1', '2', '3', '4', '5', '6'], dtype='<U11')"
      ]
     },
     "execution_count": 22,
     "metadata": {},
     "output_type": "execute_result"
    }
   ],
   "source": [
    "arr2 = np.array([1,2,3,'4',5,6])\n",
    "arr2  # 하나라도 문자열이 섞여있으면 전체가 문자열이 됨 (동일한 자료형이어야 해서..)"
   ]
  },
  {
   "cell_type": "markdown",
   "id": "aa8c6d9f",
   "metadata": {},
   "source": [
    "#### 연산"
   ]
  },
  {
   "cell_type": "code",
   "execution_count": 23,
   "id": "6b61ebaa",
   "metadata": {},
   "outputs": [],
   "source": [
    "arr1 = np.arange(10)\n",
    "arr2 = np.arange(10, 20)"
   ]
  },
  {
   "cell_type": "code",
   "execution_count": 26,
   "id": "1f6f9afb",
   "metadata": {},
   "outputs": [
    {
     "data": {
      "text/plain": [
       "array([0, 1, 2, 3, 4, 5, 6, 7, 8, 9])"
      ]
     },
     "execution_count": 26,
     "metadata": {},
     "output_type": "execute_result"
    }
   ],
   "source": [
    "arr1"
   ]
  },
  {
   "cell_type": "code",
   "execution_count": 27,
   "id": "0d1ba4ca",
   "metadata": {},
   "outputs": [
    {
     "data": {
      "text/plain": [
       "array([ 1,  2,  3,  4,  5,  6,  7,  8,  9, 10])"
      ]
     },
     "execution_count": 27,
     "metadata": {},
     "output_type": "execute_result"
    }
   ],
   "source": [
    "# 모든 요소에 +1\n",
    "# 1이 [1,1,1,1,1,1,1,1,1,1] 변환해서 연산 -> 브로드캐스팅\n",
    "# 요소개수가 다르면 연산이 안됨\n",
    "arr1 + 1"
   ]
  },
  {
   "cell_type": "code",
   "execution_count": 31,
   "id": "287d4574",
   "metadata": {},
   "outputs": [
    {
     "data": {
      "text/plain": [
       "array([ 1,  2,  3,  4,  5,  6,  7,  8,  9, 10])"
      ]
     },
     "execution_count": 31,
     "metadata": {},
     "output_type": "execute_result"
    }
   ],
   "source": [
    "arr1 + np.ones(10, dtype=int)  # 개수가 다르면 연산이 안됨"
   ]
  },
  {
   "cell_type": "code",
   "execution_count": 32,
   "id": "31d0e611",
   "metadata": {},
   "outputs": [
    {
     "data": {
      "text/plain": [
       "array([ 0,  2,  4,  6,  8, 10, 12, 14, 16, 18])"
      ]
     },
     "execution_count": 32,
     "metadata": {},
     "output_type": "execute_result"
    }
   ],
   "source": [
    "arr1 * 2    # 브로드캐스팅"
   ]
  },
  {
   "cell_type": "code",
   "execution_count": 33,
   "id": "35f426e1",
   "metadata": {},
   "outputs": [
    {
     "data": {
      "text/plain": [
       "array([10, 12, 14, 16, 18, 20, 22, 24, 26, 28])"
      ]
     },
     "execution_count": 33,
     "metadata": {},
     "output_type": "execute_result"
    }
   ],
   "source": [
    "arr1 + arr2   # 브로드캐스팅"
   ]
  },
  {
   "cell_type": "code",
   "execution_count": 34,
   "id": "68b36727",
   "metadata": {},
   "outputs": [
    {
     "data": {
      "text/plain": [
       "array([  0,  11,  24,  39,  56,  75,  96, 119, 144, 171])"
      ]
     },
     "execution_count": 34,
     "metadata": {},
     "output_type": "execute_result"
    }
   ],
   "source": [
    "arr1 * arr2   # 브로드캐스팅"
   ]
  },
  {
   "cell_type": "code",
   "execution_count": 44,
   "id": "4a5fd4f6",
   "metadata": {},
   "outputs": [
    {
     "data": {
      "text/plain": [
       "array([7000000, 5600000, 4900000, 8400000, 6300000])"
      ]
     },
     "execution_count": 44,
     "metadata": {},
     "output_type": "execute_result"
    }
   ],
   "source": [
    "# 퀴즈\n",
    "dollar = [5000, 4000, 3500, 6000, 4500]\n",
    "# for문 사용하지 않고, 원화로 변환(환율은 1400원)\n",
    "np.array(dollar)* 1400"
   ]
  },
  {
   "cell_type": "code",
   "execution_count": 54,
   "id": "5891a05f",
   "metadata": {},
   "outputs": [
    {
     "data": {
      "text/plain": [
       "array([False, False, False, False, False, False,  True,  True,  True,\n",
       "        True])"
      ]
     },
     "execution_count": 54,
     "metadata": {},
     "output_type": "execute_result"
    }
   ],
   "source": [
    "# bool 연산\n",
    "arr1 > 5"
   ]
  },
  {
   "cell_type": "markdown",
   "id": "2cd83315",
   "metadata": {},
   "source": [
    "#### bool 연산 단계"
   ]
  },
  {
   "cell_type": "code",
   "execution_count": 50,
   "id": "e54d29ac",
   "metadata": {},
   "outputs": [
    {
     "data": {
      "text/plain": [
       "array([False, False,  True, False, False,  True, False, False,  True,\n",
       "       False])"
      ]
     },
     "execution_count": 50,
     "metadata": {},
     "output_type": "execute_result"
    }
   ],
   "source": [
    "arr2 % 3 == 0"
   ]
  },
  {
   "cell_type": "code",
   "execution_count": 51,
   "id": "84a8ada0",
   "metadata": {},
   "outputs": [
    {
     "data": {
      "text/plain": [
       "(array([2, 5, 8], dtype=int64),)"
      ]
     },
     "execution_count": 51,
     "metadata": {},
     "output_type": "execute_result"
    }
   ],
   "source": [
    "# 조건에 만족하는 인덱스\n",
    "np.where(arr2 % 3 == 0)"
   ]
  },
  {
   "cell_type": "code",
   "execution_count": 52,
   "id": "fda6e757",
   "metadata": {},
   "outputs": [
    {
     "data": {
      "text/plain": [
       "array([12, 15, 18])"
      ]
     },
     "execution_count": 52,
     "metadata": {},
     "output_type": "execute_result"
    }
   ],
   "source": [
    "f = np.where(arr2 % 3 == 0)\n",
    "arr2[f]"
   ]
  },
  {
   "cell_type": "code",
   "execution_count": 53,
   "id": "53c5dc31",
   "metadata": {},
   "outputs": [
    {
     "data": {
      "text/plain": [
       "array([12, 15, 18])"
      ]
     },
     "execution_count": 53,
     "metadata": {},
     "output_type": "execute_result"
    }
   ],
   "source": [
    "arr2[np.where(arr2 % 3 == 0)]"
   ]
  },
  {
   "cell_type": "code",
   "execution_count": 55,
   "id": "4306c210",
   "metadata": {},
   "outputs": [
    {
     "data": {
      "text/plain": [
       "array([12, 15, 18])"
      ]
     },
     "execution_count": 55,
     "metadata": {},
     "output_type": "execute_result"
    }
   ],
   "source": [
    "arr2[[2,5,8]]"
   ]
  },
  {
   "cell_type": "markdown",
   "id": "cff563d2",
   "metadata": {},
   "source": [
    "### 속도 비교"
   ]
  },
  {
   "cell_type": "code",
   "execution_count": 57,
   "id": "e1cccc95",
   "metadata": {},
   "outputs": [],
   "source": [
    "# 파이썬 리스트\n",
    "import time"
   ]
  },
  {
   "cell_type": "code",
   "execution_count": 62,
   "id": "1a781c6b",
   "metadata": {},
   "outputs": [
    {
     "name": "stdout",
     "output_type": "stream",
     "text": [
      "0.15711307525634766\n"
     ]
    }
   ],
   "source": [
    "arr = np.arange(100000000)\n",
    "start = time.time()\n",
    "arr2 = arr * 1400\n",
    "end = time.time()\n",
    "print(end - start)"
   ]
  },
  {
   "cell_type": "code",
   "execution_count": 82,
   "id": "72179c28",
   "metadata": {},
   "outputs": [],
   "source": []
  }
 ],
 "metadata": {
  "kernelspec": {
   "display_name": "Python 3 (ipykernel)",
   "language": "python",
   "name": "python3"
  },
  "language_info": {
   "codemirror_mode": {
    "name": "ipython",
    "version": 3
   },
   "file_extension": ".py",
   "mimetype": "text/x-python",
   "name": "python",
   "nbconvert_exporter": "python",
   "pygments_lexer": "ipython3",
   "version": "3.9.12"
  }
 },
 "nbformat": 4,
 "nbformat_minor": 5
}
