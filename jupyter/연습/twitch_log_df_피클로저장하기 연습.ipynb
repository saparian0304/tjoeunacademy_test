{
 "cells": [
  {
   "cell_type": "code",
   "execution_count": 1,
   "id": "e159ef24",
   "metadata": {},
   "outputs": [],
   "source": [
    "from selenium import webdriver\n",
    "from selenium.webdriver.support.ui import WebDriverWait\n",
    "from selenium.webdriver.support import expected_conditions as ec\n",
    "from selenium.webdriver.common.by import By\n",
    "from selenium.webdriver.common.keys import Keys\n",
    "from datetime import datetime\n",
    "from bs4 import BeautifulSoup\n",
    "import time\n",
    "import pandas as pd"
   ]
  },
  {
   "cell_type": "code",
   "execution_count": 2,
   "id": "36f540f4",
   "metadata": {},
   "outputs": [
    {
     "name": "stderr",
     "output_type": "stream",
     "text": [
      "C:\\Users\\tjoeun-jr-902-02\\AppData\\Local\\Temp\\ipykernel_14596\\1517108879.py:9: DeprecationWarning: use options instead of chrome_options\n",
      "  br = webdriver.Chrome('chromedriver', chrome_options=options)\n"
     ]
    }
   ],
   "source": [
    "url = 'https://www.twitch.tv/directory/all?sort=VIEWER_COUNT'\n",
    "\n",
    "options = webdriver.ChromeOptions()\n",
    "# options.add_argument('headless')\n",
    "\n",
    "# options.add_argument('window-size=1920x1080')\n",
    "# options.add_argument(\"disable-gpu\")\n",
    "\n",
    "br = webdriver.Chrome('chromedriver', chrome_options=options)\n",
    "br.get(url)\n",
    "now = datetime.now()\n"
   ]
  },
  {
   "cell_type": "code",
   "execution_count": 3,
   "id": "259e09f0",
   "metadata": {},
   "outputs": [],
   "source": [
    "obj = WebDriverWait(br, 5).until(ec.presence_of_element_located((By.CSS_SELECTOR, '#browse-root-main-content > div.Layout-sc-nxg1ff-0.hEbiVi > div > div.Layout-sc-nxg1ff-0 > div:nth-child(1) > div.Layout-sc-nxg1ff-0.kMghud > h4 > button > strong')))\n",
    "br.find_element(By.CSS_SELECTOR, '#browse-root-main-content > div.Layout-sc-nxg1ff-0.hEbiVi > div > div.Layout-sc-nxg1ff-0 > div:nth-child(1) > div.Layout-sc-nxg1ff-0.kMghud > h4 > button > strong').click()\n",
    "br.get(url)\n",
    "time.sleep(2)\n",
    "br.find_element(By.CSS_SELECTOR, '#browse-root-main-content > div.Layout-sc-nxg1ff-0.jPhzSy > div > div > ul').click()\n",
    "for i in range(0, 10):\n",
    "    br.find_element(By.TAG_NAME, 'body').send_keys(Keys.PAGE_DOWN)\n",
    "    time.sleep(1)"
   ]
  },
  {
   "cell_type": "code",
   "execution_count": 4,
   "id": "2c0cd2f2",
   "metadata": {},
   "outputs": [],
   "source": [
    "from bs4 import BeautifulSoup\n",
    "html = br.page_source\n",
    "soup = BeautifulSoup(html, 'html.parser')"
   ]
  },
  {
   "cell_type": "code",
   "execution_count": 5,
   "id": "8207f2f2",
   "metadata": {},
   "outputs": [
    {
     "name": "stdout",
     "output_type": "stream",
     "text": [
      "쌍베 (pacific8815)\t중세시대 타르코프 중세의왕이되어보자\t시청자 5,201명\tDark and Darker\t2022-09-28 17:58:15.493409\n",
      "따효니 (ddahyoni)\tC9 DDaHyoNi ㅅㅡ크림\t시청자 4,680명\tVALORANT\t2022-09-28 17:58:15.493409\n",
      "앰비션_ (lol_ambition)\t마딱펀치\t시청자 3,595명\tLeague of Legends\t2022-09-28 17:58:15.493409\n",
      "똘똘똘이_ (jungtaejune)\t윈도우 11 업데이트 한마당\t시청자 2,767명\tJust Chatting\t2022-09-28 17:58:15.493409\n",
      "류제홍_ (wpghd321)\t발낳대 준비\t시청자 2,472명\tVALORANT\t2022-09-28 17:58:15.493409\n",
      "이다2 (airshowerse)\t반갑습니다\t시청자 2,064명\tLost Ark\t2022-09-28 17:58:15.493409\n",
      "망개__ (mmange2)\t6시 스크림 ʕ ๑ •̀ᴗ-ʔ ✧\t시청자 1,860명\tVALORANT\t2022-09-28 17:58:15.493409\n",
      "천양 (chunyangkr)\t[V] 습관성 뱅온\t시청자 1,809명\tJust Chatting\t2022-09-28 17:58:15.493409\n",
      "헤징 (hejin0_0)\t사이노!사이노!사이노!사이노!사이노!사이노!\t시청자 1,661명\tGenshin Impact\t2022-09-28 17:58:15.493409\n",
      "박삐삐__ (smpk9604)\t홍대데이트- 점심!\t시청자 1,547명\tJust Chatting\t2022-09-28 17:58:15.493409\n",
      "포셔 (portialyn)\t-로-\t시청자 1,520명\tLost Ark\t2022-09-28 17:58:15.493409\n",
      "해나 (haena_0714)\t갓핀팬츠\t시청자 1,459명\tJust Chatting\t2022-09-28 17:58:15.493409\n",
      "철면수심 (109ace)\t하스스톤 미니확장팩 둘러보기 - 투기장 새로운 로테이션 12승\t시청자 1,359명\tHearthstone\t2022-09-28 17:58:15.493409\n",
      "단군 (1983kej)\t하나카드 자낳대 발로란트 D-2 연습\t시청자 1,280명\tVALORANT\t2022-09-28 17:58:15.493409\n",
      "김남봉 (kimnamsoon)\t6시 스크림 vs 망개팀\t시청자 1,269명\tVALORANT\t2022-09-28 17:58:15.493409\n",
      "버니버니 (bunnychannel_)\t버프된 스팅어 하나로 레디언트 찍기\t시청자 1,205명\tVALORANT\t2022-09-28 17:58:15.493409\n",
      "이춘향 (leechunhyang)\t[이춘향] 오늘은 쓰꾸림 길게 하는날~\t시청자 1,195명\tVALORANT\t2022-09-28 17:58:15.493409\n",
      "마뫄 (ma_mwa)\t우리 팀이 다 시팅해주고 나는 드론처럼 들어간다🐶\t시청자 1,190명\tVALORANT\t2022-09-28 17:58:15.493409\n",
      "햇살살 (hatsalsal)\t[젤다의전설:야숨] 북쪽신수만나러갑니다! (❀╹◡╹)ﾉ\t시청자 1,117명\tThe Legend of Zelda: Breath of the Wild\t2022-09-28 17:58:15.493409\n",
      "모카형 (oilj_far)\t(비장한 톤) 크큭... 몸살감기....\t시청자 1,101명\tLeague of Legends\t2022-09-28 17:58:15.493409\n",
      "히렌히 (hyren7)\t리치킹\t시청자 1,034명\tWorld of Warcraft\t2022-09-28 17:58:15.493409\n",
      "램램_ (conankiki)\t🌞\t시청자 1,034명\tJust Chatting\t2022-09-28 17:58:15.493409\n",
      "두니주니 (dunizuni)\t랭킹 1등 슈웃~? (현재 8등)\t시청자 1,028명\tTeamfight Tactics\t2022-09-28 17:58:15.493409\n",
      "자동 (tranth)\tTHE KOREAN BEEF FIRE MEAT\t시청자 1,000명\tJust Chatting\t2022-09-28 17:58:15.493409\n",
      "핑맨 (95pingman)\t[핑맨] 10일 연속방송\t시청자 929명\tVALORANT\t2022-09-28 17:58:15.493409\n",
      "러끼 (luck22222)\t사이노 제발 사이노 제발 사이노 제발 사이노 제발 사이노 제발 사이노 제발 사이노 제발 사이노 제발 사이노 제발 사이노 제발 사이노 제발 사이노 제발 사이노 제발 사이노 제발 사이노 제발\t시청자 908명\tGenshin Impact\t2022-09-28 17:58:15.493409\n",
      "꼴랑이임 (rhffkddl96)\t3.1 원신 드괘좨\t시청자 883명\tGenshin Impact\t2022-09-28 17:58:15.493409\n",
      "진격캐넌 (xorhkd321)\t15채 루타비스에서 박스까주세요 영달포 현상금걸음\t시청자 818명\tMapleStory\t2022-09-28 17:58:15.493409\n",
      "남궁혁_ (namgung_hyuk_)\t[V] 고멤 3기 오디션 풀스토리 풀어보기\t시청자 776명\tJust Chatting\t2022-09-28 17:58:15.493409\n",
      "배돈 (baedony)\t와우의 노예\t시청자 768명\tWorld of Warcraft\t2022-09-28 17:58:15.493409\n",
      "아이네_ (vo_ine)\t8시) 웃음참기 챌린지\t시청자 754명\tJust Chatting\t2022-09-28 17:58:15.493409\n",
      "유키냥_ (yukinyang2475)\t[유키냥] 헐 로요일ヽ(✿ﾟ▽ﾟ)ノ.\t시청자 745명\tLost Ark\t2022-09-28 17:58:15.493409\n",
      "33번째에서 오류\t\t\t\t 2022-09-28 17:58:15.493409\n",
      "'NoneType' object has no attribute 'string'\n",
      "스틸로 (steelohs)\t아이스 브레이킹 토크\t시청자 744명\tJust Chatting\t2022-09-28 17:58:15.493409\n",
      "찬우정 (jcw970)\t(진심) 챌린져달리기 3일차\t시청자 717명\tLeague of Legends\t2022-09-28 17:58:15.493409\n",
      "칸데르니아 (jmjdoc)\t원신 3.1 업데이트 / 드롭스\t시청자 699명\tGenshin Impact\t2022-09-28 17:58:15.493409\n",
      "코뚱잉 (qq102qq)\t협곡에서 살아남기) 제 1장 팀을 믿지 마라.\t시청자 699명\tLeague of Legends\t2022-09-28 17:58:15.493409\n",
      "heavyRainism\t호우!\t시청자 668명\tDome Keeper\t2022-09-28 17:58:15.493409\n",
      "까막 (smartcrow)\t브로테이토(Brotato) / 뱀서류는 끝나지않아\t시청자 634명\tBrotato\t2022-09-28 17:58:15.493409\n",
      "재희찡 (gnlfls)\t수요카페\t시청자 619명\tJust Chatting\t2022-09-28 17:58:15.493409\n",
      "몽키매직7 (monkeymagic0007)\t사이노 90레벨 / 특성 199 / 명함전무\t시청자 604명\tGenshin Impact\t2022-09-28 17:58:15.493409\n",
      "빅헤드 (bighead033)\t생활패턴 변경중입니다.\t시청자 602명\tMinecraft\t2022-09-28 17:58:15.493409\n",
      "진수0 (jinsooo0)\t제미니배 말 깎기\t시청자 597명\tUmamusume: Pretty Derby\t2022-09-28 17:58:15.493409\n",
      "인섹_ (insec13)\t해위\t시청자 590명\tLeague of Legends\t2022-09-28 17:58:15.493409\n",
      "탑가렌 (yugyungwoo)\t[탑가렌] 리치킹!!!! 서리한 호드!! 워리어!!!!!!!!\t시청자 582명\tWorld of Warcraft\t2022-09-28 17:58:15.493409\n",
      "피유 (beyou0728)\tㅎ22\t시청자 542명\tLeague of Legends\t2022-09-28 17:58:15.493409\n",
      "이플린__ (itsleeflynn)\t[드롭스ON] 사이노를 뽑았는데 스카라브가 없어\t시청자 522명\tGenshin Impact\t2022-09-28 17:58:15.493409\n",
      "림고수 (newnyup1)\t16박 될라나\t시청자 522명\tHearthstone\t2022-09-28 17:58:15.493409\n",
      "세아스토리 (sea_vtuber)\t연애 1타강사 세아의 연애특강! 날이면 날마다 오는게 아닙니다!\t시청자 515명\tGames + Demos\t2022-09-28 17:58:15.493409\n",
      "나기상 (mingnagi)\t내일은 도토 의상 나오는 날\t시청자 511명\tUmamusume: Pretty Derby\t2022-09-28 17:58:15.493409\n"
     ]
    }
   ],
   "source": [
    "f = open(\"twitch_log.tsv\", \"a\", encoding=\"UTF-8\")\n",
    "buffer = ''\n",
    "for i in range(2, 52):\n",
    "    try : \n",
    "        title = soup.select_one(f'#browse-root-main-content > div.Layout-sc-nxg1ff-0.hEbiVi > div > div.ScTower-sc-1dei8tr-0.dcmlaV.tw-tower > div:nth-child({i}) article > div.Layout-sc-nxg1ff-0 div.ScTextWrapper-sc-14f6evl-1 > div.ScTextMargin-sc-14f6evl-2 > a > h3').string\n",
    "        streamer = soup.select_one(f'#browse-root-main-content > div.Layout-sc-nxg1ff-0.hEbiVi > div > div.ScTower-sc-1dei8tr-0.dcmlaV.tw-tower > div:nth-child({i}) article > div.Layout-sc-nxg1ff-0.ggozbG div.ScTextWrapper-sc-14f6evl-1 > div.ScTextMargin-sc-14f6evl-2 > a > p').string\n",
    "        viewer = soup.select_one(f'#browse-root-main-content > div.Layout-sc-nxg1ff-0.hEbiVi > div > div.ScTower-sc-1dei8tr-0.dcmlaV.tw-tower > div:nth-child({i}) article > div.ScWrapper-sc-uo2e2v-0 > div.ScTransformWrapper-sc-uo2e2v-1 > a > div > div.ScPositionCorner-sc-1iiybo2-1.eHqCXd > div').string\n",
    "        cate = soup.select_one(f'#browse-root-main-content > div.Layout-sc-nxg1ff-0.hEbiVi > div > div.ScTower-sc-1dei8tr-0.dcmlaV.tw-tower > div:nth-child({i}) article > div.Layout-sc-nxg1ff-0 > div > div.ScTextWrapper-sc-14f6evl-1 > div.ScTextMargin-sc-14f6evl-2 > p > a').string\n",
    "        print(f'{streamer}\\t{title}\\t{viewer}\\t{cate}\\t{now}')\n",
    "        f.write(f'{streamer}\\t{title}\\t{viewer}\\t{cate}\\t{now}'+ '\\n')\n",
    "        buffer += f'{streamer}\\t{title}\\t{viewer}\\t{cate}\\t{now}\\n'\n",
    "    except Exception as e1:\n",
    "        print(f\"{i-1}번째에서 오류\\t\\t\\t\\t {now}\")\n",
    "        print(e1)\n",
    "        f.write(f\"{i-1}번째에서 오류\\t{e1}\\t\\t\\t {now}\"+ '\\n')\n",
    "        e = open(\"error.tsv\", \"a\")\n",
    "        e.write(f\"{i-1}번째에서 오류\\t\\t\\t\\t {now}\"+ '\\n')\n",
    "        e.close()\n",
    "f.close()\n",
    "f = open(\"twitch_log_sub.tsv\", \"a\", encoding=\"UTF-8\")\n",
    "f.write(buffer)\n",
    "f.close()"
   ]
  },
  {
   "cell_type": "code",
   "execution_count": 6,
   "id": "21774065",
   "metadata": {},
   "outputs": [],
   "source": [
    "br.quit()"
   ]
  },
  {
   "cell_type": "code",
   "execution_count": 17,
   "id": "430513d7",
   "metadata": {},
   "outputs": [
    {
     "ename": "TypeError",
     "evalue": "__init__() got an unexpected keyword argument 'axis'",
     "output_type": "error",
     "traceback": [
      "\u001b[1;31m---------------------------------------------------------------------------\u001b[0m",
      "\u001b[1;31mTypeError\u001b[0m                                 Traceback (most recent call last)",
      "Input \u001b[1;32mIn [17]\u001b[0m, in \u001b[0;36m<cell line: 2>\u001b[1;34m()\u001b[0m\n\u001b[0;32m      1\u001b[0m aa \u001b[38;5;241m=\u001b[39m pd\u001b[38;5;241m.\u001b[39mSeries([streamer, title, viewer, cate, now], index\u001b[38;5;241m=\u001b[39m[\u001b[38;5;124m'\u001b[39m\u001b[38;5;124mname\u001b[39m\u001b[38;5;124m'\u001b[39m, \u001b[38;5;124m'\u001b[39m\u001b[38;5;124mtitle\u001b[39m\u001b[38;5;124m'\u001b[39m, \u001b[38;5;124m'\u001b[39m\u001b[38;5;124mviewer\u001b[39m\u001b[38;5;124m'\u001b[39m, \u001b[38;5;124m'\u001b[39m\u001b[38;5;124mcate\u001b[39m\u001b[38;5;124m'\u001b[39m, \u001b[38;5;124m'\u001b[39m\u001b[38;5;124mdate\u001b[39m\u001b[38;5;124m'\u001b[39m])\n\u001b[1;32m----> 2\u001b[0m df \u001b[38;5;241m=\u001b[39m \u001b[43mpd\u001b[49m\u001b[38;5;241;43m.\u001b[39;49m\u001b[43mDataFrame\u001b[49m\u001b[43m(\u001b[49m\u001b[43maa\u001b[49m\u001b[43m,\u001b[49m\u001b[43m \u001b[49m\u001b[43maxis\u001b[49m\u001b[38;5;241;43m=\u001b[39;49m\u001b[38;5;241;43m1\u001b[39;49m\u001b[43m)\u001b[49m\n\u001b[0;32m      3\u001b[0m df\n",
      "\u001b[1;31mTypeError\u001b[0m: __init__() got an unexpected keyword argument 'axis'"
     ]
    }
   ],
   "source": [
    "aa = pd.Series([streamer, title, viewer, cate, now], index=['name', 'title', 'viewer', 'cate', 'date'])\n",
    "df = pd.DataFrame(aa,)\n",
    "df"
   ]
  },
  {
   "cell_type": "code",
   "execution_count": null,
   "id": "18ac657c",
   "metadata": {},
   "outputs": [],
   "source": []
  }
 ],
 "metadata": {
  "kernelspec": {
   "display_name": "Python 3 (ipykernel)",
   "language": "python",
   "name": "python3"
  },
  "language_info": {
   "codemirror_mode": {
    "name": "ipython",
    "version": 3
   },
   "file_extension": ".py",
   "mimetype": "text/x-python",
   "name": "python",
   "nbconvert_exporter": "python",
   "pygments_lexer": "ipython3",
   "version": "3.9.12"
  }
 },
 "nbformat": 4,
 "nbformat_minor": 5
}
