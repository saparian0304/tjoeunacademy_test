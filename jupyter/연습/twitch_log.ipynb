{
 "cells": [
  {
   "cell_type": "code",
   "execution_count": 15,
   "id": "e159ef24",
   "metadata": {},
   "outputs": [],
   "source": [
    "from selenium import webdriver\n",
    "from selenium.webdriver.support.ui import WebDriverWait\n",
    "from selenium.webdriver.support import expected_conditions as ec\n",
    "from selenium.webdriver.common.by import By\n",
    "from selenium.webdriver.common.keys import Keys\n",
    "from datetime import datetime\n",
    "from bs4 import BeautifulSoup\n",
    "import time"
   ]
  },
  {
   "cell_type": "code",
   "execution_count": 16,
   "id": "36f540f4",
   "metadata": {},
   "outputs": [
    {
     "name": "stderr",
     "output_type": "stream",
     "text": [
      "C:\\Users\\tjoeun-jr-902-02\\AppData\\Local\\Temp\\ipykernel_15644\\1517108879.py:9: DeprecationWarning: use options instead of chrome_options\n",
      "  br = webdriver.Chrome('chromedriver', chrome_options=options)\n"
     ]
    }
   ],
   "source": [
    "url = 'https://www.twitch.tv/directory/all?sort=VIEWER_COUNT'\n",
    "\n",
    "options = webdriver.ChromeOptions()\n",
    "# options.add_argument('headless')\n",
    "\n",
    "# options.add_argument('window-size=1920x1080')\n",
    "# options.add_argument(\"disable-gpu\")\n",
    "\n",
    "br = webdriver.Chrome('chromedriver', chrome_options=options)\n",
    "br.get(url)\n",
    "now = datetime.now()\n"
   ]
  },
  {
   "cell_type": "code",
   "execution_count": 17,
   "id": "259e09f0",
   "metadata": {},
   "outputs": [],
   "source": [
    "obj = WebDriverWait(br, 5).until(ec.presence_of_element_located((By.CSS_SELECTOR, '#browse-root-main-content > div.Layout-sc-1xcs6mc-0.lgdxlP > div > div.Layout-sc-1xcs6mc-0 > div:nth-child(1) > div.Layout-sc-1xcs6mc-0.iPAXTU > h4 > button > strong')))\n",
    "br.find_element(By.CSS_SELECTOR, '#browse-root-main-content > div.Layout-sc-1xcs6mc-0.lgdxlP > div > div.Layout-sc-1xcs6mc-0 > div:nth-child(1) > div.Layout-sc-1xcs6mc-0.iPAXTU > h4 > button > strong').click()\n",
    "br.get(url)\n",
    "time.sleep(2)\n",
    "br.find_element(By.CSS_SELECTOR, '#browse-root-main-content > div.Layout-sc-1xcs6mc-0.coBOrf > div > div > ul').click()\n",
    "for i in range(0, 10):\n",
    "    br.find_element(By.TAG_NAME, 'body').send_keys(Keys.PAGE_DOWN)\n",
    "    time.sleep(1)"
   ]
  },
  {
   "cell_type": "code",
   "execution_count": 18,
   "id": "2c0cd2f2",
   "metadata": {},
   "outputs": [],
   "source": [
    "from bs4 import BeautifulSoup\n",
    "html = br.page_source\n",
    "soup = BeautifulSoup(html, 'html.parser')"
   ]
  },
  {
   "cell_type": "code",
   "execution_count": 19,
   "id": "8207f2f2",
   "metadata": {},
   "outputs": [
    {
     "name": "stdout",
     "output_type": "stream",
     "text": [
      "김도 (kimdoe)\t[메운ㄷI]김★도♠랜◈드{{무.료.구.독}}시◆EH초☆확률▲↑↑UP↑↑EVENT중\t시청자 8,890명\tStarCraft\t2022-11-21 10:08:56.374770\n",
      "명훈 (mlchoins)\t[명훈] 예티룰렛 220 걸린사람.....오늘 잠 못 잔다ㅋㅋㅋ !룰렛 메이플\t시청자 1,778명\tMapleStory\t2022-11-21 10:08:56.374770\n",
      "끠끼 (kuiki771)\t풉키몬 스칼렛~~(훈수, 스포, 나쁜말XXXX) !편집자\t시청자 1,379명\tPokémon Scarlet/Violet\t2022-11-21 10:08:56.374770\n",
      "크캣66 (crazzyccat)\t프리시즌 굶주린 자야\t시청자 1,205명\tLeague of Legends\t2022-11-21 10:08:56.374770\n",
      "감블러 (9ambler)\t포켓몬 엔딩보고 대회 엔트리 구상하기\t시청자 1,090명\tPokémon Scarlet/Violet\t2022-11-21 10:08:56.374770\n",
      "모카형 (oilj_far)\t방송이랑 게임이 제일조아\t시청자 978명\tJust Chatting\t2022-11-21 10:08:56.374770\n",
      "진수0 (jinsooo0)\t포켓몬 스칼렛 신입 트레이너(포켓몬 첨해봄)\t시청자 680명\tPokémon Scarlet/Violet\t2022-11-21 10:08:56.374770\n",
      "성대 (sungdae12)\t루페온도 질 수 없죠 에버그레이스 혼추 가실분 (with.방토라)\t시청자 611명\tLost Ark\t2022-11-21 10:08:56.374770\n",
      "Sejun_Park\t파치리스들의 팔데아 정복기 [4]\t시청자 552명\tPokémon Scarlet/Violet\t2022-11-21 10:08:56.374770\n",
      "고수달_ (gosudal123)\t숟가락든망나니\t시청자 555명\tLeague of Legends\t2022-11-21 10:08:56.374770\n",
      "향토끼 (scentrabbit)\t[PS5] [무자비 난이도] 광휘 세트 입고 딜무새 !\t시청자 485명\tGod of War Ragnarök\t2022-11-21 10:08:56.374770\n",
      "봉영 (bongyoungpark)\t!build Hell Vykas Reaper 헬비아한판! [1614 Reaper Main]\t시청자 436명\tLost Ark\t2022-11-21 10:08:56.374770\n",
      "만득 (esstree)\t바이올렛 도감 다 채우기 ㄱㄱ\t시청자 422명\tPokémon Scarlet/Violet\t2022-11-21 10:08:56.374770\n",
      "파트1 (nlmiso04)\t프리시즌 연구소\t시청자 388명\tLeague of Legends\t2022-11-21 10:08:56.374770\n",
      "나나양 (nanayango3o)\t((⭐)) 좋은 아침\t시청자 376명\tJust Chatting\t2022-11-21 10:08:56.374770\n",
      "유키냥_ (yukinyang2475)\t[유키냥] 휴방뱅송이지만 루페온 혼재의추오 도전 (w. 방토라씨, 원장님)ヽ(✿ﾟ▽ﾟ)ノ\t시청자 348명\tLost Ark\t2022-11-21 10:08:56.374770\n",
      "지니어스매드 (genius_mad)\t좋은하루되십셔~.~\t시청자 348명\tJust Chatting\t2022-11-21 10:08:56.374770\n",
      "_쮸즈_ (akajian)\twow 용군단 중고뉴비에오\t시청자 329명\tWorld of Warcraft\t2022-11-21 10:08:56.374770\n",
      "막내현진 (hyeondini)\t8시의 요정\t시청자 322명\tLeague of Legends\t2022-11-21 10:08:56.374770\n",
      "_모모냥_ (momonyang55)\t찐와린이 올해안에 만렙도전 17일째 / 와춘기\t시청자 318명\tWorld of Warcraft\t2022-11-21 10:08:56.374770\n",
      "방토라 (4211tso)\t방울🍅🍜] 1655소서리스 루페온 추오 잡기(w. 성대, 유키냥, 전데연)\t시청자 293명\tLost Ark\t2022-11-21 10:08:56.374770\n",
      "알송23 (khozzang1)\t드래곤볼 데바데 훈련 38일차 ㅇㅅㅇ\t시청자 289명\tDragon Ball: The Breakers\t2022-11-21 10:08:56.374770\n",
      "_자몽뀨_ (jamongrbbk)\t조용히게임\t시청자 276명\tVALORANT\t2022-11-21 10:08:56.374770\n",
      "9호 (9ho__)\t두시간짜리방송\t시청자 259명\tJust Chatting\t2022-11-21 10:08:56.374770\n",
      "마레_플로스 (mareflos_kr)\t[V] 야생 이로치 드라꼰 잡은 해룡은 잠깐 자고 와요ㅗㅇ!🐲✨\t시청자 249명\tI'm Only Sleeping\t2022-11-21 10:08:56.374770\n",
      "앙쥬8ㅁ8 (angjyu_xd)\t방제 '라떼는 말이야 '생'고기도 많았다고 OTL' ŏ̥̥̥םŏ̥̥̥ in 세마\t시청자 222명\tProject Zomboid\t2022-11-21 10:08:56.374770\n",
      "전데연 (gkfl33)\t🌈[전데연] 에버그레이스 혼추 도전!? 3D 양갈래?!\t시청자 219명\tLost Ark\t2022-11-21 10:08:56.374770\n",
      "유혜리 (kush1001)\t🤍[드롭스] 애옹\t시청자 208명\tGenshin Impact\t2022-11-21 10:08:56.374770\n",
      "여름이0908 (qufakwdywjd)\t름디오♥\t시청자 194명\tJust Chatting\t2022-11-21 10:08:56.374770\n",
      "고먐잉 (rhaia11)\t월요일은 잔잔하게\t시청자 185명\tJust Chatting\t2022-11-21 10:08:56.374770\n",
      "lowintblackcow\t900%NP 3400시간해도재밌는게임\t시청자 164명\tThey Are Billions\t2022-11-21 10:08:56.374770\n",
      "새초롬__ (saechorom)\t메운디 메린이 (17트)\t시청자 157명\tJust Chatting\t2022-11-21 10:08:56.374770\n",
      "_마리모0 (ej2220)\t수육이 먹고싶었지만 수육을 사러나가기 귀찮아서 물을 고기라 생각하면 수육이 된다고 생각해 수육대신 물을 섭취한 인어 마리모🧜🏻‍♀️💦\t시청자 154명\tJust Chatting\t2022-11-21 10:08:56.374770\n",
      "ForGG\t[LIVE] GSL Code A,DreamHack Arena MSL Champion, Thanks for all of support !Sub  !Donate !youtube\t시청자 152명\tStarCraft II\t2022-11-21 10:08:56.374770\n",
      "얄네 (yane1004)\t[데바데] 오랜만에 파로마로 때리기\t시청자 131명\tDead by Daylight\t2022-11-21 10:08:56.374770\n",
      "뉴생이 (kr3737)\t[뉴생이]  ヾ(´•👅•｀)ノ\t시청자 127명\tGenshin Impact\t2022-11-21 10:08:56.374770\n",
      "솜살랑 (somsalang)\t캡쳐보드 사망\t시청자 126명\tCyphers\t2022-11-21 10:08:56.374770\n",
      "키로1 (tofhdnsakdmatotlwkr3)\t한끼줍쇼\t시청자 118명\tEternal Return\t2022-11-21 10:08:56.374770\n",
      "매가네 (amazonz2222)\t짱구\t시청자 117명\tSexy Sniper\t2022-11-21 10:08:56.374770\n",
      "_뱁새1 (yusin2796)\t메운디 응애\t시청자 115명\tStarCraft\t2022-11-21 10:08:56.374770\n",
      "지요씨 (jxyxssi)\t모코코 로아 CCTV 🐰\t시청자 114명\tLost Ark\t2022-11-21 10:08:56.374770\n",
      "우쭐리우중 (woojoung1016)\t시즌8 부활의 신호탄\t시청자 114명\tTeamfight Tactics\t2022-11-21 10:08:56.374770\n",
      "박대봉 (daebongs)\t지스타 갔다와서 뒤늦게 노방종 드롭스 (11-19)\t시청자 113명\tBlack Desert\t2022-11-21 10:08:56.374770\n",
      "메이드냥이 (kemi0213)\t24시간 방송채널 [!편성]\t시청자 111명\tSexy Sniper\t2022-11-21 10:08:56.374770\n",
      "jeck_zero\tALGS 북미대회 같이 보기\t시청자 109명\tApex Legends\t2022-11-21 10:08:56.374770\n",
      "폭스발리다경이 (qwer01351)\t★발리 폭스 다경이네★24시간  #발리 #폭스 #다경이네 #홀짝 #벽치기 #한라백두 #도지 #코인 #비트코인\t시청자 100명\tLineage: The Blood Pledge\t2022-11-21 10:08:56.374770\n",
      "레드쏘이 (redssoy0)\t베이비스텝 우 베이비\t시청자 99명\tJust Chatting\t2022-11-21 10:08:56.374770\n",
      "이남송 (namsonglee)\t나도 이제 지스타 가본적 이씀 ㅋㄷㅋㄷ\t시청자 99명\tJust Chatting\t2022-11-21 10:08:56.374770\n",
      "강선종 (kangsunjong)\t7.5 / 망령 왔습니다\t시청자 99명\tTeamfight Tactics\t2022-11-21 10:08:56.374770\n",
      "Dacktem\tClass Playthrough / Legendary, Hardcore, Zenith seed\t시청자 98명\tTerraria\t2022-11-21 10:08:56.374770\n"
     ]
    }
   ],
   "source": [
    "f = open(\"twitch_log.tsv\", \"a\", encoding=\"UTF-8\")\n",
    "buffer = ''\n",
    "for i in range(2, 52):\n",
    "    try : \n",
    "        title = soup.select_one(f'#browse-root-main-content > div.Layout-sc-1xcs6mc-0.lgdxlP > div > div.ScTower-sc-1sjzzes-0.czzjEE.tw-tower > div:nth-child({i}) article > div.Layout-sc-1xcs6mc-0.gUnRUD div.ScTextWrapper-sc-10mto54-1.fwZpSK > div.ScTextMargin-sc-10mto54-2.bcdHdk > a > h3').string\n",
    "        streamer = soup.select_one(f'#browse-root-main-content > div.Layout-sc-1xcs6mc-0.lgdxlP > div > div.ScTower-sc-1sjzzes-0.czzjEE.tw-tower > div:nth-child({i}) article > div.Layout-sc-1xcs6mc-0.gUnRUD div.ScTextWrapper-sc-10mto54-1.fwZpSK > div.ScTextMargin-sc-10mto54-2.bcdHdk > a > p').string\n",
    "        viewer = soup.select_one(f'#browse-root-main-content > div.Layout-sc-1xcs6mc-0.lgdxlP > div > div.ScTower-sc-1sjzzes-0.czzjEE.tw-tower > div:nth-child({i}) article > div.ScWrapper-sc-1wvuch4-0 > div.ScTransformWrapper-sc-1wvuch4-1.gMwbGx > a > div > div.ScPositionCorner-sc-1shjvnv-1.gUtzBI > div').string\n",
    "        cate = soup.select_one(f'#browse-root-main-content > div.Layout-sc-1xcs6mc-0.lgdxlP > div > div.ScTower-sc-1sjzzes-0.czzjEE.tw-tower > div:nth-child({i}) article > div.Layout-sc-1xcs6mc-0.gUnRUD div.ScTextWrapper-sc-10mto54-1.fwZpSK > div.ScTextMargin-sc-10mto54-2.bcdHdk > p > a').string\n",
    "        print(f'{streamer}\\t{title}\\t{viewer}\\t{cate}\\t{now}')\n",
    "        f.write(f'{streamer}\\t{title}\\t{viewer}\\t{cate}\\t{now}'+ '\\n')\n",
    "        buffer += f'{streamer}\\t{title}\\t{viewer}\\t{cate}\\t{now}\\n'\n",
    "    except Exception as e1:\n",
    "        print(f\"{i-1}번째에서 오류\\t\\t\\t\\t {now}\")\n",
    "        print(e1)\n",
    "        f.write(f\"{i-1}번째에서 오류\\t{e1}\\t\\t\\t {now}\"+ '\\n')\n",
    "        e = open(\"error.tsv\", \"a\")\n",
    "        e.write(f\"{i-1}번째에서 오류\\t\\t\\t\\t {now}\"+ '\\n')\n",
    "        e.close()\n",
    "f.close()\n",
    "f = open(\"twitch_log_sub.tsv\", \"a\", encoding=\"UTF-8\")\n",
    "f.write(buffer)\n",
    "f.close()"
   ]
  },
  {
   "cell_type": "code",
   "execution_count": 20,
   "id": "21774065",
   "metadata": {},
   "outputs": [],
   "source": [
    "br.quit()"
   ]
  },
  {
   "cell_type": "code",
   "execution_count": null,
   "id": "430513d7",
   "metadata": {},
   "outputs": [],
   "source": []
  },
  {
   "cell_type": "code",
   "execution_count": null,
   "id": "18ac657c",
   "metadata": {},
   "outputs": [],
   "source": []
  }
 ],
 "metadata": {
  "kernelspec": {
   "display_name": "Python 3 (ipykernel)",
   "language": "python",
   "name": "python3"
  },
  "language_info": {
   "codemirror_mode": {
    "name": "ipython",
    "version": 3
   },
   "file_extension": ".py",
   "mimetype": "text/x-python",
   "name": "python",
   "nbconvert_exporter": "python",
   "pygments_lexer": "ipython3",
   "version": "3.9.12"
  }
 },
 "nbformat": 4,
 "nbformat_minor": 5
}
