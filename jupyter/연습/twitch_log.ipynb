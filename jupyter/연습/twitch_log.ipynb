{
 "cells": [
  {
   "cell_type": "code",
   "execution_count": 38,
   "id": "e159ef24",
   "metadata": {},
   "outputs": [],
   "source": [
    "from selenium import webdriver\n",
    "from selenium.webdriver.support.ui import WebDriverWait\n",
    "from selenium.webdriver.support import expected_conditions as ec\n",
    "from selenium.webdriver.common.by import By\n",
    "from selenium.webdriver.common.keys import Keys\n",
    "from datetime import datetime\n",
    "from bs4 import BeautifulSoup\n",
    "import time"
   ]
  },
  {
   "cell_type": "code",
   "execution_count": 43,
   "id": "36f540f4",
   "metadata": {},
   "outputs": [
    {
     "name": "stderr",
     "output_type": "stream",
     "text": [
      "C:\\Users\\tjoeun-jr-902-02\\AppData\\Local\\Temp\\ipykernel_17844\\1517108879.py:9: DeprecationWarning: use options instead of chrome_options\n",
      "  br = webdriver.Chrome('chromedriver', chrome_options=options)\n"
     ]
    }
   ],
   "source": [
    "url = 'https://www.twitch.tv/directory/all?sort=VIEWER_COUNT'\n",
    "\n",
    "options = webdriver.ChromeOptions()\n",
    "# options.add_argument('headless')\n",
    "\n",
    "# options.add_argument('window-size=1920x1080')\n",
    "# options.add_argument(\"disable-gpu\")\n",
    "\n",
    "br = webdriver.Chrome('chromedriver', chrome_options=options)\n",
    "br.get(url)\n",
    "now = datetime.now()\n"
   ]
  },
  {
   "cell_type": "code",
   "execution_count": 44,
   "id": "259e09f0",
   "metadata": {},
   "outputs": [],
   "source": [
    "obj = WebDriverWait(br, 5).until(ec.presence_of_element_located((By.CSS_SELECTOR, '#browse-root-main-content > div.Layout-sc-nxg1ff-0.hEbiVi > div > div.Layout-sc-nxg1ff-0 > div:nth-child(1) > div.Layout-sc-nxg1ff-0.kMghud > h4 > button > strong')))\n",
    "br.find_element(By.CSS_SELECTOR, '#browse-root-main-content > div.Layout-sc-nxg1ff-0.hEbiVi > div > div.Layout-sc-nxg1ff-0 > div:nth-child(1) > div.Layout-sc-nxg1ff-0.kMghud > h4 > button > strong').click()\n",
    "br.get(url)\n",
    "time.sleep(2)\n",
    "br.find_element(By.CSS_SELECTOR, '#browse-root-main-content > div.Layout-sc-nxg1ff-0.jPhzSy > div > div > ul').click()\n",
    "for i in range(0, 10):\n",
    "    br.find_element(By.TAG_NAME, 'body').send_keys(Keys.PAGE_DOWN)\n",
    "    time.sleep(1)"
   ]
  },
  {
   "cell_type": "code",
   "execution_count": 45,
   "id": "2c0cd2f2",
   "metadata": {},
   "outputs": [],
   "source": [
    "from bs4 import BeautifulSoup\n",
    "html = br.page_source\n",
    "soup = BeautifulSoup(html, 'html.parser')"
   ]
  },
  {
   "cell_type": "code",
   "execution_count": 46,
   "id": "8207f2f2",
   "metadata": {},
   "outputs": [
    {
     "name": "stdout",
     "output_type": "stream",
     "text": [
      "우왁굳 (woowakgood)\t축구왕 왁돌이\t시청자 1.3만명\tFIFA 23\t2022-09-27 18:22:30.669431\n",
      "비챤_ (viichan6)\t6시) VRC 풀트뱅 ~!\t시청자 8,582명\tVRChat\t2022-09-27 18:22:30.669431\n",
      "랄로 (aba4647)\t와끼얏호우\t시청자 7,065명\tWorld of Warcraft\t2022-09-27 18:22:30.669431\n",
      "러너교 (runner0608)\t안녕하세요\t시청자 5,108명\tJust Chatting\t2022-09-27 18:22:30.669431\n",
      "김도 (kimdoe)\t서브노티카 빌로우제로\t시청자 5,016명\tSubnautica: Below Zero\t2022-09-27 18:22:30.669431\n",
      "괴물쥐123 (tmxk319)\t발낳대 전 스크림\t시청자 4,766명\tVALORANT\t2022-09-27 18:22:30.669431\n",
      "서새봄냥 (saddummy)\t서새봄] 로크홀라섭) 리치왕의 분노 클래식 OPEN 같이 달려요~\t시청자 4,539명\tWorld of Warcraft\t2022-09-27 18:22:30.669431\n",
      "홍방장 (game2eye)\t홍 전파사 시청자 그래픽카드 보수작업 해주기\t시청자 4,457명\tJust Chatting\t2022-09-27 18:22:30.669431\n",
      "따효니 (ddahyoni)\tC9 DDaHyoNi ㅅㅡ크림\t시청자 3,795명\tVALORANT\t2022-09-27 18:22:30.669431\n",
      "침착맨 (zilioner)\t침&펄 저녁식사 먹기 (구독후원음성X)\t시청자 3,592명\tJust Chatting\t2022-09-27 18:22:30.669431\n",
      "탬탬버린 (2chamcham2)\t˗ˋˏ오늘은,,,,꼭 1인분을 하자,,,ˎˊ˗  ٩(●'▿'●)۶ *\t시청자 3,402명\tVALORANT\t2022-09-27 18:22:30.669431\n",
      "앰비션_ (lol_ambition)\t24연승시 점수복구\t시청자 2,767명\tLeague of Legends\t2022-09-27 18:22:30.669431\n",
      "악어 (jdm2088)\t6시 발로란트 강지팀 vs 망개팀 스크림 <잠을 자도 피곤하다>\t시청자 2,306명\tVALORANT\t2022-09-27 18:22:30.669431\n",
      "마왕루야_ (maoruya)\t오늘 스크림에서는 새로운 캐릭터를 보여줄 예정!\t시청자 2,065명\tVALORANT\t2022-09-27 18:22:30.669431\n",
      "푸린_ (rngudwnswkd)\t저녁6시 강지팀 VS 망개팀 스크림!\t시청자 1,688명\tJust Chatting\t2022-09-27 18:22:30.669431\n",
      "두니주니 (dunizuni)\tㅎㅇ\t시청자 1,382명\tTeamfight Tactics\t2022-09-27 18:22:30.669431\n",
      "스틸로 (steelohs)\t카드깡 2차시기\t시청자 1,313명\tFIFA 23\t2022-09-27 18:22:30.669431\n",
      "박삐삐__ (smpk9604)\t삐하~\t시청자 1,288명\tJust Chatting\t2022-09-27 18:22:30.669431\n",
      "히렌히 (hyren7)\t리치킹\t시청자 1,148명\tWorld of Warcraft\t2022-09-27 18:22:30.669431\n",
      "이초홍 (h920103)\t@_@\t시청자 1,021명\tJust Chatting\t2022-09-27 18:22:30.669431\n",
      "김남봉 (kimnamsoon)\t7시 스크림 vs 중력팀\t시청자 1,017명\tJust Chatting\t2022-09-27 18:22:30.669431\n",
      "명훈 (mlchoins)\t[명훈] 라운드당 3명씩만 잡기 6시 스크림 발로란트\t시청자 955명\tVALORANT\t2022-09-27 18:22:30.669431\n",
      "크라니쉬 (kranichhs)\t젠지 하스스톤 프로그램 !부트캠프 / 내일 나스리아 미니팩 출시\t시청자 949명\tHearthstone\t2022-09-27 18:22:30.669431\n",
      "중력 (jungryeok)\t중력팀 비방연습후 깨달음..\t시청자 945명\tJust Chatting\t2022-09-27 18:22:30.669431\n",
      "Rb0f\tDRX Rb / 휴가\t시청자 925명\tVALORANT\t2022-09-27 18:22:30.669431\n",
      "윤개굴이 (yoon_froggy)\t난 ck 언더 💞 리액션 new songs!  💥\t시청자 922명\tJust Chatting\t2022-09-27 18:22:30.669431\n",
      "27번째에서 오류\t\t\t\t 2022-09-27 18:22:30.669431\n",
      "'NoneType' object has no attribute 'string'\n",
      "망개__ (mmange2)\t졸ㄹ  ㅕ  ʕ ๑ •̀ᴗ-ʔ ✧\t시청자 868명\tVALORANT\t2022-09-27 18:22:30.669431\n",
      "강지 (rkdwl12)\t6시 스크림\t시청자 868명\tVALORANT\t2022-09-27 18:22:30.669431\n",
      "설백_ (snow_hite)\t[설백] 타짜 설백 !편집자\t시청자 835명\tProminence Poker\t2022-09-27 18:22:30.669431\n",
      "철면수심 (109ace)\t허준이 되어 사람 살리기\t시청자 758명\tBio Inc. Redemption\t2022-09-27 18:22:30.669431\n",
      "배돈 (baedony)\t리치왕의분노 태어나서 처음 합니다\t시청자 730명\tWorld of Warcraft\t2022-09-27 18:22:30.669431\n",
      "찬우정 (jcw970)\t(진심)챌린저 달리기 2일차\t시청자 718명\tLeague of Legends\t2022-09-27 18:22:30.669431\n",
      "액시스마이콜 (sn400ja)\t정글이 합류해야 하는게임은 진게임이다\t시청자 690명\tLeague of Legends\t2022-09-27 18:22:30.669431\n",
      "인섹_ (insec13)\t대기열180만갓겜\t시청자 678명\tLeague of Legends\t2022-09-27 18:22:30.669431\n",
      "캡틴잭 (hwkang2)\t오르골 8개 모아서 스탯 50 받는 극한의 수직충\t시청자 673명\tLost Ark\t2022-09-27 18:22:30.669431\n",
      "아리스마나 (alicemana_v)\t하이루\t시청자 662명\tJust Chatting\t2022-09-27 18:22:30.669431\n",
      "우사기인뎅 (ny991017)\tㅎㅎ\t시청자 649명\tJust Chatting\t2022-09-27 18:22:30.669431\n",
      "빅헤드 (bighead033)\t대규모 노동 드가자\t시청자 624명\tMinecraft\t2022-09-27 18:22:30.669431\n",
      "세아스토리 (sea_vtuber)\t눈 떠보니 임진왜란에 온 AI\t시청자 617명\tGames + Demos\t2022-09-27 18:22:30.669431\n",
      "유치__ (youchi0_0)\t최근 고용한 메이드가 수상하다🖤\t시청자 582명\tJust Chatting\t2022-09-27 18:22:30.669431\n",
      "칸데르니아 (jmjdoc)\t발키리 엘리시움\t시청자 556명\tValkyrie Elysium\t2022-09-27 18:22:30.669431\n",
      "_연두부_ (lovelyyeon)\t강녕\t시청자 546명\tJust Chatting\t2022-09-27 18:22:30.669431\n",
      "정령왕 (ljh0328)\t체스 그마 찍고 저녁밥 먹기\t시청자 542명\tTeamfight Tactics\t2022-09-27 18:22:30.669431\n",
      "단군 (1983kej)\t하나카드 자낳대 발로란트 D-3 연습\t시청자 519명\tVALORANT\t2022-09-27 18:22:30.669431\n",
      "청묘 (i_am_bloooo)\t유니온 하고싶어요\t시청자 503명\tMapleStory\t2022-09-27 18:22:30.669431\n",
      "공설 (135seol)\t🐈 이번 해킹사건 진짜 너무 무섭네용 ㅠㅠ\t시청자 499명\tLost Ark\t2022-09-27 18:22:30.669431\n",
      "마레_플로스 (mareflos_kr)\t251시간 플레이한 그 게임: 칠흑에 도전합니다🐲✨\t시청자 493명\tDarkest Dungeon\t2022-09-27 18:22:30.669431\n",
      "설소영 (mobeom17)\t다크악셀 없이 살기 4일차 (살만함)\t시청자 483명\tLost Ark\t2022-09-27 18:22:30.669431\n",
      "ato1004fd\tD\t시청자 473명\t아트\t2022-09-27 18:22:30.669431\n"
     ]
    }
   ],
   "source": [
    "f = open(\"twitch_log.tsv\", \"a\", encoding=\"UTF-8\")\n",
    "buffer = ''\n",
    "for i in range(2, 52):\n",
    "    try : \n",
    "        title = soup.select_one(f'#browse-root-main-content > div.Layout-sc-nxg1ff-0.hEbiVi > div > div.ScTower-sc-1dei8tr-0.dcmlaV.tw-tower > div:nth-child({i}) article > div.Layout-sc-nxg1ff-0 div.ScTextWrapper-sc-14f6evl-1 > div.ScTextMargin-sc-14f6evl-2 > a > h3').string\n",
    "        streamer = soup.select_one(f'#browse-root-main-content > div.Layout-sc-nxg1ff-0.hEbiVi > div > div.ScTower-sc-1dei8tr-0.dcmlaV.tw-tower > div:nth-child({i}) article > div.Layout-sc-nxg1ff-0.ggozbG div.ScTextWrapper-sc-14f6evl-1 > div.ScTextMargin-sc-14f6evl-2 > a > p').string\n",
    "        viewer = soup.select_one(f'#browse-root-main-content > div.Layout-sc-nxg1ff-0.hEbiVi > div > div.ScTower-sc-1dei8tr-0.dcmlaV.tw-tower > div:nth-child({i}) article > div.ScWrapper-sc-uo2e2v-0 > div.ScTransformWrapper-sc-uo2e2v-1 > a > div > div.ScPositionCorner-sc-1iiybo2-1.eHqCXd > div').string\n",
    "        cate = soup.select_one(f'#browse-root-main-content > div.Layout-sc-nxg1ff-0.hEbiVi > div > div.ScTower-sc-1dei8tr-0.dcmlaV.tw-tower > div:nth-child({i}) article > div.Layout-sc-nxg1ff-0 > div > div.ScTextWrapper-sc-14f6evl-1 > div.ScTextMargin-sc-14f6evl-2 > p > a').string\n",
    "        print(f'{streamer}\\t{title}\\t{viewer}\\t{cate}\\t{now}')\n",
    "        f.write(f'{streamer}\\t{title}\\t{viewer}\\t{cate}\\t{now}'+ '\\n')\n",
    "        buffer += f'{streamer}\\t{title}\\t{viewer}\\t{cate}\\t{now}\\n'\n",
    "    except Exception as e1:\n",
    "        print(f\"{i-1}번째에서 오류\\t\\t\\t\\t {now}\")\n",
    "        print(e1)\n",
    "        f.write(f\"{i-1}번째에서 오류\\t{e1}\\t\\t\\t {now}\"+ '\\n')\n",
    "        e = open(\"error.tsv\", \"a\")\n",
    "        e.write(f\"{i-1}번째에서 오류\\t\\t\\t\\t {now}\"+ '\\n')\n",
    "        e.close()\n",
    "f.close()\n",
    "f = open(\"twitch_log_sub.tsv\", \"a\", encoding=\"UTF-8\")\n",
    "f.write(buffer)\n",
    "f.close()"
   ]
  },
  {
   "cell_type": "code",
   "execution_count": 37,
   "id": "21774065",
   "metadata": {},
   "outputs": [],
   "source": [
    "br.quit()"
   ]
  },
  {
   "cell_type": "code",
   "execution_count": null,
   "id": "430513d7",
   "metadata": {},
   "outputs": [],
   "source": []
  },
  {
   "cell_type": "code",
   "execution_count": null,
   "id": "18ac657c",
   "metadata": {},
   "outputs": [],
   "source": []
  }
 ],
 "metadata": {
  "kernelspec": {
   "display_name": "Python 3 (ipykernel)",
   "language": "python",
   "name": "python3"
  },
  "language_info": {
   "codemirror_mode": {
    "name": "ipython",
    "version": 3
   },
   "file_extension": ".py",
   "mimetype": "text/x-python",
   "name": "python",
   "nbconvert_exporter": "python",
   "pygments_lexer": "ipython3",
   "version": "3.9.12"
  }
 },
 "nbformat": 4,
 "nbformat_minor": 5
}
