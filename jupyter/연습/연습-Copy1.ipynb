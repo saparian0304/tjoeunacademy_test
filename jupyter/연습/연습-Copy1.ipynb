{
 "cells": [
  {
   "cell_type": "code",
   "execution_count": 2,
   "id": "e159ef24",
   "metadata": {},
   "outputs": [],
   "source": [
    "from selenium import webdriver\n",
    "from selenium.webdriver.support.ui import WebDriverWait\n",
    "from selenium.webdriver.support import expected_conditions as ec\n",
    "from selenium.webdriver.common.by import By\n",
    "from selenium.webdriver.common.keys import Keys\n",
    "from datetime import datetime\n",
    "from bs4 import BeautifulSoup\n",
    "from selenium.webdriver.support.ui import WebDriverWait\n",
    "from selenium.webdriver.support import expected_conditions as ec\n"
   ]
  },
  {
   "cell_type": "code",
   "execution_count": 3,
   "id": "36f540f4",
   "metadata": {},
   "outputs": [],
   "source": [
    "url = 'https://www.twitch.tv/hanryang1125'\n",
    "br = webdriver.Chrome('chromedriver')\n",
    "br.get(url)\n",
    "now = datetime.now()\n"
   ]
  },
  {
   "cell_type": "code",
   "execution_count": null,
   "id": "8207f2f2",
   "metadata": {},
   "outputs": [],
   "source": [
    "for i in range(2, 22):\n",
    "    try:\n",
    "        obj = WebDriverWait(br, 10).until(ec.presence_of_element_located((By.CSS_SELECTOR, '#live-channel-stream-information > div > div > div > div > div.Layout-sc-nxg1ff-0.jYkTYc > div.Layout-sc-nxg1ff-0.bBfGll > div.Layout-sc-nxg1ff-0.jUcRho > div > div.Layout-sc-nxg1ff-0.cQQfqe > div.Layout-sc-nxg1ff-0.eLwvPK > div:nth-child(1) > div > p > span')))\n",
    "        html = br.page_source\n",
    "        soup = BeautifulSoup(html, 'html.parser')\n",
    "        title = soup.select_one(f'#live-channel-stream-information > div > div > div > div > div.Layout-sc-nxg1ff-0.jYkTYc > div.Layout-sc-nxg1ff-0.bBfGll > div.Layout-sc-nxg1ff-0.jFPakw > div > div.Layout-sc-nxg1ff-0.dRKpYM > h2').string\n",
    "        streamer = soup.select_one(f'#live-channel-stream-information > div > div > div > div > div.Layout-sc-nxg1ff-0.jYkTYc > div.Layout-sc-nxg1ff-0.cuTDLl.metadata-layout__support > div.Layout-sc-nxg1ff-0.gcwIMz > a > h1').string\n",
    "        viewer = soup.select_one(f'#live-channel-stream-information > div > div > div > div > div.Layout-sc-nxg1ff-0.jYkTYc > div.Layout-sc-nxg1ff-0.bBfGll > div.Layout-sc-nxg1ff-0.jUcRho > div > div.Layout-sc-nxg1ff-0.cQQfqe > div.Layout-sc-nxg1ff-0.eLwvPK > div:nth-child(1) > div > p > span').string\n",
    "        cate = soup.select_one(f'#live-channel-stream-information > div > div > div > div > div.Layout-sc-nxg1ff-0.jYkTYc > div.Layout-sc-nxg1ff-0.bBfGll > div.Layout-sc-nxg1ff-0.jFPakw > div > div:nth-child(2) > div > div > div.Layout-sc-nxg1ff-0.FxhJR > a > span').string\n",
    "        print(f'{streamer}, {title}, {viewer}, {cate}, {now}')\n",
    "    except Exception as e:\n",
    "        print('error', i, e)\n",
    "    br.get(url)\n",
    "br.quit()"
   ]
  },
  {
   "cell_type": "code",
   "execution_count": null,
   "id": "a8d3f324",
   "metadata": {},
   "outputs": [],
   "source": [
    "br.quit()"
   ]
  },
  {
   "cell_type": "code",
   "execution_count": null,
   "id": "54d0a2c2",
   "metadata": {},
   "outputs": [],
   "source": [
    "br.find_element(By.CSS_SELECTOR, f'#browse-root-main-content > div.Layout-sc-nxg1ff-0.hEbiVi > div > div.ScTower-sc-1dei8tr-0.dcmlaV.tw-tower > div:nth-child(2) > div > div > div > article > div.ScWrapper-sc-uo2e2v-0.tw-hover-accent-effect > div.ScTransformWrapper-sc-uo2e2v-1.ghrhyx > a > div > div.ScAspectRatio-sc-1sw3lwy-1.kPofwJ.tw-aspect > img').click()"
   ]
  },
  {
   "cell_type": "code",
   "execution_count": null,
   "id": "16baeb6f",
   "metadata": {},
   "outputs": [],
   "source": [
    "obj = WebDriverWait(br, 15).until(ec.presence_of_element_located((By.CSS_SELECTOR, '#live-channel-stream-information > div > div > div > div > div.Layout-sc-nxg1ff-0.jYkTYc > div.Layout-sc-nxg1ff-0.bBfGll > div.Layout-sc-nxg1ff-0.jUcRho > div > div.Layout-sc-nxg1ff-0.cQQfqe > div.Layout-sc-nxg1ff-0.eLwvPK > div:nth-child(1) > div > p > span')))\n",
    "html = br.page_source\n",
    "soup = BeautifulSoup(html, 'html.parser')\n",
    "title = soup.select_one(f'#live-channel-stream-information > div > div > div > div > div.Layout-sc-nxg1ff-0.jYkTYc > div.Layout-sc-nxg1ff-0.bBfGll > div.Layout-sc-nxg1ff-0.jFPakw > div > div.Layout-sc-nxg1ff-0.dRKpYM > h2').string\n",
    "streamer = soup.select_one(f'#live-channel-stream-information > div > div > div > div > div.Layout-sc-nxg1ff-0.jYkTYc > div.Layout-sc-nxg1ff-0.cuTDLl.metadata-layout__support > div.Layout-sc-nxg1ff-0.gcwIMz > a > h1').string\n",
    "viewer = soup.select_one(f'#live-channel-stream-information > div > div > div > div > div.Layout-sc-nxg1ff-0.jYkTYc > div.Layout-sc-nxg1ff-0.bBfGll > div.Layout-sc-nxg1ff-0.jUcRho > div > div.Layout-sc-nxg1ff-0.cQQfqe > div.Layout-sc-nxg1ff-0.eLwvPK > div:nth-child(1) > div > p > span').string\n",
    "cate = soup.select_one(f'#live-channel-stream-information > div > div > div > div > div.Layout-sc-nxg1ff-0.jYkTYc > div.Layout-sc-nxg1ff-0.bBfGll > div.Layout-sc-nxg1ff-0.jFPakw > div > div:nth-child(2) > div > div > div.Layout-sc-nxg1ff-0.FxhJR > a > span').string\n",
    "print(f'{streamer}, {title}, {viewer}, {cate}, {now}')"
   ]
  },
  {
   "cell_type": "code",
   "execution_count": null,
   "id": "4898ccc9",
   "metadata": {},
   "outputs": [],
   "source": []
  }
 ],
 "metadata": {
  "kernelspec": {
   "display_name": "Python 3 (ipykernel)",
   "language": "python",
   "name": "python3"
  },
  "language_info": {
   "codemirror_mode": {
    "name": "ipython",
    "version": 3
   },
   "file_extension": ".py",
   "mimetype": "text/x-python",
   "name": "python",
   "nbconvert_exporter": "python",
   "pygments_lexer": "ipython3",
   "version": "3.9.12"
  }
 },
 "nbformat": 4,
 "nbformat_minor": 5
}
