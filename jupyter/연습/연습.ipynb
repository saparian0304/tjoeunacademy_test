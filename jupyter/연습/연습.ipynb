{
 "cells": [
  {
   "cell_type": "code",
   "execution_count": 47,
   "id": "e159ef24",
   "metadata": {},
   "outputs": [],
   "source": [
    "from selenium import webdriver\n",
    "from selenium.webdriver.support.ui import WebDriverWait\n",
    "from selenium.webdriver.support import expected_conditions as ec\n",
    "from selenium.webdriver.common.by import By\n",
    "from selenium.webdriver.common.keys import Keys\n",
    "from datetime import datetime\n",
    "from bs4 import BeautifulSoup"
   ]
  },
  {
   "cell_type": "code",
   "execution_count": 48,
   "id": "36f540f4",
   "metadata": {},
   "outputs": [],
   "source": [
    "url = 'https://www.twitch.tv/directory/all?sort=VIEWER_COUNT'\n",
    "br = webdriver.Chrome('chromedriver')\n",
    "br.get(url)\n",
    "now = datetime.now()\n"
   ]
  },
  {
   "cell_type": "code",
   "execution_count": 49,
   "id": "259e09f0",
   "metadata": {},
   "outputs": [],
   "source": [
    "obj = WebDriverWait(br, 5).until(ec.presence_of_element_located((By.CSS_SELECTOR, '#browse-root-main-content > div.Layout-sc-nxg1ff-0.hEbiVi > div > div.Layout-sc-nxg1ff-0 > div:nth-child(1) > div.Layout-sc-nxg1ff-0.kMghud > h4 > button > strong')))\n",
    "br.find_element(By.CSS_SELECTOR, '#browse-root-main-content > div.Layout-sc-nxg1ff-0.hEbiVi > div > div.Layout-sc-nxg1ff-0 > div:nth-child(1) > div.Layout-sc-nxg1ff-0.kMghud > h4 > button > strong').click()\n",
    "br.get(url)"
   ]
  },
  {
   "cell_type": "code",
   "execution_count": 50,
   "id": "2c0cd2f2",
   "metadata": {},
   "outputs": [
    {
     "data": {
      "text/plain": [
       "('아이네_ (vo_ine)', '잔잔하다네~', '시청자 1.6만명', 'Just Chatting')"
      ]
     },
     "execution_count": 50,
     "metadata": {},
     "output_type": "execute_result"
    }
   ],
   "source": [
    "from bs4 import BeautifulSoup\n",
    "obj = WebDriverWait(br, 5).until(ec.presence_of_element_located((By.CSS_SELECTOR, '#browse-root-main-content > div.Layout-sc-nxg1ff-0.hEbiVi > div > div.ScTower-sc-1dei8tr-0.dcmlaV.tw-tower > div:nth-child(22) article > div.Layout-sc-nxg1ff-0 div.ScTextWrapper-sc-14f6evl-1 > div.ScTextMargin-sc-14f6evl-2 > a > h3')))\n",
    "html = br.page_source\n",
    "soup = BeautifulSoup(html, 'html.parser')\n",
    "title = soup.select_one('#browse-root-main-content > div.Layout-sc-nxg1ff-0.hEbiVi > div > div.ScTower-sc-1dei8tr-0.dcmlaV.tw-tower > div:nth-child(2) article > div.Layout-sc-nxg1ff-0 div.ScTextWrapper-sc-14f6evl-1 > div.ScTextMargin-sc-14f6evl-2 > a > h3').string\n",
    "streamer = soup.select_one('#browse-root-main-content > div.Layout-sc-nxg1ff-0.hEbiVi > div > div.ScTower-sc-1dei8tr-0.dcmlaV.tw-tower > div:nth-child(2) article > div.Layout-sc-nxg1ff-0.ggozbG div.ScTextWrapper-sc-14f6evl-1 > div.ScTextMargin-sc-14f6evl-2 > a > p').string\n",
    "viewer = soup.select_one('#browse-root-main-content > div.Layout-sc-nxg1ff-0.hEbiVi > div > div.ScTower-sc-1dei8tr-0.dcmlaV.tw-tower > div:nth-child(2) article > div.ScWrapper-sc-uo2e2v-0 > div.ScTransformWrapper-sc-uo2e2v-1 > a > div > div.ScPositionCorner-sc-1iiybo2-1.eHqCXd > div').string\n",
    "cate = soup.select_one('#browse-root-main-content > div.Layout-sc-nxg1ff-0.hEbiVi > div > div.ScTower-sc-1dei8tr-0.dcmlaV.tw-tower > div:nth-child(2) article > div.Layout-sc-nxg1ff-0 > div > div.ScTextWrapper-sc-14f6evl-1 > div.ScTextMargin-sc-14f6evl-2 > p > a').string\n",
    "streamer, title, viewer, cate"
   ]
  },
  {
   "cell_type": "code",
   "execution_count": 51,
   "id": "8207f2f2",
   "metadata": {},
   "outputs": [
    {
     "name": "stdout",
     "output_type": "stream",
     "text": [
      "아이네_ (vo_ine)\t잔잔하다네~\t시청자 1.6만명\tJust Chatting\t2022-09-26 19:08:11.331242\n",
      "파카9999 (paka9999)\t절벽컨\t시청자 8,058명\tLeague of Legends\t2022-09-26 19:08:11.331242\n",
      "얍얍 (yapyap30)\t트럼본 챔프\t시청자 6,838명\tTrombone Champ\t2022-09-26 19:08:11.331242\n",
      "쌍베 (pacific8815)\t아크서바이벌\t시청자 4,725명\tArk: Survival Evolved\t2022-09-26 19:08:11.331242\n",
      "CoreJJ\tCoreJJ\t시청자 4,161명\tLeague of Legends\t2022-09-26 19:08:11.331242\n",
      "따효니 (ddahyoni)\tC9 DDaHyoNi 좨책감\t시청자 3,748명\tVALORANT\t2022-09-26 19:08:11.331242\n",
      "명훈 (mlchoins)\t[명훈] 단련만이 살길이다 발로란트\t시청자 3,610명\tVALORANT\t2022-09-26 19:08:11.331242\n",
      "똘똘똘이_ (jungtaejune)\t즐거운 월요일\t시청자 3,531명\tJust Chatting\t2022-09-26 19:08:11.331242\n",
      "김남봉 (kimnamsoon)\t스크림 7시 vs 망개팀\t시청자 3,491명\tJust Chatting\t2022-09-26 19:08:11.331242\n",
      "강지 (rkdwl12)\tMe\t시청자 3,356명\tJust Chatting\t2022-09-26 19:08:11.331242\n",
      "김뿡_ (bbonge_)\t뿡) 노래맞추기\t시청자 2,749명\tStarCraft\t2022-09-26 19:08:11.331242\n",
      "쫀득이_ (pjs9073)\t쫀득)  6시 꽃감이 부모님이랑 로아 레이드ㅋㅋ\t시청자 2,714명\tLost Ark\t2022-09-26 19:08:11.331242\n",
      "포셔 (portialyn)\t6시 배마 세팅 설명\t시청자 2,701명\tLost Ark\t2022-09-26 19:08:11.331242\n",
      "소풍왔니 (yumyumyu77)\t폴가이즈 처음 해보는 사람\t시청자 2,574명\tFall Guys\t2022-09-26 19:08:11.331242\n",
      "마뫄 (ma_mwa)\t자낳대 황족 숟가락🐶\t시청자 2,033명\tVALORANT\t2022-09-26 19:08:11.331242\n",
      "15번째에서 오류\t\t\t\t 2022-09-26 19:08:11.331242\n",
      "뢴트게늄111 (111roentgenium)\t짧뱅이라능\t시청자 2,014명\tJust Chatting\t2022-09-26 19:08:11.331242\n",
      "망개__ (mmange2)\t졸ㄹ  ㅕ  ʕ ๑ •̀ᴗ-ʔ ✧\t시청자 1,793명\tJust Chatting\t2022-09-26 19:08:11.331242\n",
      "17번째에서 오류\t\t\t\t 2022-09-26 19:08:11.331242\n",
      "찬우정 (jcw970)\t챌린져 달리기 1일차\t시청자 1,769명\tLeague of Legends\t2022-09-26 19:08:11.331242\n",
      "던전앤파이터_공식채널 (dnf_live)\t정준도 성캐랑 중계_Ep.5\t시청자 1,652명\tDungeon Fighter Online\t2022-09-26 19:08:11.331242\n",
      "푸린_ (rngudwnswkd)\t팀연습!\t시청자 1,631명\tJust Chatting\t2022-09-26 19:08:11.331242\n"
     ]
    }
   ],
   "source": [
    "f = open(\"hitsong.tsv\", \"w\")\n",
    "for i in range(2, 22):\n",
    "    try : \n",
    "        title = soup.select_one(f'#browse-root-main-content > div.Layout-sc-nxg1ff-0.hEbiVi > div > div.ScTower-sc-1dei8tr-0.dcmlaV.tw-tower > div:nth-child({i}) article > div.Layout-sc-nxg1ff-0 div.ScTextWrapper-sc-14f6evl-1 > div.ScTextMargin-sc-14f6evl-2 > a > h3').string\n",
    "        streamer = soup.select_one(f'#browse-root-main-content > div.Layout-sc-nxg1ff-0.hEbiVi > div > div.ScTower-sc-1dei8tr-0.dcmlaV.tw-tower > div:nth-child({i}) article > div.Layout-sc-nxg1ff-0.ggozbG div.ScTextWrapper-sc-14f6evl-1 > div.ScTextMargin-sc-14f6evl-2 > a > p').string\n",
    "        viewer = soup.select_one(f'#browse-root-main-content > div.Layout-sc-nxg1ff-0.hEbiVi > div > div.ScTower-sc-1dei8tr-0.dcmlaV.tw-tower > div:nth-child({i}) article > div.ScWrapper-sc-uo2e2v-0 > div.ScTransformWrapper-sc-uo2e2v-1 > a > div > div.ScPositionCorner-sc-1iiybo2-1.eHqCXd > div').string\n",
    "        cate = soup.select_one(f'#browse-root-main-content > div.Layout-sc-nxg1ff-0.hEbiVi > div > div.ScTower-sc-1dei8tr-0.dcmlaV.tw-tower > div:nth-child({i}) article > div.Layout-sc-nxg1ff-0 > div > div.ScTextWrapper-sc-14f6evl-1 > div.ScTextMargin-sc-14f6evl-2 > p > a').string\n",
    "        print(f'{streamer}\\t{title}\\t{viewer}\\t{cate}\\t{now}')\n",
    "        f.write(f'{streamer}\\t{title}\\t{viewer}\\t{cate}\\t{now}'+ '\\n')\n",
    "    except:\n",
    "        print(f\"{i-1}번째에서 오류\\t\\t\\t\\t {now}\")\n",
    "        f.write(f\"{i-1}번째에서 오류\\t\\t\\t\\t {now}\"+ '\\n')\n",
    "f.close()"
   ]
  },
  {
   "cell_type": "code",
   "execution_count": null,
   "id": "a8d3f324",
   "metadata": {},
   "outputs": [],
   "source": [
    "br.quit()"
   ]
  },
  {
   "cell_type": "code",
   "execution_count": null,
   "id": "54d0a2c2",
   "metadata": {},
   "outputs": [],
   "source": []
  }
 ],
 "metadata": {
  "kernelspec": {
   "display_name": "Python 3 (ipykernel)",
   "language": "python",
   "name": "python3"
  },
  "language_info": {
   "codemirror_mode": {
    "name": "ipython",
    "version": 3
   },
   "file_extension": ".py",
   "mimetype": "text/x-python",
   "name": "python",
   "nbconvert_exporter": "python",
   "pygments_lexer": "ipython3",
   "version": "3.9.12"
  }
 },
 "nbformat": 4,
 "nbformat_minor": 5
}
