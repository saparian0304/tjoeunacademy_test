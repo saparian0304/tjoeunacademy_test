{
 "cells": [
  {
   "cell_type": "code",
   "execution_count": 43,
   "id": "e159ef24",
   "metadata": {},
   "outputs": [],
   "source": [
    "from selenium import webdriver\n",
    "from selenium.webdriver.support.ui import WebDriverWait\n",
    "from selenium.webdriver.support import expected_conditions as ec\n",
    "from selenium.webdriver.common.by import By\n",
    "from selenium.webdriver.common.keys import Keys\n",
    "from datetime import datetime"
   ]
  },
  {
   "cell_type": "code",
   "execution_count": 44,
   "id": "36f540f4",
   "metadata": {},
   "outputs": [],
   "source": [
    "url = 'https://www.twitch.tv/directory/all?sort=VIEWER_COUNT'\n",
    "br = webdriver.Chrome('chromedriver')\n",
    "br.get(url)\n",
    "now = datetime.now()\n"
   ]
  },
  {
   "cell_type": "code",
   "execution_count": 40,
   "id": "259e09f0",
   "metadata": {},
   "outputs": [],
   "source": [
    "br.find_element(By.CSS_SELECTOR, '#browse-root-main-content > div.Layout-sc-nxg1ff-0.hEbiVi > div > div.Layout-sc-nxg1ff-0 > div:nth-child(1) > div.Layout-sc-nxg1ff-0.kMghud > h4 > button > strong').click()"
   ]
  },
  {
   "cell_type": "code",
   "execution_count": 41,
   "id": "2c0cd2f2",
   "metadata": {},
   "outputs": [
    {
     "data": {
      "text/plain": [
       "('valorant_kr', 'MBT vs SPG - 게임 체인저스 - 결승', '시청자 2,144명', 'VALORANT')"
      ]
     },
     "execution_count": 41,
     "metadata": {},
     "output_type": "execute_result"
    }
   ],
   "source": [
    "from bs4 import BeautifulSoup\n",
    "html = br.page_source\n",
    "soup = BeautifulSoup(html, 'html.parser')\n",
    "title = soup.select_one('#browse-root-main-content > div.Layout-sc-nxg1ff-0.hEbiVi > div > div.ScTower-sc-1dei8tr-0.dcmlaV.tw-tower > div:nth-child(2) article > div.Layout-sc-nxg1ff-0 div.ScTextWrapper-sc-14f6evl-1 > div.ScTextMargin-sc-14f6evl-2 > a > h3').string\n",
    "streamer = soup.select_one('#browse-root-main-content > div.Layout-sc-nxg1ff-0.hEbiVi > div > div.ScTower-sc-1dei8tr-0.dcmlaV.tw-tower > div:nth-child(2) article > div.Layout-sc-nxg1ff-0.ggozbG div.ScTextWrapper-sc-14f6evl-1 > div.ScTextMargin-sc-14f6evl-2 > a > p').string\n",
    "viewer = soup.select_one('#browse-root-main-content > div.Layout-sc-nxg1ff-0.hEbiVi > div > div.ScTower-sc-1dei8tr-0.dcmlaV.tw-tower > div:nth-child(2) article > div.ScWrapper-sc-uo2e2v-0 > div.ScTransformWrapper-sc-uo2e2v-1 > a > div > div.ScPositionCorner-sc-1iiybo2-1.eHqCXd > div').string\n",
    "cate = soup.select_one('#browse-root-main-content > div.Layout-sc-nxg1ff-0.hEbiVi > div > div.ScTower-sc-1dei8tr-0.dcmlaV.tw-tower > div:nth-child(2) article > div.Layout-sc-nxg1ff-0 > div > div.ScTextWrapper-sc-14f6evl-1 > div.ScTextMargin-sc-14f6evl-2 > p > a').string\n",
    "streamer, title, viewer, cate"
   ]
  },
  {
   "cell_type": "code",
   "execution_count": 46,
   "id": "8207f2f2",
   "metadata": {},
   "outputs": [
    {
     "name": "stdout",
     "output_type": "stream",
     "text": [
      "valorant_kr, MBT vs SPG - 게임 체인저스 - 결승, 시청자 2,144명, VALORANT, 2022-09-23 18:43:00.061472\n",
      "비챤_ (viichan6), [7시] 팬덤전쟁 공듀들과 티타임 (•᷅ ʚ •᷄ )//, 시청자 1.2만명, Just Chatting, 2022-09-23 18:43:00.061472\n",
      "김도 (kimdoe), 드래곤볼을 모아보자, 시청자 6,908명, Dragon Ball: The Breakers, 2022-09-23 18:43:00.061472\n",
      "LCK_Korea, [T1 vs MAX] 아시아 스타 챌린저스 인비테이셔널(ASCI) - 4강 2경기, 시청자 3,126명, League of Legends, 2022-09-23 18:43:00.061472\n",
      "포셔 (portialyn), 6시 일리노말 / 행수,매라,김뿡,캡잭,사과몽,쉴버싸,은가비, 시청자 2,224명, Lost Ark, 2022-09-23 18:43:00.061472\n",
      "진수0 (jinsooo0), 드래곤볼 데바데 뉴비 찍먹, 시청자 492명, Dragon Ball: The Breakers, 2022-09-23 18:43:00.061472\n",
      "수련수련 (sooflower), 트하 오늘은 유카타 련련이, 시청자 286명, Just Chatting, 2022-09-23 18:43:00.061472\n",
      "이다2 (airshowerse), 조용히숙제합니다, 시청자 1,422명, Lost Ark, 2022-09-23 18:43:00.061472\n",
      "_연두부_ (lovelyyeon), 강녕, 시청자 353명, Just Chatting, 2022-09-23 18:43:00.061472\n",
      "던ㅤ (dawnhs), 친구가 필요해..., 시청자 532명, League of Legends, 2022-09-23 18:43:00.061472\n",
      "로마러 (hogdee), 버서커 극고점 비기 세팅합니다. 패기인생 초대석 (10시), 시청자 394명, Lost Ark, 2022-09-23 18:43:00.061472\n",
      "똘똘똘이_ (jungtaejune), 즐거운 금요일!, 시청자 1,708명, Just Chatting, 2022-09-23 18:43:00.061472\n",
      "철면수심 (109ace), 천고마비의 계절 - 제철 음식 월드컵, 시청자 1,660명, Just Chatting, 2022-09-23 18:43:00.061472\n",
      "액시스마이콜 (sn400ja), 최강의 우디르 개발완료, 시청자 747명, League of Legends, 2022-09-23 18:43:00.061472\n",
      "앰비션_ (lol_ambition), 28연승시 원점복구, 시청자 4,018명, League of Legends, 2022-09-23 18:43:00.061472\n",
      "겨우디 (winter_28270), 나홀로 여름과 여캠바지, 시청자 1,344명, Just Chatting, 2022-09-23 18:43:00.061472\n",
      "나기상 (mingnagi), 인자는 왜 깎아야 할까요?, 시청자 535명, Umamusume: Pretty Derby, 2022-09-23 18:43:00.061472\n",
      "꼴랑이임 (rhffkddl96), 모닝x스, 시청자 840명, Teamfight Tactics, 2022-09-23 18:43:00.061472\n",
      "enchantenter, [FIFA 23 런칭 쇼케이스] - 박지성, 배성재, 임형철, 유지애, 단군, 시청자 4,074명, FIFA 23, 2022-09-23 18:43:00.061472\n",
      "빅헤드 (bighead033), 방송 안하려고 했는데 모던2가 하고싶었어, 시청자 816명, Call of Duty: Modern Warfare II, 2022-09-23 18:43:00.061472\n"
     ]
    }
   ],
   "source": [
    "for i in range(2, 22):\n",
    "    title = soup.select_one(f'#browse-root-main-content > div.Layout-sc-nxg1ff-0.hEbiVi > div > div.ScTower-sc-1dei8tr-0.dcmlaV.tw-tower > div:nth-child({i}) article > div.Layout-sc-nxg1ff-0 div.ScTextWrapper-sc-14f6evl-1 > div.ScTextMargin-sc-14f6evl-2 > a > h3').string\n",
    "    streamer = soup.select_one(f'#browse-root-main-content > div.Layout-sc-nxg1ff-0.hEbiVi > div > div.ScTower-sc-1dei8tr-0.dcmlaV.tw-tower > div:nth-child({i}) article > div.Layout-sc-nxg1ff-0.ggozbG div.ScTextWrapper-sc-14f6evl-1 > div.ScTextMargin-sc-14f6evl-2 > a > p').string\n",
    "    viewer = soup.select_one(f'#browse-root-main-content > div.Layout-sc-nxg1ff-0.hEbiVi > div > div.ScTower-sc-1dei8tr-0.dcmlaV.tw-tower > div:nth-child({i}) article > div.ScWrapper-sc-uo2e2v-0 > div.ScTransformWrapper-sc-uo2e2v-1 > a > div > div.ScPositionCorner-sc-1iiybo2-1.eHqCXd > div').string\n",
    "    cate = soup.select_one(f'#browse-root-main-content > div.Layout-sc-nxg1ff-0.hEbiVi > div > div.ScTower-sc-1dei8tr-0.dcmlaV.tw-tower > div:nth-child({i}) article > div.Layout-sc-nxg1ff-0 > div > div.ScTextWrapper-sc-14f6evl-1 > div.ScTextMargin-sc-14f6evl-2 > p > a').string\n",
    "    print(f'{streamer}, {title}, {viewer}, {cate}, {now}')"
   ]
  },
  {
   "cell_type": "code",
   "execution_count": 47,
   "id": "a8d3f324",
   "metadata": {},
   "outputs": [],
   "source": [
    "br.quit()"
   ]
  },
  {
   "cell_type": "code",
   "execution_count": null,
   "id": "54d0a2c2",
   "metadata": {},
   "outputs": [],
   "source": []
  }
 ],
 "metadata": {
  "kernelspec": {
   "display_name": "Python 3 (ipykernel)",
   "language": "python",
   "name": "python3"
  },
  "language_info": {
   "codemirror_mode": {
    "name": "ipython",
    "version": 3
   },
   "file_extension": ".py",
   "mimetype": "text/x-python",
   "name": "python",
   "nbconvert_exporter": "python",
   "pygments_lexer": "ipython3",
   "version": "3.9.12"
  }
 },
 "nbformat": 4,
 "nbformat_minor": 5
}
