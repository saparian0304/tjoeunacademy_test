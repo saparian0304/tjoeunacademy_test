{
 "cells": [
  {
   "cell_type": "code",
   "execution_count": null,
   "id": "7f1fc648",
   "metadata": {},
   "outputs": [],
   "source": [
    "a=1\n",
    "b=2\n",
    "c=a+b\n",
    "print(c)\n",
    "a, b, c\n"
   ]
  },
  {
   "cell_type": "code",
   "execution_count": null,
   "id": "b92128c8",
   "metadata": {},
   "outputs": [],
   "source": []
  },
  {
   "cell_type": "code",
   "execution_count": 2,
   "id": "9fb8cd60",
   "metadata": {},
   "outputs": [
    {
     "name": "stdout",
     "output_type": "stream",
     "text": [
      "2\n"
     ]
    }
   ],
   "source": [
    "print(b)"
   ]
  },
  {
   "cell_type": "code",
   "execution_count": null,
   "id": "69521962",
   "metadata": {},
   "outputs": [],
   "source": []
  },
  {
   "cell_type": "code",
   "execution_count": 3,
   "id": "fece0d1b",
   "metadata": {},
   "outputs": [],
   "source": [
    "b=3"
   ]
  },
  {
   "cell_type": "code",
   "execution_count": null,
   "id": "693d761c",
   "metadata": {},
   "outputs": [],
   "source": [
    "text = input('계좌를 입력하세요')\n",
    "text"
   ]
  },
  {
   "cell_type": "code",
   "execution_count": 4,
   "id": "40173704",
   "metadata": {},
   "outputs": [
    {
     "name": "stdout",
     "output_type": "stream",
     "text": [
      " E 드라이브의 볼륨: 새 볼륨\n",
      " 볼륨 일련 번호: B638-C005\n",
      "\n",
      " E:\\kdigital_a\\eclipse\\workspace\\tjoeunacademy_test\\jupyter 디렉터리\n",
      "\n",
      "2022-09-07  오후 01:02    <DIR>          .\n",
      "2022-09-07  오후 01:02    <DIR>          ..\n",
      "2022-09-07  오후 12:04    <DIR>          .ipynb_checkpoints\n",
      "2022-09-07  오후 12:53             8,192 test.sqlite\n",
      "2022-09-07  오후 01:02             3,696 데이터베이스.ipynb\n",
      "2022-09-07  오후 12:03             2,930 마크다운.ipynb\n",
      "2022-09-07  오후 01:01             1,674 테스트.ipynb\n",
      "               4개 파일              16,492 바이트\n",
      "               3개 디렉터리  236,877,520,896 바이트 남음\n"
     ]
    },
    {
     "name": "stderr",
     "output_type": "stream",
     "text": [
      "'pwd'은(는) 내부 또는 외부 명령, 실행할 수 있는 프로그램, 또는\n",
      "배치 파일이 아닙니다.\n"
     ]
    }
   ],
   "source": [
    "# !를 붙여서 실행하면 콘솔에서 명령어가 실행시키는 것과 같은 결과가 나옴\n",
    "!dir"
   ]
  }
 ],
 "metadata": {
  "kernelspec": {
   "display_name": "Python 3 (ipykernel)",
   "language": "python",
   "name": "python3"
  },
  "language_info": {
   "codemirror_mode": {
    "name": "ipython",
    "version": 3
   },
   "file_extension": ".py",
   "mimetype": "text/x-python",
   "name": "python",
   "nbconvert_exporter": "python",
   "pygments_lexer": "ipython3",
   "version": "3.9.12"
  }
 },
 "nbformat": 4,
 "nbformat_minor": 5
}
