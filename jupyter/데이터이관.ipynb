{
 "cells": [
  {
   "cell_type": "code",
   "execution_count": 1,
   "id": "77f7214f",
   "metadata": {},
   "outputs": [],
   "source": [
    "import pymysql"
   ]
  },
  {
   "cell_type": "code",
   "execution_count": 32,
   "id": "a913fc46",
   "metadata": {},
   "outputs": [],
   "source": [
    "host = \"localhost\"\n",
    "db = \"project\"\n",
    "conn = pymysql.connect(host=host, user=\"root\", password=\"root1234\", db=db)\n",
    "cur = conn.cursor(pymysql.cursors.DictCursor)\n",
    "sql = \"SELECT no, title, content, date_format(regdate, '%Y-%m-%dT%H:%i:%s.%fZ') regdate FROM board\"\n",
    "cur.execute(sql)\n",
    "\n",
    "rows = cur.fetchall()\n",
    "cur.close()\n",
    "conn.close()"
   ]
  },
  {
   "cell_type": "code",
   "execution_count": 33,
   "id": "777e3d92",
   "metadata": {},
   "outputs": [
    {
     "data": {
      "text/plain": [
       "{'no': 1,\n",
       " 'title': 'test1',\n",
       " 'content': 'test1',\n",
       " 'regdate': '2022-07-19T13:21:21.000000Z'}"
      ]
     },
     "execution_count": 33,
     "metadata": {},
     "output_type": "execute_result"
    }
   ],
   "source": [
    "rows[0]"
   ]
  },
  {
   "cell_type": "code",
   "execution_count": 34,
   "id": "8bed10c9",
   "metadata": {},
   "outputs": [],
   "source": [
    "import json\n",
    "import requests\n",
    "\n",
    "for row in rows : \n",
    "    # 가공 처리\n",
    "    doc = {\n",
    "        \"no\" : row['no'],\n",
    "        \"title\" : row['title'],\n",
    "        \"content\" : row['content'],\n",
    "        \"regdate\" : row['regdate']\n",
    "    }\n",
    "    res = requests.put('http://localhost:9200/board/_doc/{}'.format(row['no']), \n",
    "                data=json.dumps(doc),\n",
    "                headers={'Content-type':'application/x-ndjson'})\n",
    "#     print(res.text)\n",
    "    "
   ]
  },
  {
   "cell_type": "code",
   "execution_count": null,
   "id": "acc0d1b8",
   "metadata": {},
   "outputs": [],
   "source": []
  },
  {
   "cell_type": "code",
   "execution_count": null,
   "id": "fa04fc57",
   "metadata": {},
   "outputs": [],
   "source": [
    "from elasticsearch import Elasticsearch"
   ]
  }
 ],
 "metadata": {
  "kernelspec": {
   "display_name": "Python 3 (ipykernel)",
   "language": "python",
   "name": "python3"
  },
  "language_info": {
   "codemirror_mode": {
    "name": "ipython",
    "version": 3
   },
   "file_extension": ".py",
   "mimetype": "text/x-python",
   "name": "python",
   "nbconvert_exporter": "python",
   "pygments_lexer": "ipython3",
   "version": "3.9.12"
  }
 },
 "nbformat": 4,
 "nbformat_minor": 5
}
