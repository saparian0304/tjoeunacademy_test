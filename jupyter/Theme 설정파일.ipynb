{
 "cells": [
  {
   "cell_type": "code",
   "execution_count": null,
   "id": "80e35107",
   "metadata": {},
   "outputs": [],
   "source": [
    "# jupyterteme 패키지 설치\n",
    "pip install jupyterthemes"
   ]
  },
  {
   "cell_type": "code",
   "execution_count": 9,
   "id": "da096b4c",
   "metadata": {},
   "outputs": [
    {
     "name": "stdout",
     "output_type": "stream",
     "text": [
      "Available Themes: \n",
      "   chesterish\n",
      "   grade3\n",
      "   gruvboxd\n",
      "   gruvboxl\n",
      "   monokai\n",
      "   oceans16\n",
      "   onedork\n",
      "   solarizedd\n",
      "   solarizedl\n"
     ]
    }
   ],
   "source": [
    "# 테마 리스트\n",
    "!jt -l"
   ]
  },
  {
   "cell_type": "code",
   "execution_count": null,
   "id": "0949bf83",
   "metadata": {},
   "outputs": [],
   "source": [
    "# monokai 설정\n",
    "!jt -t monokai -T -N -kl -fs 15 -nfs 14 -tfs 14 -dfs 11 -ofs 14 -cursw 2 -cursc r -cellw 95%"
   ]
  },
  {
   "cell_type": "code",
   "execution_count": 5,
   "id": "fb786f0e",
   "metadata": {},
   "outputs": [],
   "source": [
    "# gruvboxl 설정\n",
    "!jt -t gruvboxl -T -N -kl -fs 15 -nfs 14 -tfs 14 -dfs 11 -ofs 14 -cursw 2 -cursc r -cellw 95%"
   ]
  },
  {
   "cell_type": "code",
   "execution_count": 8,
   "id": "e4314e69",
   "metadata": {},
   "outputs": [],
   "source": [
    "# chesterish 설정\n",
    "!jt -t chesterish -T -N -kl -fs 15 -nfs 14 -tfs 14 -dfs 11 -ofs 14 -cursw 2 -cursc r -cellw 95%"
   ]
  },
  {
   "cell_type": "code",
   "execution_count": 10,
   "id": "4da63158",
   "metadata": {},
   "outputs": [],
   "source": [
    "# grade3 설정\n",
    "!jt -t grade3 -T -N -kl -fs 15 -nfs 14 -tfs 14 -dfs 11 -ofs 14 -cursw 2 -cursc r -cellw 95%"
   ]
  }
 ],
 "metadata": {
  "kernelspec": {
   "display_name": "Python 3 (ipykernel)",
   "language": "python",
   "name": "python3"
  },
  "language_info": {
   "codemirror_mode": {
    "name": "ipython",
    "version": 3
   },
   "file_extension": ".py",
   "mimetype": "text/x-python",
   "name": "python",
   "nbconvert_exporter": "python",
   "pygments_lexer": "ipython3",
   "version": "3.9.12"
  }
 },
 "nbformat": 4,
 "nbformat_minor": 5
}
