{
 "cells": [
  {
   "cell_type": "code",
   "execution_count": 15,
   "id": "f474fc91",
   "metadata": {},
   "outputs": [
    {
     "data": {
      "text/html": [
       "<div>\n",
       "<style scoped>\n",
       "    .dataframe tbody tr th:only-of-type {\n",
       "        vertical-align: middle;\n",
       "    }\n",
       "\n",
       "    .dataframe tbody tr th {\n",
       "        vertical-align: top;\n",
       "    }\n",
       "\n",
       "    .dataframe thead th {\n",
       "        text-align: right;\n",
       "    }\n",
       "</style>\n",
       "<table border=\"1\" class=\"dataframe\">\n",
       "  <thead>\n",
       "    <tr style=\"text-align: right;\">\n",
       "      <th></th>\n",
       "      <th>지역명</th>\n",
       "      <th>규모구분</th>\n",
       "      <th>연도</th>\n",
       "      <th>월</th>\n",
       "      <th>분양가격(㎡)</th>\n",
       "    </tr>\n",
       "  </thead>\n",
       "  <tbody>\n",
       "    <tr>\n",
       "      <th>0</th>\n",
       "      <td>서울</td>\n",
       "      <td>전체</td>\n",
       "      <td>2015</td>\n",
       "      <td>10</td>\n",
       "      <td>5841</td>\n",
       "    </tr>\n",
       "    <tr>\n",
       "      <th>1</th>\n",
       "      <td>서울</td>\n",
       "      <td>전용면적 60㎡이하</td>\n",
       "      <td>2015</td>\n",
       "      <td>10</td>\n",
       "      <td>5652</td>\n",
       "    </tr>\n",
       "    <tr>\n",
       "      <th>2</th>\n",
       "      <td>서울</td>\n",
       "      <td>전용면적 60㎡초과 85㎡이하</td>\n",
       "      <td>2015</td>\n",
       "      <td>10</td>\n",
       "      <td>5882</td>\n",
       "    </tr>\n",
       "    <tr>\n",
       "      <th>3</th>\n",
       "      <td>서울</td>\n",
       "      <td>전용면적 85㎡초과 102㎡이하</td>\n",
       "      <td>2015</td>\n",
       "      <td>10</td>\n",
       "      <td>5721</td>\n",
       "    </tr>\n",
       "    <tr>\n",
       "      <th>4</th>\n",
       "      <td>서울</td>\n",
       "      <td>전용면적 102㎡초과</td>\n",
       "      <td>2015</td>\n",
       "      <td>10</td>\n",
       "      <td>5879</td>\n",
       "    </tr>\n",
       "  </tbody>\n",
       "</table>\n",
       "</div>"
      ],
      "text/plain": [
       "  지역명               규모구분    연도   월 분양가격(㎡)\n",
       "0  서울                 전체  2015  10    5841\n",
       "1  서울         전용면적 60㎡이하  2015  10    5652\n",
       "2  서울   전용면적 60㎡초과 85㎡이하  2015  10    5882\n",
       "3  서울  전용면적 85㎡초과 102㎡이하  2015  10    5721\n",
       "4  서울        전용면적 102㎡초과  2015  10    5879"
      ]
     },
     "execution_count": 15,
     "metadata": {},
     "output_type": "execute_result"
    }
   ],
   "source": [
    "import pandas as pd\n",
    "df = pd.read_csv('../주택도시보증공사_전국 신규 민간 아파트 분양가격 동향_20200331.csv', encoding='MS949')\n",
    "df.head()"
   ]
  },
  {
   "cell_type": "code",
   "execution_count": 17,
   "id": "425c34a5",
   "metadata": {},
   "outputs": [],
   "source": [
    "# 1. 컬럼명 변경 : 분양가격(m2) -> 분양가격\n",
    "df.rename({'분양가격(㎡)': '분양가격'}, axis=1, inplace=True)"
   ]
  },
  {
   "cell_type": "code",
   "execution_count": 23,
   "id": "f8f30e98",
   "metadata": {},
   "outputs": [
    {
     "data": {
      "text/plain": [
       "지역명     0\n",
       "규모구분    0\n",
       "연도      0\n",
       "월       0\n",
       "분양가격    0\n",
       "dtype: int64"
      ]
     },
     "execution_count": 23,
     "metadata": {},
     "output_type": "execute_result"
    }
   ],
   "source": [
    "# 2. 결측치 확인 : 0으로 치환\n",
    "df.fillna(0, inplace=True)\n",
    "df.isnull().sum()"
   ]
  },
  {
   "cell_type": "code",
   "execution_count": 24,
   "id": "ce670abc",
   "metadata": {},
   "outputs": [
    {
     "data": {
      "text/html": [
       "<div>\n",
       "<style scoped>\n",
       "    .dataframe tbody tr th:only-of-type {\n",
       "        vertical-align: middle;\n",
       "    }\n",
       "\n",
       "    .dataframe tbody tr th {\n",
       "        vertical-align: top;\n",
       "    }\n",
       "\n",
       "    .dataframe thead th {\n",
       "        text-align: right;\n",
       "    }\n",
       "</style>\n",
       "<table border=\"1\" class=\"dataframe\">\n",
       "  <thead>\n",
       "    <tr style=\"text-align: right;\">\n",
       "      <th></th>\n",
       "      <th>연도</th>\n",
       "      <th>월</th>\n",
       "    </tr>\n",
       "  </thead>\n",
       "  <tbody>\n",
       "    <tr>\n",
       "      <th>count</th>\n",
       "      <td>4590.000000</td>\n",
       "      <td>4590.000000</td>\n",
       "    </tr>\n",
       "    <tr>\n",
       "      <th>mean</th>\n",
       "      <td>2017.500000</td>\n",
       "      <td>6.500000</td>\n",
       "    </tr>\n",
       "    <tr>\n",
       "      <th>std</th>\n",
       "      <td>1.343856</td>\n",
       "      <td>3.594368</td>\n",
       "    </tr>\n",
       "    <tr>\n",
       "      <th>min</th>\n",
       "      <td>2015.000000</td>\n",
       "      <td>1.000000</td>\n",
       "    </tr>\n",
       "    <tr>\n",
       "      <th>25%</th>\n",
       "      <td>2016.000000</td>\n",
       "      <td>3.000000</td>\n",
       "    </tr>\n",
       "    <tr>\n",
       "      <th>50%</th>\n",
       "      <td>2017.500000</td>\n",
       "      <td>6.500000</td>\n",
       "    </tr>\n",
       "    <tr>\n",
       "      <th>75%</th>\n",
       "      <td>2019.000000</td>\n",
       "      <td>10.000000</td>\n",
       "    </tr>\n",
       "    <tr>\n",
       "      <th>max</th>\n",
       "      <td>2020.000000</td>\n",
       "      <td>12.000000</td>\n",
       "    </tr>\n",
       "  </tbody>\n",
       "</table>\n",
       "</div>"
      ],
      "text/plain": [
       "                연도            월\n",
       "count  4590.000000  4590.000000\n",
       "mean   2017.500000     6.500000\n",
       "std       1.343856     3.594368\n",
       "min    2015.000000     1.000000\n",
       "25%    2016.000000     3.000000\n",
       "50%    2017.500000     6.500000\n",
       "75%    2019.000000    10.000000\n",
       "max    2020.000000    12.000000"
      ]
     },
     "execution_count": 24,
     "metadata": {},
     "output_type": "execute_result"
    }
   ],
   "source": [
    "# 3. 통계값 확인\n",
    "df.describe()"
   ]
  },
  {
   "cell_type": "code",
   "execution_count": 57,
   "id": "e2df509b",
   "metadata": {},
   "outputs": [
    {
     "name": "stdout",
     "output_type": "stream",
     "text": [
      "<class 'pandas.core.frame.DataFrame'>\n",
      "RangeIndex: 4590 entries, 0 to 4589\n",
      "Data columns (total 5 columns):\n",
      " #   Column  Non-Null Count  Dtype \n",
      "---  ------  --------------  ----- \n",
      " 0   지역명     4590 non-null   object\n",
      " 1   규모구분    4590 non-null   object\n",
      " 2   연도      4590 non-null   int64 \n",
      " 3   월       4590 non-null   int64 \n",
      " 4   분양가격    4590 non-null   object\n",
      "dtypes: int64(2), object(3)\n",
      "memory usage: 179.4+ KB\n"
     ]
    }
   ],
   "source": [
    "df.info()"
   ]
  },
  {
   "cell_type": "code",
   "execution_count": 93,
   "id": "ee6e4831",
   "metadata": {
    "scrolled": true
   },
   "outputs": [],
   "source": [
    "# 4. 분양가격 자료형을 int로 변환\n",
    "df['분양가격'] = df['분양가격'].replace('  ','0').astype(int) # 맘에는 안들지만 일단 했음"
   ]
  },
  {
   "cell_type": "code",
   "execution_count": 111,
   "id": "88996f26",
   "metadata": {},
   "outputs": [],
   "source": [
    "# 5. 규모구분에 '전용면적 ' 문자열 제거\n",
    "df['규모구분'].replace('전용면적 ', '', regex=True, inplace=True)"
   ]
  },
  {
   "cell_type": "code",
   "execution_count": 125,
   "id": "fce02eeb",
   "metadata": {},
   "outputs": [],
   "source": [
    "# 6. 분양가격이 없는 데이터(0) 삭제\n",
    "df.drop(df[df['분양가격']==0].index, inplace=True)"
   ]
  },
  {
   "cell_type": "code",
   "execution_count": 131,
   "id": "30e1738b",
   "metadata": {
    "scrolled": true
   },
   "outputs": [
    {
     "data": {
      "text/plain": [
       "지역명\n",
       "강원    2419.072797\n",
       "경기    4087.385185\n",
       "경남    2817.060606\n",
       "경북    2548.451362\n",
       "광주    3066.281106\n",
       "대구    3679.222222\n",
       "대전    3132.873239\n",
       "부산    3687.429630\n",
       "서울    7268.218519\n",
       "세종    2993.287402\n",
       "울산    3046.746914\n",
       "인천    3645.875940\n",
       "전남    2316.270677\n",
       "전북    2352.917603\n",
       "제주    3440.598291\n",
       "충남    2506.089147\n",
       "충북    2320.633333\n",
       "Name: 분양가격, dtype: float64"
      ]
     },
     "execution_count": 131,
     "metadata": {},
     "output_type": "execute_result"
    }
   ],
   "source": [
    "# 7. 지역별 평균 분양가격 확인\n",
    "df.groupby('지역명')['분양가격'].mean()"
   ]
  },
  {
   "cell_type": "code",
   "execution_count": 132,
   "id": "9bc028f7",
   "metadata": {
    "scrolled": true
   },
   "outputs": [
    {
     "data": {
      "text/plain": [
       "지역명\n",
       "강원     3906\n",
       "경기     5670\n",
       "경남     4303\n",
       "경북     3457\n",
       "광주     4881\n",
       "대구     5158\n",
       "대전     4877\n",
       "부산     4623\n",
       "서울    13835\n",
       "세종     3931\n",
       "울산     3594\n",
       "인천     5188\n",
       "전남     3692\n",
       "전북     3052\n",
       "제주     5462\n",
       "충남     3201\n",
       "충북     2855\n",
       "Name: 분양가격, dtype: int32"
      ]
     },
     "execution_count": 132,
     "metadata": {},
     "output_type": "execute_result"
    }
   ],
   "source": [
    "# 8. 지역별 가장 비싼 분양가격 확인\n",
    "df.groupby('지역명')['분양가격'].max()"
   ]
  },
  {
   "cell_type": "code",
   "execution_count": 135,
   "id": "65fb3924",
   "metadata": {},
   "outputs": [
    {
     "data": {
      "text/plain": [
       "연도\n",
       "2015    2788.707819\n",
       "2016    2934.250000\n",
       "2017    3143.311795\n",
       "2018    3326.951034\n",
       "2019    3693.422149\n",
       "2020    3856.074890\n",
       "Name: 분양가격, dtype: float64"
      ]
     },
     "execution_count": 135,
     "metadata": {},
     "output_type": "execute_result"
    }
   ],
   "source": [
    "# 9. 연도별 평균 분양가격 확인\n",
    "df.groupby('연도')['분양가격'].mean()"
   ]
  },
  {
   "cell_type": "code",
   "execution_count": 136,
   "id": "e4a9da6c",
   "metadata": {},
   "outputs": [
    {
     "data": {
      "text/plain": [
       "연도    규모구분        \n",
       "2015  102㎡초과          2980.977778\n",
       "      60㎡이하           2712.583333\n",
       "      60㎡초과 85㎡이하     2694.490196\n",
       "      85㎡초과 102㎡이하    2884.395833\n",
       "      전체              2694.862745\n",
       "2016  102㎡초과          3148.099476\n",
       "      60㎡이하           2848.144279\n",
       "      60㎡초과 85㎡이하     2816.965686\n",
       "      85㎡초과 102㎡이하    3067.380435\n",
       "      전체              2816.073529\n",
       "2017  102㎡초과          3427.649746\n",
       "      60㎡이하           3112.538071\n",
       "      60㎡초과 85㎡이하     2981.950980\n",
       "      85㎡초과 102㎡이하    3204.075145\n",
       "      전체              3008.279412\n",
       "2018  102㎡초과          3468.355932\n",
       "      60㎡이하           3286.184783\n",
       "      60㎡초과 85㎡이하     3227.458128\n",
       "      85㎡초과 102㎡이하    3467.184211\n",
       "      전체              3235.098522\n",
       "2019  102㎡초과          4039.854839\n",
       "      60㎡이하           3486.910112\n",
       "      60㎡초과 85㎡이하     3538.545918\n",
       "      85㎡초과 102㎡이하    3933.538462\n",
       "      전체              3515.974490\n",
       "2020  102㎡초과          4197.090909\n",
       "      60㎡이하           3626.500000\n",
       "      60㎡초과 85㎡이하     3593.117647\n",
       "      85㎡초과 102㎡이하    4537.757576\n",
       "      전체              3599.803922\n",
       "Name: 분양가격, dtype: float64"
      ]
     },
     "execution_count": 136,
     "metadata": {},
     "output_type": "execute_result"
    }
   ],
   "source": [
    "# 10. 연도별 규모구분별 분양가격 확인\n",
    "# 방법 1\n",
    "df.groupby(['연도','규모구분'])['분양가격'].mean()"
   ]
  },
  {
   "cell_type": "code",
   "execution_count": 140,
   "id": "dd964e53",
   "metadata": {},
   "outputs": [
    {
     "data": {
      "text/html": [
       "<div>\n",
       "<style scoped>\n",
       "    .dataframe tbody tr th:only-of-type {\n",
       "        vertical-align: middle;\n",
       "    }\n",
       "\n",
       "    .dataframe tbody tr th {\n",
       "        vertical-align: top;\n",
       "    }\n",
       "\n",
       "    .dataframe thead th {\n",
       "        text-align: right;\n",
       "    }\n",
       "</style>\n",
       "<table border=\"1\" class=\"dataframe\">\n",
       "  <thead>\n",
       "    <tr style=\"text-align: right;\">\n",
       "      <th>규모구분</th>\n",
       "      <th>102㎡초과</th>\n",
       "      <th>60㎡이하</th>\n",
       "      <th>60㎡초과 85㎡이하</th>\n",
       "      <th>85㎡초과 102㎡이하</th>\n",
       "      <th>전체</th>\n",
       "    </tr>\n",
       "    <tr>\n",
       "      <th>연도</th>\n",
       "      <th></th>\n",
       "      <th></th>\n",
       "      <th></th>\n",
       "      <th></th>\n",
       "      <th></th>\n",
       "    </tr>\n",
       "  </thead>\n",
       "  <tbody>\n",
       "    <tr>\n",
       "      <th>2015</th>\n",
       "      <td>2980.98</td>\n",
       "      <td>2712.58</td>\n",
       "      <td>2694.49</td>\n",
       "      <td>2884.40</td>\n",
       "      <td>2694.86</td>\n",
       "    </tr>\n",
       "    <tr>\n",
       "      <th>2016</th>\n",
       "      <td>3148.10</td>\n",
       "      <td>2848.14</td>\n",
       "      <td>2816.97</td>\n",
       "      <td>3067.38</td>\n",
       "      <td>2816.07</td>\n",
       "    </tr>\n",
       "    <tr>\n",
       "      <th>2017</th>\n",
       "      <td>3427.65</td>\n",
       "      <td>3112.54</td>\n",
       "      <td>2981.95</td>\n",
       "      <td>3204.08</td>\n",
       "      <td>3008.28</td>\n",
       "    </tr>\n",
       "    <tr>\n",
       "      <th>2018</th>\n",
       "      <td>3468.36</td>\n",
       "      <td>3286.18</td>\n",
       "      <td>3227.46</td>\n",
       "      <td>3467.18</td>\n",
       "      <td>3235.10</td>\n",
       "    </tr>\n",
       "    <tr>\n",
       "      <th>2019</th>\n",
       "      <td>4039.85</td>\n",
       "      <td>3486.91</td>\n",
       "      <td>3538.55</td>\n",
       "      <td>3933.54</td>\n",
       "      <td>3515.97</td>\n",
       "    </tr>\n",
       "    <tr>\n",
       "      <th>2020</th>\n",
       "      <td>4197.09</td>\n",
       "      <td>3626.50</td>\n",
       "      <td>3593.12</td>\n",
       "      <td>4537.76</td>\n",
       "      <td>3599.80</td>\n",
       "    </tr>\n",
       "  </tbody>\n",
       "</table>\n",
       "</div>"
      ],
      "text/plain": [
       "규모구분   102㎡초과    60㎡이하  60㎡초과 85㎡이하  85㎡초과 102㎡이하       전체\n",
       "연도                                                        \n",
       "2015  2980.98  2712.58      2694.49       2884.40  2694.86\n",
       "2016  3148.10  2848.14      2816.97       3067.38  2816.07\n",
       "2017  3427.65  3112.54      2981.95       3204.08  3008.28\n",
       "2018  3468.36  3286.18      3227.46       3467.18  3235.10\n",
       "2019  4039.85  3486.91      3538.55       3933.54  3515.97\n",
       "2020  4197.09  3626.50      3593.12       4537.76  3599.80"
      ]
     },
     "execution_count": 140,
     "metadata": {},
     "output_type": "execute_result"
    }
   ],
   "source": [
    "# 방법 2\n",
    "import numpy as np\n",
    "pd.pivot_table(df, index='연도', columns='규모구분', values='분양가격').round(2)\n",
    "pd.pivot_table(df, index='연도', columns='규모구분', values='분양가격', aggfunc=lambda p: round(np.mean(p), 2))"
   ]
  },
  {
   "cell_type": "code",
   "execution_count": null,
   "id": "11c85bfa",
   "metadata": {},
   "outputs": [],
   "source": []
  }
 ],
 "metadata": {
  "kernelspec": {
   "display_name": "Python 3 (ipykernel)",
   "language": "python",
   "name": "python3"
  },
  "language_info": {
   "codemirror_mode": {
    "name": "ipython",
    "version": 3
   },
   "file_extension": ".py",
   "mimetype": "text/x-python",
   "name": "python",
   "nbconvert_exporter": "python",
   "pygments_lexer": "ipython3",
   "version": "3.9.12"
  }
 },
 "nbformat": 4,
 "nbformat_minor": 5
}
