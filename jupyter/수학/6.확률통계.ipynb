{
 "cells": [
  {
   "cell_type": "code",
   "execution_count": 58,
   "id": "95264c13",
   "metadata": {},
   "outputs": [],
   "source": [
    "import numpy as np\n",
    "import matplotlib.pyplot as plt"
   ]
  },
  {
   "cell_type": "code",
   "execution_count": 5,
   "id": "c3105635",
   "metadata": {},
   "outputs": [
    {
     "name": "stdout",
     "output_type": "stream",
     "text": [
      "<class 'set'> {1, 2, 3}\n"
     ]
    }
   ],
   "source": [
    "# 집합\n",
    "A = {1, 2, 3, 2} # Set : 중복이 허용 안됨\n",
    "print(type(A), A)"
   ]
  },
  {
   "cell_type": "code",
   "execution_count": 6,
   "id": "2c44bd3f",
   "metadata": {},
   "outputs": [
    {
     "ename": "TypeError",
     "evalue": "unhashable type: 'set'",
     "output_type": "error",
     "traceback": [
      "\u001b[1;31m---------------------------------------------------------------------------\u001b[0m",
      "\u001b[1;31mTypeError\u001b[0m                                 Traceback (most recent call last)",
      "Input \u001b[1;32mIn [6]\u001b[0m, in \u001b[0;36m<cell line: 1>\u001b[1;34m()\u001b[0m\n\u001b[1;32m----> 1\u001b[0m d \u001b[38;5;241m=\u001b[39m {A:\u001b[38;5;241m1\u001b[39m}\n",
      "\u001b[1;31mTypeError\u001b[0m: unhashable type: 'set'"
     ]
    }
   ],
   "source": [
    "d = {A:1} # set은 mutable하기때문에 딕셔너리의 키에 사용할 수 없다"
   ]
  },
  {
   "cell_type": "code",
   "execution_count": 7,
   "id": "ae9b1e99",
   "metadata": {},
   "outputs": [
    {
     "data": {
      "text/plain": [
       "frozenset"
      ]
     },
     "execution_count": 7,
     "metadata": {},
     "output_type": "execute_result"
    }
   ],
   "source": [
    "B = frozenset({1,2,3}) # immutable 자료형\n",
    "type(B)"
   ]
  },
  {
   "cell_type": "code",
   "execution_count": 8,
   "id": "23a3a548",
   "metadata": {},
   "outputs": [],
   "source": [
    "d = {B:1} # 딕셔너리의 키로 사용 가능"
   ]
  },
  {
   "cell_type": "code",
   "execution_count": 9,
   "id": "2916ba09",
   "metadata": {},
   "outputs": [],
   "source": [
    "C = (1,2,3)\n",
    "d = {C : 1} # 튜플도 키로 사용가능 (immutable)"
   ]
  },
  {
   "cell_type": "code",
   "execution_count": 10,
   "id": "aa5d3d30",
   "metadata": {},
   "outputs": [],
   "source": [
    "A = {1,2,3,4}\n",
    "B = {2,4,6}"
   ]
  },
  {
   "cell_type": "code",
   "execution_count": 11,
   "id": "20b67430",
   "metadata": {},
   "outputs": [
    {
     "data": {
      "text/plain": [
       "{1, 2, 3, 4, 6}"
      ]
     },
     "execution_count": 11,
     "metadata": {},
     "output_type": "execute_result"
    }
   ],
   "source": [
    "# 합집합\n",
    "A.union(B)"
   ]
  },
  {
   "cell_type": "code",
   "execution_count": 12,
   "id": "86af4039",
   "metadata": {},
   "outputs": [
    {
     "data": {
      "text/plain": [
       "{1, 2, 3, 4, 6}"
      ]
     },
     "execution_count": 12,
     "metadata": {},
     "output_type": "execute_result"
    }
   ],
   "source": [
    "A | B  # 논리연산자 |도 합집합처럼 사용될 수 있음"
   ]
  },
  {
   "cell_type": "code",
   "execution_count": 13,
   "id": "3f466f62",
   "metadata": {},
   "outputs": [
    {
     "data": {
      "text/plain": [
       "{2, 4}"
      ]
     },
     "execution_count": 13,
     "metadata": {},
     "output_type": "execute_result"
    }
   ],
   "source": [
    "# 교집합\n",
    "A.intersection(B)"
   ]
  },
  {
   "cell_type": "code",
   "execution_count": 16,
   "id": "d104d059",
   "metadata": {},
   "outputs": [
    {
     "data": {
      "text/plain": [
       "{2, 4}"
      ]
     },
     "execution_count": 16,
     "metadata": {},
     "output_type": "execute_result"
    }
   ],
   "source": [
    "A & B # 논리연산자 &도 교집합처럼 사용 가능"
   ]
  },
  {
   "cell_type": "code",
   "execution_count": 17,
   "id": "87edde7f",
   "metadata": {},
   "outputs": [
    {
     "data": {
      "text/plain": [
       "True"
      ]
     },
     "execution_count": 17,
     "metadata": {},
     "output_type": "execute_result"
    }
   ],
   "source": [
    "# 부분집합\n",
    "A = {1,2,3}\n",
    "B = {1,2}\n",
    "B.issubset(A) # A의 부분집합인지 물어보는 함수"
   ]
  },
  {
   "cell_type": "code",
   "execution_count": 18,
   "id": "15c9c087",
   "metadata": {},
   "outputs": [
    {
     "data": {
      "text/plain": [
       "True"
      ]
     },
     "execution_count": 18,
     "metadata": {},
     "output_type": "execute_result"
    }
   ],
   "source": [
    "A.issubset(A)"
   ]
  },
  {
   "cell_type": "code",
   "execution_count": 21,
   "id": "272200c5",
   "metadata": {},
   "outputs": [
    {
     "data": {
      "text/plain": [
       "(True, True)"
      ]
     },
     "execution_count": 21,
     "metadata": {},
     "output_type": "execute_result"
    }
   ],
   "source": [
    "B <= A, A <= A # 비교연산자로도 부분집합 여부를 확인할 수 있음"
   ]
  },
  {
   "cell_type": "code",
   "execution_count": 22,
   "id": "fa6deea8",
   "metadata": {},
   "outputs": [
    {
     "data": {
      "text/plain": [
       "(False, True)"
      ]
     },
     "execution_count": 22,
     "metadata": {},
     "output_type": "execute_result"
    }
   ],
   "source": [
    "A < A, B < A"
   ]
  },
  {
   "cell_type": "code",
   "execution_count": 23,
   "id": "d5f6e8b6",
   "metadata": {},
   "outputs": [
    {
     "data": {
      "text/plain": [
       "{3}"
      ]
     },
     "execution_count": 23,
     "metadata": {},
     "output_type": "execute_result"
    }
   ],
   "source": [
    "# 차집합\n",
    "A.difference(B)"
   ]
  },
  {
   "cell_type": "code",
   "execution_count": 24,
   "id": "eaff9f11",
   "metadata": {},
   "outputs": [
    {
     "data": {
      "text/plain": [
       "{3}"
      ]
     },
     "execution_count": 24,
     "metadata": {},
     "output_type": "execute_result"
    }
   ],
   "source": [
    "A-B"
   ]
  },
  {
   "cell_type": "code",
   "execution_count": 27,
   "id": "0f7a63b8",
   "metadata": {},
   "outputs": [
    {
     "data": {
      "text/plain": [
       "True"
      ]
     },
     "execution_count": 27,
     "metadata": {},
     "output_type": "execute_result"
    }
   ],
   "source": [
    "# 공집합\n",
    "e = set()\n",
    "e < A"
   ]
  },
  {
   "cell_type": "code",
   "execution_count": 28,
   "id": "2640852d",
   "metadata": {},
   "outputs": [
    {
     "data": {
      "text/plain": [
       "set()"
      ]
     },
     "execution_count": 28,
     "metadata": {},
     "output_type": "execute_result"
    }
   ],
   "source": [
    "e & A"
   ]
  },
  {
   "cell_type": "code",
   "execution_count": 29,
   "id": "b29f38e7",
   "metadata": {},
   "outputs": [
    {
     "data": {
      "text/plain": [
       "{1, 2, 3}"
      ]
     },
     "execution_count": 29,
     "metadata": {},
     "output_type": "execute_result"
    }
   ],
   "source": [
    "e | A"
   ]
  },
  {
   "cell_type": "code",
   "execution_count": 30,
   "id": "07041c05",
   "metadata": {},
   "outputs": [
    {
     "data": {
      "text/plain": [
       "(True, True, True)"
      ]
     },
     "execution_count": 30,
     "metadata": {},
     "output_type": "execute_result"
    }
   ],
   "source": [
    "# 동전\n",
    "C = frozenset({'H', 'T'})\n",
    "set() <= C, C <= C, set('H') <= C"
   ]
  },
  {
   "cell_type": "code",
   "execution_count": 36,
   "id": "8390c14f",
   "metadata": {},
   "outputs": [
    {
     "data": {
      "text/plain": [
       "0.1111111111111111"
      ]
     },
     "execution_count": 36,
     "metadata": {},
     "output_type": "execute_result"
    }
   ],
   "source": [
    "'''\n",
    "A : 두 주사위의 눈의 합이 8 이상\n",
    "B : 첫번째 주사위가 5\n",
    "'''\n",
    "# 결합확률 1/6 * 4/6 = 1/9\n",
    "# 조건부확률 : (1/9) / (1/6) = 2/3"
   ]
  },
  {
   "cell_type": "code",
   "execution_count": 35,
   "id": "11e8534f",
   "metadata": {},
   "outputs": [
    {
     "data": {
      "text/plain": [
       "0.6666666666666666"
      ]
     },
     "execution_count": 35,
     "metadata": {},
     "output_type": "execute_result"
    }
   ],
   "source": [
    "(1/9) / (1/6)"
   ]
  },
  {
   "cell_type": "code",
   "execution_count": 43,
   "id": "cb22d074",
   "metadata": {},
   "outputs": [
    {
     "name": "stdout",
     "output_type": "stream",
     "text": [
      "0.005\n",
      "0.495\n",
      "0.45\n",
      "0.05\n"
     ]
    }
   ],
   "source": [
    "# 아이폰, 안드로이드\n",
    "# 사전확률\n",
    "i = 0.5 # 아이폰\n",
    "a = 0.5 # 안드로이드\n",
    "\n",
    "# likelihood(가능성)\n",
    "# 안드로이드 + 애플워치\n",
    "a_o = 0.01\n",
    "a_x = 0.99\n",
    "# 안드로이드 사용자이면서 애플워치를 차고있을 확률\n",
    "print(a * a_o)\n",
    "# 안드로이드 사용자이면서 애플워치가 아닐 확률\n",
    "print(a * a_x)\n",
    "\n",
    "# 아이폰 + 애플워치\n",
    "i_o = 0.9\n",
    "i_x = 0.1\n",
    "# 아이폰 사용자이면서 애플워치를 차고있을 확률\n",
    "print(i * i_o)\n",
    "# 아이폰 사용자이면서 애플워치가 아닐 확률\n",
    "print(i * i_x)"
   ]
  },
  {
   "cell_type": "code",
   "execution_count": 44,
   "id": "bbe2a10b",
   "metadata": {},
   "outputs": [
    {
     "data": {
      "text/plain": [
       "0.010989010989010988"
      ]
     },
     "execution_count": 44,
     "metadata": {},
     "output_type": "execute_result"
    }
   ],
   "source": [
    "# likelihood를 기준으로 사후확률\n",
    "# 애플워치 사용자이면서 안드로이드 사용자일 확률?\n",
    "# 애플워치 사용자 중에 안드로이드 사용자 : 0.005\n",
    "# 애플워치 사용자 중에 아이폰 사용자 : 0.45\n",
    "0.005 / (0.005  + 0.45)"
   ]
  },
  {
   "cell_type": "code",
   "execution_count": 45,
   "id": "3179d1f2",
   "metadata": {},
   "outputs": [
    {
     "data": {
      "text/plain": [
       "0.989010989010989"
      ]
     },
     "execution_count": 45,
     "metadata": {},
     "output_type": "execute_result"
    }
   ],
   "source": [
    "# 애플워치 사용자이면서 아이폰 사용자일 확률\n",
    "0.45 / (0.005 + 0.45)"
   ]
  },
  {
   "cell_type": "code",
   "execution_count": 47,
   "id": "40d905d0",
   "metadata": {},
   "outputs": [
    {
     "data": {
      "text/plain": [
       "0.9082568807339448"
      ]
     },
     "execution_count": 47,
     "metadata": {},
     "output_type": "execute_result"
    }
   ],
   "source": [
    "# 애플워치 사용자가 아니면서 안드로이드 사용자일 확률\n",
    "0.495/(0.495 + 0.05)"
   ]
  },
  {
   "cell_type": "code",
   "execution_count": 49,
   "id": "656705e7",
   "metadata": {},
   "outputs": [
    {
     "data": {
      "text/plain": [
       "0.09174311926605505"
      ]
     },
     "execution_count": 49,
     "metadata": {},
     "output_type": "execute_result"
    }
   ],
   "source": [
    "# 애플워치 사용자가 아니면서 아이폰 사용자일 확률\n",
    "0.05 / (0.495 + 0.05)"
   ]
  },
  {
   "cell_type": "code",
   "execution_count": 50,
   "id": "b46b4906",
   "metadata": {},
   "outputs": [
    {
     "data": {
      "text/plain": [
       "0.6405228758169934"
      ]
     },
     "execution_count": 50,
     "metadata": {},
     "output_type": "execute_result"
    }
   ],
   "source": [
    "98/153"
   ]
  },
  {
   "cell_type": "code",
   "execution_count": 51,
   "id": "082be760",
   "metadata": {},
   "outputs": [],
   "source": [
    "import scipy as sp\n",
    "import scipy.stats\n"
   ]
  },
  {
   "cell_type": "code",
   "execution_count": 59,
   "id": "9404df31",
   "metadata": {},
   "outputs": [
    {
     "data": {
      "text/plain": [
       "<BarContainer object of 2 artists>"
      ]
     },
     "execution_count": 59,
     "metadata": {},
     "output_type": "execute_result"
    },
    {
     "data": {
      "image/png": "[encoded data removed]",
      "text/plain": [
       "<Figure size 432x288 with 1 Axes>"
      ]
     },
     "metadata": {
      "needs_background": "light"
     },
     "output_type": "display_data"
    }
   ],
   "source": [
    "# 베르누이 분포\n",
    "# 동전확률\n",
    "m = 0.5\n",
    "rv = sp.stats.bernoulli(m)\n",
    "# 확률질량함수\n",
    "plt.bar([0,1], rv.pmf([0, 1]))"
   ]
  },
  {
   "cell_type": "code",
   "execution_count": 62,
   "id": "8231fb6f",
   "metadata": {},
   "outputs": [
    {
     "data": {
      "image/png": "[encoded data removed]",
      "text/plain": [
       "<Figure size 432x288 with 1 Axes>"
      ]
     },
     "metadata": {
      "needs_background": "light"
     },
     "output_type": "display_data"
    }
   ],
   "source": [
    "# 이항분포\n",
    "rv = sp.stats.binom(10, 0.5)\n",
    "x = np.arange(10)\n",
    "plt.bar(x, rv.pmf(x))\n",
    "plt.show()"
   ]
  },
  {
   "cell_type": "code",
   "execution_count": 63,
   "id": "27776071",
   "metadata": {},
   "outputs": [
    {
     "data": {
      "text/plain": [
       "array([0.00097656, 0.00976563, 0.04394531, 0.1171875 , 0.20507812,\n",
       "       0.24609375, 0.20507812, 0.1171875 , 0.04394531, 0.00976563])"
      ]
     },
     "execution_count": 63,
     "metadata": {},
     "output_type": "execute_result"
    }
   ],
   "source": [
    "rv.pmf(x) # 0번나올확률, 1번나올확률, 2번나올확률"
   ]
  },
  {
   "cell_type": "code",
   "execution_count": 87,
   "id": "a9d215d5",
   "metadata": {},
   "outputs": [
    {
     "data": {
      "image/png": "[encoded data removed]",
      "text/plain": [
       "<Figure size 432x288 with 1 Axes>"
      ]
     },
     "metadata": {
      "needs_background": "light"
     },
     "output_type": "display_data"
    }
   ],
   "source": [
    "# 다항분포\n",
    "N = 100\n",
    "m = [0.2, 0.2, 0.2, 0.2 , 0.1, 0.1]\n",
    "rv = sp.stats.multinomial(N, m)\n",
    "rv.rvs(100) # random value sample\n",
    "plt.boxplot(rv.rvs(100))\n",
    "plt.show()"
   ]
  },
  {
   "cell_type": "code",
   "execution_count": 90,
   "id": "f150436f",
   "metadata": {},
   "outputs": [
    {
     "data": {
      "image/png": "[encoded data removed]",
      "text/plain": [
       "<Figure size 432x288 with 1 Axes>"
      ]
     },
     "metadata": {
      "needs_background": "light"
     },
     "output_type": "display_data"
    }
   ],
   "source": [
    "# 정규분포\n",
    "m = 0\n",
    "std = 1\n",
    "rv = sp.stats.norm(m, std)\n",
    "x = np.linspace(-5, 5, 100)\n",
    "plt.plot(x, rv.pdf(x))\n",
    "plt.show()"
   ]
  },
  {
   "cell_type": "code",
   "execution_count": 98,
   "id": "8958f541",
   "metadata": {},
   "outputs": [
    {
     "data": {
      "text/plain": [
       "(array([10.,  5., 10., 12.,  9., 10., 11.,  8., 10., 15.]),\n",
       " array([0.003475  , 0.09993057, 0.19638614, 0.29284171, 0.38929728,\n",
       "        0.48575284, 0.58220841, 0.67866398, 0.77511955, 0.87157512,\n",
       "        0.96803069]),\n",
       " <BarContainer object of 10 artists>)"
      ]
     },
     "execution_count": 98,
     "metadata": {},
     "output_type": "execute_result"
    },
    {
     "data": {
      "image/png": "[encoded data removed]",
      "text/plain": [
       "<Figure size 432x288 with 1 Axes>"
      ]
     },
     "metadata": {
      "needs_background": "light"
     },
     "output_type": "display_data"
    }
   ],
   "source": [
    "plt.hist(sp.stats.uniform().rvs(100))"
   ]
  },
  {
   "cell_type": "code",
   "execution_count": 119,
   "id": "6fdec579",
   "metadata": {},
   "outputs": [
    {
     "data": {
      "image/png": "[encoded data removed]",
      "text/plain": [
       "<Figure size 432x288 with 1 Axes>"
      ]
     },
     "metadata": {
      "needs_background": "light"
     },
     "output_type": "display_data"
    }
   ],
   "source": [
    "# 중심극한정리\n",
    "m = []\n",
    "for _ in range(1000):   # _ : 사용하지 않을 변수에 주로 사용함\n",
    "    m.append(sp.stats.uniform().rvs(100).mean())\n",
    "    \n",
    "plt.hist(m)\n",
    "plt.show()"
   ]
  },
  {
   "cell_type": "code",
   "execution_count": 120,
   "id": "bec3de99",
   "metadata": {},
   "outputs": [],
   "source": [
    "# 가능도 함수\n",
    "def f(m):\n",
    "    return (1/np.sqrt(2*np.pi*1)**3 * np.exp(-1*((m-1)**2 + (m-2)**2 + (m-3)**2)/(2*1)))"
   ]
  },
  {
   "cell_type": "code",
   "execution_count": 122,
   "id": "00984c58",
   "metadata": {},
   "outputs": [
    {
     "data": {
      "image/png": "[encoded data removed]",
      "text/plain": [
       "<Figure size 432x288 with 1 Axes>"
      ]
     },
     "metadata": {
      "needs_background": "light"
     },
     "output_type": "display_data"
    }
   ],
   "source": [
    "x = np.linspace(-1, 5, 100)\n",
    "plt.plot(x, f(x))\n",
    "plt.show()"
   ]
  },
  {
   "cell_type": "code",
   "execution_count": 123,
   "id": "596ef950",
   "metadata": {},
   "outputs": [
    {
     "data": {
      "text/plain": [
       "array([-1.        , -0.93939394, -0.87878788, -0.81818182, -0.75757576,\n",
       "       -0.6969697 , -0.63636364, -0.57575758, -0.51515152, -0.45454545,\n",
       "       -0.39393939, -0.33333333, -0.27272727, -0.21212121, -0.15151515,\n",
       "       -0.09090909, -0.03030303,  0.03030303,  0.09090909,  0.15151515,\n",
       "        0.21212121,  0.27272727,  0.33333333,  0.39393939,  0.45454545,\n",
       "        0.51515152,  0.57575758,  0.63636364,  0.6969697 ,  0.75757576,\n",
       "        0.81818182,  0.87878788,  0.93939394,  1.        ,  1.06060606,\n",
       "        1.12121212,  1.18181818,  1.24242424,  1.3030303 ,  1.36363636,\n",
       "        1.42424242,  1.48484848,  1.54545455,  1.60606061,  1.66666667,\n",
       "        1.72727273,  1.78787879,  1.84848485,  1.90909091,  1.96969697,\n",
       "        2.03030303,  2.09090909,  2.15151515,  2.21212121,  2.27272727,\n",
       "        2.33333333,  2.39393939,  2.45454545,  2.51515152,  2.57575758,\n",
       "        2.63636364,  2.6969697 ,  2.75757576,  2.81818182,  2.87878788,\n",
       "        2.93939394,  3.        ,  3.06060606,  3.12121212,  3.18181818,\n",
       "        3.24242424,  3.3030303 ,  3.36363636,  3.42424242,  3.48484848,\n",
       "        3.54545455,  3.60606061,  3.66666667,  3.72727273,  3.78787879,\n",
       "        3.84848485,  3.90909091,  3.96969697,  4.03030303,  4.09090909,\n",
       "        4.15151515,  4.21212121,  4.27272727,  4.33333333,  4.39393939,\n",
       "        4.45454545,  4.51515152,  4.57575758,  4.63636364,  4.6969697 ,\n",
       "        4.75757576,  4.81818182,  4.87878788,  4.93939394,  5.        ])"
      ]
     },
     "execution_count": 123,
     "metadata": {},
     "output_type": "execute_result"
    }
   ],
   "source": [
    "x"
   ]
  }
 ],
 "metadata": {
  "kernelspec": {
   "display_name": "Python 3 (ipykernel)",
   "language": "python",
   "name": "python3"
  },
  "language_info": {
   "codemirror_mode": {
    "name": "ipython",
    "version": 3
   },
   "file_extension": ".py",
   "mimetype": "text/x-python",
   "name": "python",
   "nbconvert_exporter": "python",
   "pygments_lexer": "ipython3",
   "version": "3.9.12"
  }
 },
 "nbformat": 4,
 "nbformat_minor": 5
}
