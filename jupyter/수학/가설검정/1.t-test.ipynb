{
 "cells": [
  {
   "cell_type": "code",
   "execution_count": 1,
   "id": "10a33b9c",
   "metadata": {},
   "outputs": [],
   "source": [
    "import pandas as pd\n",
    "import numpy as np\n",
    "import scipy as sp\n",
    "import scipy.stats"
   ]
  },
  {
   "cell_type": "code",
   "execution_count": 2,
   "id": "d818c81c",
   "metadata": {},
   "outputs": [],
   "source": [
    "df = pd.read_csv(\"../../데이터수집/data/반별_점수_type1.csv\", encoding='ms949')"
   ]
  },
  {
   "cell_type": "code",
   "execution_count": 3,
   "id": "c45f5a69",
   "metadata": {
    "collapsed": true
   },
   "outputs": [
    {
     "data": {
      "text/html": [
       "<div>\n",
       "<style scoped>\n",
       "    .dataframe tbody tr th:only-of-type {\n",
       "        vertical-align: middle;\n",
       "    }\n",
       "\n",
       "    .dataframe tbody tr th {\n",
       "        vertical-align: top;\n",
       "    }\n",
       "\n",
       "    .dataframe thead th {\n",
       "        text-align: right;\n",
       "    }\n",
       "</style>\n",
       "<table border=\"1\" class=\"dataframe\">\n",
       "  <thead>\n",
       "    <tr style=\"text-align: right;\">\n",
       "      <th></th>\n",
       "      <th>반</th>\n",
       "      <th>점수</th>\n",
       "    </tr>\n",
       "  </thead>\n",
       "  <tbody>\n",
       "    <tr>\n",
       "      <th>0</th>\n",
       "      <td>A</td>\n",
       "      <td>73</td>\n",
       "    </tr>\n",
       "    <tr>\n",
       "      <th>1</th>\n",
       "      <td>A</td>\n",
       "      <td>69</td>\n",
       "    </tr>\n",
       "    <tr>\n",
       "      <th>2</th>\n",
       "      <td>A</td>\n",
       "      <td>71</td>\n",
       "    </tr>\n",
       "    <tr>\n",
       "      <th>3</th>\n",
       "      <td>A</td>\n",
       "      <td>71</td>\n",
       "    </tr>\n",
       "    <tr>\n",
       "      <th>4</th>\n",
       "      <td>A</td>\n",
       "      <td>73</td>\n",
       "    </tr>\n",
       "    <tr>\n",
       "      <th>5</th>\n",
       "      <td>A</td>\n",
       "      <td>67</td>\n",
       "    </tr>\n",
       "    <tr>\n",
       "      <th>6</th>\n",
       "      <td>A</td>\n",
       "      <td>73</td>\n",
       "    </tr>\n",
       "    <tr>\n",
       "      <th>7</th>\n",
       "      <td>A</td>\n",
       "      <td>69</td>\n",
       "    </tr>\n",
       "    <tr>\n",
       "      <th>8</th>\n",
       "      <td>A</td>\n",
       "      <td>62</td>\n",
       "    </tr>\n",
       "    <tr>\n",
       "      <th>9</th>\n",
       "      <td>A</td>\n",
       "      <td>74</td>\n",
       "    </tr>\n",
       "    <tr>\n",
       "      <th>10</th>\n",
       "      <td>A</td>\n",
       "      <td>68</td>\n",
       "    </tr>\n",
       "    <tr>\n",
       "      <th>11</th>\n",
       "      <td>A</td>\n",
       "      <td>66</td>\n",
       "    </tr>\n",
       "    <tr>\n",
       "      <th>12</th>\n",
       "      <td>A</td>\n",
       "      <td>70</td>\n",
       "    </tr>\n",
       "    <tr>\n",
       "      <th>13</th>\n",
       "      <td>A</td>\n",
       "      <td>82</td>\n",
       "    </tr>\n",
       "    <tr>\n",
       "      <th>14</th>\n",
       "      <td>A</td>\n",
       "      <td>70</td>\n",
       "    </tr>\n",
       "    <tr>\n",
       "      <th>15</th>\n",
       "      <td>A</td>\n",
       "      <td>65</td>\n",
       "    </tr>\n",
       "    <tr>\n",
       "      <th>16</th>\n",
       "      <td>A</td>\n",
       "      <td>76</td>\n",
       "    </tr>\n",
       "    <tr>\n",
       "      <th>17</th>\n",
       "      <td>A</td>\n",
       "      <td>73</td>\n",
       "    </tr>\n",
       "    <tr>\n",
       "      <th>18</th>\n",
       "      <td>A</td>\n",
       "      <td>58</td>\n",
       "    </tr>\n",
       "    <tr>\n",
       "      <th>19</th>\n",
       "      <td>A</td>\n",
       "      <td>81</td>\n",
       "    </tr>\n",
       "    <tr>\n",
       "      <th>20</th>\n",
       "      <td>B</td>\n",
       "      <td>63</td>\n",
       "    </tr>\n",
       "    <tr>\n",
       "      <th>21</th>\n",
       "      <td>B</td>\n",
       "      <td>56</td>\n",
       "    </tr>\n",
       "    <tr>\n",
       "      <th>22</th>\n",
       "      <td>B</td>\n",
       "      <td>73</td>\n",
       "    </tr>\n",
       "    <tr>\n",
       "      <th>23</th>\n",
       "      <td>B</td>\n",
       "      <td>61</td>\n",
       "    </tr>\n",
       "    <tr>\n",
       "      <th>24</th>\n",
       "      <td>B</td>\n",
       "      <td>55</td>\n",
       "    </tr>\n",
       "    <tr>\n",
       "      <th>25</th>\n",
       "      <td>B</td>\n",
       "      <td>77</td>\n",
       "    </tr>\n",
       "    <tr>\n",
       "      <th>26</th>\n",
       "      <td>B</td>\n",
       "      <td>75</td>\n",
       "    </tr>\n",
       "    <tr>\n",
       "      <th>27</th>\n",
       "      <td>B</td>\n",
       "      <td>65</td>\n",
       "    </tr>\n",
       "    <tr>\n",
       "      <th>28</th>\n",
       "      <td>B</td>\n",
       "      <td>61</td>\n",
       "    </tr>\n",
       "    <tr>\n",
       "      <th>29</th>\n",
       "      <td>B</td>\n",
       "      <td>55</td>\n",
       "    </tr>\n",
       "  </tbody>\n",
       "</table>\n",
       "</div>"
      ],
      "text/plain": [
       "    반  점수\n",
       "0   A  73\n",
       "1   A  69\n",
       "2   A  71\n",
       "3   A  71\n",
       "4   A  73\n",
       "5   A  67\n",
       "6   A  73\n",
       "7   A  69\n",
       "8   A  62\n",
       "9   A  74\n",
       "10  A  68\n",
       "11  A  66\n",
       "12  A  70\n",
       "13  A  82\n",
       "14  A  70\n",
       "15  A  65\n",
       "16  A  76\n",
       "17  A  73\n",
       "18  A  58\n",
       "19  A  81\n",
       "20  B  63\n",
       "21  B  56\n",
       "22  B  73\n",
       "23  B  61\n",
       "24  B  55\n",
       "25  B  77\n",
       "26  B  75\n",
       "27  B  65\n",
       "28  B  61\n",
       "29  B  55"
      ]
     },
     "execution_count": 3,
     "metadata": {},
     "output_type": "execute_result"
    }
   ],
   "source": [
    "df"
   ]
  },
  {
   "cell_type": "code",
   "execution_count": 9,
   "id": "2ee582c2",
   "metadata": {},
   "outputs": [],
   "source": [
    "# A그룹\n",
    "gA = df[df['반']=='A']['점수'].values\n",
    "# B그룹\n",
    "gB = df[df['반']=='B']['점수'].values"
   ]
  },
  {
   "cell_type": "code",
   "execution_count": 12,
   "id": "119337fb",
   "metadata": {},
   "outputs": [
    {
     "name": "stdout",
     "output_type": "stream",
     "text": [
      "KstestResult(statistic=1.0, pvalue=0.0)\n",
      "KstestResult(statistic=1.0, pvalue=0.0)\n"
     ]
    }
   ],
   "source": [
    "# 정규성 검정(kstest)\n",
    "print(sp.stats.kstest(gA, 'norm')) # p-value < 0.05\n",
    "print(sp.stats.kstest(gB, 'norm')) # 둘 다 정규분포형태를 가진다"
   ]
  },
  {
   "cell_type": "code",
   "execution_count": 13,
   "id": "3b85b46c",
   "metadata": {},
   "outputs": [
    {
     "data": {
      "text/plain": [
       "LeveneResult(statistic=2.033067087400979, pvalue=0.164964086222101)"
      ]
     },
     "execution_count": 13,
     "metadata": {},
     "output_type": "execute_result"
    }
   ],
   "source": [
    "# 등분산 검정\n",
    "sp.stats.levene(gA, gB) # p-value가 0.05보다 크므로 등분산을 만족한다."
   ]
  },
  {
   "cell_type": "code",
   "execution_count": 14,
   "id": "6a11a996",
   "metadata": {},
   "outputs": [
    {
     "data": {
      "text/plain": [
       "(30.6475, 61.69000000000001)"
      ]
     },
     "execution_count": 14,
     "metadata": {},
     "output_type": "execute_result"
    }
   ],
   "source": [
    "np.var(gA), np.var(gB)"
   ]
  },
  {
   "cell_type": "code",
   "execution_count": 15,
   "id": "20b2f08e",
   "metadata": {},
   "outputs": [
    {
     "data": {
      "text/plain": [
       "Ttest_indResult(statistic=2.5128526794964134, pvalue=0.01801095352893767)"
      ]
     },
     "execution_count": 15,
     "metadata": {},
     "output_type": "execute_result"
    }
   ],
   "source": [
    "# t-test\n",
    "# statistic(검정통계량, t값, t통계량)이 양수면 왼쪽그룹이 더 큼\n",
    "sp.stats.ttest_ind(gA, gB, equal_var=True)"
   ]
  },
  {
   "cell_type": "code",
   "execution_count": 16,
   "id": "a3df2d57",
   "metadata": {},
   "outputs": [],
   "source": [
    "# 결론 : p-value가 0.05보다 작으므로 대립가설(A반 평균점수가 더 높다) 채택"
   ]
  },
  {
   "cell_type": "markdown",
   "id": "78044bb0",
   "metadata": {},
   "source": [
    "### 실습\n",
    "* htest01.csv\n",
    "* 그룹 분리\n",
    "* 그룹별 평균\n",
    "* 가설설정\n",
    "* 정규성 검정\n",
    "* 등분산 검정\n",
    "* t검정\n",
    "* 결론"
   ]
  },
  {
   "cell_type": "code",
   "execution_count": 17,
   "id": "501b2c67",
   "metadata": {},
   "outputs": [
    {
     "data": {
      "text/html": [
       "<div>\n",
       "<style scoped>\n",
       "    .dataframe tbody tr th:only-of-type {\n",
       "        vertical-align: middle;\n",
       "    }\n",
       "\n",
       "    .dataframe tbody tr th {\n",
       "        vertical-align: top;\n",
       "    }\n",
       "\n",
       "    .dataframe thead th {\n",
       "        text-align: right;\n",
       "    }\n",
       "</style>\n",
       "<table border=\"1\" class=\"dataframe\">\n",
       "  <thead>\n",
       "    <tr style=\"text-align: right;\">\n",
       "      <th></th>\n",
       "      <th>group</th>\n",
       "      <th>height</th>\n",
       "    </tr>\n",
       "  </thead>\n",
       "  <tbody>\n",
       "    <tr>\n",
       "      <th>0</th>\n",
       "      <td>A</td>\n",
       "      <td>170</td>\n",
       "    </tr>\n",
       "    <tr>\n",
       "      <th>1</th>\n",
       "      <td>A</td>\n",
       "      <td>177</td>\n",
       "    </tr>\n",
       "    <tr>\n",
       "      <th>2</th>\n",
       "      <td>A</td>\n",
       "      <td>163</td>\n",
       "    </tr>\n",
       "    <tr>\n",
       "      <th>3</th>\n",
       "      <td>B</td>\n",
       "      <td>168</td>\n",
       "    </tr>\n",
       "    <tr>\n",
       "      <th>4</th>\n",
       "      <td>B</td>\n",
       "      <td>190</td>\n",
       "    </tr>\n",
       "    <tr>\n",
       "      <th>5</th>\n",
       "      <td>B</td>\n",
       "      <td>185</td>\n",
       "    </tr>\n",
       "  </tbody>\n",
       "</table>\n",
       "</div>"
      ],
      "text/plain": [
       "  group  height\n",
       "0     A     170\n",
       "1     A     177\n",
       "2     A     163\n",
       "3     B     168\n",
       "4     B     190\n",
       "5     B     185"
      ]
     },
     "execution_count": 17,
     "metadata": {},
     "output_type": "execute_result"
    }
   ],
   "source": [
    "df = pd.read_csv('../../데이터수집/data/htest01.csv')\n",
    "df"
   ]
  },
  {
   "cell_type": "code",
   "execution_count": 29,
   "id": "2e6299b2",
   "metadata": {},
   "outputs": [],
   "source": [
    "gA = df[df['group']=='A']['height'].values\n",
    "gB = df[df['group']=='B']['height'].values"
   ]
  },
  {
   "cell_type": "code",
   "execution_count": 36,
   "id": "05e6ae4d",
   "metadata": {},
   "outputs": [
    {
     "data": {
      "text/plain": [
       "(170.0, 181.0)"
      ]
     },
     "execution_count": 36,
     "metadata": {},
     "output_type": "execute_result"
    }
   ],
   "source": [
    "np.mean(gA), np.mean(gB)"
   ]
  },
  {
   "cell_type": "code",
   "execution_count": 30,
   "id": "7cf99969",
   "metadata": {},
   "outputs": [
    {
     "name": "stdout",
     "output_type": "stream",
     "text": [
      "KstestResult(statistic=1.0, pvalue=0.0)\n",
      "KstestResult(statistic=1.0, pvalue=0.0)\n"
     ]
    }
   ],
   "source": [
    "# 정규성 검정(kstest)\n",
    "print(sp.stats.kstest(gA, 'norm'))\n",
    "print(sp.stats.kstest(gB, 'norm')) \n",
    "# 둘다 pvalue<0.05이므로 정규성 만족"
   ]
  },
  {
   "cell_type": "code",
   "execution_count": 31,
   "id": "d4175459",
   "metadata": {},
   "outputs": [
    {
     "data": {
      "text/plain": [
       "LeveneResult(statistic=0.23021582733812937, pvalue=0.6564207778992172)"
      ]
     },
     "execution_count": 31,
     "metadata": {},
     "output_type": "execute_result"
    }
   ],
   "source": [
    "# 등분산검정\n",
    "sp.stats.levene(gA, gB) # p-value가 0.05보다 크므로 귀무가설인 두 그룹간 분산이 동일하다는 가설을 만족한다."
   ]
  },
  {
   "cell_type": "code",
   "execution_count": 32,
   "id": "e7eaf7d8",
   "metadata": {},
   "outputs": [
    {
     "data": {
      "text/plain": [
       "(32.666666666666664, 88.66666666666667)"
      ]
     },
     "execution_count": 32,
     "metadata": {},
     "output_type": "execute_result"
    }
   ],
   "source": [
    "np.var(gA), np.var(gB)"
   ]
  },
  {
   "cell_type": "code",
   "execution_count": 34,
   "id": "2c2d0f68",
   "metadata": {},
   "outputs": [
    {
     "data": {
      "text/plain": [
       "Ttest_indResult(statistic=-1.4122696252860127, pvalue=0.23072932015244507)"
      ]
     },
     "execution_count": 34,
     "metadata": {},
     "output_type": "execute_result"
    }
   ],
   "source": [
    "# t-Test\n",
    "sp.stats.ttest_ind(gA, gB, equal_var=True) # pvalue > 0.05이기"
   ]
  },
  {
   "cell_type": "code",
   "execution_count": 37,
   "id": "ad95620e",
   "metadata": {},
   "outputs": [],
   "source": [
    "# 결론 : 두 그룹의 평균 키에 차이가 있다는 대립가설을 기각한다."
   ]
  },
  {
   "cell_type": "code",
   "execution_count": null,
   "id": "641be2cb",
   "metadata": {},
   "outputs": [],
   "source": []
  }
 ],
 "metadata": {
  "kernelspec": {
   "display_name": "Python 3 (ipykernel)",
   "language": "python",
   "name": "python3"
  },
  "language_info": {
   "codemirror_mode": {
    "name": "ipython",
    "version": 3
   },
   "file_extension": ".py",
   "mimetype": "text/x-python",
   "name": "python",
   "nbconvert_exporter": "python",
   "pygments_lexer": "ipython3",
   "version": "3.9.12"
  }
 },
 "nbformat": 4,
 "nbformat_minor": 5
}
