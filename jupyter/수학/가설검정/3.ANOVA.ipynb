{
 "cells": [
  {
   "cell_type": "code",
   "execution_count": 1,
   "id": "fa3c5a25",
   "metadata": {},
   "outputs": [],
   "source": [
    "import pandas as pd\n",
    "import numpy as np\n",
    "import scipy as sp\n",
    "import scipy.stats"
   ]
  },
  {
   "cell_type": "code",
   "execution_count": 2,
   "id": "b1793d68",
   "metadata": {
    "collapsed": true
   },
   "outputs": [
    {
     "data": {
      "text/html": [
       "<div>\n",
       "<style scoped>\n",
       "    .dataframe tbody tr th:only-of-type {\n",
       "        vertical-align: middle;\n",
       "    }\n",
       "\n",
       "    .dataframe tbody tr th {\n",
       "        vertical-align: top;\n",
       "    }\n",
       "\n",
       "    .dataframe thead th {\n",
       "        text-align: right;\n",
       "    }\n",
       "</style>\n",
       "<table border=\"1\" class=\"dataframe\">\n",
       "  <thead>\n",
       "    <tr style=\"text-align: right;\">\n",
       "      <th></th>\n",
       "      <th>group</th>\n",
       "      <th>height</th>\n",
       "    </tr>\n",
       "  </thead>\n",
       "  <tbody>\n",
       "    <tr>\n",
       "      <th>0</th>\n",
       "      <td>A</td>\n",
       "      <td>175</td>\n",
       "    </tr>\n",
       "    <tr>\n",
       "      <th>1</th>\n",
       "      <td>A</td>\n",
       "      <td>180</td>\n",
       "    </tr>\n",
       "    <tr>\n",
       "      <th>2</th>\n",
       "      <td>A</td>\n",
       "      <td>172</td>\n",
       "    </tr>\n",
       "    <tr>\n",
       "      <th>3</th>\n",
       "      <td>A</td>\n",
       "      <td>182</td>\n",
       "    </tr>\n",
       "    <tr>\n",
       "      <th>4</th>\n",
       "      <td>A</td>\n",
       "      <td>185</td>\n",
       "    </tr>\n",
       "    <tr>\n",
       "      <th>5</th>\n",
       "      <td>A</td>\n",
       "      <td>171</td>\n",
       "    </tr>\n",
       "    <tr>\n",
       "      <th>6</th>\n",
       "      <td>A</td>\n",
       "      <td>161</td>\n",
       "    </tr>\n",
       "    <tr>\n",
       "      <th>7</th>\n",
       "      <td>A</td>\n",
       "      <td>179</td>\n",
       "    </tr>\n",
       "    <tr>\n",
       "      <th>8</th>\n",
       "      <td>A</td>\n",
       "      <td>168</td>\n",
       "    </tr>\n",
       "    <tr>\n",
       "      <th>9</th>\n",
       "      <td>B</td>\n",
       "      <td>174</td>\n",
       "    </tr>\n",
       "    <tr>\n",
       "      <th>10</th>\n",
       "      <td>B</td>\n",
       "      <td>171</td>\n",
       "    </tr>\n",
       "    <tr>\n",
       "      <th>11</th>\n",
       "      <td>B</td>\n",
       "      <td>182</td>\n",
       "    </tr>\n",
       "    <tr>\n",
       "      <th>12</th>\n",
       "      <td>B</td>\n",
       "      <td>183</td>\n",
       "    </tr>\n",
       "    <tr>\n",
       "      <th>13</th>\n",
       "      <td>B</td>\n",
       "      <td>189</td>\n",
       "    </tr>\n",
       "    <tr>\n",
       "      <th>14</th>\n",
       "      <td>B</td>\n",
       "      <td>178</td>\n",
       "    </tr>\n",
       "    <tr>\n",
       "      <th>15</th>\n",
       "      <td>B</td>\n",
       "      <td>179</td>\n",
       "    </tr>\n",
       "    <tr>\n",
       "      <th>16</th>\n",
       "      <td>B</td>\n",
       "      <td>185</td>\n",
       "    </tr>\n",
       "    <tr>\n",
       "      <th>17</th>\n",
       "      <td>B</td>\n",
       "      <td>188</td>\n",
       "    </tr>\n",
       "    <tr>\n",
       "      <th>18</th>\n",
       "      <td>B</td>\n",
       "      <td>181</td>\n",
       "    </tr>\n",
       "    <tr>\n",
       "      <th>19</th>\n",
       "      <td>C</td>\n",
       "      <td>171</td>\n",
       "    </tr>\n",
       "    <tr>\n",
       "      <th>20</th>\n",
       "      <td>C</td>\n",
       "      <td>168</td>\n",
       "    </tr>\n",
       "    <tr>\n",
       "      <th>21</th>\n",
       "      <td>C</td>\n",
       "      <td>166</td>\n",
       "    </tr>\n",
       "    <tr>\n",
       "      <th>22</th>\n",
       "      <td>C</td>\n",
       "      <td>158</td>\n",
       "    </tr>\n",
       "    <tr>\n",
       "      <th>23</th>\n",
       "      <td>C</td>\n",
       "      <td>171</td>\n",
       "    </tr>\n",
       "    <tr>\n",
       "      <th>24</th>\n",
       "      <td>C</td>\n",
       "      <td>162</td>\n",
       "    </tr>\n",
       "    <tr>\n",
       "      <th>25</th>\n",
       "      <td>C</td>\n",
       "      <td>161</td>\n",
       "    </tr>\n",
       "    <tr>\n",
       "      <th>26</th>\n",
       "      <td>C</td>\n",
       "      <td>160</td>\n",
       "    </tr>\n",
       "    <tr>\n",
       "      <th>27</th>\n",
       "      <td>C</td>\n",
       "      <td>167</td>\n",
       "    </tr>\n",
       "    <tr>\n",
       "      <th>28</th>\n",
       "      <td>C</td>\n",
       "      <td>165</td>\n",
       "    </tr>\n",
       "  </tbody>\n",
       "</table>\n",
       "</div>"
      ],
      "text/plain": [
       "   group  height\n",
       "0      A     175\n",
       "1      A     180\n",
       "2      A     172\n",
       "3      A     182\n",
       "4      A     185\n",
       "5      A     171\n",
       "6      A     161\n",
       "7      A     179\n",
       "8      A     168\n",
       "9      B     174\n",
       "10     B     171\n",
       "11     B     182\n",
       "12     B     183\n",
       "13     B     189\n",
       "14     B     178\n",
       "15     B     179\n",
       "16     B     185\n",
       "17     B     188\n",
       "18     B     181\n",
       "19     C     171\n",
       "20     C     168\n",
       "21     C     166\n",
       "22     C     158\n",
       "23     C     171\n",
       "24     C     162\n",
       "25     C     161\n",
       "26     C     160\n",
       "27     C     167\n",
       "28     C     165"
      ]
     },
     "execution_count": 2,
     "metadata": {},
     "output_type": "execute_result"
    }
   ],
   "source": [
    "df = pd.read_csv(\"../../데이터수집/data/htest04.csv\")\n",
    "df"
   ]
  },
  {
   "cell_type": "code",
   "execution_count": 15,
   "id": "c020b95d",
   "metadata": {},
   "outputs": [
    {
     "data": {
      "text/plain": [
       "array(['A', 'B', 'C'], dtype=object)"
      ]
     },
     "execution_count": 15,
     "metadata": {},
     "output_type": "execute_result"
    }
   ],
   "source": [
    "df['group'].value_counts()\n",
    "df['group'].unique()"
   ]
  },
  {
   "cell_type": "code",
   "execution_count": 13,
   "id": "15df51a9",
   "metadata": {},
   "outputs": [
    {
     "data": {
      "text/plain": [
       "(array([175, 180, 172, 182, 185, 171, 161, 179, 168], dtype=int64),\n",
       " array([174, 171, 182, 183, 189, 178, 179, 185, 188, 181], dtype=int64),\n",
       " array([171, 168, 166, 158, 171, 162, 161, 160, 167, 165], dtype=int64))"
      ]
     },
     "execution_count": 13,
     "metadata": {},
     "output_type": "execute_result"
    }
   ],
   "source": [
    "A = df[df['group']=='A']['height'].values\n",
    "B = df[df['group']=='B']['height'].values\n",
    "C = df[df['group']=='C']['height'].values\n",
    "A,B,C"
   ]
  },
  {
   "cell_type": "code",
   "execution_count": 17,
   "id": "e1d5aa0f",
   "metadata": {},
   "outputs": [
    {
     "data": {
      "image/png": "[encoded data removed]",
      "text/plain": [
       "<Figure size 432x288 with 1 Axes>"
      ]
     },
     "metadata": {
      "needs_background": "light"
     },
     "output_type": "display_data"
    }
   ],
   "source": [
    "import matplotlib.pyplot as plt\n",
    "plt.boxplot([A,B,C])\n",
    "plt.show()"
   ]
  },
  {
   "cell_type": "code",
   "execution_count": 20,
   "id": "58ec0d0f",
   "metadata": {},
   "outputs": [
    {
     "name": "stdout",
     "output_type": "stream",
     "text": [
      "KstestResult(statistic=1.0, pvalue=0.0)\n",
      "KstestResult(statistic=1.0, pvalue=0.0)\n",
      "KstestResult(statistic=1.0, pvalue=0.0)\n"
     ]
    }
   ],
   "source": [
    "# 정규성 검정 \n",
    "# kstest : 콜모고로프-스미르노프 검정\n",
    "print(sp.stats.kstest(A, 'norm'))\n",
    "print(sp.stats.kstest(B, 'norm'))\n",
    "print(sp.stats.kstest(C, 'norm'))"
   ]
  },
  {
   "cell_type": "code",
   "execution_count": 21,
   "id": "2dcfe3d2",
   "metadata": {},
   "outputs": [
    {
     "data": {
      "text/plain": [
       "F_onewayResult(statistic=18.20204645258331, pvalue=1.1399440916100489e-05)"
      ]
     },
     "execution_count": 21,
     "metadata": {},
     "output_type": "execute_result"
    }
   ],
   "source": [
    "# 일원분산검정\n",
    "sp.stats.f_oneway(A, B, C) # 대립가설 채택 (세 그룹의 평균은 유의미한 차이가 있다.)"
   ]
  },
  {
   "cell_type": "code",
   "execution_count": 29,
   "id": "da2ecae6",
   "metadata": {
    "collapsed": true
   },
   "outputs": [
    {
     "data": {
      "text/plain": [
       "[175,\n",
       " 180,\n",
       " 172,\n",
       " 182,\n",
       " 185,\n",
       " 171,\n",
       " 161,\n",
       " 179,\n",
       " 168,\n",
       " 174,\n",
       " 171,\n",
       " 182,\n",
       " 183,\n",
       " 189,\n",
       " 178,\n",
       " 179,\n",
       " 185,\n",
       " 188,\n",
       " 181,\n",
       " 171,\n",
       " 168,\n",
       " 166,\n",
       " 158,\n",
       " 171,\n",
       " 162,\n",
       " 161,\n",
       " 160,\n",
       " 167,\n",
       " 165]"
      ]
     },
     "execution_count": 29,
     "metadata": {},
     "output_type": "execute_result"
    }
   ],
   "source": [
    "# 사후검정\n",
    "group = []\n",
    "group.extend(['A']*len(A))\n",
    "group.extend(['B']*len(B))\n",
    "group.extend(['C']*len(C))\n",
    "\n",
    "data = []\n",
    "data.extend(A.tolist())\n",
    "data.extend(B.tolist())\n",
    "data.extend(C.tolist())\n",
    "data"
   ]
  },
  {
   "cell_type": "code",
   "execution_count": 31,
   "id": "8c5f6338",
   "metadata": {},
   "outputs": [
    {
     "name": "stdout",
     "output_type": "stream",
     "text": [
      " Multiple Comparison of Means - Tukey HSD, FWER=0.05 \n",
      "=====================================================\n",
      "group1 group2 meandiff p-adj   lower    upper  reject\n",
      "-----------------------------------------------------\n",
      "     A      B   6.2222 0.0812  -0.6444 13.0889  False\n",
      "     A      C  -9.8778 0.0039 -16.7444 -3.0111   True\n",
      "     B      C    -16.1    0.0 -22.7835 -9.4165   True\n",
      "-----------------------------------------------------\n"
     ]
    }
   ],
   "source": [
    "from statsmodels.stats.multicomp import pairwise_tukeyhsd\n",
    "print(pairwise_tukeyhsd(data, group))\n",
    "# A-B 는 차이 없음\n",
    "# A-C, B-C는 차이 있음 8\n"
   ]
  },
  {
   "cell_type": "code",
   "execution_count": 33,
   "id": "da34b37c",
   "metadata": {
    "collapsed": true
   },
   "outputs": [
    {
     "data": {
      "text/html": [
       "<div>\n",
       "<style scoped>\n",
       "    .dataframe tbody tr th:only-of-type {\n",
       "        vertical-align: middle;\n",
       "    }\n",
       "\n",
       "    .dataframe tbody tr th {\n",
       "        vertical-align: top;\n",
       "    }\n",
       "\n",
       "    .dataframe thead th {\n",
       "        text-align: right;\n",
       "    }\n",
       "</style>\n",
       "<table border=\"1\" class=\"dataframe\">\n",
       "  <thead>\n",
       "    <tr style=\"text-align: right;\">\n",
       "      <th></th>\n",
       "      <th>일자</th>\n",
       "      <th>지점A</th>\n",
       "      <th>지점B</th>\n",
       "      <th>지점C</th>\n",
       "    </tr>\n",
       "  </thead>\n",
       "  <tbody>\n",
       "    <tr>\n",
       "      <th>0</th>\n",
       "      <td>1</td>\n",
       "      <td>124</td>\n",
       "      <td>118</td>\n",
       "      <td>216</td>\n",
       "    </tr>\n",
       "    <tr>\n",
       "      <th>1</th>\n",
       "      <td>2</td>\n",
       "      <td>147</td>\n",
       "      <td>141</td>\n",
       "      <td>214</td>\n",
       "    </tr>\n",
       "    <tr>\n",
       "      <th>2</th>\n",
       "      <td>3</td>\n",
       "      <td>129</td>\n",
       "      <td>130</td>\n",
       "      <td>212</td>\n",
       "    </tr>\n",
       "    <tr>\n",
       "      <th>3</th>\n",
       "      <td>4</td>\n",
       "      <td>123</td>\n",
       "      <td>127</td>\n",
       "      <td>179</td>\n",
       "    </tr>\n",
       "    <tr>\n",
       "      <th>4</th>\n",
       "      <td>5</td>\n",
       "      <td>147</td>\n",
       "      <td>107</td>\n",
       "      <td>222</td>\n",
       "    </tr>\n",
       "    <tr>\n",
       "      <th>5</th>\n",
       "      <td>6</td>\n",
       "      <td>149</td>\n",
       "      <td>140</td>\n",
       "      <td>238</td>\n",
       "    </tr>\n",
       "    <tr>\n",
       "      <th>6</th>\n",
       "      <td>7</td>\n",
       "      <td>140</td>\n",
       "      <td>146</td>\n",
       "      <td>218</td>\n",
       "    </tr>\n",
       "    <tr>\n",
       "      <th>7</th>\n",
       "      <td>8</td>\n",
       "      <td>142</td>\n",
       "      <td>122</td>\n",
       "      <td>200</td>\n",
       "    </tr>\n",
       "    <tr>\n",
       "      <th>8</th>\n",
       "      <td>9</td>\n",
       "      <td>124</td>\n",
       "      <td>160</td>\n",
       "      <td>186</td>\n",
       "    </tr>\n",
       "    <tr>\n",
       "      <th>9</th>\n",
       "      <td>10</td>\n",
       "      <td>166</td>\n",
       "      <td>157</td>\n",
       "      <td>188</td>\n",
       "    </tr>\n",
       "    <tr>\n",
       "      <th>10</th>\n",
       "      <td>11</td>\n",
       "      <td>127</td>\n",
       "      <td>141</td>\n",
       "      <td>216</td>\n",
       "    </tr>\n",
       "    <tr>\n",
       "      <th>11</th>\n",
       "      <td>12</td>\n",
       "      <td>130</td>\n",
       "      <td>142</td>\n",
       "      <td>183</td>\n",
       "    </tr>\n",
       "    <tr>\n",
       "      <th>12</th>\n",
       "      <td>13</td>\n",
       "      <td>139</td>\n",
       "      <td>150</td>\n",
       "      <td>198</td>\n",
       "    </tr>\n",
       "    <tr>\n",
       "      <th>13</th>\n",
       "      <td>14</td>\n",
       "      <td>121</td>\n",
       "      <td>136</td>\n",
       "      <td>199</td>\n",
       "    </tr>\n",
       "    <tr>\n",
       "      <th>14</th>\n",
       "      <td>15</td>\n",
       "      <td>149</td>\n",
       "      <td>157</td>\n",
       "      <td>187</td>\n",
       "    </tr>\n",
       "    <tr>\n",
       "      <th>15</th>\n",
       "      <td>16</td>\n",
       "      <td>155</td>\n",
       "      <td>107</td>\n",
       "      <td>183</td>\n",
       "    </tr>\n",
       "    <tr>\n",
       "      <th>16</th>\n",
       "      <td>17</td>\n",
       "      <td>140</td>\n",
       "      <td>172</td>\n",
       "      <td>190</td>\n",
       "    </tr>\n",
       "    <tr>\n",
       "      <th>17</th>\n",
       "      <td>18</td>\n",
       "      <td>150</td>\n",
       "      <td>126</td>\n",
       "      <td>161</td>\n",
       "    </tr>\n",
       "    <tr>\n",
       "      <th>18</th>\n",
       "      <td>19</td>\n",
       "      <td>137</td>\n",
       "      <td>135</td>\n",
       "      <td>203</td>\n",
       "    </tr>\n",
       "    <tr>\n",
       "      <th>19</th>\n",
       "      <td>20</td>\n",
       "      <td>144</td>\n",
       "      <td>115</td>\n",
       "      <td>192</td>\n",
       "    </tr>\n",
       "    <tr>\n",
       "      <th>20</th>\n",
       "      <td>21</td>\n",
       "      <td>136</td>\n",
       "      <td>133</td>\n",
       "      <td>235</td>\n",
       "    </tr>\n",
       "    <tr>\n",
       "      <th>21</th>\n",
       "      <td>22</td>\n",
       "      <td>126</td>\n",
       "      <td>132</td>\n",
       "      <td>208</td>\n",
       "    </tr>\n",
       "    <tr>\n",
       "      <th>22</th>\n",
       "      <td>23</td>\n",
       "      <td>150</td>\n",
       "      <td>127</td>\n",
       "      <td>187</td>\n",
       "    </tr>\n",
       "    <tr>\n",
       "      <th>23</th>\n",
       "      <td>24</td>\n",
       "      <td>142</td>\n",
       "      <td>128</td>\n",
       "      <td>201</td>\n",
       "    </tr>\n",
       "    <tr>\n",
       "      <th>24</th>\n",
       "      <td>25</td>\n",
       "      <td>149</td>\n",
       "      <td>142</td>\n",
       "      <td>196</td>\n",
       "    </tr>\n",
       "    <tr>\n",
       "      <th>25</th>\n",
       "      <td>26</td>\n",
       "      <td>127</td>\n",
       "      <td>161</td>\n",
       "      <td>202</td>\n",
       "    </tr>\n",
       "    <tr>\n",
       "      <th>26</th>\n",
       "      <td>27</td>\n",
       "      <td>140</td>\n",
       "      <td>140</td>\n",
       "      <td>209</td>\n",
       "    </tr>\n",
       "    <tr>\n",
       "      <th>27</th>\n",
       "      <td>28</td>\n",
       "      <td>138</td>\n",
       "      <td>125</td>\n",
       "      <td>179</td>\n",
       "    </tr>\n",
       "    <tr>\n",
       "      <th>28</th>\n",
       "      <td>29</td>\n",
       "      <td>128</td>\n",
       "      <td>142</td>\n",
       "      <td>197</td>\n",
       "    </tr>\n",
       "    <tr>\n",
       "      <th>29</th>\n",
       "      <td>30</td>\n",
       "      <td>117</td>\n",
       "      <td>135</td>\n",
       "      <td>204</td>\n",
       "    </tr>\n",
       "  </tbody>\n",
       "</table>\n",
       "</div>"
      ],
      "text/plain": [
       "    일자  지점A  지점B  지점C\n",
       "0    1  124  118  216\n",
       "1    2  147  141  214\n",
       "2    3  129  130  212\n",
       "3    4  123  127  179\n",
       "4    5  147  107  222\n",
       "5    6  149  140  238\n",
       "6    7  140  146  218\n",
       "7    8  142  122  200\n",
       "8    9  124  160  186\n",
       "9   10  166  157  188\n",
       "10  11  127  141  216\n",
       "11  12  130  142  183\n",
       "12  13  139  150  198\n",
       "13  14  121  136  199\n",
       "14  15  149  157  187\n",
       "15  16  155  107  183\n",
       "16  17  140  172  190\n",
       "17  18  150  126  161\n",
       "18  19  137  135  203\n",
       "19  20  144  115  192\n",
       "20  21  136  133  235\n",
       "21  22  126  132  208\n",
       "22  23  150  127  187\n",
       "23  24  142  128  201\n",
       "24  25  149  142  196\n",
       "25  26  127  161  202\n",
       "26  27  140  140  209\n",
       "27  28  138  125  179\n",
       "28  29  128  142  197\n",
       "29  30  117  135  204"
      ]
     },
     "execution_count": 33,
     "metadata": {},
     "output_type": "execute_result"
    }
   ],
   "source": [
    "# 지점별_일별판매량.csv\n",
    "df = pd.read_csv(\"../../데이터수집/data/지점별_일별판매량.csv\", encoding='ms949')\n",
    "df"
   ]
  },
  {
   "cell_type": "code",
   "execution_count": 34,
   "id": "6d7d4271",
   "metadata": {},
   "outputs": [
    {
     "data": {
      "text/plain": [
       "(array([124, 147, 129, 123, 147, 149, 140, 142, 124, 166, 127, 130, 139,\n",
       "        121, 149, 155, 140, 150, 137, 144, 136, 126, 150, 142, 149, 127,\n",
       "        140, 138, 128, 117], dtype=int64),\n",
       " array([118, 141, 130, 127, 107, 140, 146, 122, 160, 157, 141, 142, 150,\n",
       "        136, 157, 107, 172, 126, 135, 115, 133, 132, 127, 128, 142, 161,\n",
       "        140, 125, 142, 135], dtype=int64),\n",
       " array([216, 214, 212, 179, 222, 238, 218, 200, 186, 188, 216, 183, 198,\n",
       "        199, 187, 183, 190, 161, 203, 192, 235, 208, 187, 201, 196, 202,\n",
       "        209, 179, 197, 204], dtype=int64))"
      ]
     },
     "execution_count": 34,
     "metadata": {},
     "output_type": "execute_result"
    }
   ],
   "source": [
    "A = df['지점A'].values\n",
    "B = df['지점B'].values\n",
    "C = df['지점C'].values\n",
    "A,B,C"
   ]
  },
  {
   "cell_type": "code",
   "execution_count": 35,
   "id": "183d78bc",
   "metadata": {},
   "outputs": [
    {
     "data": {
      "image/png": "[encoded data removed]",
      "text/plain": [
       "<Figure size 432x288 with 1 Axes>"
      ]
     },
     "metadata": {
      "needs_background": "light"
     },
     "output_type": "display_data"
    }
   ],
   "source": [
    "plt.boxplot([A,B,C])\n",
    "plt.show()"
   ]
  },
  {
   "cell_type": "code",
   "execution_count": 36,
   "id": "412804a0",
   "metadata": {},
   "outputs": [
    {
     "data": {
      "text/plain": [
       "F_onewayResult(statistic=178.43825416847133, pvalue=1.6337420285664805e-31)"
      ]
     },
     "execution_count": 36,
     "metadata": {},
     "output_type": "execute_result"
    }
   ],
   "source": [
    "sp.stats.f_oneway(A, B, C)"
   ]
  },
  {
   "cell_type": "code",
   "execution_count": 37,
   "id": "e84dd44b",
   "metadata": {},
   "outputs": [
    {
     "name": "stdout",
     "output_type": "stream",
     "text": [
      " Multiple Comparison of Means - Tukey HSD, FWER=0.05 \n",
      "=====================================================\n",
      "group1 group2 meandiff p-adj   lower    upper  reject\n",
      "-----------------------------------------------------\n",
      "     A      B     -1.4 0.9297 -10.5741  7.7741  False\n",
      "     A      C  62.2333    0.0  53.0592 71.4075   True\n",
      "     B      C  63.6333    0.0  54.4592 72.8075   True\n",
      "-----------------------------------------------------\n"
     ]
    }
   ],
   "source": [
    "# 사후검정\n",
    "group = []\n",
    "group.extend(['A']*len(A))\n",
    "group.extend(['B']*len(B))\n",
    "group.extend(['C']*len(C))\n",
    "\n",
    "data = []\n",
    "data.extend(A.tolist())\n",
    "data.extend(B.tolist())\n",
    "data.extend(C.tolist())\n",
    "print(pairwise_tukeyhsd(data, group))"
   ]
  },
  {
   "cell_type": "code",
   "execution_count": null,
   "id": "58d665ea",
   "metadata": {},
   "outputs": [],
   "source": []
  }
 ],
 "metadata": {
  "kernelspec": {
   "display_name": "Python 3 (ipykernel)",
   "language": "python",
   "name": "python3"
  },
  "language_info": {
   "codemirror_mode": {
    "name": "ipython",
    "version": 3
   },
   "file_extension": ".py",
   "mimetype": "text/x-python",
   "name": "python",
   "nbconvert_exporter": "python",
   "pygments_lexer": "ipython3",
   "version": "3.9.12"
  }
 },
 "nbformat": 4,
 "nbformat_minor": 5
}
