{
 "cells": [
  {
   "cell_type": "code",
   "execution_count": null,
   "id": "4392c862",
   "metadata": {},
   "outputs": [],
   "source": [
    "'''\n",
    "퀴즈\n",
    "날씨(맑음, 비, 흐림) 3가지 분류라고 가정\n",
    "같은 날씨가 연속될 확률이 60%,\n",
    "연속되지않고 변할 확률 40%\n",
    "(단, 맑음->흐림, 비->흐림, 흐림->맑음 확률은 70%)\n",
    "\n",
    "1) 오늘 날씨가 맑음일때, 모레의 날씨가 비일 확률\n",
    " -> 17.76%\n",
    "2) 조깅을 맑음일때는 80%의 확률로, 흐림인 날에는 40%의 확률로, 비인 날에는 조깅을 안함. \n",
    "오늘(맑음)과 내일 이틀 연속해서 조깅할 확률\n",
    " -> 47.36%\n",
    "'''"
   ]
  },
  {
   "cell_type": "code",
   "execution_count": 1,
   "id": "6269f115",
   "metadata": {},
   "outputs": [
    {
     "data": {
      "text/plain": [
       "0.17759999999999998"
      ]
     },
     "execution_count": 1,
     "metadata": {},
     "output_type": "execute_result"
    }
   ],
   "source": [
    "'''\n",
    "* 내일 날씨\n",
    "맑음 -> 맑음 : 60%\n",
    "맑음 -> 흐림 : 40% * 70%\n",
    "맑음 -> 비 : 40% * 30%\n",
    "\n",
    "1) 모레 날씨가 비일 확률\n",
    "맑 -> 맑 -> 비\n",
    "맑 -> 흐 -> 비\n",
    "맑 -> 비 -> 비\n",
    "'''\n",
    "0.6 * 0.12 + 0.28*0.12 + 0.12*0.6"
   ]
  },
  {
   "cell_type": "code",
   "execution_count": 2,
   "id": "04b90463",
   "metadata": {},
   "outputs": [
    {
     "data": {
      "text/plain": [
       "0.4736"
      ]
     },
     "execution_count": 2,
     "metadata": {},
     "output_type": "execute_result"
    }
   ],
   "source": [
    "'''\n",
    "2) 맑음 : 80%, 흐림40%, 비: 0\n",
    "오늘과 내일 조깅할 확률\n",
    "맑음 - 맑음, 맑음 - 흐림\n",
    "'''\n",
    "0.8*(0.6*0.8 + 0.28*0.4)"
   ]
  },
  {
   "cell_type": "code",
   "execution_count": null,
   "id": "98711295",
   "metadata": {},
   "outputs": [],
   "source": []
  }
 ],
 "metadata": {
  "kernelspec": {
   "display_name": "Python 3 (ipykernel)",
   "language": "python",
   "name": "python3"
  },
  "language_info": {
   "codemirror_mode": {
    "name": "ipython",
    "version": 3
   },
   "file_extension": ".py",
   "mimetype": "text/x-python",
   "name": "python",
   "nbconvert_exporter": "python",
   "pygments_lexer": "ipython3",
   "version": "3.9.12"
  }
 },
 "nbformat": 4,
 "nbformat_minor": 5
}
