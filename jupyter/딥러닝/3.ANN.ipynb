{
 "cells": [
  {
   "cell_type": "code",
   "execution_count": 1,
   "id": "2cba1c55",
   "metadata": {},
   "outputs": [],
   "source": [
    "import tensorflow as tf\n",
    "# 데이터셋 불러오기(MNIST 손글씨이미지)\n",
    "from tensorflow.keras import datasets"
   ]
  },
  {
   "cell_type": "code",
   "execution_count": 2,
   "id": "e95e1718",
   "metadata": {},
   "outputs": [],
   "source": [
    "data = datasets.mnist\n",
    "(train_x, train_y), (test_x, test_y) = data.load_data()\n"
   ]
  },
  {
   "cell_type": "code",
   "execution_count": 3,
   "id": "5809853b",
   "metadata": {},
   "outputs": [
    {
     "data": {
      "text/plain": [
       "60000"
      ]
     },
     "execution_count": 3,
     "metadata": {},
     "output_type": "execute_result"
    }
   ],
   "source": [
    "len(train_x)"
   ]
  },
  {
   "cell_type": "code",
   "execution_count": 4,
   "id": "c8764b8c",
   "metadata": {},
   "outputs": [
    {
     "data": {
      "text/plain": [
       "numpy.ndarray"
      ]
     },
     "execution_count": 4,
     "metadata": {},
     "output_type": "execute_result"
    }
   ],
   "source": [
    "type(train_x)"
   ]
  },
  {
   "cell_type": "code",
   "execution_count": 5,
   "id": "3f5ce509",
   "metadata": {},
   "outputs": [
    {
     "data": {
      "text/plain": [
       "(60000, 28, 28)"
      ]
     },
     "execution_count": 5,
     "metadata": {},
     "output_type": "execute_result"
    }
   ],
   "source": [
    "train_x.shape # 개수, 행, 열"
   ]
  },
  {
   "cell_type": "code",
   "execution_count": 6,
   "id": "85710edc",
   "metadata": {},
   "outputs": [
    {
     "data": {
      "text/plain": [
       "array([[  0,   0,   0,   0,   0,   0,   0,   0,   0,   0,   0,   0,   0,\n",
       "          0,   0,   0,   0,   0,   0,   0,   0,   0,   0,   0,   0,   0,\n",
       "          0,   0],\n",
       "       [  0,   0,   0,   0,   0,   0,   0,   0,   0,   0,   0,   0,   0,\n",
       "          0,   0,   0,   0,   0,   0,   0,   0,   0,   0,   0,   0,   0,\n",
       "          0,   0],\n",
       "       [  0,   0,   0,   0,   0,   0,   0,   0,   0,   0,   0,   0,   0,\n",
       "          0,   0,   0,   0,   0,   0,   0,   0,   0,   0,   0,   0,   0,\n",
       "          0,   0],\n",
       "       [  0,   0,   0,   0,   0,   0,   0,   0,   0,   0,   0,   0,   0,\n",
       "          0,   0,   0,   0,   0,   0,   0,   0,   0,   0,   0,   0,   0,\n",
       "          0,   0],\n",
       "       [  0,   0,   0,   0,   0,   0,   0,   0,   0,   0,   0,   0,   0,\n",
       "          0,   0,   0,   0,   0,   0,   0,   0,   0,   0,   0,   0,   0,\n",
       "          0,   0],\n",
       "       [  0,   0,   0,   0,   0,   0,   0,   0,   0,   0,   0,   0,   3,\n",
       "         18,  18,  18, 126, 136, 175,  26, 166, 255, 247, 127,   0,   0,\n",
       "          0,   0],\n",
       "       [  0,   0,   0,   0,   0,   0,   0,   0,  30,  36,  94, 154, 170,\n",
       "        253, 253, 253, 253, 253, 225, 172, 253, 242, 195,  64,   0,   0,\n",
       "          0,   0],\n",
       "       [  0,   0,   0,   0,   0,   0,   0,  49, 238, 253, 253, 253, 253,\n",
       "        253, 253, 253, 253, 251,  93,  82,  82,  56,  39,   0,   0,   0,\n",
       "          0,   0],\n",
       "       [  0,   0,   0,   0,   0,   0,   0,  18, 219, 253, 253, 253, 253,\n",
       "        253, 198, 182, 247, 241,   0,   0,   0,   0,   0,   0,   0,   0,\n",
       "          0,   0],\n",
       "       [  0,   0,   0,   0,   0,   0,   0,   0,  80, 156, 107, 253, 253,\n",
       "        205,  11,   0,  43, 154,   0,   0,   0,   0,   0,   0,   0,   0,\n",
       "          0,   0],\n",
       "       [  0,   0,   0,   0,   0,   0,   0,   0,   0,  14,   1, 154, 253,\n",
       "         90,   0,   0,   0,   0,   0,   0,   0,   0,   0,   0,   0,   0,\n",
       "          0,   0],\n",
       "       [  0,   0,   0,   0,   0,   0,   0,   0,   0,   0,   0, 139, 253,\n",
       "        190,   2,   0,   0,   0,   0,   0,   0,   0,   0,   0,   0,   0,\n",
       "          0,   0],\n",
       "       [  0,   0,   0,   0,   0,   0,   0,   0,   0,   0,   0,  11, 190,\n",
       "        253,  70,   0,   0,   0,   0,   0,   0,   0,   0,   0,   0,   0,\n",
       "          0,   0],\n",
       "       [  0,   0,   0,   0,   0,   0,   0,   0,   0,   0,   0,   0,  35,\n",
       "        241, 225, 160, 108,   1,   0,   0,   0,   0,   0,   0,   0,   0,\n",
       "          0,   0],\n",
       "       [  0,   0,   0,   0,   0,   0,   0,   0,   0,   0,   0,   0,   0,\n",
       "         81, 240, 253, 253, 119,  25,   0,   0,   0,   0,   0,   0,   0,\n",
       "          0,   0],\n",
       "       [  0,   0,   0,   0,   0,   0,   0,   0,   0,   0,   0,   0,   0,\n",
       "          0,  45, 186, 253, 253, 150,  27,   0,   0,   0,   0,   0,   0,\n",
       "          0,   0],\n",
       "       [  0,   0,   0,   0,   0,   0,   0,   0,   0,   0,   0,   0,   0,\n",
       "          0,   0,  16,  93, 252, 253, 187,   0,   0,   0,   0,   0,   0,\n",
       "          0,   0],\n",
       "       [  0,   0,   0,   0,   0,   0,   0,   0,   0,   0,   0,   0,   0,\n",
       "          0,   0,   0,   0, 249, 253, 249,  64,   0,   0,   0,   0,   0,\n",
       "          0,   0],\n",
       "       [  0,   0,   0,   0,   0,   0,   0,   0,   0,   0,   0,   0,   0,\n",
       "          0,  46, 130, 183, 253, 253, 207,   2,   0,   0,   0,   0,   0,\n",
       "          0,   0],\n",
       "       [  0,   0,   0,   0,   0,   0,   0,   0,   0,   0,   0,   0,  39,\n",
       "        148, 229, 253, 253, 253, 250, 182,   0,   0,   0,   0,   0,   0,\n",
       "          0,   0],\n",
       "       [  0,   0,   0,   0,   0,   0,   0,   0,   0,   0,  24, 114, 221,\n",
       "        253, 253, 253, 253, 201,  78,   0,   0,   0,   0,   0,   0,   0,\n",
       "          0,   0],\n",
       "       [  0,   0,   0,   0,   0,   0,   0,   0,  23,  66, 213, 253, 253,\n",
       "        253, 253, 198,  81,   2,   0,   0,   0,   0,   0,   0,   0,   0,\n",
       "          0,   0],\n",
       "       [  0,   0,   0,   0,   0,   0,  18, 171, 219, 253, 253, 253, 253,\n",
       "        195,  80,   9,   0,   0,   0,   0,   0,   0,   0,   0,   0,   0,\n",
       "          0,   0],\n",
       "       [  0,   0,   0,   0,  55, 172, 226, 253, 253, 253, 253, 244, 133,\n",
       "         11,   0,   0,   0,   0,   0,   0,   0,   0,   0,   0,   0,   0,\n",
       "          0,   0],\n",
       "       [  0,   0,   0,   0, 136, 253, 253, 253, 212, 135, 132,  16,   0,\n",
       "          0,   0,   0,   0,   0,   0,   0,   0,   0,   0,   0,   0,   0,\n",
       "          0,   0],\n",
       "       [  0,   0,   0,   0,   0,   0,   0,   0,   0,   0,   0,   0,   0,\n",
       "          0,   0,   0,   0,   0,   0,   0,   0,   0,   0,   0,   0,   0,\n",
       "          0,   0],\n",
       "       [  0,   0,   0,   0,   0,   0,   0,   0,   0,   0,   0,   0,   0,\n",
       "          0,   0,   0,   0,   0,   0,   0,   0,   0,   0,   0,   0,   0,\n",
       "          0,   0],\n",
       "       [  0,   0,   0,   0,   0,   0,   0,   0,   0,   0,   0,   0,   0,\n",
       "          0,   0,   0,   0,   0,   0,   0,   0,   0,   0,   0,   0,   0,\n",
       "          0,   0]], dtype=uint8)"
      ]
     },
     "execution_count": 6,
     "metadata": {},
     "output_type": "execute_result"
    }
   ],
   "source": [
    "train_x[0]"
   ]
  },
  {
   "cell_type": "code",
   "execution_count": 7,
   "id": "a3db0b24",
   "metadata": {},
   "outputs": [
    {
     "data": {
      "image/png": "[encoded data removed]",
      "text/plain": [
       "<Figure size 432x288 with 1 Axes>"
      ]
     },
     "metadata": {
      "needs_background": "light"
     },
     "output_type": "display_data"
    }
   ],
   "source": [
    "import matplotlib.pyplot as plt\n",
    "plt.imshow(train_x[1], 'gray')\n",
    "plt.show()"
   ]
  },
  {
   "cell_type": "code",
   "execution_count": 8,
   "id": "1f2e33fd",
   "metadata": {},
   "outputs": [
    {
     "data": {
      "text/plain": [
       "0"
      ]
     },
     "execution_count": 8,
     "metadata": {},
     "output_type": "execute_result"
    }
   ],
   "source": [
    "train_y[1]"
   ]
  },
  {
   "cell_type": "code",
   "execution_count": 9,
   "id": "e96b2c70",
   "metadata": {},
   "outputs": [
    {
     "data": {
      "text/plain": [
       "(10000, 28, 28)"
      ]
     },
     "execution_count": 9,
     "metadata": {},
     "output_type": "execute_result"
    }
   ],
   "source": [
    "test_x.shape"
   ]
  },
  {
   "cell_type": "code",
   "execution_count": 10,
   "id": "83a9f392",
   "metadata": {},
   "outputs": [],
   "source": [
    "'''\n",
    "딥러닝은\n",
    "학습시 학습데이터와 검증데이터를 같이 입력\n",
    "epoch(학습횟수)마다 학습과 검증을 동시에 진행\n",
    "\n",
    "train -> train, vaild\n",
    "test\n",
    "'''\n",
    "# 검증데이터 분리\n",
    "from sklearn.model_selection import train_test_split\n",
    "train_x, valid_x, train_y, valid_y = train_test_split(train_x, train_y, random_state=10)"
   ]
  },
  {
   "cell_type": "code",
   "execution_count": 12,
   "id": "d34e3ac5",
   "metadata": {},
   "outputs": [
    {
     "data": {
      "text/plain": [
       "((45000, 28, 28), (15000, 28, 28), (45000,), (15000,))"
      ]
     },
     "execution_count": 12,
     "metadata": {},
     "output_type": "execute_result"
    }
   ],
   "source": [
    "train_x.shape, valid_x.shape, train_y.shape, valid_y.shape"
   ]
  },
  {
   "cell_type": "code",
   "execution_count": 13,
   "id": "05dea44c",
   "metadata": {},
   "outputs": [],
   "source": [
    "# 모델 입력을 위해 차원 변경\n",
    "# 스케일링(색상범위값 255로 나눠줌)\n",
    "train_x = train_x.reshape(train_x.shape[0], 28*28)/255\n",
    "valid_x = valid_x.reshape(valid_x.shape[0], 28*28)/255\n",
    "test_x = test_x.reshape(test_x.shape[0], 28*28)/255"
   ]
  },
  {
   "cell_type": "code",
   "execution_count": 14,
   "id": "081de946",
   "metadata": {},
   "outputs": [],
   "source": [
    "# label의 category값을 원핫인코딩형태로 변환\n",
    "from tensorflow.keras.utils import to_categorical\n",
    "train_y = to_categorical(train_y)\n",
    "valid_y = to_categorical(valid_y)\n",
    "test_y = to_categorical(test_y)"
   ]
  },
  {
   "cell_type": "code",
   "execution_count": 15,
   "id": "40e08110",
   "metadata": {},
   "outputs": [
    {
     "data": {
      "text/plain": [
       "array([0., 0., 0., 0., 0., 0., 0., 0., 1., 0.], dtype=float32)"
      ]
     },
     "execution_count": 15,
     "metadata": {},
     "output_type": "execute_result"
    }
   ],
   "source": [
    "train_y[0]"
   ]
  },
  {
   "cell_type": "code",
   "execution_count": 16,
   "id": "588643a4",
   "metadata": {},
   "outputs": [],
   "source": [
    "'''\n",
    "모델 구현 방법\n",
    "1. 시퀀셜\n",
    "2. 클래스 상속\n",
    "3. 함수형\n",
    "'''\n",
    "# 시퀀셜 방식으로 구현\n",
    "from tensorflow.keras.models import Sequential\n",
    "from tensorflow.keras.layers import Dense"
   ]
  },
  {
   "cell_type": "code",
   "execution_count": 20,
   "id": "9da64146",
   "metadata": {
    "scrolled": true
   },
   "outputs": [
    {
     "name": "stdout",
     "output_type": "stream",
     "text": [
      "Epoch 1/10\n",
      "1407/1407 [==============================] - 2s 1ms/step - loss: 0.3565 - acc: 0.8929 - val_loss: 0.1814 - val_acc: 0.9479\n",
      "Epoch 2/10\n",
      "1407/1407 [==============================] - 2s 1ms/step - loss: 0.1553 - acc: 0.9542 - val_loss: 0.1621 - val_acc: 0.9517\n",
      "Epoch 3/10\n",
      "1407/1407 [==============================] - 2s 1ms/step - loss: 0.1137 - acc: 0.9656 - val_loss: 0.1226 - val_acc: 0.9641\n",
      "Epoch 4/10\n",
      "1407/1407 [==============================] - 2s 1ms/step - loss: 0.0912 - acc: 0.9714 - val_loss: 0.1194 - val_acc: 0.9641\n",
      "Epoch 5/10\n",
      "1407/1407 [==============================] - 2s 1ms/step - loss: 0.0748 - acc: 0.9764 - val_loss: 0.1178 - val_acc: 0.9657\n",
      "Epoch 6/10\n",
      "1407/1407 [==============================] - 2s 1ms/step - loss: 0.0645 - acc: 0.9797 - val_loss: 0.1185 - val_acc: 0.9650\n",
      "Epoch 7/10\n",
      "1407/1407 [==============================] - 2s 1ms/step - loss: 0.0549 - acc: 0.9828 - val_loss: 0.1197 - val_acc: 0.9655\n",
      "Epoch 8/10\n",
      "1407/1407 [==============================] - 2s 1ms/step - loss: 0.0477 - acc: 0.9847 - val_loss: 0.1247 - val_acc: 0.9665\n",
      "Epoch 9/10\n",
      "1407/1407 [==============================] - 2s 1ms/step - loss: 0.0435 - acc: 0.9855 - val_loss: 0.1703 - val_acc: 0.9569\n",
      "Epoch 10/10\n",
      "1407/1407 [==============================] - 2s 1ms/step - loss: 0.0385 - acc: 0.9867 - val_loss: 0.1150 - val_acc: 0.9690\n"
     ]
    },
    {
     "data": {
      "text/plain": [
       "<keras.callbacks.History at 0x1757dd5a9d0>"
      ]
     },
     "execution_count": 20,
     "metadata": {},
     "output_type": "execute_result"
    }
   ],
   "source": [
    "# 모델 구현\n",
    "model = Sequential()\n",
    "# 활성화 함수(relu, sigmoid, tanh)\n",
    "model.add(Dense(64, activation='relu', input_shape=(28*28, ))) # input layer\n",
    "\n",
    "# 히든레이어 추가시(선택사항)---------\n",
    "model.add(Dense(32, activation='relu'))\n",
    "model.add(Dense(32, activation='relu'))\n",
    "# ------------------------------------\n",
    "\n",
    "model.add(Dense(10, activation='softmax')) # output layer\n",
    "\n",
    "# 모델 설정\n",
    "# 옵티마이저, 손실함수, 평가지표\n",
    "model.compile(optimizer='adam', loss='categorical_crossentropy', metrics='acc')\n",
    "# 평가지표 - acc : 정확도(Accuracy)\n",
    "\n",
    "# 학습\n",
    "model.fit(train_x, train_y, epochs=10, validation_data=(valid_x, valid_y))"
   ]
  },
  {
   "cell_type": "code",
   "execution_count": 21,
   "id": "3b2be3cb",
   "metadata": {},
   "outputs": [
    {
     "name": "stdout",
     "output_type": "stream",
     "text": [
      "313/313 [==============================] - 0s 757us/step - loss: 0.1138 - acc: 0.9709\n"
     ]
    },
    {
     "data": {
      "text/plain": [
       "[0.11383494734764099, 0.9708999991416931]"
      ]
     },
     "execution_count": 21,
     "metadata": {},
     "output_type": "execute_result"
    }
   ],
   "source": [
    "# 테스트데이터로 검증(평가)\n",
    "model.evaluate(test_x, test_y)"
   ]
  },
  {
   "cell_type": "code",
   "execution_count": 24,
   "id": "d3568d83",
   "metadata": {
    "collapsed": true
   },
   "outputs": [
    {
     "name": "stdout",
     "output_type": "stream",
     "text": [
      "Epoch 1/10\n",
      "1407/1407 [==============================] - 2s 1ms/step - loss: 0.9773 - acc: 0.7423 - val_loss: 0.3968 - val_acc: 0.9031\n",
      "Epoch 2/10\n",
      "1407/1407 [==============================] - 2s 1ms/step - loss: 0.2940 - acc: 0.9247 - val_loss: 0.2441 - val_acc: 0.9332\n",
      "Epoch 3/10\n",
      "1407/1407 [==============================] - 2s 1ms/step - loss: 0.2006 - acc: 0.9452 - val_loss: 0.1977 - val_acc: 0.9441\n",
      "Epoch 4/10\n",
      "1407/1407 [==============================] - 2s 1ms/step - loss: 0.1569 - acc: 0.9563 - val_loss: 0.1713 - val_acc: 0.9508\n",
      "Epoch 5/10\n",
      "1407/1407 [==============================] - 2s 1ms/step - loss: 0.1275 - acc: 0.9653 - val_loss: 0.1518 - val_acc: 0.9559\n",
      "Epoch 6/10\n",
      "1407/1407 [==============================] - 2s 1ms/step - loss: 0.1071 - acc: 0.9708 - val_loss: 0.1421 - val_acc: 0.9591\n",
      "Epoch 7/10\n",
      "1407/1407 [==============================] - 2s 1ms/step - loss: 0.0908 - acc: 0.9751 - val_loss: 0.1306 - val_acc: 0.9617\n",
      "Epoch 8/10\n",
      "1407/1407 [==============================] - 2s 1ms/step - loss: 0.0786 - acc: 0.9774 - val_loss: 0.1226 - val_acc: 0.9655\n",
      "Epoch 9/10\n",
      "1407/1407 [==============================] - 2s 1ms/step - loss: 0.0677 - acc: 0.9812 - val_loss: 0.1214 - val_acc: 0.9643\n",
      "Epoch 10/10\n",
      "1407/1407 [==============================] - 2s 1ms/step - loss: 0.0588 - acc: 0.9834 - val_loss: 0.1242 - val_acc: 0.9637\n",
      "Epoch 1/10\n",
      "1407/1407 [==============================] - 2s 1ms/step - loss: 0.3526 - acc: 0.9046 - val_loss: 0.1953 - val_acc: 0.9418\n",
      "Epoch 2/10\n",
      "1407/1407 [==============================] - 2s 1ms/step - loss: 0.1543 - acc: 0.9540 - val_loss: 0.1416 - val_acc: 0.9562\n",
      "Epoch 3/10\n",
      "1407/1407 [==============================] - 2s 1ms/step - loss: 0.1075 - acc: 0.9682 - val_loss: 0.1288 - val_acc: 0.9618\n",
      "Epoch 4/10\n",
      "1407/1407 [==============================] - 2s 1ms/step - loss: 0.0838 - acc: 0.9747 - val_loss: 0.1107 - val_acc: 0.9667\n",
      "Epoch 5/10\n",
      "1407/1407 [==============================] - 2s 1ms/step - loss: 0.0670 - acc: 0.9796 - val_loss: 0.1088 - val_acc: 0.9675\n",
      "Epoch 6/10\n",
      "1407/1407 [==============================] - 2s 1ms/step - loss: 0.0560 - acc: 0.9828 - val_loss: 0.1178 - val_acc: 0.9659\n",
      "Epoch 7/10\n",
      "1407/1407 [==============================] - 2s 1ms/step - loss: 0.0454 - acc: 0.9862 - val_loss: 0.1282 - val_acc: 0.9637\n",
      "Epoch 8/10\n",
      "1407/1407 [==============================] - 2s 1ms/step - loss: 0.0390 - acc: 0.9881 - val_loss: 0.1191 - val_acc: 0.9655\n",
      "Epoch 9/10\n",
      "1407/1407 [==============================] - 2s 1ms/step - loss: 0.0348 - acc: 0.9890 - val_loss: 0.1185 - val_acc: 0.9684\n",
      "Epoch 10/10\n",
      "1407/1407 [==============================] - 2s 1ms/step - loss: 0.0274 - acc: 0.9914 - val_loss: 0.1265 - val_acc: 0.9656\n",
      "Epoch 1/10\n",
      "1407/1407 [==============================] - 2s 1ms/step - loss: 0.3381 - acc: 0.9011 - val_loss: 0.1834 - val_acc: 0.9461\n",
      "Epoch 2/10\n",
      "1407/1407 [==============================] - 2s 1ms/step - loss: 0.1528 - acc: 0.9547 - val_loss: 0.1411 - val_acc: 0.9590\n",
      "Epoch 3/10\n",
      "1407/1407 [==============================] - 2s 1ms/step - loss: 0.1102 - acc: 0.9658 - val_loss: 0.1333 - val_acc: 0.9608\n",
      "Epoch 4/10\n",
      "1407/1407 [==============================] - 2s 1ms/step - loss: 0.0882 - acc: 0.9726 - val_loss: 0.1264 - val_acc: 0.9637\n",
      "Epoch 5/10\n",
      "1407/1407 [==============================] - 2s 1ms/step - loss: 0.0724 - acc: 0.9777 - val_loss: 0.1241 - val_acc: 0.9651\n",
      "Epoch 6/10\n",
      "1407/1407 [==============================] - 2s 1ms/step - loss: 0.0598 - acc: 0.9812 - val_loss: 0.1338 - val_acc: 0.9615\n",
      "Epoch 7/10\n",
      "1407/1407 [==============================] - 2s 1ms/step - loss: 0.0522 - acc: 0.9827 - val_loss: 0.1240 - val_acc: 0.9666\n",
      "Epoch 8/10\n",
      "1407/1407 [==============================] - 2s 1ms/step - loss: 0.0447 - acc: 0.9855 - val_loss: 0.1203 - val_acc: 0.9665\n",
      "Epoch 9/10\n",
      "1407/1407 [==============================] - 2s 1ms/step - loss: 0.0391 - acc: 0.9871 - val_loss: 0.1241 - val_acc: 0.9692\n",
      "Epoch 10/10\n",
      "1407/1407 [==============================] - 2s 1ms/step - loss: 0.0358 - acc: 0.9879 - val_loss: 0.1342 - val_acc: 0.9681\n"
     ]
    }
   ],
   "source": [
    "# 활성화 함수 비교\n",
    "for f in ['sigmoid', 'tanh', 'relu'] :\n",
    "    # 모델 구현\n",
    "    model = Sequential()\n",
    "    # 활성화 함수(relu, sigmoid, tanh)\n",
    "    model.add(Dense(64, activation=f, input_shape=(28*28, ))) # input layer\n",
    "\n",
    "    # 히든레이어 추가시(선택사항)---------\n",
    "    model.add(Dense(32, activation=f))\n",
    "    model.add(Dense(32, activation=f))\n",
    "    # ------------------------------------\n",
    "\n",
    "    model.add(Dense(10, activation='softmax')) # output layer\n",
    "\n",
    "    # 모델 설정\n",
    "    # 옵티마이저, 손실함수, 평가지표\n",
    "    model.compile(optimizer='adam', loss='categorical_crossentropy', metrics='acc')\n",
    "    # 평가지표 - acc : 정확도(Accuracy)\n",
    "\n",
    "    # 학습\n",
    "    model.fit(train_x, train_y, epochs=10, validation_data=(valid_x, valid_y))"
   ]
  },
  {
   "cell_type": "code",
   "execution_count": 32,
   "id": "bc2d26b1",
   "metadata": {},
   "outputs": [
    {
     "data": {
      "text/plain": [
       "<tf.Tensor: shape=(3,), dtype=float32, numpy=array([0.2693075 , 0.3289329 , 0.40175956], dtype=float32)>"
      ]
     },
     "execution_count": 32,
     "metadata": {},
     "output_type": "execute_result"
    }
   ],
   "source": [
    "# softmax함수\n",
    "tf.nn.softmax([0.1, 0.3, 0.5])"
   ]
  },
  {
   "cell_type": "code",
   "execution_count": 71,
   "id": "2ac5bdf5",
   "metadata": {},
   "outputs": [
    {
     "data": {
      "text/plain": [
       "0.99999994"
      ]
     },
     "execution_count": 71,
     "metadata": {},
     "output_type": "execute_result"
    }
   ],
   "source": [
    "tf.nn.softmax([0.1, 0.3, 0.5]).numpy().sum()"
   ]
  },
  {
   "cell_type": "code",
   "execution_count": 79,
   "id": "a10b617f",
   "metadata": {
    "scrolled": true
   },
   "outputs": [
    {
     "name": "stdout",
     "output_type": "stream",
     "text": [
      "Epoch 1/10\n",
      "900/900 [==============================] - 2s 1ms/step - loss: 0.3822 - acc: 0.8880 - val_loss: 0.2015 - val_acc: 0.9415\n",
      "Epoch 2/10\n",
      "900/900 [==============================] - 1s 1ms/step - loss: 0.1646 - acc: 0.9518 - val_loss: 0.1497 - val_acc: 0.9546\n",
      "Epoch 3/10\n",
      "900/900 [==============================] - 1s 1ms/step - loss: 0.1178 - acc: 0.9641 - val_loss: 0.1217 - val_acc: 0.9627\n",
      "Epoch 4/10\n",
      "900/900 [==============================] - 1s 1ms/step - loss: 0.0918 - acc: 0.9729 - val_loss: 0.1176 - val_acc: 0.9649\n",
      "Epoch 5/10\n",
      "900/900 [==============================] - 1s 1ms/step - loss: 0.0763 - acc: 0.9759 - val_loss: 0.1242 - val_acc: 0.9647\n",
      "Epoch 6/10\n",
      "900/900 [==============================] - 1s 1ms/step - loss: 0.0637 - acc: 0.9799 - val_loss: 0.1147 - val_acc: 0.9677\n",
      "Epoch 7/10\n",
      "900/900 [==============================] - 1s 1ms/step - loss: 0.0524 - acc: 0.9832 - val_loss: 0.1103 - val_acc: 0.9688\n",
      "Epoch 8/10\n",
      "900/900 [==============================] - 1s 1ms/step - loss: 0.0499 - acc: 0.9840 - val_loss: 0.1067 - val_acc: 0.9718\n",
      "Epoch 9/10\n",
      "900/900 [==============================] - 1s 1ms/step - loss: 0.0409 - acc: 0.9872 - val_loss: 0.1112 - val_acc: 0.9700\n",
      "Epoch 10/10\n",
      "900/900 [==============================] - 1s 1ms/step - loss: 0.0354 - acc: 0.9883 - val_loss: 0.1140 - val_acc: 0.9700\n"
     ]
    },
    {
     "data": {
      "text/plain": [
       "<keras.callbacks.History at 0x175051251c0>"
      ]
     },
     "execution_count": 79,
     "metadata": {},
     "output_type": "execute_result"
    }
   ],
   "source": [
    "# 모델 설정\n",
    "# optimizer\n",
    "# SGD : 확률적 경사 하강법, 랜덤데이터의 가중치를 사용, 정확도 떨어짐\n",
    "# RMSprop : 학습률을 조정해서 속도 개선(Adagrad 개선)\n",
    "# Adam : RMSprop랑 Adagrad가 결합된 버전 (현재까지는 가장 좋은 성능)\n",
    "from tensorflow.keras.optimizers import Adam, SGD, RMSprop\n",
    "# 손실함수\n",
    "from tensorflow.keras.losses import CategoricalCrossentropy\n",
    "\n",
    "# 모델 구현\n",
    "model = Sequential()\n",
    "# 활성화 함수(relu, sigmoid, tanh)\n",
    "model.add(Dense(64, activation='relu', input_shape=(28*28, ))) # input layer\n",
    "\n",
    "# 히든레이어 추가시(선택사항)---------\n",
    "model.add(Dense(32, activation='relu'))\n",
    "model.add(Dense(32, activation='relu'))\n",
    "# ------------------------------------\n",
    "\n",
    "model.add(Dense(10, activation='softmax')) # output layer\n",
    "\n",
    "# 모델 설정\n",
    "# 옵티마이저, 손실함수, 평가지표\n",
    "model.compile(optimizer=Adam(learning_rate=0.001), loss=CategoricalCrossentropy(), metrics='acc')\n",
    "# 평가지표 - acc : 정확도(Accuracy)\n",
    "\n",
    "# 학습\n",
    "model.fit(train_x, train_y, epochs=10, batch_size=50,validation_data=(valid_x, valid_y))"
   ]
  },
  {
   "cell_type": "code",
   "execution_count": 81,
   "id": "b2fc573d",
   "metadata": {
    "scrolled": true
   },
   "outputs": [
    {
     "name": "stdout",
     "output_type": "stream",
     "text": [
      "Epoch 1/50\n",
      "900/900 [==============================] - 2s 1ms/step - loss: 0.3736 - acc: 0.8890 - val_loss: 0.2008 - val_acc: 0.9403\n",
      "Epoch 2/50\n",
      "900/900 [==============================] - 1s 1ms/step - loss: 0.1565 - acc: 0.9533 - val_loss: 0.1539 - val_acc: 0.9546\n",
      "Epoch 3/50\n",
      "900/900 [==============================] - 1s 1ms/step - loss: 0.1163 - acc: 0.9650 - val_loss: 0.1523 - val_acc: 0.9548\n",
      "Epoch 4/50\n",
      "900/900 [==============================] - 1s 1ms/step - loss: 0.0961 - acc: 0.9705 - val_loss: 0.1229 - val_acc: 0.9638\n",
      "Epoch 5/50\n",
      "900/900 [==============================] - 1s 1ms/step - loss: 0.0778 - acc: 0.9763 - val_loss: 0.1243 - val_acc: 0.9642\n",
      "Epoch 6/50\n",
      "900/900 [==============================] - 1s 1ms/step - loss: 0.0673 - acc: 0.9790 - val_loss: 0.1158 - val_acc: 0.9683\n",
      "Epoch 7/50\n",
      "900/900 [==============================] - 1s 1ms/step - loss: 0.0555 - acc: 0.9818 - val_loss: 0.1108 - val_acc: 0.9699\n",
      "Epoch 8/50\n",
      "900/900 [==============================] - 1s 1ms/step - loss: 0.0477 - acc: 0.9848 - val_loss: 0.1183 - val_acc: 0.9681\n",
      "Epoch 9/50\n",
      "900/900 [==============================] - 1s 1ms/step - loss: 0.0427 - acc: 0.9860 - val_loss: 0.1242 - val_acc: 0.9678\n",
      "Epoch 10/50\n",
      "900/900 [==============================] - 1s 1ms/step - loss: 0.0366 - acc: 0.9883 - val_loss: 0.1287 - val_acc: 0.9678\n",
      "Epoch 11/50\n",
      "900/900 [==============================] - 1s 1ms/step - loss: 0.0328 - acc: 0.9892 - val_loss: 0.1286 - val_acc: 0.9695\n",
      "Epoch 12/50\n",
      "900/900 [==============================] - 1s 1ms/step - loss: 0.0298 - acc: 0.9904 - val_loss: 0.1490 - val_acc: 0.9641\n",
      "Epoch 13/50\n",
      "900/900 [==============================] - 1s 1ms/step - loss: 0.0262 - acc: 0.9912 - val_loss: 0.1333 - val_acc: 0.9692\n",
      "Epoch 14/50\n",
      "900/900 [==============================] - 1s 1ms/step - loss: 0.0232 - acc: 0.9923 - val_loss: 0.1436 - val_acc: 0.9672\n",
      "Epoch 15/50\n",
      "900/900 [==============================] - 1s 1ms/step - loss: 0.0221 - acc: 0.9924 - val_loss: 0.1550 - val_acc: 0.9669\n",
      "Epoch 16/50\n",
      "900/900 [==============================] - 1s 1ms/step - loss: 0.0196 - acc: 0.9930 - val_loss: 0.1628 - val_acc: 0.9641\n",
      "Epoch 17/50\n",
      "900/900 [==============================] - 1s 1ms/step - loss: 0.0188 - acc: 0.9935 - val_loss: 0.1687 - val_acc: 0.9663\n",
      "Epoch 18/50\n",
      "900/900 [==============================] - 1s 1ms/step - loss: 0.0164 - acc: 0.9945 - val_loss: 0.1698 - val_acc: 0.9676\n",
      "Epoch 19/50\n",
      "900/900 [==============================] - 1s 1ms/step - loss: 0.0178 - acc: 0.9942 - val_loss: 0.1646 - val_acc: 0.9671\n",
      "Epoch 20/50\n",
      "900/900 [==============================] - 1s 1ms/step - loss: 0.0185 - acc: 0.9940 - val_loss: 0.1726 - val_acc: 0.9653\n",
      "Epoch 21/50\n",
      "900/900 [==============================] - 1s 1ms/step - loss: 0.0137 - acc: 0.9957 - val_loss: 0.1861 - val_acc: 0.9664\n",
      "Epoch 22/50\n",
      "900/900 [==============================] - 1s 1ms/step - loss: 0.0112 - acc: 0.9961 - val_loss: 0.1816 - val_acc: 0.9685\n",
      "Epoch 23/50\n",
      "900/900 [==============================] - 1s 1ms/step - loss: 0.0144 - acc: 0.9947 - val_loss: 0.1940 - val_acc: 0.9654\n",
      "Epoch 24/50\n",
      "900/900 [==============================] - 1s 1ms/step - loss: 0.0169 - acc: 0.9944 - val_loss: 0.1941 - val_acc: 0.9662\n",
      "Epoch 25/50\n",
      "900/900 [==============================] - 1s 1ms/step - loss: 0.0096 - acc: 0.9968 - val_loss: 0.1897 - val_acc: 0.9672\n",
      "Epoch 26/50\n",
      "900/900 [==============================] - 1s 1ms/step - loss: 0.0155 - acc: 0.9952 - val_loss: 0.2021 - val_acc: 0.9688\n",
      "Epoch 27/50\n",
      "900/900 [==============================] - 1s 1ms/step - loss: 0.0122 - acc: 0.9958 - val_loss: 0.2006 - val_acc: 0.9676\n",
      "Epoch 28/50\n",
      "900/900 [==============================] - 1s 1ms/step - loss: 0.0129 - acc: 0.9958 - val_loss: 0.1947 - val_acc: 0.9693\n",
      "Epoch 29/50\n",
      "900/900 [==============================] - 1s 1ms/step - loss: 0.0092 - acc: 0.9970 - val_loss: 0.2345 - val_acc: 0.9647\n",
      "Epoch 30/50\n",
      "900/900 [==============================] - 1s 1ms/step - loss: 0.0139 - acc: 0.9956 - val_loss: 0.2138 - val_acc: 0.9669\n",
      "Epoch 31/50\n",
      "900/900 [==============================] - 1s 1ms/step - loss: 0.0082 - acc: 0.9974 - val_loss: 0.1998 - val_acc: 0.9711\n",
      "Epoch 32/50\n",
      "900/900 [==============================] - 1s 1ms/step - loss: 0.0116 - acc: 0.9961 - val_loss: 0.1998 - val_acc: 0.9696\n",
      "Epoch 33/50\n",
      "900/900 [==============================] - 1s 1ms/step - loss: 0.0104 - acc: 0.9965 - val_loss: 0.2252 - val_acc: 0.9673\n",
      "Epoch 34/50\n",
      "900/900 [==============================] - 1s 1ms/step - loss: 0.0083 - acc: 0.9975 - val_loss: 0.2093 - val_acc: 0.9681\n",
      "Epoch 35/50\n",
      "900/900 [==============================] - 1s 1ms/step - loss: 0.0108 - acc: 0.9966 - val_loss: 0.2256 - val_acc: 0.9691\n",
      "Epoch 36/50\n",
      "900/900 [==============================] - 1s 1ms/step - loss: 0.0141 - acc: 0.9953 - val_loss: 0.2249 - val_acc: 0.9688\n",
      "Epoch 37/50\n",
      "900/900 [==============================] - 1s 1ms/step - loss: 0.0048 - acc: 0.9986 - val_loss: 0.2244 - val_acc: 0.9682\n",
      "Epoch 38/50\n",
      "900/900 [==============================] - 1s 1ms/step - loss: 0.0101 - acc: 0.9967 - val_loss: 0.2254 - val_acc: 0.9684\n",
      "Epoch 39/50\n",
      "900/900 [==============================] - 1s 1ms/step - loss: 0.0070 - acc: 0.9979 - val_loss: 0.2055 - val_acc: 0.9719\n",
      "Epoch 40/50\n",
      "900/900 [==============================] - 1s 1ms/step - loss: 0.0094 - acc: 0.9971 - val_loss: 0.2469 - val_acc: 0.9668\n",
      "Epoch 41/50\n",
      "900/900 [==============================] - 1s 1ms/step - loss: 0.0124 - acc: 0.9961 - val_loss: 0.2248 - val_acc: 0.9685\n",
      "Epoch 42/50\n",
      "900/900 [==============================] - 1s 1ms/step - loss: 0.0090 - acc: 0.9973 - val_loss: 0.2345 - val_acc: 0.9671\n",
      "Epoch 43/50\n",
      "900/900 [==============================] - 1s 1ms/step - loss: 0.0085 - acc: 0.9972 - val_loss: 0.2485 - val_acc: 0.9673\n",
      "Epoch 44/50\n",
      "900/900 [==============================] - 1s 1ms/step - loss: 0.0096 - acc: 0.9968 - val_loss: 0.2420 - val_acc: 0.9708\n",
      "Epoch 45/50\n",
      "900/900 [==============================] - 1s 1ms/step - loss: 0.0065 - acc: 0.9977 - val_loss: 0.2252 - val_acc: 0.9701\n",
      "Epoch 46/50\n",
      "900/900 [==============================] - 1s 1ms/step - loss: 0.0051 - acc: 0.9983 - val_loss: 0.2324 - val_acc: 0.9711\n",
      "Epoch 47/50\n",
      "900/900 [==============================] - 1s 1ms/step - loss: 0.0133 - acc: 0.9959 - val_loss: 0.2505 - val_acc: 0.9685\n",
      "Epoch 48/50\n",
      "900/900 [==============================] - 1s 1ms/step - loss: 0.0066 - acc: 0.9978 - val_loss: 0.2421 - val_acc: 0.9679\n",
      "Epoch 49/50\n",
      "900/900 [==============================] - 1s 1ms/step - loss: 0.0084 - acc: 0.9971 - val_loss: 0.2484 - val_acc: 0.9693\n",
      "Epoch 50/50\n",
      "900/900 [==============================] - 1s 1ms/step - loss: 0.0100 - acc: 0.9969 - val_loss: 0.2257 - val_acc: 0.9715\n"
     ]
    }
   ],
   "source": [
    "# 모델 평가\n",
    "\n",
    "# 모델 구현\n",
    "model = Sequential()\n",
    "# 활성화 함수(relu, sigmoid, tanh)\n",
    "model.add(Dense(64, activation='relu', input_shape=(28*28, ))) # input layer\n",
    "\n",
    "# 히든레이어 추가시(선택사항)---------\n",
    "model.add(Dense(32, activation='relu'))\n",
    "model.add(Dense(32, activation='relu'))\n",
    "# ------------------------------------\n",
    "\n",
    "model.add(Dense(10, activation='softmax')) # output layer\n",
    "\n",
    "# 모델 설정\n",
    "# 옵티마이저, 손실함수, 평가지표\n",
    "model.compile(optimizer='adam', loss='categorical_crossentropy', metrics='acc')\n",
    "# 평가지표 - acc : 정확도(Accuracy)\n",
    "\n",
    "# 학습\n",
    "history = model.fit(train_x, train_y, epochs=50, batch_size=50,validation_data=(valid_x, valid_y))"
   ]
  },
  {
   "cell_type": "code",
   "execution_count": 82,
   "id": "7e51b653",
   "metadata": {},
   "outputs": [
    {
     "data": {
      "text/plain": [
       "{'loss': [0.3736475706100464,\n",
       "  0.15650276839733124,\n",
       "  0.11633538454771042,\n",
       "  0.0960909053683281,\n",
       "  0.07780486345291138,\n",
       "  0.06734658032655716,\n",
       "  0.05549219995737076,\n",
       "  0.047694530338048935,\n",
       "  0.04271969571709633,\n",
       "  0.0366467647254467,\n",
       "  0.032793108373880386,\n",
       "  0.02976861223578453,\n",
       "  0.026158971711993217,\n",
       "  0.023196915164589882,\n",
       "  0.02205898053944111,\n",
       "  0.019642150029540062,\n",
       "  0.018793581053614616,\n",
       "  0.016398996114730835,\n",
       "  0.017849262803792953,\n",
       "  0.018484193831682205,\n",
       "  0.013664702884852886,\n",
       "  0.01115345023572445,\n",
       "  0.014389383606612682,\n",
       "  0.01685505546629429,\n",
       "  0.009593089111149311,\n",
       "  0.015542054548859596,\n",
       "  0.012245915830135345,\n",
       "  0.012946846894919872,\n",
       "  0.009159239009022713,\n",
       "  0.013915483839809895,\n",
       "  0.008214781992137432,\n",
       "  0.011553766205906868,\n",
       "  0.010366811417043209,\n",
       "  0.008253238163888454,\n",
       "  0.010759302414953709,\n",
       "  0.014135949313640594,\n",
       "  0.004799296613782644,\n",
       "  0.010142759419977665,\n",
       "  0.006952133495360613,\n",
       "  0.009426116943359375,\n",
       "  0.01236541848629713,\n",
       "  0.00904250331223011,\n",
       "  0.008474729023873806,\n",
       "  0.009569542482495308,\n",
       "  0.006475561298429966,\n",
       "  0.005133769474923611,\n",
       "  0.013295033015310764,\n",
       "  0.006623076740652323,\n",
       "  0.00840977393090725,\n",
       "  0.00998692400753498],\n",
       " 'acc': [0.8889999985694885,\n",
       "  0.95333331823349,\n",
       "  0.9649778008460999,\n",
       "  0.970466673374176,\n",
       "  0.9763110876083374,\n",
       "  0.979022204875946,\n",
       "  0.9818221926689148,\n",
       "  0.984844446182251,\n",
       "  0.9860000014305115,\n",
       "  0.9883333444595337,\n",
       "  0.9891777634620667,\n",
       "  0.990422248840332,\n",
       "  0.9911777973175049,\n",
       "  0.9922666549682617,\n",
       "  0.992377758026123,\n",
       "  0.9929999709129333,\n",
       "  0.9935333132743835,\n",
       "  0.994533360004425,\n",
       "  0.9941999912261963,\n",
       "  0.9940000176429749,\n",
       "  0.9956666827201843,\n",
       "  0.996066689491272,\n",
       "  0.9947111010551453,\n",
       "  0.9943777918815613,\n",
       "  0.9968222379684448,\n",
       "  0.9951555728912354,\n",
       "  0.9958222508430481,\n",
       "  0.9958222508430481,\n",
       "  0.9969555735588074,\n",
       "  0.995555579662323,\n",
       "  0.9973777532577515,\n",
       "  0.996066689491272,\n",
       "  0.9964666962623596,\n",
       "  0.9974666833877563,\n",
       "  0.996577799320221,\n",
       "  0.9953110814094543,\n",
       "  0.9985555410385132,\n",
       "  0.9967111349105835,\n",
       "  0.997866690158844,\n",
       "  0.9971333146095276,\n",
       "  0.9960888624191284,\n",
       "  0.9973111152648926,\n",
       "  0.9971555471420288,\n",
       "  0.9967555403709412,\n",
       "  0.997688889503479,\n",
       "  0.9983111023902893,\n",
       "  0.9958666563034058,\n",
       "  0.9978222250938416,\n",
       "  0.9971110820770264,\n",
       "  0.9969111084938049],\n",
       " 'val_loss': [0.20079006254673004,\n",
       "  0.1539091318845749,\n",
       "  0.15232379734516144,\n",
       "  0.12285226583480835,\n",
       "  0.12430976331233978,\n",
       "  0.11580988019704819,\n",
       "  0.11077549308538437,\n",
       "  0.1182781457901001,\n",
       "  0.12418024241924286,\n",
       "  0.1287175714969635,\n",
       "  0.12855489552021027,\n",
       "  0.14904646575450897,\n",
       "  0.13332068920135498,\n",
       "  0.1435735672712326,\n",
       "  0.15495377779006958,\n",
       "  0.1628393828868866,\n",
       "  0.168743297457695,\n",
       "  0.1698344200849533,\n",
       "  0.16463275253772736,\n",
       "  0.17261512577533722,\n",
       "  0.1860923022031784,\n",
       "  0.18164603412151337,\n",
       "  0.19402046501636505,\n",
       "  0.19410468637943268,\n",
       "  0.18974173069000244,\n",
       "  0.20207533240318298,\n",
       "  0.20058085024356842,\n",
       "  0.19470737874507904,\n",
       "  0.23454652726650238,\n",
       "  0.2138022780418396,\n",
       "  0.19980138540267944,\n",
       "  0.19982360303401947,\n",
       "  0.22515881061553955,\n",
       "  0.2093309611082077,\n",
       "  0.22560124099254608,\n",
       "  0.22491666674613953,\n",
       "  0.2244301438331604,\n",
       "  0.22541409730911255,\n",
       "  0.2055104672908783,\n",
       "  0.24691709876060486,\n",
       "  0.22475561499595642,\n",
       "  0.2344721257686615,\n",
       "  0.24847780168056488,\n",
       "  0.24201397597789764,\n",
       "  0.22518710792064667,\n",
       "  0.23238694667816162,\n",
       "  0.25052186846733093,\n",
       "  0.24205072224140167,\n",
       "  0.24839064478874207,\n",
       "  0.22572357952594757],\n",
       " 'val_acc': [0.9402666687965393,\n",
       "  0.9545999765396118,\n",
       "  0.954800009727478,\n",
       "  0.9638000130653381,\n",
       "  0.9642000198364258,\n",
       "  0.9682666659355164,\n",
       "  0.9698666930198669,\n",
       "  0.9680666923522949,\n",
       "  0.9678000211715698,\n",
       "  0.9678000211715698,\n",
       "  0.9694666862487793,\n",
       "  0.9640666842460632,\n",
       "  0.9692000150680542,\n",
       "  0.967199981212616,\n",
       "  0.9669333100318909,\n",
       "  0.9640666842460632,\n",
       "  0.9662666916847229,\n",
       "  0.9675999879837036,\n",
       "  0.9671333432197571,\n",
       "  0.9653333425521851,\n",
       "  0.9664000272750854,\n",
       "  0.9685333371162415,\n",
       "  0.965399980545044,\n",
       "  0.9661999940872192,\n",
       "  0.967199981212616,\n",
       "  0.9688000082969666,\n",
       "  0.9675999879837036,\n",
       "  0.9693333506584167,\n",
       "  0.9646666646003723,\n",
       "  0.9669333100318909,\n",
       "  0.9711333513259888,\n",
       "  0.9696000218391418,\n",
       "  0.9672666788101196,\n",
       "  0.9680666923522949,\n",
       "  0.9690666794776917,\n",
       "  0.9688000082969666,\n",
       "  0.9682000279426575,\n",
       "  0.9684000015258789,\n",
       "  0.9719333052635193,\n",
       "  0.9667999744415283,\n",
       "  0.9685333371162415,\n",
       "  0.9670666456222534,\n",
       "  0.9673333168029785,\n",
       "  0.97079998254776,\n",
       "  0.9701333045959473,\n",
       "  0.9710666537284851,\n",
       "  0.9685333371162415,\n",
       "  0.9678666591644287,\n",
       "  0.9693333506584167,\n",
       "  0.9714666604995728]}"
      ]
     },
     "execution_count": 82,
     "metadata": {},
     "output_type": "execute_result"
    }
   ],
   "source": [
    "history.history"
   ]
  },
  {
   "cell_type": "code",
   "execution_count": 84,
   "id": "b2dd2f65",
   "metadata": {},
   "outputs": [
    {
     "data": {
      "image/png": "[encoded data removed]",
      "text/plain": [
       "<Figure size 432x288 with 1 Axes>"
      ]
     },
     "metadata": {
      "needs_background": "light"
     },
     "output_type": "display_data"
    }
   ],
   "source": [
    "# loss(학습데이터의 로스)와 val_loss(검증데이터의 로스) 비교\n",
    "plt.plot(history.history['loss'], c='r')\n",
    "plt.plot(history.history['val_loss'], c='b')\n",
    "plt.show()"
   ]
  },
  {
   "cell_type": "code",
   "execution_count": 85,
   "id": "1c3b0858",
   "metadata": {},
   "outputs": [
    {
     "name": "stdout",
     "output_type": "stream",
     "text": [
      "313/313 [==============================] - 0s 789us/step - loss: 0.2232 - acc: 0.9707\n"
     ]
    },
    {
     "data": {
      "text/plain": [
       "[0.22315539419651031, 0.9707000255584717]"
      ]
     },
     "execution_count": 85,
     "metadata": {},
     "output_type": "execute_result"
    }
   ],
   "source": [
    "model.evaluate(test_x, test_y)"
   ]
  },
  {
   "cell_type": "code",
   "execution_count": 95,
   "id": "33d09578",
   "metadata": {},
   "outputs": [
    {
     "name": "stdout",
     "output_type": "stream",
     "text": [
      "313/313 [==============================] - 0s 644us/step\n"
     ]
    },
    {
     "data": {
      "text/plain": [
       "array([[ 968,    0,    2,    2,    0,    1,    2,    2,    3,    0],\n",
       "       [   0, 1124,    1,    2,    0,    1,    1,    1,    5,    0],\n",
       "       [   2,    1, 1007,   10,    1,    0,    1,    4,    5,    1],\n",
       "       [   0,    0,    9,  986,    0,    2,    0,    4,    7,    2],\n",
       "       [   4,    0,    5,    0,  936,    3,    7,    2,    1,   24],\n",
       "       [   2,    1,    0,   18,    1,  854,    8,    1,    5,    2],\n",
       "       [  11,    3,    2,    1,    5,    5,  928,    0,    3,    0],\n",
       "       [   1,    2,   11,    2,    4,    1,    0,  992,    4,   11],\n",
       "       [   3,    0,    8,    8,    3,    1,    5,    6,  935,    5],\n",
       "       [   2,    3,    1,   11,    8,    4,    0,    3,    0,  977]],\n",
       "      dtype=int64)"
      ]
     },
     "execution_count": 95,
     "metadata": {},
     "output_type": "execute_result"
    }
   ],
   "source": [
    "# 혼동행렬(confusion matrix)\n",
    "from sklearn.metrics import confusion_matrix\n",
    "pred = model.predict(test_x)\n",
    "confusion_matrix(np.argmax(test_y, axis=1), np.argmax(pred, axis=1))"
   ]
  },
  {
   "cell_type": "code",
   "execution_count": 91,
   "id": "352cadc6",
   "metadata": {},
   "outputs": [
    {
     "data": {
      "text/plain": [
       "array([1.3006688e-14, 1.6864660e-13, 5.7207791e-17, 9.7595404e-12,\n",
       "       1.0986964e-21, 9.9569936e-14, 2.7116116e-30, 9.9999976e-01,\n",
       "       7.0303979e-14, 2.6590533e-07], dtype=float32)"
      ]
     },
     "execution_count": 91,
     "metadata": {},
     "output_type": "execute_result"
    }
   ],
   "source": [
    "pred[0]"
   ]
  },
  {
   "cell_type": "code",
   "execution_count": 94,
   "id": "84cbcf36",
   "metadata": {},
   "outputs": [
    {
     "data": {
      "text/plain": [
       "array([0., 0., 0., 0., 0., 0., 0., 1., 0., 0.], dtype=float32)"
      ]
     },
     "execution_count": 94,
     "metadata": {},
     "output_type": "execute_result"
    }
   ],
   "source": [
    "test_y[0]"
   ]
  },
  {
   "cell_type": "code",
   "execution_count": 93,
   "id": "4e5d55ab",
   "metadata": {},
   "outputs": [
    {
     "data": {
      "text/plain": [
       "array([7, 2, 1, ..., 4, 5, 6], dtype=int64)"
      ]
     },
     "execution_count": 93,
     "metadata": {},
     "output_type": "execute_result"
    }
   ],
   "source": [
    "import numpy as np\n",
    "np.argmax(pred, axis=1)"
   ]
  },
  {
   "cell_type": "code",
   "execution_count": 96,
   "id": "8f17f4e6",
   "metadata": {},
   "outputs": [
    {
     "name": "stdout",
     "output_type": "stream",
     "text": [
      "              precision    recall  f1-score   support\n",
      "\n",
      "           0       0.97      0.99      0.98       980\n",
      "           1       0.99      0.99      0.99      1135\n",
      "           2       0.96      0.98      0.97      1032\n",
      "           3       0.95      0.98      0.96      1010\n",
      "           4       0.98      0.95      0.96       982\n",
      "           5       0.98      0.96      0.97       892\n",
      "           6       0.97      0.97      0.97       958\n",
      "           7       0.98      0.96      0.97      1028\n",
      "           8       0.97      0.96      0.96       974\n",
      "           9       0.96      0.97      0.96      1009\n",
      "\n",
      "    accuracy                           0.97     10000\n",
      "   macro avg       0.97      0.97      0.97     10000\n",
      "weighted avg       0.97      0.97      0.97     10000\n",
      "\n"
     ]
    }
   ],
   "source": [
    "# 분류보고서\n",
    "from sklearn.metrics import classification_report\n",
    "print(classification_report(np.argmax(test_y, axis=1), np.argmax(pred, axis=1)))"
   ]
  },
  {
   "cell_type": "code",
   "execution_count": null,
   "id": "966cbcbe",
   "metadata": {},
   "outputs": [],
   "source": []
  }
 ],
 "metadata": {
  "kernelspec": {
   "display_name": "Python 3 (ipykernel)",
   "language": "python",
   "name": "python3"
  },
  "language_info": {
   "codemirror_mode": {
    "name": "ipython",
    "version": 3
   },
   "file_extension": ".py",
   "mimetype": "text/x-python",
   "name": "python",
   "nbconvert_exporter": "python",
   "pygments_lexer": "ipython3",
   "version": "3.9.12"
  }
 },
 "nbformat": 4,
 "nbformat_minor": 5
}
