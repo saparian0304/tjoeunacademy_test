{
 "cells": [
  {
   "cell_type": "markdown",
   "id": "01b06f73",
   "metadata": {},
   "source": [
    "### 감정분석\n",
    "* 텍스트에 숨겨져있는 저자의 의도/정보를 찾아내는 방법\n",
    "* Opinion Mining, Sentiment Mining\n",
    "* 긍정/부정으로 나눠지는 형태\n",
    "* text classification\n",
    "\n",
    "### 텍스트 분류\n",
    "* 벡터형태로된 텍스트를 분류\n",
    "* 주로 딥러닝(LSTM) 사용\n",
    "* 예) QnA, 챗봇(답변), 질문분류..."
   ]
  },
  {
   "cell_type": "code",
   "execution_count": 6,
   "id": "eabb3d71",
   "metadata": {},
   "outputs": [],
   "source": [
    "# 파일읽어오는 함수\n",
    "def readFile(path):\n",
    "    with open(path, encoding='utf-8') as f:\n",
    "        doc = []\n",
    "        for line in f.read().splitlines()[1:]:\n",
    "            doc.append(line.split('\\t')[1:])\n",
    "    return doc"
   ]
  },
  {
   "cell_type": "code",
   "execution_count": 7,
   "id": "8bb24483",
   "metadata": {},
   "outputs": [],
   "source": [
    "# NSMC 학습데이터와 테스트데이터 파일을 읽어오기\n",
    "train = readFile('ratings_train.txt')\n",
    "test = readFile('ratings_test.txt')"
   ]
  },
  {
   "cell_type": "code",
   "execution_count": 8,
   "id": "271f43a9",
   "metadata": {},
   "outputs": [
    {
     "data": {
      "text/plain": [
       "[['아 더빙.. 진짜 짜증나네요 목소리', '0'],\n",
       " ['흠...포스터보고 초딩영화줄....오버연기조차 가볍지 않구나', '1'],\n",
       " ['너무재밓었다그래서보는것을추천한다', '0']]"
      ]
     },
     "execution_count": 8,
     "metadata": {},
     "output_type": "execute_result"
    }
   ],
   "source": [
    "train[:3]"
   ]
  },
  {
   "cell_type": "code",
   "execution_count": 9,
   "id": "9e9a3175",
   "metadata": {},
   "outputs": [],
   "source": [
    "# 전처리 함수\n",
    "def preprocessing(txt):\n",
    "    import re\n",
    "    txt = re.sub('[^ㄱ-ㅎㅏ-ㅣ가-힣 ]', '', txt)\n",
    "    sw = set()\n",
    "    with open('stopwords-ko.txt', encoding='utf-8') as f:\n",
    "        for word in f:\n",
    "            sw.add(word.replace('\\n',''))\n",
    "    tokens = []\n",
    "    from eunjeon import Mecab\n",
    "    ko = Mecab()\n",
    "    for t in ko.morphs(txt):\n",
    "        if t not in sw and len(t) > 1:\n",
    "            tokens.append(t)\n",
    "    return tokens\n",
    "# nsmc텍스트 전처리 함수\n",
    "def make(data):\n",
    "    result = []\n",
    "    for line in data:\n",
    "        v = preprocessing(line[0])\n",
    "        if  v:\n",
    "            result.append((v, line[1])) # 전처리한텍스트와 label을 튜플로 추가\n",
    "    return result"
   ]
  },
  {
   "cell_type": "code",
   "execution_count": 10,
   "id": "8c017e0c",
   "metadata": {},
   "outputs": [],
   "source": [
    "train_data = make(train)"
   ]
  },
  {
   "cell_type": "code",
   "execution_count": 11,
   "id": "a8dce49c",
   "metadata": {},
   "outputs": [
    {
     "data": {
      "text/plain": [
       "[(['진짜', '짜증', '네요', '목소리'], '0'),\n",
       " (['포스터', '보고', '초딩', '영화', '오버', '연기', '가볍', '구나'], '1'),\n",
       " (['너무', '밓었', '추천', '한다'], '0')]"
      ]
     },
     "execution_count": 11,
     "metadata": {},
     "output_type": "execute_result"
    }
   ],
   "source": [
    "train_data[:3]"
   ]
  },
  {
   "cell_type": "code",
   "execution_count": 12,
   "id": "bfbe79d5",
   "metadata": {},
   "outputs": [],
   "source": [
    "test_data = make(test)"
   ]
  },
  {
   "cell_type": "code",
   "execution_count": 13,
   "id": "b054f28a",
   "metadata": {},
   "outputs": [
    {
     "data": {
      "text/plain": [
       "[(['평점', '나쁘', '짜리', '더더욱', '잖아'], '0'),\n",
       " (['지루', '은데', '완전', '막장'], '0'),\n",
       " (['어도', '텐데', '나와서', '심기', '불편'], '0')]"
      ]
     },
     "execution_count": 13,
     "metadata": {},
     "output_type": "execute_result"
    }
   ],
   "source": [
    "test_data[:3]"
   ]
  },
  {
   "cell_type": "code",
   "execution_count": 14,
   "id": "bfd1709a",
   "metadata": {},
   "outputs": [],
   "source": [
    "import pickle\n",
    "with open('train_data.pkl', 'wb') as f:\n",
    "    pickle.dump(train_data, f)\n",
    "with open('test_data.pkl', 'wb') as f:\n",
    "    pickle.dump(test_data, f)"
   ]
  },
  {
   "cell_type": "code",
   "execution_count": 15,
   "id": "a41446e7",
   "metadata": {},
   "outputs": [
    {
     "data": {
      "text/plain": [
       "(146124, 48760)"
      ]
     },
     "execution_count": 15,
     "metadata": {},
     "output_type": "execute_result"
    }
   ],
   "source": [
    "len(train_data), len(test_data)"
   ]
  },
  {
   "cell_type": "code",
   "execution_count": 5,
   "id": "2464b381",
   "metadata": {
    "collapsed": true
   },
   "outputs": [
    {
     "ename": "EOFError",
     "evalue": "Ran out of input",
     "output_type": "error",
     "traceback": [
      "\u001b[1;31m---------------------------------------------------------------------------\u001b[0m",
      "\u001b[1;31mEOFError\u001b[0m                                  Traceback (most recent call last)",
      "Input \u001b[1;32mIn [5]\u001b[0m, in \u001b[0;36m<cell line: 2>\u001b[1;34m()\u001b[0m\n\u001b[0;32m      1\u001b[0m \u001b[38;5;28;01mimport\u001b[39;00m \u001b[38;5;21;01mpickle\u001b[39;00m\n\u001b[0;32m      2\u001b[0m \u001b[38;5;28;01mwith\u001b[39;00m \u001b[38;5;28mopen\u001b[39m(\u001b[38;5;124m'\u001b[39m\u001b[38;5;124mtrain_data.pkl\u001b[39m\u001b[38;5;124m'\u001b[39m, \u001b[38;5;124m'\u001b[39m\u001b[38;5;124mrb\u001b[39m\u001b[38;5;124m'\u001b[39m) \u001b[38;5;28;01mas\u001b[39;00m f:\n\u001b[1;32m----> 3\u001b[0m     train_data\u001b[38;5;241m=\u001b[39m\u001b[43mpickle\u001b[49m\u001b[38;5;241;43m.\u001b[39;49m\u001b[43mload\u001b[49m\u001b[43m(\u001b[49m\u001b[43mf\u001b[49m\u001b[43m)\u001b[49m\n\u001b[0;32m      4\u001b[0m \u001b[38;5;28;01mwith\u001b[39;00m \u001b[38;5;28mopen\u001b[39m(\u001b[38;5;124m'\u001b[39m\u001b[38;5;124mtest_data.pkl\u001b[39m\u001b[38;5;124m'\u001b[39m, \u001b[38;5;124m'\u001b[39m\u001b[38;5;124mrb\u001b[39m\u001b[38;5;124m'\u001b[39m) \u001b[38;5;28;01mas\u001b[39;00m f:\n\u001b[0;32m      5\u001b[0m     test_data\u001b[38;5;241m=\u001b[39mpickle\u001b[38;5;241m.\u001b[39mload(f)\n",
      "\u001b[1;31mEOFError\u001b[0m: Ran out of input"
     ]
    }
   ],
   "source": [
    "import pickle\n",
    "with open('train_data.pkl', 'rb') as f:\n",
    "    train_data=pickle.load(f)\n",
    "with open('test_data.pkl', 'rb') as f:\n",
    "    test_data=pickle.load(f)"
   ]
  },
  {
   "cell_type": "code",
   "execution_count": 16,
   "id": "e218c940",
   "metadata": {},
   "outputs": [
    {
     "data": {
      "text/plain": [
       "(146124, 48760)"
      ]
     },
     "execution_count": 16,
     "metadata": {},
     "output_type": "execute_result"
    }
   ],
   "source": [
    "len(train_data), len(test_data)"
   ]
  },
  {
   "cell_type": "markdown",
   "id": "01452eba",
   "metadata": {},
   "source": [
    "### NSMC LSTM 분류 모델링"
   ]
  },
  {
   "cell_type": "code",
   "execution_count": 28,
   "id": "ebf36a5e",
   "metadata": {},
   "outputs": [],
   "source": [
    "# 데이터 전처리\n",
    "# x = ['', '','','','']\n",
    "# y = ['0','1','0']\n",
    "import numpy as np\n",
    "train_x = [d for d, _ in train_data]\n",
    "test_x = [d for d, _ in test_data]\n",
    "train_y = np.array([int(l) for _, l in train_data])\n",
    "test_y = np.array([int(l) for _, l in test_data])"
   ]
  },
  {
   "cell_type": "code",
   "execution_count": 29,
   "id": "11696d11",
   "metadata": {
    "scrolled": true
   },
   "outputs": [
    {
     "data": {
      "text/plain": [
       "([['진짜', '짜증', '네요', '목소리'],\n",
       "  ['포스터', '보고', '초딩', '영화', '오버', '연기', '가볍', '구나'],\n",
       "  ['너무', '밓었', '추천', '한다']],\n",
       " array([0, 1, 0]))"
      ]
     },
     "execution_count": 29,
     "metadata": {},
     "output_type": "execute_result"
    }
   ],
   "source": [
    "train_x[:3], train_y[:3]"
   ]
  },
  {
   "cell_type": "code",
   "execution_count": 19,
   "id": "21d0e152",
   "metadata": {},
   "outputs": [],
   "source": [
    "import tensorflow as tf\n",
    "from tensorflow.keras.preprocessing.text import Tokenizer # 토크나이저\n",
    "from tensorflow.keras.layers import Embedding, Dense, LSTM\n",
    "from tensorflow.keras.models import Sequential\n",
    "from tensorflow.keras.preprocessing.sequence import pad_sequences"
   ]
  },
  {
   "cell_type": "code",
   "execution_count": 30,
   "id": "72e8ca9f",
   "metadata": {},
   "outputs": [],
   "source": [
    "tk = Tokenizer(num_words=35000) # 최대단어수 제한\n",
    "tk.fit_on_texts(train_x) # 텐서플로우에서 사용하기 위한 형태로 토크나이징"
   ]
  },
  {
   "cell_type": "code",
   "execution_count": 31,
   "id": "d81a9537",
   "metadata": {},
   "outputs": [],
   "source": [
    "train_x = tk.texts_to_sequences(train_x)\n",
    "test_x = tk.texts_to_sequences(test_x)"
   ]
  },
  {
   "cell_type": "code",
   "execution_count": 32,
   "id": "8ae604c4",
   "metadata": {},
   "outputs": [
    {
     "data": {
      "text/plain": [
       "[7, 94, 5, 406]"
      ]
     },
     "execution_count": 32,
     "metadata": {},
     "output_type": "execute_result"
    }
   ],
   "source": [
    "train_x[0]"
   ]
  },
  {
   "cell_type": "code",
   "execution_count": 33,
   "id": "80a00df4",
   "metadata": {},
   "outputs": [],
   "source": [
    "# 패드시퀀스\n",
    "train_x = pad_sequences(train_x, padding='pre', maxlen=100)\n",
    "test_x = pad_sequences(test_x, padding='pre', maxlen=100)"
   ]
  },
  {
   "cell_type": "code",
   "execution_count": 34,
   "id": "ad6d965e",
   "metadata": {},
   "outputs": [],
   "source": [
    "# 학습가능한 형태로 변환\n",
    "train_ds = tf.data.Dataset.from_tensor_slices((train_x, train_y)).shuffle(10000).batch(128) # 배치사이즈 128\n",
    "test_ds = tf.data.Dataset.from_tensor_slices((test_x, test_y)).batch(128) # 배치사이즈 128"
   ]
  },
  {
   "cell_type": "code",
   "execution_count": 36,
   "id": "0bae0ac2",
   "metadata": {
    "scrolled": false
   },
   "outputs": [
    {
     "name": "stdout",
     "output_type": "stream",
     "text": [
      "Epoch 1/20\n",
      "1142/1142 [==============================] - ETA: 0s - loss: 0.5124 - acc: 0.7839"
     ]
    },
    {
     "name": "stderr",
     "output_type": "stream",
     "text": [
      "WARNING:absl:Found untraced functions such as lstm_cell_4_layer_call_fn, lstm_cell_4_layer_call_and_return_conditional_losses while saving (showing 2 of 2). These functions will not be directly callable after loading.\n"
     ]
    },
    {
     "name": "stdout",
     "output_type": "stream",
     "text": [
      "INFO:tensorflow:Assets written to: nsmc_best\\assets\n"
     ]
    },
    {
     "name": "stderr",
     "output_type": "stream",
     "text": [
      "INFO:tensorflow:Assets written to: nsmc_best\\assets\n"
     ]
    },
    {
     "name": "stdout",
     "output_type": "stream",
     "text": [
      "1142/1142 [==============================] - 276s 240ms/step - loss: 0.5124 - acc: 0.7839 - val_loss: 0.5095 - val_acc: 0.8118\n",
      "Epoch 2/20\n",
      "1142/1142 [==============================] - ETA: 0s - loss: 0.4468 - acc: 0.8267"
     ]
    },
    {
     "name": "stderr",
     "output_type": "stream",
     "text": [
      "WARNING:absl:Found untraced functions such as lstm_cell_4_layer_call_fn, lstm_cell_4_layer_call_and_return_conditional_losses while saving (showing 2 of 2). These functions will not be directly callable after loading.\n"
     ]
    },
    {
     "name": "stdout",
     "output_type": "stream",
     "text": [
      "INFO:tensorflow:Assets written to: nsmc_best\\assets\n"
     ]
    },
    {
     "name": "stderr",
     "output_type": "stream",
     "text": [
      "INFO:tensorflow:Assets written to: nsmc_best\\assets\n"
     ]
    },
    {
     "name": "stdout",
     "output_type": "stream",
     "text": [
      "1142/1142 [==============================] - 353s 309ms/step - loss: 0.4468 - acc: 0.8267 - val_loss: 0.5052 - val_acc: 0.8151\n",
      "Epoch 3/20\n",
      "1142/1142 [==============================] - 335s 293ms/step - loss: 0.4348 - acc: 0.8264 - val_loss: 0.5510 - val_acc: 0.8117\n",
      "Epoch 4/20\n",
      "1142/1142 [==============================] - ETA: 0s - loss: 0.3857 - acc: 0.8521"
     ]
    },
    {
     "name": "stderr",
     "output_type": "stream",
     "text": [
      "WARNING:absl:Found untraced functions such as lstm_cell_4_layer_call_fn, lstm_cell_4_layer_call_and_return_conditional_losses while saving (showing 2 of 2). These functions will not be directly callable after loading.\n"
     ]
    },
    {
     "name": "stdout",
     "output_type": "stream",
     "text": [
      "INFO:tensorflow:Assets written to: nsmc_best\\assets\n"
     ]
    },
    {
     "name": "stderr",
     "output_type": "stream",
     "text": [
      "INFO:tensorflow:Assets written to: nsmc_best\\assets\n"
     ]
    },
    {
     "name": "stdout",
     "output_type": "stream",
     "text": [
      "1142/1142 [==============================] - 335s 293ms/step - loss: 0.3857 - acc: 0.8521 - val_loss: 0.4945 - val_acc: 0.8122\n",
      "Epoch 5/20\n",
      "1142/1142 [==============================] - 323s 283ms/step - loss: 0.4169 - acc: 0.8419 - val_loss: 0.5683 - val_acc: 0.8140\n",
      "Epoch 6/20\n",
      "1142/1142 [==============================] - 330s 289ms/step - loss: 0.3829 - acc: 0.8585 - val_loss: 0.6559 - val_acc: 0.8143\n",
      "Epoch 7/20\n",
      "1142/1142 [==============================] - 329s 288ms/step - loss: 0.3534 - acc: 0.8692 - val_loss: 0.6451 - val_acc: 0.8146\n",
      "Epoch 7: early stopping\n"
     ]
    }
   ],
   "source": [
    "model = Sequential()\n",
    "# 입력레이어는 Embedding으로 벡터화\n",
    "model.add(Embedding(input_dim=35000, output_dim=100))\n",
    "# RNN\n",
    "model.add(LSTM(128,dropout=0.2))\n",
    "# 출력레이어(유닛:1, 이진분류)\n",
    "model.add(Dense(64, activation='sigmoid'))\n",
    "model.add(Dense(1))\n",
    "\n",
    "# 설정\n",
    "model.compile(optimizer='adam', loss='binary_crossentropy', metrics='acc')\n",
    "\n",
    "# Early Stopping\n",
    "es = tf.keras.callbacks.EarlyStopping(monitor='val_loss', patience=3, verbose=1)\n",
    "\n",
    "# ModelCheckPoint\n",
    "mc = tf.keras.callbacks.ModelCheckpoint('nsmc_best', monitor='val_loss', mode='min', save_best_only=True)\n",
    "\n",
    "\n",
    "# 학습\n",
    "history=model.fit(train_ds, validation_data=test_ds, epochs=20, batch_size=32, callbacks=[es,mc])"
   ]
  },
  {
   "cell_type": "code",
   "execution_count": 49,
   "id": "72238d4a",
   "metadata": {},
   "outputs": [],
   "source": [
    "# 7회 학습후 early stopping\n",
    "# 파라미터 수정시 최대 92% 가능\n",
    "# 가장 정확도가 높았던 모델 로딩\n",
    "bestmodel = tf.keras.models.load_model('nsmc_best')"
   ]
  },
  {
   "cell_type": "code",
   "execution_count": 50,
   "id": "ef476e0a",
   "metadata": {},
   "outputs": [],
   "source": [
    "# 예측함수\n",
    "# 텍스트 전처리, 시퀀스, 패딩 후 모델 예측값 출력\n",
    "# 예측값이 특정기준(여기서는 0.5) 이상이면 긍정, 아니면 부정\n",
    "def pred_func(txt):\n",
    "    txt = preprocessing(txt)\n",
    "    txt = tk.texts_to_sequences([txt])\n",
    "    txt = pad_sequences(txt, padding='pre', maxlen=100)\n",
    "    pred = bestmodel.predict(txt)\n",
    "    if pred > 0.5 : \n",
    "        return '긍정'\n",
    "    else :\n",
    "        return '부정'"
   ]
  },
  {
   "cell_type": "code",
   "execution_count": 51,
   "id": "da132e53",
   "metadata": {},
   "outputs": [
    {
     "name": "stdout",
     "output_type": "stream",
     "text": [
      "1/1 [==============================] - 0s 354ms/step\n"
     ]
    },
    {
     "data": {
      "text/plain": [
       "'긍정'"
      ]
     },
     "execution_count": 51,
     "metadata": {},
     "output_type": "execute_result"
    }
   ],
   "source": [
    "pred_func('이 영화는 정말 최고의 영화입니다.')"
   ]
  },
  {
   "cell_type": "code",
   "execution_count": 52,
   "id": "3271958f",
   "metadata": {},
   "outputs": [
    {
     "name": "stdout",
     "output_type": "stream",
     "text": [
      "1/1 [==============================] - 0s 19ms/step\n"
     ]
    },
    {
     "data": {
      "text/plain": [
       "'부정'"
      ]
     },
     "execution_count": 52,
     "metadata": {},
     "output_type": "execute_result"
    }
   ],
   "source": [
    "pred_func('이 영화는 정말 최악의 영화입니다.')"
   ]
  },
  {
   "cell_type": "code",
   "execution_count": null,
   "id": "2e033a06",
   "metadata": {},
   "outputs": [],
   "source": []
  }
 ],
 "metadata": {
  "kernelspec": {
   "display_name": "Python 3 (ipykernel)",
   "language": "python",
   "name": "python3"
  },
  "language_info": {
   "codemirror_mode": {
    "name": "ipython",
    "version": 3
   },
   "file_extension": ".py",
   "mimetype": "text/x-python",
   "name": "python",
   "nbconvert_exporter": "python",
   "pygments_lexer": "ipython3",
   "version": "3.9.12"
  }
 },
 "nbformat": 4,
 "nbformat_minor": 5
}
