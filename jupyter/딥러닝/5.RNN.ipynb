{
 "cells": [
  {
   "cell_type": "markdown",
   "id": "a5324e6c",
   "metadata": {},
   "source": [
    "### RNN (Recurrent Neural Network)\n",
    "- 순환신경망\n",
    "- 텍스트/시계열 데이터에서 많이 사용\n",
    "- 기존 알고리즘들은 변수들이 독립적(가정)\n",
    "- 텍스트/시계열 데이터는 서로 연관성 높음\n",
    "- 텍스트의 순서가 중요\n",
    "- 예) 안녕하세요 선생님, 제가 늦잠을 자서, 지금 가도 지각이니 이러쿵저러쿵 줌으로 듣겠습니다.\n",
    "- 예) 저 줌으로 들을게요. 왜냐면 늦잠도 잤고, 몸도 아프고, 지각할 것도 같고, 그래서 신호 좀 보내주세요.ㅠ"
   ]
  },
  {
   "cell_type": "code",
   "execution_count": 2,
   "id": "8fc086fb",
   "metadata": {},
   "outputs": [],
   "source": [
    "'''\n",
    "IMDB 데이터\n",
    "- 영화 리뷰데이터\n",
    "- 학습데이터 25,000개, 테스트데이터 25,000개\n",
    "- 긍정/부정\n",
    "'''\n",
    "from tensorflow.keras import datasets\n",
    "data = datasets.imdb"
   ]
  },
  {
   "cell_type": "code",
   "execution_count": 3,
   "id": "0d462237",
   "metadata": {},
   "outputs": [
    {
     "name": "stdout",
     "output_type": "stream",
     "text": [
      "Downloading data from https://storage.googleapis.com/tensorflow/tf-keras-datasets/imdb.npz\n",
      "17464789/17464789 [==============================] - 1s 0us/step\n"
     ]
    }
   ],
   "source": [
    "(train_x, train_y), (test_x, test_y) = data.load_data(num_words=1000) # 사용될 단어 개수"
   ]
  },
  {
   "cell_type": "code",
   "execution_count": 4,
   "id": "f706f88c",
   "metadata": {
    "collapsed": true
   },
   "outputs": [
    {
     "data": {
      "text/plain": [
       "[1,\n",
       " 14,\n",
       " 22,\n",
       " 16,\n",
       " 43,\n",
       " 530,\n",
       " 973,\n",
       " 2,\n",
       " 2,\n",
       " 65,\n",
       " 458,\n",
       " 2,\n",
       " 66,\n",
       " 2,\n",
       " 4,\n",
       " 173,\n",
       " 36,\n",
       " 256,\n",
       " 5,\n",
       " 25,\n",
       " 100,\n",
       " 43,\n",
       " 838,\n",
       " 112,\n",
       " 50,\n",
       " 670,\n",
       " 2,\n",
       " 9,\n",
       " 35,\n",
       " 480,\n",
       " 284,\n",
       " 5,\n",
       " 150,\n",
       " 4,\n",
       " 172,\n",
       " 112,\n",
       " 167,\n",
       " 2,\n",
       " 336,\n",
       " 385,\n",
       " 39,\n",
       " 4,\n",
       " 172,\n",
       " 2,\n",
       " 2,\n",
       " 17,\n",
       " 546,\n",
       " 38,\n",
       " 13,\n",
       " 447,\n",
       " 4,\n",
       " 192,\n",
       " 50,\n",
       " 16,\n",
       " 6,\n",
       " 147,\n",
       " 2,\n",
       " 19,\n",
       " 14,\n",
       " 22,\n",
       " 4,\n",
       " 2,\n",
       " 2,\n",
       " 469,\n",
       " 4,\n",
       " 22,\n",
       " 71,\n",
       " 87,\n",
       " 12,\n",
       " 16,\n",
       " 43,\n",
       " 530,\n",
       " 38,\n",
       " 76,\n",
       " 15,\n",
       " 13,\n",
       " 2,\n",
       " 4,\n",
       " 22,\n",
       " 17,\n",
       " 515,\n",
       " 17,\n",
       " 12,\n",
       " 16,\n",
       " 626,\n",
       " 18,\n",
       " 2,\n",
       " 5,\n",
       " 62,\n",
       " 386,\n",
       " 12,\n",
       " 8,\n",
       " 316,\n",
       " 8,\n",
       " 106,\n",
       " 5,\n",
       " 4,\n",
       " 2,\n",
       " 2,\n",
       " 16,\n",
       " 480,\n",
       " 66,\n",
       " 2,\n",
       " 33,\n",
       " 4,\n",
       " 130,\n",
       " 12,\n",
       " 16,\n",
       " 38,\n",
       " 619,\n",
       " 5,\n",
       " 25,\n",
       " 124,\n",
       " 51,\n",
       " 36,\n",
       " 135,\n",
       " 48,\n",
       " 25,\n",
       " 2,\n",
       " 33,\n",
       " 6,\n",
       " 22,\n",
       " 12,\n",
       " 215,\n",
       " 28,\n",
       " 77,\n",
       " 52,\n",
       " 5,\n",
       " 14,\n",
       " 407,\n",
       " 16,\n",
       " 82,\n",
       " 2,\n",
       " 8,\n",
       " 4,\n",
       " 107,\n",
       " 117,\n",
       " 2,\n",
       " 15,\n",
       " 256,\n",
       " 4,\n",
       " 2,\n",
       " 7,\n",
       " 2,\n",
       " 5,\n",
       " 723,\n",
       " 36,\n",
       " 71,\n",
       " 43,\n",
       " 530,\n",
       " 476,\n",
       " 26,\n",
       " 400,\n",
       " 317,\n",
       " 46,\n",
       " 7,\n",
       " 4,\n",
       " 2,\n",
       " 2,\n",
       " 13,\n",
       " 104,\n",
       " 88,\n",
       " 4,\n",
       " 381,\n",
       " 15,\n",
       " 297,\n",
       " 98,\n",
       " 32,\n",
       " 2,\n",
       " 56,\n",
       " 26,\n",
       " 141,\n",
       " 6,\n",
       " 194,\n",
       " 2,\n",
       " 18,\n",
       " 4,\n",
       " 226,\n",
       " 22,\n",
       " 21,\n",
       " 134,\n",
       " 476,\n",
       " 26,\n",
       " 480,\n",
       " 5,\n",
       " 144,\n",
       " 30,\n",
       " 2,\n",
       " 18,\n",
       " 51,\n",
       " 36,\n",
       " 28,\n",
       " 224,\n",
       " 92,\n",
       " 25,\n",
       " 104,\n",
       " 4,\n",
       " 226,\n",
       " 65,\n",
       " 16,\n",
       " 38,\n",
       " 2,\n",
       " 88,\n",
       " 12,\n",
       " 16,\n",
       " 283,\n",
       " 5,\n",
       " 16,\n",
       " 2,\n",
       " 113,\n",
       " 103,\n",
       " 32,\n",
       " 15,\n",
       " 16,\n",
       " 2,\n",
       " 19,\n",
       " 178,\n",
       " 32]"
      ]
     },
     "execution_count": 4,
     "metadata": {},
     "output_type": "execute_result"
    }
   ],
   "source": [
    "# BOW : 숫자로 벡터화된 데이터\n",
    "train_x[0]"
   ]
  },
  {
   "cell_type": "code",
   "execution_count": 5,
   "id": "c93a9a69",
   "metadata": {},
   "outputs": [
    {
     "data": {
      "text/plain": [
       "(218, 189)"
      ]
     },
     "execution_count": 5,
     "metadata": {},
     "output_type": "execute_result"
    }
   ],
   "source": [
    "# 데이터의 길이 다름 -> 학습 불가\n",
    "len(train_x[0]), len(train_x[1])"
   ]
  },
  {
   "cell_type": "code",
   "execution_count": 7,
   "id": "007e6511",
   "metadata": {},
   "outputs": [],
   "source": [
    "# 데이터의 길이를 동일하게 맞춤\n",
    "from tensorflow.keras.preprocessing.sequence import pad_sequences\n",
    "train_x_pad = pad_sequences(train_x, maxlen=200, padding='pre')\n",
    "test_x_pad = pad_sequences(test_x, maxlen=200, padding='pre')"
   ]
  },
  {
   "cell_type": "code",
   "execution_count": 8,
   "id": "ffea9ebc",
   "metadata": {},
   "outputs": [
    {
     "data": {
      "text/plain": [
       "(200, 200)"
      ]
     },
     "execution_count": 8,
     "metadata": {},
     "output_type": "execute_result"
    }
   ],
   "source": [
    "len(train_x_pad[0]), len(train_x_pad[1])"
   ]
  },
  {
   "cell_type": "code",
   "execution_count": 10,
   "id": "9d2f82c9",
   "metadata": {
    "collapsed": true
   },
   "outputs": [
    {
     "data": {
      "text/plain": [
       "array([  0,   0,   0,   0,   0,   0,   0,   0,   0,   0,   0,   1, 194,\n",
       "         2, 194,   2,  78, 228,   5,   6,   2,   2,   2, 134,  26,   4,\n",
       "       715,   8, 118,   2,  14, 394,  20,  13, 119, 954, 189, 102,   5,\n",
       "       207, 110,   2,  21,  14,  69, 188,   8,  30,  23,   7,   4, 249,\n",
       "       126,  93,   4, 114,   9,   2,   2,   5, 647,   4, 116,   9,  35,\n",
       "         2,   4, 229,   9, 340,   2,   4, 118,   9,   4, 130,   2,  19,\n",
       "         4,   2,   5,  89,  29, 952,  46,  37,   4, 455,   9,  45,  43,\n",
       "        38,   2,   2, 398,   4,   2,  26,   2,   5, 163,  11,   2,   2,\n",
       "         4,   2,   9, 194, 775,   7,   2,   2, 349,   2, 148, 605,   2,\n",
       "         2,  15, 123, 125,  68,   2,   2,  15, 349, 165,   2,  98,   5,\n",
       "         4, 228,   9,  43,   2,   2,  15, 299, 120,   5, 120, 174,  11,\n",
       "       220, 175, 136,  50,   9,   2, 228,   2,   5,   2, 656, 245,   2,\n",
       "         5,   4,   2, 131, 152, 491,  18,   2,  32,   2,   2,  14,   9,\n",
       "         6, 371,  78,  22, 625,  64,   2,   9,   8, 168, 145,  23,   4,\n",
       "         2,  15,  16,   4,   2,   5,  28,   6,  52, 154, 462,  33,  89,\n",
       "        78, 285,  16, 145,  95])"
      ]
     },
     "execution_count": 10,
     "metadata": {},
     "output_type": "execute_result"
    }
   ],
   "source": [
    "train_x_pad[1] # padding을 'pre'로 설정해서 앞쪽에 남는 부분을 0으로 채워져있음"
   ]
  },
  {
   "cell_type": "code",
   "execution_count": 13,
   "id": "602b1109",
   "metadata": {
    "scrolled": true
   },
   "outputs": [
    {
     "name": "stdout",
     "output_type": "stream",
     "text": [
      "Epoch 1/10\n",
      "625/625 [==============================] - 15s 22ms/step - loss: 0.6602 - acc: 0.5890 - val_loss: 0.6142 - val_acc: 0.6318\n",
      "Epoch 2/10\n",
      "625/625 [==============================] - 14s 22ms/step - loss: 0.5280 - acc: 0.7383 - val_loss: 0.4931 - val_acc: 0.7754\n",
      "Epoch 3/10\n",
      "625/625 [==============================] - 14s 22ms/step - loss: 0.4896 - acc: 0.7714 - val_loss: 0.5150 - val_acc: 0.7740\n",
      "Epoch 4/10\n",
      "625/625 [==============================] - 14s 22ms/step - loss: 0.4970 - acc: 0.7567 - val_loss: 0.5077 - val_acc: 0.7656\n",
      "Epoch 5/10\n",
      "625/625 [==============================] - 14s 22ms/step - loss: 0.4868 - acc: 0.7631 - val_loss: 0.6220 - val_acc: 0.6580\n",
      "Epoch 6/10\n",
      "625/625 [==============================] - 14s 22ms/step - loss: 0.4608 - acc: 0.7829 - val_loss: 0.5144 - val_acc: 0.7656\n",
      "Epoch 7/10\n",
      "625/625 [==============================] - 14s 22ms/step - loss: 0.4275 - acc: 0.7985 - val_loss: 0.6637 - val_acc: 0.6240\n",
      "Epoch 8/10\n",
      "625/625 [==============================] - 14s 23ms/step - loss: 0.4576 - acc: 0.7756 - val_loss: 0.6258 - val_acc: 0.6372\n",
      "Epoch 9/10\n",
      "625/625 [==============================] - 14s 23ms/step - loss: 0.5519 - acc: 0.7272 - val_loss: 0.6487 - val_acc: 0.6318\n",
      "Epoch 10/10\n",
      "625/625 [==============================] - 14s 22ms/step - loss: 0.4936 - acc: 0.7588 - val_loss: 0.5760 - val_acc: 0.7574\n"
     ]
    },
    {
     "data": {
      "text/plain": [
       "<keras.callbacks.History at 0x29d32a23fa0>"
      ]
     },
     "execution_count": 13,
     "metadata": {},
     "output_type": "execute_result"
    }
   ],
   "source": [
    "from tensorflow.keras.models import Sequential\n",
    "from tensorflow.keras.layers import Dense, SimpleRNN, Embedding # Embedding 벡터화\n",
    "\n",
    "model = Sequential()\n",
    "# 입력레이어는 Embedding으로 벡터화\n",
    "model.add(Embedding(input_dim=1000, output_dim=32))\n",
    "# RNN\n",
    "model.add(SimpleRNN(32))\n",
    "# 출력레이어(유닛:1, 이진분류)\n",
    "model.add(Dense(1, activation='sigmoid'))\n",
    "\n",
    "# 설정\n",
    "model.compile(optimizer='adam', loss='binary_crossentropy', metrics='acc')\n",
    "\n",
    "# 학습 (데이터를 분리하지 않은 상태에서 설정 가능)\n",
    "model.fit(train_x_pad, train_y, epochs=10, batch_size=32, validation_split=0.2)"
   ]
  },
  {
   "cell_type": "markdown",
   "id": "d87a4c6e",
   "metadata": {},
   "source": [
    "### LSTM\n",
    "- 순환 신경망 기법의 하나\n",
    "- 셀, 입력 게이트, 출력 게이트, 망각 게이트를 이용해 기존 순환 신경망의 문제인 기울기 소멸 문제를 방지하도록 개발됨"
   ]
  },
  {
   "cell_type": "code",
   "execution_count": 14,
   "id": "d2c8a39f",
   "metadata": {
    "scrolled": true
   },
   "outputs": [
    {
     "name": "stdout",
     "output_type": "stream",
     "text": [
      "Epoch 1/10\n",
      "625/625 [==============================] - 23s 34ms/step - loss: 0.4834 - acc: 0.7584 - val_loss: 0.3813 - val_acc: 0.8344\n",
      "Epoch 2/10\n",
      "625/625 [==============================] - 21s 34ms/step - loss: 0.3493 - acc: 0.8514 - val_loss: 0.3474 - val_acc: 0.8492\n",
      "Epoch 3/10\n",
      "625/625 [==============================] - 21s 33ms/step - loss: 0.3247 - acc: 0.8612 - val_loss: 0.3511 - val_acc: 0.8486\n",
      "Epoch 4/10\n",
      "625/625 [==============================] - 21s 33ms/step - loss: 0.3133 - acc: 0.8689 - val_loss: 0.3543 - val_acc: 0.8516\n",
      "Epoch 5/10\n",
      "625/625 [==============================] - 21s 33ms/step - loss: 0.3006 - acc: 0.8721 - val_loss: 0.3633 - val_acc: 0.8440\n",
      "Epoch 6/10\n",
      "625/625 [==============================] - 21s 33ms/step - loss: 0.2874 - acc: 0.8774 - val_loss: 0.3602 - val_acc: 0.8480\n",
      "Epoch 7/10\n",
      "625/625 [==============================] - 21s 33ms/step - loss: 0.2792 - acc: 0.8810 - val_loss: 0.3595 - val_acc: 0.8496\n",
      "Epoch 8/10\n",
      "625/625 [==============================] - 21s 33ms/step - loss: 0.2783 - acc: 0.8826 - val_loss: 0.3637 - val_acc: 0.8506\n",
      "Epoch 9/10\n",
      "625/625 [==============================] - 21s 33ms/step - loss: 0.2625 - acc: 0.8895 - val_loss: 0.3748 - val_acc: 0.8526\n",
      "Epoch 10/10\n",
      "625/625 [==============================] - 21s 33ms/step - loss: 0.2631 - acc: 0.8911 - val_loss: 0.4006 - val_acc: 0.8492\n"
     ]
    },
    {
     "data": {
      "text/plain": [
       "<keras.callbacks.History at 0x29d34b3fa90>"
      ]
     },
     "execution_count": 14,
     "metadata": {},
     "output_type": "execute_result"
    }
   ],
   "source": [
    "from tensorflow.keras.models import Sequential\n",
    "from tensorflow.keras.layers import Dense, LSTM, Embedding # Embedding 벡터화\n",
    "\n",
    "model = Sequential()\n",
    "# 입력레이어는 Embedding으로 벡터화\n",
    "model.add(Embedding(input_dim=1000, output_dim=32))\n",
    "# RNN\n",
    "model.add(LSTM(32))\n",
    "# 출력레이어(유닛:1, 이진분류)\n",
    "model.add(Dense(1, activation='sigmoid'))\n",
    "\n",
    "# 설정\n",
    "model.compile(optimizer='adam', loss='binary_crossentropy', metrics='acc')\n",
    "\n",
    "# 학습 (데이터를 분리하지 않은 상태에서 설정 가능)\n",
    "model.fit(train_x_pad, train_y, epochs=10, batch_size=32, validation_split=0.2)"
   ]
  },
  {
   "cell_type": "markdown",
   "id": "52f55762",
   "metadata": {},
   "source": [
    "### GRU\n",
    "- 장단기 |메모리(LSTM)와 달리 출력 게이트가 없는 간단한 구조\n",
    "- 한국인인 뉴욕대학교 조경현 교수가 제안한 순환 신경망"
   ]
  },
  {
   "cell_type": "code",
   "execution_count": 15,
   "id": "9a08a91d",
   "metadata": {
    "scrolled": true
   },
   "outputs": [
    {
     "name": "stdout",
     "output_type": "stream",
     "text": [
      "Epoch 1/10\n",
      "625/625 [==============================] - 21s 31ms/step - loss: 0.4847 - acc: 0.7535 - val_loss: 0.3851 - val_acc: 0.8274\n",
      "Epoch 2/10\n",
      "625/625 [==============================] - 19s 31ms/step - loss: 0.3574 - acc: 0.8456 - val_loss: 0.3757 - val_acc: 0.8376\n",
      "Epoch 3/10\n",
      "625/625 [==============================] - 19s 31ms/step - loss: 0.3283 - acc: 0.8616 - val_loss: 0.3455 - val_acc: 0.8524\n",
      "Epoch 4/10\n",
      "625/625 [==============================] - 19s 31ms/step - loss: 0.3123 - acc: 0.8683 - val_loss: 0.3385 - val_acc: 0.8556\n",
      "Epoch 5/10\n",
      "625/625 [==============================] - 19s 31ms/step - loss: 0.2907 - acc: 0.8780 - val_loss: 0.3302 - val_acc: 0.8598\n",
      "Epoch 6/10\n",
      "625/625 [==============================] - 19s 31ms/step - loss: 0.2731 - acc: 0.8899 - val_loss: 0.3283 - val_acc: 0.8616\n",
      "Epoch 7/10\n",
      "625/625 [==============================] - 19s 31ms/step - loss: 0.2541 - acc: 0.8977 - val_loss: 0.3246 - val_acc: 0.8586\n",
      "Epoch 8/10\n",
      "625/625 [==============================] - 19s 31ms/step - loss: 0.2464 - acc: 0.9003 - val_loss: 0.3219 - val_acc: 0.8628\n",
      "Epoch 9/10\n",
      "625/625 [==============================] - 19s 31ms/step - loss: 0.2333 - acc: 0.9069 - val_loss: 0.3354 - val_acc: 0.8530\n",
      "Epoch 10/10\n",
      "625/625 [==============================] - 19s 31ms/step - loss: 0.2244 - acc: 0.9104 - val_loss: 0.3709 - val_acc: 0.8540\n"
     ]
    },
    {
     "data": {
      "text/plain": [
       "<keras.callbacks.History at 0x29d35ac9f10>"
      ]
     },
     "execution_count": 15,
     "metadata": {},
     "output_type": "execute_result"
    }
   ],
   "source": [
    "from tensorflow.keras.models import Sequential\n",
    "from tensorflow.keras.layers import Dense, GRU, Embedding # Embedding 벡터화\n",
    "\n",
    "model = Sequential()\n",
    "# 입력레이어는 Embedding으로 벡터화\n",
    "model.add(Embedding(input_dim=1000, output_dim=32))\n",
    "# RNN\n",
    "model.add(GRU(32))\n",
    "# 출력레이어(유닛:1, 이진분류)\n",
    "model.add(Dense(1, activation='sigmoid'))\n",
    "\n",
    "# 설정\n",
    "model.compile(optimizer='adam', loss='binary_crossentropy', metrics='acc')\n",
    "\n",
    "# 학습 (데이터를 분리하지 않은 상태에서 설정 가능)\n",
    "model.fit(train_x_pad, train_y, epochs=10, batch_size=32, validation_split=0.2)"
   ]
  },
  {
   "cell_type": "code",
   "execution_count": null,
   "id": "04614508",
   "metadata": {},
   "outputs": [],
   "source": []
  }
 ],
 "metadata": {
  "kernelspec": {
   "display_name": "Python 3 (ipykernel)",
   "language": "python",
   "name": "python3"
  },
  "language_info": {
   "codemirror_mode": {
    "name": "ipython",
    "version": 3
   },
   "file_extension": ".py",
   "mimetype": "text/x-python",
   "name": "python",
   "nbconvert_exporter": "python",
   "pygments_lexer": "ipython3",
   "version": "3.9.12"
  }
 },
 "nbformat": 4,
 "nbformat_minor": 5
}
