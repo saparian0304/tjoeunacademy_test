{
 "cells": [
  {
   "cell_type": "code",
   "execution_count": 1,
   "id": "724bec77",
   "metadata": {},
   "outputs": [
    {
     "name": "stdout",
     "output_type": "stream",
     "text": [
      "Collecting pymongo\n",
      "  Downloading pymongo-4.3.2-cp39-cp39-win_amd64.whl (381 kB)\n",
      "Collecting dnspython<3.0.0,>=1.16.0\n",
      "  Downloading dnspython-2.2.1-py3-none-any.whl (269 kB)\n",
      "Installing collected packages: dnspython, pymongo\n",
      "Successfully installed dnspython-2.2.1 pymongo-4.3.2\n"
     ]
    }
   ],
   "source": [
    "# 패키지 설치\n",
    "!pip install pymongo"
   ]
  },
  {
   "cell_type": "code",
   "execution_count": 3,
   "id": "a0f1e7aa",
   "metadata": {},
   "outputs": [],
   "source": [
    "# 임포트\n",
    "from pymongo import MongoClient\n",
    "from pymongo.cursor import CursorType"
   ]
  },
  {
   "cell_type": "code",
   "execution_count": 4,
   "id": "676e4c3a",
   "metadata": {},
   "outputs": [
    {
     "data": {
      "text/plain": [
       "MongoClient(host=['localhost:27017'], document_class=dict, tz_aware=False, connect=True)"
      ]
     },
     "execution_count": 4,
     "metadata": {},
     "output_type": "execute_result"
    }
   ],
   "source": [
    "# 커넥션 객체 생성\n",
    "mongo = MongoClient('mongodb://localhost:27017')\n",
    "mongo"
   ]
  },
  {
   "cell_type": "code",
   "execution_count": 5,
   "id": "3addf60d",
   "metadata": {},
   "outputs": [
    {
     "data": {
      "text/plain": [
       "['admin', 'config', 'local', 'test']"
      ]
     },
     "execution_count": 5,
     "metadata": {},
     "output_type": "execute_result"
    }
   ],
   "source": [
    "# db 확인\n",
    "mongo.list_database_names()"
   ]
  },
  {
   "cell_type": "code",
   "execution_count": 7,
   "id": "47007687",
   "metadata": {},
   "outputs": [
    {
     "data": {
      "text/plain": [
       "['student']"
      ]
     },
     "execution_count": 7,
     "metadata": {},
     "output_type": "execute_result"
    }
   ],
   "source": [
    "# 컬렉션 확인\n",
    "mongo['test'].list_collection_names()"
   ]
  },
  {
   "cell_type": "code",
   "execution_count": 21,
   "id": "973883e1",
   "metadata": {},
   "outputs": [
    {
     "name": "stdout",
     "output_type": "stream",
     "text": [
      "hong\n",
      "kim\n",
      "park\n",
      "choi\n",
      "an\n",
      "lee\n",
      "lee\n",
      "kang\n",
      "seo\n"
     ]
    }
   ],
   "source": [
    "# 전체 데이터 조회\n",
    "documents = mongo['test']['student'].find()\n",
    "for doc in documents:\n",
    "    print(doc['id'])"
   ]
  },
  {
   "cell_type": "code",
   "execution_count": 18,
   "id": "20748486",
   "metadata": {},
   "outputs": [
    {
     "data": {
      "text/plain": [
       "<pymongo.results.InsertOneResult at 0x2b2b8418250>"
      ]
     },
     "execution_count": 18,
     "metadata": {},
     "output_type": "execute_result"
    }
   ],
   "source": [
    "# 등록\n",
    "db = mongo['test']['student']\n",
    "db.insert_one({'id':'lee', 'name':'이길동', 'age':25})"
   ]
  },
  {
   "cell_type": "code",
   "execution_count": 20,
   "id": "2b74163d",
   "metadata": {},
   "outputs": [
    {
     "data": {
      "text/plain": [
       "<pymongo.results.InsertManyResult at 0x2b2b8091760>"
      ]
     },
     "execution_count": 20,
     "metadata": {},
     "output_type": "execute_result"
    }
   ],
   "source": [
    "db.insert_many([\n",
    "    {'id':'lee', 'name':'이길동', 'age':25},\n",
    "    {'id':'kang', 'name':'강길동', 'age':55},\n",
    "    {'id':'seo', 'name':'서길동', 'age':65}\n",
    "])"
   ]
  },
  {
   "cell_type": "code",
   "execution_count": 26,
   "id": "cb66ce2c",
   "metadata": {},
   "outputs": [
    {
     "name": "stdout",
     "output_type": "stream",
     "text": [
      "{'_id': ObjectId('635b2c6c2ca55b10acf53ed2'), 'id': 'choi', 'name': '최길동', 'age': 20.0}\n",
      "{'_id': ObjectId('635b4a6ebf84460d66177516'), 'id': 'lee', 'name': '이길동', 'age': 25}\n",
      "{'_id': ObjectId('635b4ae0bf84460d66177517'), 'id': 'lee', 'name': '이길동', 'age': 25}\n",
      "{'_id': ObjectId('635b2bee2ca55b10acf53ecf'), 'id': 'hong', 'name': '홍길동', 'age': 31.0}\n",
      "{'_id': ObjectId('635b2c6c2ca55b10acf53ed0'), 'id': 'kim', 'name': '김길동', 'age': 40.0}\n"
     ]
    }
   ],
   "source": [
    "# 검색 나이가 20~30\n",
    "# 정렬 나이 역순\n",
    "documents = mongo['test']['student'].find({'age':{'$gte':20, '$lte':40}}).sort('age', 1)\n",
    "for doc in documents:\n",
    "    print(doc)"
   ]
  },
  {
   "cell_type": "code",
   "execution_count": null,
   "id": "45432fd5",
   "metadata": {},
   "outputs": [],
   "source": []
  }
 ],
 "metadata": {
  "kernelspec": {
   "display_name": "Python 3 (ipykernel)",
   "language": "python",
   "name": "python3"
  },
  "language_info": {
   "codemirror_mode": {
    "name": "ipython",
    "version": 3
   },
   "file_extension": ".py",
   "mimetype": "text/x-python",
   "name": "python",
   "nbconvert_exporter": "python",
   "pygments_lexer": "ipython3",
   "version": "3.9.12"
  }
 },
 "nbformat": 4,
 "nbformat_minor": 5
}
