{
 "cells": [
  {
   "cell_type": "markdown",
   "id": "c57aa9c9",
   "metadata": {},
   "source": [
    "### SQLite\n",
    "- 파이썬에 내장되어있음 (핸드폰에도 내장되어있음)"
   ]
  },
  {
   "cell_type": "code",
   "execution_count": null,
   "id": "109d6ca5",
   "metadata": {},
   "outputs": [],
   "source": [
    "import sqlite3\n",
    "conn = sqlite3.connect('test.sqlite')"
   ]
  },
  {
   "cell_type": "code",
   "execution_count": null,
   "id": "6a16705c",
   "metadata": {},
   "outputs": [],
   "source": [
    "# 한 행을 딕셔너리로 출력하기 위해\n",
    "# 함수를 만들어서 conn.row_factory 매서드에 오버라이드\n",
    "def dictFactory(cursor, row):\n",
    "    d={}\n",
    "    for idx, col in enumerate(cursor.description):\n",
    "        d[col[0]] = row[idx]\n",
    "    return d\n",
    "conn.row_factory = dictFactory"
   ]
  },
  {
   "cell_type": "code",
   "execution_count": null,
   "id": "61f11809",
   "metadata": {},
   "outputs": [],
   "source": [
    "cur = conn.cursor() # 커서객체\n",
    "# execute() : 하나의 실행문\n",
    "# executescript() : 2개 이상의 실행문\n",
    "# 자동완성(tab키)이 안되는 경우가 있는데 해당 변수가 \n",
    "# 메모리에 로드가 되지 않았기 때문 -> 변수가 있는 cell을 한번 실행시켜야함\n",
    "cur.executescript('''\n",
    "drop table if exists test;\n",
    "create table test(\n",
    "    no integer primary key,\n",
    "    name varchar,\n",
    "    email varchar\n",
    ")\n",
    "''')\n",
    "cur.executescript('''\n",
    "insert into test (no, name, email) values (1, '홍길동', 'hong@gmail.com');\n",
    "insert into test (no, name, email) values (2, '김길동', 'kim@gmail.com');\n",
    "insert into test (no, name, email) values (3, '최길동', 'choi@gmail.com');\n",
    "''')\n",
    "conn.commit()"
   ]
  },
  {
   "cell_type": "code",
   "execution_count": null,
   "id": "c7a6ad9d",
   "metadata": {},
   "outputs": [],
   "source": [
    "cur.execute('SELECT * FROM test')\n",
    "result = cur.fetchall()"
   ]
  },
  {
   "cell_type": "code",
   "execution_count": null,
   "id": "4e2fddee",
   "metadata": {},
   "outputs": [],
   "source": [
    "result"
   ]
  },
  {
   "cell_type": "code",
   "execution_count": null,
   "id": "f2878c34",
   "metadata": {
    "scrolled": true
   },
   "outputs": [],
   "source": [
    "for r in result:\n",
    "    print(r['name'])"
   ]
  },
  {
   "cell_type": "code",
   "execution_count": null,
   "id": "9b5de315",
   "metadata": {},
   "outputs": [],
   "source": [
    "cur.close()\n",
    "conn.close()"
   ]
  },
  {
   "cell_type": "markdown",
   "id": "48ba9974",
   "metadata": {},
   "source": [
    "## mysql"
   ]
  },
  {
   "cell_type": "code",
   "execution_count": null,
   "id": "14c9e64a",
   "metadata": {},
   "outputs": [],
   "source": [
    "# pymysql 설치\n",
    "!pip install pymysql\n",
    "\n",
    "# 설치 중에 콘솔창에서 추가로 명령어를 입력해야하는 경우에는 사용하면 안됨"
   ]
  },
  {
   "cell_type": "code",
   "execution_count": null,
   "id": "e6d37225",
   "metadata": {},
   "outputs": [],
   "source": [
    "import pymysql\n",
    "conn = pymysql.connect(host='localhost', user='root', password='root1234',\n",
    "                      db='project', charset='utf8')"
   ]
  },
  {
   "cell_type": "code",
   "execution_count": null,
   "id": "3642b17b",
   "metadata": {},
   "outputs": [],
   "source": [
    "# cur = conn.cursor()\n",
    "# 딕셔너리로 가져오기\n",
    "cur = conn.cursor(pymysql.cursors.DictCursor)\n",
    "cur.execute('select * FROM board')\n",
    "result = cur.fetchall()\n",
    "result"
   ]
  },
  {
   "cell_type": "code",
   "execution_count": null,
   "id": "d86a1697",
   "metadata": {},
   "outputs": [],
   "source": [
    "for r in result[20:35]:\n",
    "    print(r['no'], r['title'])"
   ]
  },
  {
   "cell_type": "code",
   "execution_count": null,
   "id": "2a85e182",
   "metadata": {},
   "outputs": [],
   "source": [
    "# 데이터프레임으로 변환\n",
    "import pandas as pd\n",
    "df = pd.DataFrame(result[:10])\n",
    "df"
   ]
  },
  {
   "cell_type": "code",
   "execution_count": null,
   "id": "4428b916",
   "metadata": {},
   "outputs": [],
   "source": [
    "cur.close()\n",
    "conn.close()"
   ]
  },
  {
   "cell_type": "markdown",
   "id": "f9f649e9",
   "metadata": {},
   "source": [
    "### Oracle\n"
   ]
  },
  {
   "cell_type": "code",
   "execution_count": null,
   "id": "57ad6ebd",
   "metadata": {},
   "outputs": [],
   "source": [
    "# 패키지 설치\n",
    "!pip install cx_Oracle"
   ]
  },
  {
   "cell_type": "code",
   "execution_count": null,
   "id": "616d300f",
   "metadata": {},
   "outputs": [],
   "source": [
    "import cx_Oracle\n",
    "conn = cx_Oracle.connect(\"testuser/test1234@localhost:1521/xe\")"
   ]
  },
  {
   "cell_type": "code",
   "execution_count": null,
   "id": "8a13a4ad",
   "metadata": {},
   "outputs": [],
   "source": [
    "cur = conn.cursor()\n",
    "cur.execute(\"SELECT * from mvcboard\")\n",
    "result = cur.fetchall()\n",
    "result"
   ]
  },
  {
   "cell_type": "code",
   "execution_count": null,
   "id": "8aed7053",
   "metadata": {},
   "outputs": [],
   "source": [
    "for r in result:\n",
    "    print(r)"
   ]
  },
  {
   "cell_type": "code",
   "execution_count": null,
   "id": "8f69944a",
   "metadata": {},
   "outputs": [],
   "source": [
    "cur.description"
   ]
  },
  {
   "cell_type": "code",
   "execution_count": null,
   "id": "cfbf42b8",
   "metadata": {},
   "outputs": [],
   "source": [
    "'''\n",
    "cur.description을 이용해서\n",
    "반복문 안에서 딕셔너리로 변환해서 r['name'] 출력\n",
    "'''\n",
    "\n",
    "for r in result:\n",
    "#     r = dictFactory(cur, r)\n",
    "    r = dict(zip([d[0] for d in cur.description], r))\n",
    "    print(r['TITLE'], r['NAME'])"
   ]
  }
 ],
 "metadata": {
  "kernelspec": {
   "display_name": "Python 3 (ipykernel)",
   "language": "python",
   "name": "python3"
  },
  "language_info": {
   "codemirror_mode": {
    "name": "ipython",
    "version": 3
   },
   "file_extension": ".py",
   "mimetype": "text/x-python",
   "name": "python",
   "nbconvert_exporter": "python",
   "pygments_lexer": "ipython3",
   "version": "3.9.12"
  }
 },
 "nbformat": 4,
 "nbformat_minor": 5
}
