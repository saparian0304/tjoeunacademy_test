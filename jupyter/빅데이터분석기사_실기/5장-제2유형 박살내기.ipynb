{
 "cells": [
  {
   "cell_type": "markdown",
   "id": "1a608a63",
   "metadata": {},
   "source": [
    "## 1. 데이터 분석 연습하기\n",
    "고객 3,500명에 대한 학습용 데이터를 이용하여 성별 예측 모형을 만든 후, 이를 평가용 데이터에 적용하여 얻은 2,482명 고객의 성별 예측값을 다음과 같은 형식의 csv 파일로 생성하시오.\n",
    "(제출한 모델의 성능은 ROC-AUC 평가지표에 따라 채점)"
   ]
  },
  {
   "cell_type": "markdown",
   "id": "5a185e66",
   "metadata": {},
   "source": [
    "### 1.1 데이터 탐색하기"
   ]
  },
  {
   "cell_type": "code",
   "execution_count": 1,
   "id": "0558a69e",
   "metadata": {},
   "outputs": [],
   "source": [
    "# pandas 라이브러리 가져오기\n",
    "import pandas as pd\n",
    "# 주어진 데이터 파일을 모두 읽어서, 데이터 프레임 변수에 저장하기\n",
    "\n",
    "x_train = pd.read_csv('bigData-main/x_train.csv', encoding='ms949')\n",
    "x_test = pd.read_csv('bigData-main/x_test.csv', encoding='ms949')\n",
    "y_train = pd.read_csv('bigData-main/y_train.csv', encoding='ms949')"
   ]
  },
  {
   "cell_type": "code",
   "execution_count": 2,
   "id": "33a0b8d1",
   "metadata": {},
   "outputs": [
    {
     "name": "stdout",
     "output_type": "stream",
     "text": [
      "   cust_id      총구매액     최대구매액       환불금액   주구매상품 주구매지점  내점일수   내점당구매건수  \\\n",
      "0        0  68282840  11264000  6860000.0      기타   강남점    19  3.894737   \n",
      "1        1   2136000   2136000   300000.0     스포츠   잠실점     2  1.500000   \n",
      "2        2   3197000   1639000        NaN  남성 캐주얼   관악점     2  2.000000   \n",
      "3        3  16077620   4935000        NaN      기타   광주점    18  2.444444   \n",
      "4        4  29050000  24000000        NaN      보석  본  점     2  1.500000   \n",
      "\n",
      "     주말방문비율  구매주기  \n",
      "0  0.527027    17  \n",
      "1  0.000000     1  \n",
      "2  0.000000     1  \n",
      "3  0.318182    16  \n",
      "4  0.000000    85  \n"
     ]
    }
   ],
   "source": [
    "print(x_train.head())"
   ]
  },
  {
   "cell_type": "code",
   "execution_count": 3,
   "id": "95402f70",
   "metadata": {},
   "outputs": [
    {
     "name": "stdout",
     "output_type": "stream",
     "text": [
      "   cust_id       총구매액     최대구매액        환불금액 주구매상품 주구매지점  내점일수    내점당구매건수  \\\n",
      "0     3500   70900400  22000000   4050000.0    골프  부산본점    13   1.461538   \n",
      "1     3501  310533100  38558000  48034700.0   농산물   잠실점    90   2.433333   \n",
      "2     3502  305264140  14825000  30521000.0  가공식품  본  점   101  14.623762   \n",
      "3     3503    7594080   5225000         NaN  주방용품  부산본점     5   2.000000   \n",
      "4     3504    1795790   1411200         NaN   수산품  청량리점     3   2.666667   \n",
      "\n",
      "     주말방문비율  구매주기  \n",
      "0  0.789474    26  \n",
      "1  0.369863     3  \n",
      "2  0.083277     3  \n",
      "3  0.000000    47  \n",
      "4  0.125000     8  \n"
     ]
    }
   ],
   "source": [
    "print(x_test.head())"
   ]
  },
  {
   "cell_type": "code",
   "execution_count": 4,
   "id": "eb6e5e6b",
   "metadata": {},
   "outputs": [
    {
     "name": "stdout",
     "output_type": "stream",
     "text": [
      "   cust_id  gender\n",
      "0        0       0\n",
      "1        1       0\n",
      "2        2       1\n",
      "3        3       1\n",
      "4        4       0\n"
     ]
    }
   ],
   "source": [
    "print(y_train.head())"
   ]
  },
  {
   "cell_type": "markdown",
   "id": "df4b87c8",
   "metadata": {},
   "source": [
    "#### 말 줄임표로 확인이 어려운 데이터를 확인하는 방법\n",
    "(1) T, transpose() 함수 사용해서 열, 행 방향 바꾸기  \n",
    "(2) 전체 칼럼을 출력하는 옵션 사용하기\n",
    " - pd.options.display.max_columns = None"
   ]
  },
  {
   "cell_type": "code",
   "execution_count": 5,
   "id": "ea0d38db",
   "metadata": {},
   "outputs": [
    {
     "name": "stdout",
     "output_type": "stream",
     "text": [
      "   cust_id      총구매액     최대구매액       환불금액   주구매상품 주구매지점  내점일수   내점당구매건수  \\\n",
      "0        0  68282840  11264000  6860000.0      기타   강남점    19  3.894737   \n",
      "1        1   2136000   2136000   300000.0     스포츠   잠실점     2  1.500000   \n",
      "2        2   3197000   1639000        NaN  남성 캐주얼   관악점     2  2.000000   \n",
      "3        3  16077620   4935000        NaN      기타   광주점    18  2.444444   \n",
      "4        4  29050000  24000000        NaN      보석  본  점     2  1.500000   \n",
      "\n",
      "     주말방문비율  구매주기  \n",
      "0  0.527027    17  \n",
      "1  0.000000     1  \n",
      "2  0.000000     1  \n",
      "3  0.318182    16  \n",
      "4  0.000000    85  \n"
     ]
    }
   ],
   "source": [
    "pd.options.display.max_columns = None\n",
    "print(x_train.head())"
   ]
  },
  {
   "cell_type": "code",
   "execution_count": 6,
   "id": "edf37fc0",
   "metadata": {},
   "outputs": [
    {
     "name": "stdout",
     "output_type": "stream",
     "text": [
      "(3500, 10)\n",
      "(2482, 10)\n",
      "(3500, 2)\n"
     ]
    }
   ],
   "source": [
    "# 행 / 열 확인하기\n",
    "print(x_train.shape)\n",
    "print(x_test.shape)\n",
    "print(y_train.shape)"
   ]
  },
  {
   "cell_type": "code",
   "execution_count": 7,
   "id": "feec52d4",
   "metadata": {},
   "outputs": [
    {
     "name": "stdout",
     "output_type": "stream",
     "text": [
      "<class 'pandas.core.frame.DataFrame'>\n",
      "RangeIndex: 3500 entries, 0 to 3499\n",
      "Data columns (total 10 columns):\n",
      " #   Column   Non-Null Count  Dtype  \n",
      "---  ------   --------------  -----  \n",
      " 0   cust_id  3500 non-null   int64  \n",
      " 1   총구매액     3500 non-null   int64  \n",
      " 2   최대구매액    3500 non-null   int64  \n",
      " 3   환불금액     1205 non-null   float64\n",
      " 4   주구매상품    3500 non-null   object \n",
      " 5   주구매지점    3500 non-null   object \n",
      " 6   내점일수     3500 non-null   int64  \n",
      " 7   내점당구매건수  3500 non-null   float64\n",
      " 8   주말방문비율   3500 non-null   float64\n",
      " 9   구매주기     3500 non-null   int64  \n",
      "dtypes: float64(3), int64(5), object(2)\n",
      "memory usage: 273.6+ KB\n",
      "None\n"
     ]
    }
   ],
   "source": [
    "# 요약 정보 확인하기\n",
    "print(x_train.info())"
   ]
  },
  {
   "cell_type": "code",
   "execution_count": 8,
   "id": "ab341dfc",
   "metadata": {},
   "outputs": [
    {
     "name": "stdout",
     "output_type": "stream",
     "text": [
      "          count          mean           std         min           25%  \\\n",
      "cust_id  3500.0  1.749500e+03  1.010507e+03         0.0  8.747500e+02   \n",
      "총구매액     3500.0  9.191925e+07  1.635065e+08 -52421520.0  4.747050e+06   \n",
      "최대구매액    3500.0  1.966424e+07  3.199235e+07  -2992000.0  2.875000e+06   \n",
      "환불금액     1205.0  2.407822e+07  4.746453e+07      5600.0  2.259000e+06   \n",
      "내점일수     3500.0  1.925371e+01  2.717494e+01         1.0  2.000000e+00   \n",
      "내점당구매건수  3500.0  2.834963e+00  1.912368e+00         1.0  1.666667e+00   \n",
      "주말방문비율   3500.0  3.072463e-01  2.897516e-01         0.0  2.729090e-02   \n",
      "구매주기     3500.0  2.095829e+01  2.474868e+01         0.0  4.000000e+00   \n",
      "\n",
      "                  50%           75%           max  \n",
      "cust_id  1.749500e+03  2.624250e+03  3.499000e+03  \n",
      "총구매액     2.822270e+07  1.065079e+08  2.323180e+09  \n",
      "최대구매액    9.837000e+06  2.296250e+07  7.066290e+08  \n",
      "환불금액     7.392000e+06  2.412000e+07  5.637530e+08  \n",
      "내점일수     8.000000e+00  2.500000e+01  2.850000e+02  \n",
      "내점당구매건수  2.333333e+00  3.375000e+00  2.208333e+01  \n",
      "주말방문비율   2.564103e-01  4.489796e-01  1.000000e+00  \n",
      "구매주기     1.300000e+01  2.800000e+01  1.660000e+02  \n"
     ]
    }
   ],
   "source": [
    "# 기초 통계량 확인하기\n",
    "print(x_train.describe().T)"
   ]
  },
  {
   "cell_type": "markdown",
   "id": "594caccc",
   "metadata": {},
   "source": [
    "### 1.2 전처리하기"
   ]
  },
  {
   "cell_type": "code",
   "execution_count": 9,
   "id": "e528fb7f",
   "metadata": {},
   "outputs": [],
   "source": [
    "# 테스트 데이터의 cust_id 값은 x_test_cust_id 변수에 저장하기\n",
    "# 분석과정에는 불필요하나 추후 제출에 필요하다\n",
    "x_test_cust_id = x_test['cust_id']"
   ]
  },
  {
   "cell_type": "code",
   "execution_count": 10,
   "id": "ca97ff4f",
   "metadata": {},
   "outputs": [
    {
     "name": "stdout",
     "output_type": "stream",
     "text": [
      "       총구매액     최대구매액       환불금액   주구매상품 주구매지점  내점일수   내점당구매건수    주말방문비율  구매주기\n",
      "0  68282840  11264000  6860000.0      기타   강남점    19  3.894737  0.527027    17\n",
      "1   2136000   2136000   300000.0     스포츠   잠실점     2  1.500000  0.000000     1\n",
      "2   3197000   1639000        NaN  남성 캐주얼   관악점     2  2.000000  0.000000     1\n",
      "3  16077620   4935000        NaN      기타   광주점    18  2.444444  0.318182    16\n",
      "4  29050000  24000000        NaN      보석  본  점     2  1.500000  0.000000    85\n",
      "   gender\n",
      "0       0\n",
      "1       0\n",
      "2       1\n",
      "3       1\n",
      "4       0\n"
     ]
    }
   ],
   "source": [
    "# cust_id 칼럼을 삭제하기\n",
    "x_train = x_train.drop(columns=['cust_id'])\n",
    "y_train = y_train.drop(columns=['cust_id'])\n",
    "x_test = x_test.drop(columns=['cust_id'])\n",
    "\n",
    "# 칼럼이 삭제된 상위 5개 행을 확인하기\n",
    "print(x_train.head())\n",
    "print(y_train.head())"
   ]
  },
  {
   "cell_type": "code",
   "execution_count": 11,
   "id": "d4f87130",
   "metadata": {},
   "outputs": [
    {
     "name": "stdout",
     "output_type": "stream",
     "text": [
      "총구매액          0\n",
      "최대구매액         0\n",
      "환불금액       2295\n",
      "주구매상품         0\n",
      "주구매지점         0\n",
      "내점일수          0\n",
      "내점당구매건수       0\n",
      "주말방문비율        0\n",
      "구매주기          0\n",
      "dtype: int64\n"
     ]
    }
   ],
   "source": [
    "# 결측치 처리하기\n",
    "print(x_train.isnull().sum())"
   ]
  },
  {
   "cell_type": "code",
   "execution_count": 12,
   "id": "47db62c0",
   "metadata": {},
   "outputs": [
    {
     "name": "stdout",
     "output_type": "stream",
     "text": [
      "0\n",
      "0\n"
     ]
    }
   ],
   "source": [
    "# '환불금액' 칼럼의 결측치는 0으로 대치하기\n",
    "x_train['환불금액'] = x_train['환불금액'].fillna(0)\n",
    "x_test['환불금액'] = x_test['환불금액'].fillna(0)\n",
    "# 결측치가 조치되었는지, '환불금액' 칼럼의 결측치 개수를 확인하기\n",
    "print(x_train['환불금액'].isnull().sum())\n",
    "print(x_test['환불금액'].isnull().sum())"
   ]
  },
  {
   "cell_type": "code",
   "execution_count": 13,
   "id": "5182e43e",
   "metadata": {},
   "outputs": [
    {
     "name": "stdout",
     "output_type": "stream",
     "text": [
      "['기타' '스포츠' '남성 캐주얼' '보석' '디자이너' '시티웨어' '명품' '농산물' '화장품' '골프' '구두' '가공식품'\n",
      " '수산품' '아동' '차/커피' '캐주얼' '섬유잡화' '육류' '축산가공' '젓갈/반찬' '액세서리' '피혁잡화' '일용잡화'\n",
      " '주방가전' '주방용품' '건강식품' '가구' '주류' '모피/피혁' '남성 트랜디' '셔츠' '남성정장' '생활잡화'\n",
      " '트래디셔널' '란제리/내의' '커리어' '침구/수예' '대형가전' '통신/컴퓨터' '식기' '소형가전' '악기']\n",
      "42\n",
      "['강남점' '잠실점' '관악점' '광주점' '본  점' '일산점' '대전점' '부산본점' '분당점' '영등포점' '미아점'\n",
      " '청량리점' '안양점' '부평점' '동래점' '포항점' '노원점' '창원점' '센텀시티점' '인천점' '대구점' '전주점'\n",
      " '울산점' '상인점']\n",
      "24\n"
     ]
    }
   ],
   "source": [
    "# 범주형 변수를 인코딩하기\n",
    "\n",
    "# '주구매상품' 칼럼에서 중복을 제외한 값들을 확인하기\n",
    "print(x_train['주구매상품'].unique())\n",
    "# '주구매상품' 칼럼에서 중복을 제외한 값들의 개수 세기\n",
    "print(x_train['주구매상품'].unique().size)\n",
    "# '주구매지점' 칼럼에서 중복을 제외한 값들을 확인하기\n",
    "print(x_train['주구매지점'].unique())\n",
    "# '주구매지점' 칼럼에서 중복을 제외한 값들의 개수 세기\n",
    "print(x_train['주구매지점'].unique().size)\n"
   ]
  },
  {
   "cell_type": "code",
   "execution_count": 14,
   "id": "0f72f1a6",
   "metadata": {},
   "outputs": [],
   "source": [
    "from sklearn.preprocessing import LabelEncoder\n",
    "# 라벨 인코딩 수행을 위한 encoder 함수 만들기\n",
    "encoder = LabelEncoder()"
   ]
  },
  {
   "cell_type": "code",
   "execution_count": 15,
   "id": "7f4c1d7f",
   "metadata": {},
   "outputs": [
    {
     "name": "stdout",
     "output_type": "stream",
     "text": [
      "0     5\n",
      "1    21\n",
      "2     6\n",
      "3     5\n",
      "4    15\n",
      "5    11\n",
      "6    22\n",
      "7    13\n",
      "8     5\n",
      "9     9\n",
      "Name: 주구매상품, dtype: int32\n"
     ]
    }
   ],
   "source": [
    "# '주구매상품'에 대해 라벨 인코딩을 수행한 후, '주구매상품'칼럼으로 다시 저장하기\n",
    "x_train['주구매상품'] = encoder.fit_transform(x_train['주구매상품'])\n",
    "# 라벨인코딩 결과를 확인하기 위해, 상위 10개 행을 확인하기\n",
    "print(x_train['주구매상품'].head(10))"
   ]
  },
  {
   "cell_type": "code",
   "execution_count": 16,
   "id": "ff5dc0cd",
   "metadata": {},
   "outputs": [
    {
     "name": "stdout",
     "output_type": "stream",
     "text": [
      "['가공식품' '가구' '건강식품' '골프' '구두' '기타' '남성 캐주얼' '남성 트랜디' '남성정장' '농산물' '대형가전'\n",
      " '디자이너' '란제리/내의' '명품' '모피/피혁' '보석' '생활잡화' '섬유잡화' '셔츠' '소형가전' '수산품' '스포츠'\n",
      " '시티웨어' '식기' '아동' '악기' '액세서리' '육류' '일용잡화' '젓갈/반찬' '주류' '주방가전' '주방용품'\n",
      " '차/커피' '축산가공' '침구/수예' '캐주얼' '커리어' '통신/컴퓨터' '트래디셔널' '피혁잡화' '화장품']\n",
      "['가공식품' '가구' '건강식품' '골프' '구두' '기타' '남성 캐주얼' '남성 트랜디' '남성정장' '농산물' '대형가전'\n",
      " '디자이너' '란제리/내의' '명품' '모피/피혁' '보석' '생활잡화' '섬유잡화' '셔츠' '수산품' '스포츠' '시티웨어'\n",
      " '식기' '아동' '악기' '액세서리' '육류' '일용잡화' '젓갈/반찬' '주류' '주방가전' '주방용품' '차/커피'\n",
      " '축산가공' '침구/수예' '캐주얼' '커리어' '통신/컴퓨터' '트래디셔널' '피혁잡화' '화장품']\n"
     ]
    }
   ],
   "source": [
    "# '주구매상품' 칼럼에 대한 라벨 인코딩의 변환 순서 확인하기\n",
    "print(encoder.classes_)\n",
    "\n",
    "# 테스트 데이터로 라벨 인코딩 수행하기\n",
    "x_test['주구매상품'] = encoder.fit_transform(x_test['주구매상품'])\n",
    "print(encoder.classes_)"
   ]
  },
  {
   "cell_type": "code",
   "execution_count": 24,
   "id": "08575d07",
   "metadata": {},
   "outputs": [
    {
     "name": "stdout",
     "output_type": "stream",
     "text": [
      "0     546\n",
      "1      10\n",
      "2      47\n",
      "3      82\n",
      "4      54\n",
      "5     595\n",
      "6      55\n",
      "7       2\n",
      "8      22\n",
      "9     339\n",
      "10      8\n",
      "11    193\n",
      "12      8\n",
      "13    100\n",
      "14     57\n",
      "15      3\n",
      "16     15\n",
      "17     98\n",
      "18     30\n",
      "19      2\n",
      "20    153\n",
      "21     69\n",
      "22    213\n",
      "23      7\n",
      "24     40\n",
      "25      2\n",
      "26      5\n",
      "27     57\n",
      "28     64\n",
      "29     29\n",
      "30     14\n",
      "31     26\n",
      "32     32\n",
      "33     44\n",
      "34     35\n",
      "35      4\n",
      "36    101\n",
      "37      9\n",
      "38      3\n",
      "39     23\n",
      "40     40\n",
      "41    264\n",
      "Name: 주구매상품, dtype: int64\n",
      "0     395\n",
      "1       7\n",
      "2      36\n",
      "3      47\n",
      "4      44\n",
      "5     465\n",
      "6      46\n",
      "7       4\n",
      "8      25\n",
      "9     235\n",
      "10      6\n",
      "11    123\n",
      "12     10\n",
      "13     60\n",
      "14     47\n",
      "15      1\n",
      "16      8\n",
      "17     72\n",
      "18     25\n",
      "19     86\n",
      "20     43\n",
      "21    168\n",
      "22      8\n",
      "23     24\n",
      "24      1\n",
      "25      7\n",
      "26     38\n",
      "27     30\n",
      "28     18\n",
      "29     10\n",
      "30     10\n",
      "31     21\n",
      "32     55\n",
      "33     28\n",
      "34      3\n",
      "35     65\n",
      "36      6\n",
      "37      3\n",
      "38      9\n",
      "39     16\n",
      "40    177\n",
      "Name: 주구매상품, dtype: int64\n"
     ]
    }
   ],
   "source": [
    "######### 물어볼 내용 ###########\n",
    "# fit_transform 은 처음에만하고\n",
    "# test 데이터에는 transform 만 해야하나?\n",
    "print(x_train['주구매상품'].value_counts().sort_index())\n",
    "print(x_test['주구매상품'].value_counts().sort_index())"
   ]
  },
  {
   "cell_type": "code",
   "execution_count": 17,
   "id": "cdf73e43",
   "metadata": {},
   "outputs": [
    {
     "name": "stdout",
     "output_type": "stream",
     "text": [
      "0     0\n",
      "1    19\n",
      "2     1\n",
      "3     2\n",
      "4     8\n",
      "5    18\n",
      "6     0\n",
      "7     8\n",
      "8     8\n",
      "9     5\n",
      "Name: 주구매지점, dtype: int32\n"
     ]
    }
   ],
   "source": [
    "# '주구매지점'에 대해 라벨 인코딩을 수행한 후, '주구매지점' 칼럼으로 다시 저장하기\n",
    "x_train['주구매지점'] = encoder.fit_transform(x_train['주구매지점'])\n",
    "\n",
    "# 라벨인코딩 결과를 확인하기 위해, 상위 10개 행을 확인하기\n",
    "print(x_train['주구매지점'].head(10))"
   ]
  },
  {
   "cell_type": "code",
   "execution_count": 18,
   "id": "339bd571",
   "metadata": {},
   "outputs": [
    {
     "name": "stdout",
     "output_type": "stream",
     "text": [
      "['강남점' '관악점' '광주점' '노원점' '대구점' '대전점' '동래점' '미아점' '본  점' '부산본점' '부평점' '분당점'\n",
      " '상인점' '센텀시티점' '안양점' '영등포점' '울산점' '인천점' '일산점' '잠실점' '전주점' '창원점' '청량리점'\n",
      " '포항점']\n",
      "['강남점' '관악점' '광주점' '노원점' '대구점' '대전점' '동래점' '미아점' '본  점' '부산본점' '부평점' '분당점'\n",
      " '상인점' '센텀시티점' '안양점' '영등포점' '울산점' '인천점' '일산점' '잠실점' '전주점' '창원점' '청량리점'\n",
      " '포항점']\n"
     ]
    }
   ],
   "source": [
    "# '주구매지점' 칼럼에 대한 라벨 인코딩의 변환 순서 확인하기\n",
    "print(encoder.classes_)\n",
    "# 테스트 데이터의 '주구매지점' 칼럼도 라벨 인코딩 수행하기\n",
    "x_test['주구매지점'] = encoder.fit_transform(x_test['주구매지점'])\n",
    "print(encoder.classes_)\n"
   ]
  },
  {
   "cell_type": "code",
   "execution_count": 26,
   "id": "6e079ab3",
   "metadata": {},
   "outputs": [],
   "source": [
    "# '환불금액' 칼럼이 0보다 큰지에 대한 조건을 condition 변수에 저장하기\n",
    "condition = x_train['환불금액'] > 0"
   ]
  },
  {
   "cell_type": "code",
   "execution_count": 32,
   "id": "3dbd27f7",
   "metadata": {},
   "outputs": [],
   "source": [
    "# condition 조건에 맞으면 '환불금액_new' 칼럼을 1로 설정하기\n",
    "x_train.loc[condition,'환불금액_new'] = 1\n",
    "# condition 조건이 맞지 않으면, '환불금액_new' 칼럼을 0으로 설정하기\n",
    "x_train.loc[~condition,'환불금액_new'] = 0"
   ]
  },
  {
   "cell_type": "code",
   "execution_count": 34,
   "id": "f550e19b",
   "metadata": {},
   "outputs": [
    {
     "name": "stdout",
     "output_type": "stream",
     "text": [
      "           환불금액  환불금액_new\n",
      "0     6860000.0       1.0\n",
      "1      300000.0       1.0\n",
      "2           0.0       0.0\n",
      "3           0.0       0.0\n",
      "4           0.0       0.0\n",
      "...         ...       ...\n",
      "3495        0.0       0.0\n",
      "3496  6049600.0       1.0\n",
      "3497        0.0       0.0\n",
      "3498        0.0       0.0\n",
      "3499  5973000.0       1.0\n",
      "\n",
      "[3500 rows x 2 columns]\n"
     ]
    }
   ],
   "source": [
    "# '환불금액', '환불금액_new' 칼럼을 비교하기\n",
    "print(x_train[['환불금액', '환불금액_new']])"
   ]
  },
  {
   "cell_type": "code",
   "execution_count": 35,
   "id": "8b2322dc",
   "metadata": {},
   "outputs": [],
   "source": [
    "# '환불금액'칼럼의 삭제 내용은 바로 데이터 세트에 반영하기\n",
    "x_train = x_train.drop(columns=['환불금액'])"
   ]
  },
  {
   "cell_type": "code",
   "execution_count": 36,
   "id": "86bd877b",
   "metadata": {},
   "outputs": [],
   "source": [
    "# 테스트 데이터 세트에서도 '환불금액_new'라는 파생변수 만들기(~는 not의 의미)\n",
    "x_test.loc[condition, '환불금액_new'] = 1\n",
    "x_test.loc[~condition, '환불금액_new'] = 0\n",
    "\n",
    "# '환불금액' 칼럼의 삭제 내용은 바로 데이터 세트에 반영하기\n",
    "x_test = x_test.drop(columns=['환불금액'])"
   ]
  },
  {
   "cell_type": "code",
   "execution_count": 37,
   "id": "c9e4cb2d",
   "metadata": {},
   "outputs": [
    {
     "name": "stdout",
     "output_type": "stream",
     "text": [
      "           count          mean           std         min           25%  \\\n",
      "총구매액      3500.0  9.191925e+07  1.635065e+08 -52421520.0  4.747050e+06   \n",
      "최대구매액     3500.0  1.966424e+07  3.199235e+07  -2992000.0  2.875000e+06   \n",
      "주구매상품     3500.0  1.461200e+01  1.301995e+01         0.0  5.000000e+00   \n",
      "주구매지점     3500.0  1.073429e+01  5.636480e+00         0.0  8.000000e+00   \n",
      "내점일수      3500.0  1.925371e+01  2.717494e+01         1.0  2.000000e+00   \n",
      "내점당구매건수   3500.0  2.834963e+00  1.912368e+00         1.0  1.666667e+00   \n",
      "주말방문비율    3500.0  3.072463e-01  2.897516e-01         0.0  2.729090e-02   \n",
      "구매주기      3500.0  2.095829e+01  2.474868e+01         0.0  4.000000e+00   \n",
      "환불금액_new  3500.0  3.442857e-01  4.752027e-01         0.0  0.000000e+00   \n",
      "\n",
      "                   50%           75%           max  \n",
      "총구매액      2.822270e+07  1.065079e+08  2.323180e+09  \n",
      "최대구매액     9.837000e+06  2.296250e+07  7.066290e+08  \n",
      "주구매상품     9.000000e+00  2.200000e+01  4.100000e+01  \n",
      "주구매지점     9.000000e+00  1.500000e+01  2.300000e+01  \n",
      "내점일수      8.000000e+00  2.500000e+01  2.850000e+02  \n",
      "내점당구매건수   2.333333e+00  3.375000e+00  2.208333e+01  \n",
      "주말방문비율    2.564103e-01  4.489796e-01  1.000000e+00  \n",
      "구매주기      1.300000e+01  2.800000e+01  1.660000e+02  \n",
      "환불금액_new  0.000000e+00  1.000000e+00  1.000000e+00  \n"
     ]
    }
   ],
   "source": [
    "# 크기변환 전, x_train 세트의 기초 통계량 확인하기\n",
    "print(x_train.describe().T)"
   ]
  },
  {
   "cell_type": "code",
   "execution_count": 38,
   "id": "fb735a23",
   "metadata": {},
   "outputs": [],
   "source": [
    "# sklearn 패키지의 preprocessing 모듈에서 StandardScaler 함수를 가져오기\n",
    "from sklearn.preprocessing import StandardScaler\n",
    "# 표준화 크기 변환을 수행하기 위한 scaler 객체를 만들기\n",
    "scaler = StandardScaler()\n",
    "# scaler 객체로 표준화 크기변환을 수행하고, x_train의 칼럼명을 사용하기\n",
    "x_train = pd.DataFrame(scaler.fit_transform(x_train), columns = x_train.columns)"
   ]
  },
  {
   "cell_type": "code",
   "execution_count": 39,
   "id": "dd5e65ce",
   "metadata": {},
   "outputs": [],
   "source": [
    "# 테스트 데이터는 transform() 함수만으로 값을 변환\n",
    "x_test = pd.DataFrame(scaler.transform(x_test), columns=x_test.columns)"
   ]
  },
  {
   "cell_type": "code",
   "execution_count": 41,
   "id": "9c86592b",
   "metadata": {},
   "outputs": [
    {
     "name": "stdout",
     "output_type": "stream",
     "text": [
      "           count          mean       std       min       25%       50%  \\\n",
      "총구매액      3500.0 -4.409171e-17  1.000143 -0.882909 -0.533218 -0.389621   \n",
      "최대구매액     3500.0 -4.838986e-17  1.000143 -0.708278 -0.524864 -0.307219   \n",
      "주구매상품     3500.0 -6.236281e-17  1.000143 -1.122438 -0.738357 -0.431093   \n",
      "주구매지점     3500.0 -8.333017e-17  1.000143 -1.904703 -0.485175 -0.307733   \n",
      "내점일수      3500.0  2.518303e-16  1.000143 -0.671807 -0.635003 -0.414180   \n",
      "내점당구매건수   3500.0 -2.288170e-16  1.000143 -0.959661 -0.611003 -0.262346   \n",
      "주말방문비율    3500.0  9.192647e-17  1.000143 -1.060530 -0.966329 -0.175472   \n",
      "구매주기      3500.0 -1.220294e-16  1.000143 -0.846966 -0.685318 -0.321610   \n",
      "환불금액_new  3500.0  3.445498e-16  1.000143 -0.724606 -0.724606 -0.724606   \n",
      "\n",
      "               75%        max  \n",
      "총구매액      0.089237  13.648260  \n",
      "최대구매액     0.103110  21.475852  \n",
      "주구매상품     0.567518   2.027026  \n",
      "주구매지점     0.756913   2.176441  \n",
      "내점일수      0.211486   9.780490  \n",
      "내점당구매건수   0.282432  10.066639  \n",
      "주말방문비율    0.489224   2.391196  \n",
      "구매주기      0.284570   5.861421  \n",
      "환불금액_new  1.380060   1.380060  \n"
     ]
    }
   ],
   "source": [
    "# 크기 변환 후, x_train 세트의 기초 통계량 확인하기\n",
    "print(x_train.describe().T)"
   ]
  },
  {
   "cell_type": "code",
   "execution_count": 42,
   "id": "4dd37927",
   "metadata": {},
   "outputs": [
    {
     "name": "stdout",
     "output_type": "stream",
     "text": [
      "              총구매액     최대구매액  환불금액_new\n",
      "총구매액      1.000000  0.700080  0.403357\n",
      "최대구매액     0.700080  1.000000  0.330687\n",
      "환불금액_new  0.403357  0.330687  1.000000\n"
     ]
    }
   ],
   "source": [
    "# '총구매액', '최대구매액', '환불금액_new' 칼럼 간의 상관관계 구하기\n",
    "print(x_train[['총구매액', '최대구매액', '환불금액_new']].corr())"
   ]
  },
  {
   "cell_type": "code",
   "execution_count": 43,
   "id": "ba15c894",
   "metadata": {},
   "outputs": [],
   "source": [
    "# x_train 세트에서 '최대구매액' 칼럼을 삭제한 후, x_train에 저장하기\n",
    "x_train = x_train.drop(columns=['최대구매액'])\n",
    "# x_test 세트에서 '최대구매액' 칼럼을 삭제한 후, x_test에 저장하기\n",
    "x_test = x_test.drop(columns=['최대구매액'])"
   ]
  },
  {
   "cell_type": "markdown",
   "id": "26170059",
   "metadata": {},
   "source": [
    "### 1.3 학습하고 평가하기"
   ]
  },
  {
   "cell_type": "code",
   "execution_count": null,
   "id": "043bb242",
   "metadata": {},
   "outputs": [],
   "source": []
  }
 ],
 "metadata": {
  "kernelspec": {
   "display_name": "Python 3 (ipykernel)",
   "language": "python",
   "name": "python3"
  },
  "language_info": {
   "codemirror_mode": {
    "name": "ipython",
    "version": 3
   },
   "file_extension": ".py",
   "mimetype": "text/x-python",
   "name": "python",
   "nbconvert_exporter": "python",
   "pygments_lexer": "ipython3",
   "version": "3.9.12"
  }
 },
 "nbformat": 4,
 "nbformat_minor": 5
}
