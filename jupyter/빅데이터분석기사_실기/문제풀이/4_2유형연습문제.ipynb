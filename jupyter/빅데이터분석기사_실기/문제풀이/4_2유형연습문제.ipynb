{
 "cells": [
  {
   "cell_type": "markdown",
   "metadata": {
    "id": "_GA4dw9aRLB3"
   },
   "source": [
    "# 데이터 불러오기"
   ]
  },
  {
   "cell_type": "code",
   "execution_count": 9,
   "metadata": {
    "id": "kGzFHfJLQwby"
   },
   "outputs": [],
   "source": [
    "import pandas as pd\n",
    "X_train = pd.read_csv('stellar_X_train.csv')\n",
    "y_train = pd.read_csv('stellar_y_train.csv')\n",
    "X_test = pd.read_csv('stellar_X_test.csv')"
   ]
  },
  {
   "cell_type": "markdown",
   "metadata": {
    "id": "0bBvJKjsRpp9"
   },
   "source": [
    "# 데이터 확인"
   ]
  },
  {
   "cell_type": "code",
   "execution_count": null,
   "metadata": {
    "id": "7f2JO2XVRtiZ"
   },
   "outputs": [],
   "source": [
    "print(X_train.info())"
   ]
  },
  {
   "cell_type": "code",
   "execution_count": 4,
   "metadata": {
    "colab": {
     "base_uri": "https://localhost:8080/"
    },
    "id": "rl981H5SR6Ae",
    "outputId": "01aa4a93-0755-470f-fa05-bd74c3ad260e"
   },
   "outputs": [
    {
     "name": "stdout",
     "output_type": "stream",
     "text": [
      "              alpha         delta             u             g             r  \\\n",
      "count  70000.000000  70000.000000  70000.000000  70000.000000  70000.000000   \n",
      "mean     177.535809     24.107885     21.938806     20.486718     19.644011   \n",
      "std       96.483093     19.665057     37.942814     37.925201      1.852053   \n",
      "min        0.005528    -18.785328  -9999.000000  -9999.000000      9.822070   \n",
      "25%      127.385304      5.115922     20.349987     18.957325     18.136183   \n",
      "50%      180.706865     23.579507     22.183860     21.095445     20.122805   \n",
      "75%      233.942154     39.871336     23.684145     22.121073     21.039012   \n",
      "max      359.999615     82.947622     32.781390     31.602240     29.571860   \n",
      "\n",
      "                  i             z      redshift        run_ID  rerun_ID  \\\n",
      "count  70000.000000  70000.000000  70000.000000  70000.000000   70000.0   \n",
      "mean      19.082969     18.624590      0.575246   4478.649443     301.0   \n",
      "std        1.755997     37.904705      0.729921   1965.326847       0.0   \n",
      "min        9.469903  -9999.000000     -0.009971    109.000000     301.0   \n",
      "25%       17.733732     17.463838      0.052602   3185.000000     301.0   \n",
      "50%       19.399590     19.001010      0.422838   4188.000000     301.0   \n",
      "75%       20.391340     19.917578      0.700399   5326.000000     301.0   \n",
      "max       32.141470     28.790550      7.011245   8162.000000     301.0   \n",
      "\n",
      "            cam_col      field_ID         plate  \n",
      "count  70000.000000  70000.000000  70000.000000  \n",
      "mean       3.510500    186.045714   5127.852900  \n",
      "std        1.585203    148.661268   2947.452991  \n",
      "min        1.000000     11.000000    266.000000  \n",
      "25%        2.000000     82.000000   2525.750000  \n",
      "50%        4.000000    146.000000   4978.000000  \n",
      "75%        5.000000    241.000000   7389.000000  \n",
      "max        6.000000    989.000000  12547.000000  \n"
     ]
    }
   ],
   "source": [
    "print(X_train.describe())"
   ]
  },
  {
   "cell_type": "markdown",
   "metadata": {
    "id": "M6O6Rw58YhG5"
   },
   "source": [
    "# 이상치 제거"
   ]
  },
  {
   "cell_type": "code",
   "execution_count": 10,
   "metadata": {
    "id": "h8sd5zamSMNM"
   },
   "outputs": [],
   "source": [
    "y_train = y_train[X_train['u']!=-9999]\n",
    "X_train = X_train[X_train['u']!=-9999]\n",
    "\n",
    "y_train = y_train[X_train['g']!=-9999]\n",
    "X_train = X_train[X_train['g']!=-9999]\n",
    "\n",
    "y_train = y_train[X_train['z']!=-9999]\n",
    "X_train = X_train[X_train['z']!=-9999]"
   ]
  },
  {
   "cell_type": "code",
   "execution_count": 11,
   "metadata": {
    "colab": {
     "base_uri": "https://localhost:8080/",
     "height": 364
    },
    "id": "vwYmnzTYWuN8",
    "outputId": "8bedab08-f7be-4498-dec4-74c8c04e1f81"
   },
   "outputs": [
    {
     "data": {
      "text/html": [
       "\n",
       "  <div id=\"df-362502fe-7e79-43f0-8443-061571f55fad\">\n",
       "    <div class=\"colab-df-container\">\n",
       "      <div>\n",
       "<style scoped>\n",
       "    .dataframe tbody tr th:only-of-type {\n",
       "        vertical-align: middle;\n",
       "    }\n",
       "\n",
       "    .dataframe tbody tr th {\n",
       "        vertical-align: top;\n",
       "    }\n",
       "\n",
       "    .dataframe thead th {\n",
       "        text-align: right;\n",
       "    }\n",
       "</style>\n",
       "<table border=\"1\" class=\"dataframe\">\n",
       "  <thead>\n",
       "    <tr style=\"text-align: right;\">\n",
       "      <th></th>\n",
       "      <th>alpha</th>\n",
       "      <th>delta</th>\n",
       "      <th>u</th>\n",
       "      <th>g</th>\n",
       "      <th>r</th>\n",
       "      <th>i</th>\n",
       "      <th>z</th>\n",
       "      <th>redshift</th>\n",
       "      <th>run_ID</th>\n",
       "      <th>rerun_ID</th>\n",
       "      <th>cam_col</th>\n",
       "      <th>field_ID</th>\n",
       "      <th>plate</th>\n",
       "    </tr>\n",
       "  </thead>\n",
       "  <tbody>\n",
       "    <tr>\n",
       "      <th>count</th>\n",
       "      <td>69999.000000</td>\n",
       "      <td>69999.000000</td>\n",
       "      <td>69999.000000</td>\n",
       "      <td>69999.000000</td>\n",
       "      <td>69999.000000</td>\n",
       "      <td>69999.000000</td>\n",
       "      <td>69999.000000</td>\n",
       "      <td>69999.000000</td>\n",
       "      <td>69999.000000</td>\n",
       "      <td>69999.0</td>\n",
       "      <td>69999.000000</td>\n",
       "      <td>69999.000000</td>\n",
       "      <td>69999.000000</td>\n",
       "    </tr>\n",
       "    <tr>\n",
       "      <th>mean</th>\n",
       "      <td>177.535145</td>\n",
       "      <td>24.108238</td>\n",
       "      <td>22.081964</td>\n",
       "      <td>20.629856</td>\n",
       "      <td>19.644032</td>\n",
       "      <td>19.082984</td>\n",
       "      <td>18.767701</td>\n",
       "      <td>0.575254</td>\n",
       "      <td>4478.702681</td>\n",
       "      <td>301.0</td>\n",
       "      <td>3.510522</td>\n",
       "      <td>186.040701</td>\n",
       "      <td>5127.878813</td>\n",
       "    </tr>\n",
       "    <tr>\n",
       "      <th>std</th>\n",
       "      <td>96.483622</td>\n",
       "      <td>19.664976</td>\n",
       "      <td>2.248554</td>\n",
       "      <td>2.033576</td>\n",
       "      <td>1.852057</td>\n",
       "      <td>1.756005</td>\n",
       "      <td>1.764734</td>\n",
       "      <td>0.729923</td>\n",
       "      <td>1965.290408</td>\n",
       "      <td>0.0</td>\n",
       "      <td>1.585204</td>\n",
       "      <td>148.656411</td>\n",
       "      <td>2947.466071</td>\n",
       "    </tr>\n",
       "    <tr>\n",
       "      <th>min</th>\n",
       "      <td>0.005528</td>\n",
       "      <td>-18.785328</td>\n",
       "      <td>10.996230</td>\n",
       "      <td>10.498200</td>\n",
       "      <td>9.822070</td>\n",
       "      <td>9.469903</td>\n",
       "      <td>9.612333</td>\n",
       "      <td>-0.009971</td>\n",
       "      <td>109.000000</td>\n",
       "      <td>301.0</td>\n",
       "      <td>1.000000</td>\n",
       "      <td>11.000000</td>\n",
       "      <td>266.000000</td>\n",
       "    </tr>\n",
       "    <tr>\n",
       "      <th>25%</th>\n",
       "      <td>127.384192</td>\n",
       "      <td>5.117238</td>\n",
       "      <td>20.350000</td>\n",
       "      <td>18.957435</td>\n",
       "      <td>18.136075</td>\n",
       "      <td>17.733685</td>\n",
       "      <td>17.463885</td>\n",
       "      <td>0.052608</td>\n",
       "      <td>3185.000000</td>\n",
       "      <td>301.0</td>\n",
       "      <td>2.000000</td>\n",
       "      <td>82.000000</td>\n",
       "      <td>2525.500000</td>\n",
       "    </tr>\n",
       "    <tr>\n",
       "      <th>50%</th>\n",
       "      <td>180.705886</td>\n",
       "      <td>23.580630</td>\n",
       "      <td>22.183900</td>\n",
       "      <td>21.095450</td>\n",
       "      <td>20.122810</td>\n",
       "      <td>19.399590</td>\n",
       "      <td>19.001020</td>\n",
       "      <td>0.422848</td>\n",
       "      <td>4188.000000</td>\n",
       "      <td>301.0</td>\n",
       "      <td>4.000000</td>\n",
       "      <td>146.000000</td>\n",
       "      <td>4978.000000</td>\n",
       "    </tr>\n",
       "    <tr>\n",
       "      <th>75%</th>\n",
       "      <td>233.942330</td>\n",
       "      <td>39.872079</td>\n",
       "      <td>23.684160</td>\n",
       "      <td>22.121075</td>\n",
       "      <td>21.039035</td>\n",
       "      <td>20.391350</td>\n",
       "      <td>19.917595</td>\n",
       "      <td>0.700399</td>\n",
       "      <td>5326.000000</td>\n",
       "      <td>301.0</td>\n",
       "      <td>5.000000</td>\n",
       "      <td>241.000000</td>\n",
       "      <td>7389.000000</td>\n",
       "    </tr>\n",
       "    <tr>\n",
       "      <th>max</th>\n",
       "      <td>359.999615</td>\n",
       "      <td>82.947622</td>\n",
       "      <td>32.781390</td>\n",
       "      <td>31.602240</td>\n",
       "      <td>29.571860</td>\n",
       "      <td>32.141470</td>\n",
       "      <td>28.790550</td>\n",
       "      <td>7.011245</td>\n",
       "      <td>8162.000000</td>\n",
       "      <td>301.0</td>\n",
       "      <td>6.000000</td>\n",
       "      <td>989.000000</td>\n",
       "      <td>12547.000000</td>\n",
       "    </tr>\n",
       "  </tbody>\n",
       "</table>\n",
       "</div>\n",
       "      <button class=\"colab-df-convert\" onclick=\"convertToInteractive('df-362502fe-7e79-43f0-8443-061571f55fad')\"\n",
       "              title=\"Convert this dataframe to an interactive table.\"\n",
       "              style=\"display:none;\">\n",
       "        \n",
       "  <svg xmlns=\"http://www.w3.org/2000/svg\" height=\"24px\"viewBox=\"0 0 24 24\"\n",
       "       width=\"24px\">\n",
       "    <path d=\"M0 0h24v24H0V0z\" fill=\"none\"/>\n",
       "    <path d=\"M18.56 5.44l.94 2.06.94-2.06 2.06-.94-2.06-.94-.94-2.06-.94 2.06-2.06.94zm-11 1L8.5 8.5l.94-2.06 2.06-.94-2.06-.94L8.5 2.5l-.94 2.06-2.06.94zm10 10l.94 2.06.94-2.06 2.06-.94-2.06-.94-.94-2.06-.94 2.06-2.06.94z\"/><path d=\"M17.41 7.96l-1.37-1.37c-.4-.4-.92-.59-1.43-.59-.52 0-1.04.2-1.43.59L10.3 9.45l-7.72 7.72c-.78.78-.78 2.05 0 2.83L4 21.41c.39.39.9.59 1.41.59.51 0 1.02-.2 1.41-.59l7.78-7.78 2.81-2.81c.8-.78.8-2.07 0-2.86zM5.41 20L4 18.59l7.72-7.72 1.47 1.35L5.41 20z\"/>\n",
       "  </svg>\n",
       "      </button>\n",
       "      \n",
       "  <style>\n",
       "    .colab-df-container {\n",
       "      display:flex;\n",
       "      flex-wrap:wrap;\n",
       "      gap: 12px;\n",
       "    }\n",
       "\n",
       "    .colab-df-convert {\n",
       "      background-color: #E8F0FE;\n",
       "      border: none;\n",
       "      border-radius: 50%;\n",
       "      cursor: pointer;\n",
       "      display: none;\n",
       "      fill: #1967D2;\n",
       "      height: 32px;\n",
       "      padding: 0 0 0 0;\n",
       "      width: 32px;\n",
       "    }\n",
       "\n",
       "    .colab-df-convert:hover {\n",
       "      background-color: #E2EBFA;\n",
       "      box-shadow: 0px 1px 2px rgba(60, 64, 67, 0.3), 0px 1px 3px 1px rgba(60, 64, 67, 0.15);\n",
       "      fill: #174EA6;\n",
       "    }\n",
       "\n",
       "    [theme=dark] .colab-df-convert {\n",
       "      background-color: #3B4455;\n",
       "      fill: #D2E3FC;\n",
       "    }\n",
       "\n",
       "    [theme=dark] .colab-df-convert:hover {\n",
       "      background-color: #434B5C;\n",
       "      box-shadow: 0px 1px 3px 1px rgba(0, 0, 0, 0.15);\n",
       "      filter: drop-shadow(0px 1px 2px rgba(0, 0, 0, 0.3));\n",
       "      fill: #FFFFFF;\n",
       "    }\n",
       "  </style>\n",
       "\n",
       "      <script>\n",
       "        const buttonEl =\n",
       "          document.querySelector('#df-362502fe-7e79-43f0-8443-061571f55fad button.colab-df-convert');\n",
       "        buttonEl.style.display =\n",
       "          google.colab.kernel.accessAllowed ? 'block' : 'none';\n",
       "\n",
       "        async function convertToInteractive(key) {\n",
       "          const element = document.querySelector('#df-362502fe-7e79-43f0-8443-061571f55fad');\n",
       "          const dataTable =\n",
       "            await google.colab.kernel.invokeFunction('convertToInteractive',\n",
       "                                                     [key], {});\n",
       "          if (!dataTable) return;\n",
       "\n",
       "          const docLinkHtml = 'Like what you see? Visit the ' +\n",
       "            '<a target=\"_blank\" href=https://colab.research.google.com/notebooks/data_table.ipynb>data table notebook</a>'\n",
       "            + ' to learn more about interactive tables.';\n",
       "          element.innerHTML = '';\n",
       "          dataTable['output_type'] = 'display_data';\n",
       "          await google.colab.output.renderOutput(dataTable, element);\n",
       "          const docLink = document.createElement('div');\n",
       "          docLink.innerHTML = docLinkHtml;\n",
       "          element.appendChild(docLink);\n",
       "        }\n",
       "      </script>\n",
       "    </div>\n",
       "  </div>\n",
       "  "
      ],
      "text/plain": [
       "              alpha         delta             u             g             r  \\\n",
       "count  69999.000000  69999.000000  69999.000000  69999.000000  69999.000000   \n",
       "mean     177.535145     24.108238     22.081964     20.629856     19.644032   \n",
       "std       96.483622     19.664976      2.248554      2.033576      1.852057   \n",
       "min        0.005528    -18.785328     10.996230     10.498200      9.822070   \n",
       "25%      127.384192      5.117238     20.350000     18.957435     18.136075   \n",
       "50%      180.705886     23.580630     22.183900     21.095450     20.122810   \n",
       "75%      233.942330     39.872079     23.684160     22.121075     21.039035   \n",
       "max      359.999615     82.947622     32.781390     31.602240     29.571860   \n",
       "\n",
       "                  i             z      redshift        run_ID  rerun_ID  \\\n",
       "count  69999.000000  69999.000000  69999.000000  69999.000000   69999.0   \n",
       "mean      19.082984     18.767701      0.575254   4478.702681     301.0   \n",
       "std        1.756005      1.764734      0.729923   1965.290408       0.0   \n",
       "min        9.469903      9.612333     -0.009971    109.000000     301.0   \n",
       "25%       17.733685     17.463885      0.052608   3185.000000     301.0   \n",
       "50%       19.399590     19.001020      0.422848   4188.000000     301.0   \n",
       "75%       20.391350     19.917595      0.700399   5326.000000     301.0   \n",
       "max       32.141470     28.790550      7.011245   8162.000000     301.0   \n",
       "\n",
       "            cam_col      field_ID         plate  \n",
       "count  69999.000000  69999.000000  69999.000000  \n",
       "mean       3.510522    186.040701   5127.878813  \n",
       "std        1.585204    148.656411   2947.466071  \n",
       "min        1.000000     11.000000    266.000000  \n",
       "25%        2.000000     82.000000   2525.500000  \n",
       "50%        4.000000    146.000000   4978.000000  \n",
       "75%        5.000000    241.000000   7389.000000  \n",
       "max        6.000000    989.000000  12547.000000  "
      ]
     },
     "execution_count": 11,
     "metadata": {},
     "output_type": "execute_result"
    }
   ],
   "source": [
    "X_train.describe()"
   ]
  },
  {
   "cell_type": "markdown",
   "metadata": {
    "id": "hTwsRoLmZQuB"
   },
   "source": [
    "# 스케일링"
   ]
  },
  {
   "cell_type": "code",
   "execution_count": 12,
   "metadata": {
    "id": "DPJAtXInW7_q"
   },
   "outputs": [],
   "source": [
    "from sklearn.preprocessing import StandardScaler"
   ]
  },
  {
   "cell_type": "code",
   "execution_count": 13,
   "metadata": {
    "id": "VdpS8PfvZWcT"
   },
   "outputs": [],
   "source": [
    "scaler = StandardScaler()\n",
    "X_train[['alpha','delta']] = scaler.fit_transform(X_train[['alpha','delta']])\n",
    "# train데이터로 fit했으면 test데이터는 transform만 실행\n",
    "X_test[['alpha','delta']] = scaler.transform(X_test[['alpha','delta']])"
   ]
  },
  {
   "cell_type": "code",
   "execution_count": null,
   "metadata": {
    "id": "mHZFhDoSZ-dT"
   },
   "outputs": [],
   "source": [
    "print(X_train.describe())"
   ]
  },
  {
   "cell_type": "markdown",
   "metadata": {
    "id": "XLnv_ZJwaXPR"
   },
   "source": [
    "# 데이터 분할"
   ]
  },
  {
   "cell_type": "code",
   "execution_count": 16,
   "metadata": {
    "id": "7fIZRsdoaHpn"
   },
   "outputs": [],
   "source": [
    "from sklearn.model_selection import train_test_split\n",
    "x_tr, x_val, y_tr, y_val = train_test_split(X_train, y_train)"
   ]
  },
  {
   "cell_type": "code",
   "execution_count": 17,
   "metadata": {
    "colab": {
     "base_uri": "https://localhost:8080/"
    },
    "id": "W3VMeMUVbZTS",
    "outputId": "1e5ae4ad-7f23-4ba0-85df-33f91e5bf20d"
   },
   "outputs": [
    {
     "name": "stdout",
     "output_type": "stream",
     "text": [
      "(52499, 13) (17500, 13) (52499, 1) (17500, 1)\n"
     ]
    }
   ],
   "source": [
    "print(x_tr.shape, x_val.shape, y_tr.shape, y_val.shape)"
   ]
  },
  {
   "cell_type": "markdown",
   "metadata": {
    "id": "mow8bTLib4U-"
   },
   "source": [
    "# 모델링"
   ]
  },
  {
   "cell_type": "code",
   "execution_count": 18,
   "metadata": {
    "colab": {
     "base_uri": "https://localhost:8080/"
    },
    "id": "x2vBScynb3Pf",
    "outputId": "83971d24-c146-477a-e439-c90d5436d186"
   },
   "outputs": [
    {
     "name": "stderr",
     "output_type": "stream",
     "text": [
      "/usr/local/lib/python3.7/dist-packages/ipykernel_launcher.py:3: DataConversionWarning: A column-vector y was passed when a 1d array was expected. Please change the shape of y to (n_samples,), for example using ravel().\n",
      "  This is separate from the ipykernel package so we can avoid doing imports until\n"
     ]
    }
   ],
   "source": [
    "# 랜덤포레스트\n",
    "from sklearn.ensemble import RandomForestClassifier\n",
    "rf = RandomForestClassifier()\n",
    "rf.fit(x_tr, y_tr)\n",
    "pred = rf.predict(x_val)"
   ]
  },
  {
   "cell_type": "code",
   "execution_count": 20,
   "metadata": {
    "colab": {
     "base_uri": "https://localhost:8080/"
    },
    "id": "Xgg-HiLNbkXK",
    "outputId": "405d144a-9e7c-4421-9e61-fd030088901f"
   },
   "outputs": [
    {
     "name": "stderr",
     "output_type": "stream",
     "text": [
      "/usr/local/lib/python3.7/dist-packages/sklearn/preprocessing/_label.py:98: DataConversionWarning: A column-vector y was passed when a 1d array was expected. Please change the shape of y to (n_samples, ), for example using ravel().\n",
      "  y = column_or_1d(y, warn=True)\n",
      "/usr/local/lib/python3.7/dist-packages/sklearn/preprocessing/_label.py:133: DataConversionWarning: A column-vector y was passed when a 1d array was expected. Please change the shape of y to (n_samples, ), for example using ravel().\n",
      "  y = column_or_1d(y, warn=True)\n"
     ]
    }
   ],
   "source": [
    "# xgboost\n",
    "from xgboost import XGBClassifier\n",
    "xgb = XGBClassifier()\n",
    "xgb.fit(x_tr, y_tr)\n",
    "pred2 = xgb.predict(x_val)"
   ]
  },
  {
   "cell_type": "markdown",
   "metadata": {
    "id": "TAxvQIdSc5b_"
   },
   "source": [
    "# 평가"
   ]
  },
  {
   "cell_type": "code",
   "execution_count": 21,
   "metadata": {
    "id": "IK-iPftYcrD0"
   },
   "outputs": [],
   "source": [
    "from sklearn.metrics import roc_auc_score\n",
    "score1 = roc_auc_score(y_val, pred)\n",
    "score2 = roc_auc_score(y_val, pred2)"
   ]
  },
  {
   "cell_type": "code",
   "execution_count": 22,
   "metadata": {
    "colab": {
     "base_uri": "https://localhost:8080/"
    },
    "id": "DbhugCmXdN1D",
    "outputId": "73064d38-7f1c-4cc7-a64c-d739fe93f2e8"
   },
   "outputs": [
    {
     "name": "stdout",
     "output_type": "stream",
     "text": [
      "0.9768273906490794 0.974133108158421\n"
     ]
    }
   ],
   "source": [
    "print(score1, score2) # score1이 더 높으므로 랜덤포레스트로 결정"
   ]
  },
  {
   "cell_type": "code",
   "execution_count": 24,
   "metadata": {
    "colab": {
     "base_uri": "https://localhost:8080/"
    },
    "id": "1itMj2OidP16",
    "outputId": "ba528f2c-de06-4999-824f-fbe38d6e6b30"
   },
   "outputs": [
    {
     "name": "stdout",
     "output_type": "stream",
     "text": [
      "[0.97 0.   1.   ... 0.05 0.04 0.98]\n"
     ]
    }
   ],
   "source": [
    "print(rf.predict_proba(X_test)[:,1])"
   ]
  },
  {
   "cell_type": "markdown",
   "metadata": {
    "id": "zmrLYJpjeVKq"
   },
   "source": [
    "# 제출"
   ]
  },
  {
   "cell_type": "code",
   "execution_count": 26,
   "metadata": {
    "id": "t9urIo6ydsZV"
   },
   "outputs": [],
   "source": [
    "result = rf.predict_proba(X_test)[:,1]\n",
    "# CSV를 index, galaxy 로 저장\n",
    "pd.DataFrame({'index':X_test.index, 'galaxy':result}).to_csv('1234.csv', index=False)"
   ]
  },
  {
   "cell_type": "code",
   "execution_count": 27,
   "metadata": {
    "colab": {
     "base_uri": "https://localhost:8080/",
     "height": 424
    },
    "id": "Rjr7ovIMeLNQ",
    "outputId": "ebdf13b5-96e6-42a5-c6d7-bd73d3837143"
   },
   "outputs": [
    {
     "data": {
      "text/html": [
       "\n",
       "  <div id=\"df-546b03ed-d7ca-4d68-8bab-a9cf758a10da\">\n",
       "    <div class=\"colab-df-container\">\n",
       "      <div>\n",
       "<style scoped>\n",
       "    .dataframe tbody tr th:only-of-type {\n",
       "        vertical-align: middle;\n",
       "    }\n",
       "\n",
       "    .dataframe tbody tr th {\n",
       "        vertical-align: top;\n",
       "    }\n",
       "\n",
       "    .dataframe thead th {\n",
       "        text-align: right;\n",
       "    }\n",
       "</style>\n",
       "<table border=\"1\" class=\"dataframe\">\n",
       "  <thead>\n",
       "    <tr style=\"text-align: right;\">\n",
       "      <th></th>\n",
       "      <th>index</th>\n",
       "      <th>galaxy</th>\n",
       "    </tr>\n",
       "  </thead>\n",
       "  <tbody>\n",
       "    <tr>\n",
       "      <th>0</th>\n",
       "      <td>0</td>\n",
       "      <td>0.97</td>\n",
       "    </tr>\n",
       "    <tr>\n",
       "      <th>1</th>\n",
       "      <td>1</td>\n",
       "      <td>0.00</td>\n",
       "    </tr>\n",
       "    <tr>\n",
       "      <th>2</th>\n",
       "      <td>2</td>\n",
       "      <td>1.00</td>\n",
       "    </tr>\n",
       "    <tr>\n",
       "      <th>3</th>\n",
       "      <td>3</td>\n",
       "      <td>1.00</td>\n",
       "    </tr>\n",
       "    <tr>\n",
       "      <th>4</th>\n",
       "      <td>4</td>\n",
       "      <td>0.03</td>\n",
       "    </tr>\n",
       "    <tr>\n",
       "      <th>...</th>\n",
       "      <td>...</td>\n",
       "      <td>...</td>\n",
       "    </tr>\n",
       "    <tr>\n",
       "      <th>29995</th>\n",
       "      <td>29995</td>\n",
       "      <td>0.98</td>\n",
       "    </tr>\n",
       "    <tr>\n",
       "      <th>29996</th>\n",
       "      <td>29996</td>\n",
       "      <td>0.01</td>\n",
       "    </tr>\n",
       "    <tr>\n",
       "      <th>29997</th>\n",
       "      <td>29997</td>\n",
       "      <td>0.05</td>\n",
       "    </tr>\n",
       "    <tr>\n",
       "      <th>29998</th>\n",
       "      <td>29998</td>\n",
       "      <td>0.04</td>\n",
       "    </tr>\n",
       "    <tr>\n",
       "      <th>29999</th>\n",
       "      <td>29999</td>\n",
       "      <td>0.98</td>\n",
       "    </tr>\n",
       "  </tbody>\n",
       "</table>\n",
       "<p>30000 rows × 2 columns</p>\n",
       "</div>\n",
       "      <button class=\"colab-df-convert\" onclick=\"convertToInteractive('df-546b03ed-d7ca-4d68-8bab-a9cf758a10da')\"\n",
       "              title=\"Convert this dataframe to an interactive table.\"\n",
       "              style=\"display:none;\">\n",
       "        \n",
       "  <svg xmlns=\"http://www.w3.org/2000/svg\" height=\"24px\"viewBox=\"0 0 24 24\"\n",
       "       width=\"24px\">\n",
       "    <path d=\"M0 0h24v24H0V0z\" fill=\"none\"/>\n",
       "    <path d=\"M18.56 5.44l.94 2.06.94-2.06 2.06-.94-2.06-.94-.94-2.06-.94 2.06-2.06.94zm-11 1L8.5 8.5l.94-2.06 2.06-.94-2.06-.94L8.5 2.5l-.94 2.06-2.06.94zm10 10l.94 2.06.94-2.06 2.06-.94-2.06-.94-.94-2.06-.94 2.06-2.06.94z\"/><path d=\"M17.41 7.96l-1.37-1.37c-.4-.4-.92-.59-1.43-.59-.52 0-1.04.2-1.43.59L10.3 9.45l-7.72 7.72c-.78.78-.78 2.05 0 2.83L4 21.41c.39.39.9.59 1.41.59.51 0 1.02-.2 1.41-.59l7.78-7.78 2.81-2.81c.8-.78.8-2.07 0-2.86zM5.41 20L4 18.59l7.72-7.72 1.47 1.35L5.41 20z\"/>\n",
       "  </svg>\n",
       "      </button>\n",
       "      \n",
       "  <style>\n",
       "    .colab-df-container {\n",
       "      display:flex;\n",
       "      flex-wrap:wrap;\n",
       "      gap: 12px;\n",
       "    }\n",
       "\n",
       "    .colab-df-convert {\n",
       "      background-color: #E8F0FE;\n",
       "      border: none;\n",
       "      border-radius: 50%;\n",
       "      cursor: pointer;\n",
       "      display: none;\n",
       "      fill: #1967D2;\n",
       "      height: 32px;\n",
       "      padding: 0 0 0 0;\n",
       "      width: 32px;\n",
       "    }\n",
       "\n",
       "    .colab-df-convert:hover {\n",
       "      background-color: #E2EBFA;\n",
       "      box-shadow: 0px 1px 2px rgba(60, 64, 67, 0.3), 0px 1px 3px 1px rgba(60, 64, 67, 0.15);\n",
       "      fill: #174EA6;\n",
       "    }\n",
       "\n",
       "    [theme=dark] .colab-df-convert {\n",
       "      background-color: #3B4455;\n",
       "      fill: #D2E3FC;\n",
       "    }\n",
       "\n",
       "    [theme=dark] .colab-df-convert:hover {\n",
       "      background-color: #434B5C;\n",
       "      box-shadow: 0px 1px 3px 1px rgba(0, 0, 0, 0.15);\n",
       "      filter: drop-shadow(0px 1px 2px rgba(0, 0, 0, 0.3));\n",
       "      fill: #FFFFFF;\n",
       "    }\n",
       "  </style>\n",
       "\n",
       "      <script>\n",
       "        const buttonEl =\n",
       "          document.querySelector('#df-546b03ed-d7ca-4d68-8bab-a9cf758a10da button.colab-df-convert');\n",
       "        buttonEl.style.display =\n",
       "          google.colab.kernel.accessAllowed ? 'block' : 'none';\n",
       "\n",
       "        async function convertToInteractive(key) {\n",
       "          const element = document.querySelector('#df-546b03ed-d7ca-4d68-8bab-a9cf758a10da');\n",
       "          const dataTable =\n",
       "            await google.colab.kernel.invokeFunction('convertToInteractive',\n",
       "                                                     [key], {});\n",
       "          if (!dataTable) return;\n",
       "\n",
       "          const docLinkHtml = 'Like what you see? Visit the ' +\n",
       "            '<a target=\"_blank\" href=https://colab.research.google.com/notebooks/data_table.ipynb>data table notebook</a>'\n",
       "            + ' to learn more about interactive tables.';\n",
       "          element.innerHTML = '';\n",
       "          dataTable['output_type'] = 'display_data';\n",
       "          await google.colab.output.renderOutput(dataTable, element);\n",
       "          const docLink = document.createElement('div');\n",
       "          docLink.innerHTML = docLinkHtml;\n",
       "          element.appendChild(docLink);\n",
       "        }\n",
       "      </script>\n",
       "    </div>\n",
       "  </div>\n",
       "  "
      ],
      "text/plain": [
       "       index  galaxy\n",
       "0          0    0.97\n",
       "1          1    0.00\n",
       "2          2    1.00\n",
       "3          3    1.00\n",
       "4          4    0.03\n",
       "...      ...     ...\n",
       "29995  29995    0.98\n",
       "29996  29996    0.01\n",
       "29997  29997    0.05\n",
       "29998  29998    0.04\n",
       "29999  29999    0.98\n",
       "\n",
       "[30000 rows x 2 columns]"
      ]
     },
     "execution_count": 27,
     "metadata": {},
     "output_type": "execute_result"
    }
   ],
   "source": [
    "# 확인\n",
    "pd.read_csv('1234.csv')"
   ]
  },
  {
   "cell_type": "code",
   "execution_count": null,
   "metadata": {
    "id": "w6OzIgSMeaS1"
   },
   "outputs": [],
   "source": []
  }
 ],
 "metadata": {
  "colab": {
   "collapsed_sections": [],
   "name": "4.2유형연습문제.ipynb",
   "provenance": []
  },
  "kernelspec": {
   "display_name": "Python 3 (ipykernel)",
   "language": "python",
   "name": "python3"
  },
  "language_info": {
   "codemirror_mode": {
    "name": "ipython",
    "version": 3
   },
   "file_extension": ".py",
   "mimetype": "text/x-python",
   "name": "python",
   "nbconvert_exporter": "python",
   "pygments_lexer": "ipython3",
   "version": "3.9.12"
  }
 },
 "nbformat": 4,
 "nbformat_minor": 1
}
