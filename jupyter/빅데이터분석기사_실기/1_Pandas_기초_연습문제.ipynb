{
 "cells": [
  {
   "cell_type": "code",
   "execution_count": 2,
   "metadata": {
    "id": "m9dW0rQffEhV"
   },
   "outputs": [],
   "source": [
    "# 1. 데이터 로드\n",
    "import pandas as pd\n",
    "df = pd.read_csv('Jeju.csv', encoding='ms949')"
   ]
  },
  {
   "cell_type": "code",
   "execution_count": 11,
   "metadata": {
    "colab": {
     "base_uri": "https://localhost:8080/"
    },
    "id": "DRC52V_mfn5B",
    "outputId": "e8f3b1c8-f5f1-427f-e0f3-e45dd951e72d"
   },
   "outputs": [
    {
     "name": "stdout",
     "output_type": "stream",
     "text": [
      "      id          일자   시도명  읍면동명         거주인구       근무인구        방문인구  \\\n",
      "0  22448  2018-01-01   제주시   도두동    32249.987   3418.266  102709.092   \n",
      "1  22449  2018-01-01   제주시   외도동   213500.997  10341.172  112692.789   \n",
      "2  22450  2018-01-01   제주시  이도2동  1212382.218  96920.834  541194.481   \n",
      "3  22451  2018-01-01   제주시  일도1동    33991.653   6034.253   72155.919   \n",
      "4  22452  2018-01-01  서귀포시   대천동   155036.925   9403.969  150882.409   \n",
      "\n",
      "        총 유동인구   평균 속도  평균 소요 시간  평균 기온  일강수량  평균 풍속  \n",
      "0   138377.345  39.556    29.167    5.0   0.0    2.5  \n",
      "1   336534.958  32.900    30.900    5.0   0.0    2.5  \n",
      "2  1850497.533  29.538    35.692    2.9   0.0    2.4  \n",
      "3   112181.825  30.000    23.500    2.9   0.0    2.4  \n",
      "4   315323.303  41.583    14.375    5.1   0.0    2.3  \n"
     ]
    }
   ],
   "source": [
    "# 2. 상위 5개 출력\n",
    "print(df.head())"
   ]
  },
  {
   "cell_type": "code",
   "execution_count": 6,
   "metadata": {
    "colab": {
     "base_uri": "https://localhost:8080/"
    },
    "id": "9JcaeaYagB5P",
    "outputId": "d799c2c7-02b4-4152-849a-002f48b89734"
   },
   "outputs": [
    {
     "name": "stdout",
     "output_type": "stream",
     "text": [
      "(9621, 13)\n"
     ]
    }
   ],
   "source": [
    "# 3. 데이터의 행과 열 출력\n",
    "print(df.shape)"
   ]
  },
  {
   "cell_type": "code",
   "execution_count": null,
   "metadata": {
    "id": "JD2M51akgOmn"
   },
   "outputs": [],
   "source": [
    "# 4. 데이터 프레임 확인\n",
    "print(df.info())"
   ]
  },
  {
   "cell_type": "code",
   "execution_count": 8,
   "metadata": {
    "colab": {
     "base_uri": "https://localhost:8080/"
    },
    "id": "xtC3eQIvg_d_",
    "outputId": "d4910b9e-9dc2-4959-cf49-0ee0e21b2905"
   },
   "outputs": [
    {
     "name": "stdout",
     "output_type": "stream",
     "text": [
      "Index(['id', '일자', '시도명', '읍면동명', '거주인구', '근무인구', '방문인구', '총 유동인구', '평균 속도',\n",
      "       '평균 소요 시간', '평균 기온', '일강수량', '평균 풍속'],\n",
      "      dtype='object')\n"
     ]
    }
   ],
   "source": [
    "# 5. 전체 컬럼목록 출력\n",
    "print(df.columns)"
   ]
  },
  {
   "cell_type": "code",
   "execution_count": 9,
   "metadata": {
    "colab": {
     "base_uri": "https://localhost:8080/"
    },
    "id": "ThGFSzThhunv",
    "outputId": "cd9e7bff-b4cf-47a0-c6f7-659e6a59d59e"
   },
   "outputs": [
    {
     "name": "stdout",
     "output_type": "stream",
     "text": [
      "근무인구\n"
     ]
    }
   ],
   "source": [
    "# 6. 6번째 컬럼 출력\n",
    "print(df.columns[5])"
   ]
  },
  {
   "cell_type": "code",
   "execution_count": 13,
   "metadata": {
    "colab": {
     "base_uri": "https://localhost:8080/"
    },
    "id": "_E9p51auib8v",
    "outputId": "3e7963cf-2270-49fb-a56e-f87f7a1f7dfb"
   },
   "outputs": [
    {
     "name": "stdout",
     "output_type": "stream",
     "text": [
      "float64\n"
     ]
    }
   ],
   "source": [
    "# 7. 6번째 컬럼의 타입 출력\n",
    "print(df.iloc[:,5].dtype)"
   ]
  },
  {
   "cell_type": "code",
   "execution_count": 15,
   "metadata": {
    "colab": {
     "base_uri": "https://localhost:8080/"
    },
    "id": "-OwxWuhhjj2Q",
    "outputId": "796fc078-3be4-4bec-bfa5-a63c4c42bc27"
   },
   "outputs": [
    {
     "name": "stdout",
     "output_type": "stream",
     "text": [
      "96920.834\n"
     ]
    }
   ],
   "source": [
    "# 8. 6번째 컬럼의 3번째 값 출력\n",
    "print(df.iloc[2,5])"
   ]
  },
  {
   "cell_type": "code",
   "execution_count": null,
   "metadata": {
    "id": "Z7FMcrkQkFiQ"
   },
   "outputs": [],
   "source": [
    "# 9. 결측치 확인\n",
    "print(df.isnull().sum())"
   ]
  },
  {
   "cell_type": "code",
   "execution_count": null,
   "metadata": {
    "id": "YNWO9EBAlOzA"
   },
   "outputs": [],
   "source": [
    "# 10. 각 수치형 변수의 분포(사분위, 평균, 표준편차, 최대 , 최소) 확인\n",
    "print(df.describe())"
   ]
  },
  {
   "cell_type": "code",
   "execution_count": null,
   "metadata": {
    "id": "GsLyx3ijlsT4"
   },
   "outputs": [],
   "source": [
    "# 11. 거주인구 컬럼값 출력\n",
    "print(df.loc[:,'거주인구'])\n",
    "print(df['거주인구'])\n",
    "print(df.거주인구)"
   ]
  },
  {
   "cell_type": "code",
   "execution_count": 23,
   "metadata": {
    "colab": {
     "base_uri": "https://localhost:8080/"
    },
    "id": "6eswwwvomQiI",
    "outputId": "23d1c9f9-e6f8-46bb-ea85-09f53f0db64e"
   },
   "outputs": [
    {
     "data": {
      "text/plain": [
       "14.854999999999997"
      ]
     },
     "execution_count": 23,
     "metadata": {},
     "output_type": "execute_result"
    }
   ],
   "source": [
    "# 12. 평균 속도의 4분위수(IQR) 값 출력(3사분위값 - 1사분위값)\n",
    "df['평균 속도'].quantile(0.75) - df['평균 속도'].quantile(0.25)"
   ]
  },
  {
   "cell_type": "code",
   "execution_count": null,
   "metadata": {
    "id": "qS9DcYzWn38g"
   },
   "outputs": [],
   "source": [
    "# 13. 읍면동명 유일값 출력\n",
    "print(df['읍면동명'].unique())\n",
    "print(df['읍면동명'].value_counts())"
   ]
  },
  {
   "cell_type": "code",
   "execution_count": null,
   "metadata": {
    "id": "Ly7Q93QJqt0D"
   },
   "outputs": [],
   "source": [
    "# 14. 읍면동명이 연동인 데이터 상위 5개 출력\n",
    "print(df.loc[df['읍면동명'] == '연동'].head())"
   ]
  },
  {
   "cell_type": "code",
   "execution_count": 29,
   "metadata": {
    "id": "xYH8hYnktZiB"
   },
   "outputs": [],
   "source": [
    "# 15. 일자컬럼을 통해 년,월,일 컬럼 추가\n",
    "df['일자']=pd.to_datetime(df['일자'])\n",
    "df['년'] = df['일자'].dt.year\n",
    "df['월'] = df['일자'].dt.month\n",
    "df['일'] = df['일자'].dt.day"
   ]
  },
  {
   "cell_type": "code",
   "execution_count": null,
   "metadata": {
    "id": "QvRnN_s3vZR6"
   },
   "outputs": [],
   "source": [
    "# 16. 시도명과 읍면동명만 추출해서 새로운 데이터프레임(df2)로 생성\n",
    "df2 = df[['시도명','읍면동명']]\n",
    "df2"
   ]
  },
  {
   "cell_type": "code",
   "execution_count": 42,
   "metadata": {
    "colab": {
     "base_uri": "https://localhost:8080/"
    },
    "id": "pfk-SSX4vvTK",
    "outputId": "cec9da32-3d9d-4183-82fa-dd636335ca9a"
   },
   "outputs": [
    {
     "name": "stdout",
     "output_type": "stream",
     "text": [
      "5766\n"
     ]
    }
   ],
   "source": [
    "# 17. 시도명이 제주시인 데이터 개수 출력\n",
    "print(len(df.loc[df['시도명'] == '제주시']))"
   ]
  },
  {
   "cell_type": "code",
   "execution_count": 40,
   "metadata": {
    "colab": {
     "base_uri": "https://localhost:8080/"
    },
    "id": "W5_JPVP7xvyj",
    "outputId": "d455b8e7-3309-4505-e8d7-4d33f6d42490"
   },
   "outputs": [
    {
     "name": "stdout",
     "output_type": "stream",
     "text": [
      "5766\n"
     ]
    }
   ],
   "source": [
    "print((df.loc[df['시도명'] == '제주시']).shape[0])"
   ]
  },
  {
   "cell_type": "code",
   "execution_count": null,
   "metadata": {
    "id": "Z8Zp2J-a02xj"
   },
   "outputs": [],
   "source": [
    "# 18. 연동의 2018년 1월 데이터 출력\n",
    "print(df.loc[(df['읍면동명'] == '연동') & (df['년'] == 2018) & (df['월'] == 1)])"
   ]
  },
  {
   "cell_type": "code",
   "execution_count": null,
   "metadata": {
    "id": "OzD_LqX64kVM"
   },
   "outputs": [],
   "source": [
    "# 19. 거주인구순으로 정렬하고 인덱스 초기화\n",
    "df.sort_values('거주인구').reset_index(drop=True)"
   ]
  },
  {
   "cell_type": "code",
   "execution_count": null,
   "metadata": {
    "id": "XyVExhhz5mPD"
   },
   "outputs": [],
   "source": [
    "# 20. 읍면동명에 1이 들어가 있는 데이터 출력\n",
    "df.loc[df['읍면동명'].str.find('1') > -1]"
   ]
  },
  {
   "cell_type": "code",
   "execution_count": null,
   "metadata": {
    "id": "_cNGo1TE7Zpc"
   },
   "outputs": [],
   "source": [
    "# 21. 거주인구 내림차순으로 정렬하고 인덱스 초기화\n",
    "df.sort_values('거주인구', ascending=False).reset_index(drop=True)"
   ]
  },
  {
   "cell_type": "code",
   "execution_count": null,
   "metadata": {
    "id": "O7UAq7k89EmE"
   },
   "outputs": [],
   "source": [
    "# 22. 읍면동명이 연동이거나 외도동인 데이터 출력\n",
    "df.loc[(df['읍면동명']=='연동') | (df['읍면동명']=='외도동')]"
   ]
  },
  {
   "cell_type": "code",
   "execution_count": null,
   "metadata": {
    "id": "fZNO06Xm-Xyd"
   },
   "outputs": [],
   "source": [
    "# 23. 총 유동인구가 총 유동인구의 평균보다 큰 데이터 출력\n",
    "df.loc[df['총 유동인구'].mean() < df['총 유동인구']]"
   ]
  },
  {
   "cell_type": "code",
   "execution_count": 66,
   "metadata": {
    "id": "zNa0-FuK__Qe"
   },
   "outputs": [],
   "source": [
    "# 24. id가 22457인 평균 속도를 nan값으로 변경\n",
    "import numpy as np\n",
    "df.loc[df['id']==22457, '평균 속도'] = np.nan"
   ]
  },
  {
   "cell_type": "code",
   "execution_count": 67,
   "metadata": {
    "colab": {
     "base_uri": "https://localhost:8080/"
    },
    "id": "UsBs2_LXAcL1",
    "outputId": "f6e3e19f-4673-4014-92fd-c2713a5d5dcb"
   },
   "outputs": [
    {
     "data": {
      "text/plain": [
       "1"
      ]
     },
     "execution_count": 67,
     "metadata": {},
     "output_type": "execute_result"
    }
   ],
   "source": [
    "# 25. 평균 속도의 결측치 확인\n",
    "df['평균 속도'].isnull().sum()"
   ]
  },
  {
   "cell_type": "code",
   "execution_count": 71,
   "metadata": {
    "colab": {
     "base_uri": "https://localhost:8080/"
    },
    "id": "ZQ7l2HC_BK79",
    "outputId": "4d2a4436-1da7-455e-ed18-26b4ca3ba4d9"
   },
   "outputs": [
    {
     "name": "stdout",
     "output_type": "stream",
     "text": [
      "0\n"
     ]
    }
   ],
   "source": [
    "# 26. 평균속도의 결측치를 평균속도의 평균으로 치환\n",
    "df['평균 속도']=df['평균 속도'].fillna(df['평균 속도'].mean())\n",
    "print(df['평균 속도'].isnull().sum())"
   ]
  },
  {
   "cell_type": "code",
   "execution_count": 83,
   "metadata": {
    "colab": {
     "base_uri": "https://localhost:8080/"
    },
    "id": "4rvwc2naCmZO",
    "outputId": "9b89207a-15ab-4796-d0d9-309563142394"
   },
   "outputs": [
    {
     "name": "stdout",
     "output_type": "stream",
     "text": [
      "1685\n",
      "1685\n",
      "1685\n",
      "1685\n"
     ]
    }
   ],
   "source": [
    "# 27. 읍면동명 데이터 중 읍 데이터의 갯수 출력\n",
    "#'파이썬'.endswith('싼')\n",
    "print(len(df.loc[df['읍면동명'].str.endswith('읍')]))\n",
    "print(df.loc[df['읍면동명'].str.endswith('읍')].shape[0])\n",
    "print(df.loc[df['읍면동명'].str.endswith('읍')]['읍면동명'].count())\n",
    "print((df['읍면동명'].str.endswith('읍')).sum())"
   ]
  },
  {
   "cell_type": "code",
   "execution_count": 86,
   "metadata": {
    "colab": {
     "base_uri": "https://localhost:8080/"
    },
    "id": "CdkdB5INGPKu",
    "outputId": "a2b076cc-2aae-423d-fcc9-03186aeb3162"
   },
   "outputs": [
    {
     "name": "stdout",
     "output_type": "stream",
     "text": [
      "7455\n"
     ]
    }
   ],
   "source": [
    "# 28. 읍면동명이 3자인 데이터 갯수 출력\n",
    "print(len(df.loc[df['읍면동명'].str.len() == 3]))"
   ]
  },
  {
   "cell_type": "code",
   "execution_count": 94,
   "metadata": {
    "colab": {
     "base_uri": "https://localhost:8080/"
    },
    "id": "X9YfvV5ZIUcB",
    "outputId": "6dea9fa6-4eff-4f4f-8d59-b56e24cae177"
   },
   "outputs": [
    {
     "name": "stdout",
     "output_type": "stream",
     "text": [
      "시도명\n",
      "서귀포시    3855\n",
      "제주시     5766\n",
      "Name: 읍면동명, dtype: int64\n",
      "시도명   읍면동명\n",
      "서귀포시  남원읍     241\n",
      "      대륜동     240\n",
      "      대정읍     241\n",
      "      대천동       6\n",
      "      동홍동     241\n",
      "      서홍동     241\n",
      "      성산읍     241\n",
      "      송산동     241\n",
      "      안덕면     240\n",
      "      영천동     241\n",
      "      예래동     241\n",
      "      정방동     241\n",
      "      중문동     238\n",
      "      중앙동     241\n",
      "      천지동     240\n",
      "      표선면     240\n",
      "      효돈동     241\n",
      "제주시   건입동     238\n",
      "      구좌읍     241\n",
      "      노형동     239\n",
      "      도두동     240\n",
      "      봉개동     238\n",
      "      삼도1동    241\n",
      "      삼도2동    241\n",
      "      삼양동     240\n",
      "      아라동     240\n",
      "      애월읍     240\n",
      "      연동      239\n",
      "      오라동     241\n",
      "      외도동     241\n",
      "      용담1동    241\n",
      "      용담2동    241\n",
      "      이도1동    241\n",
      "      이도2동    240\n",
      "      이호동     240\n",
      "      일도1동    241\n",
      "      일도2동    241\n",
      "      조천읍     240\n",
      "      한경면     241\n",
      "      한림읍     241\n",
      "      화북동     240\n",
      "dtype: int64\n"
     ]
    }
   ],
   "source": [
    "# 29. 시도명별 읍면동명 개수 출력\n",
    "print(df.groupby('시도명')['읍면동명'].count())\n",
    "print(df.groupby(['시도명','읍면동명']).size())"
   ]
  },
  {
   "cell_type": "code",
   "execution_count": 100,
   "metadata": {
    "colab": {
     "base_uri": "https://localhost:8080/"
    },
    "id": "hoEWp6ilJWN3",
    "outputId": "c3252f7d-05f7-45de-aae2-dc05625ee5d0"
   },
   "outputs": [
    {
     "data": {
      "text/plain": [
       "제주시     24\n",
       "서귀포시    17\n",
       "Name: 시도명, dtype: int64"
      ]
     },
     "execution_count": 100,
     "metadata": {},
     "output_type": "execute_result"
    }
   ],
   "source": [
    "df2 = pd.DataFrame(df.groupby(['시도명','읍면동명']).size())\n",
    "df2=df2.reset_index()\n",
    "df2.groupby('시도명')['시도명'].count()\n",
    "df2['시도명'].value_counts()"
   ]
  },
  {
   "cell_type": "code",
   "execution_count": null,
   "metadata": {
    "id": "KAeCu1B6KuxA"
   },
   "outputs": [],
   "source": [
    "# 30. 시도명별 읍면동명별 거주인구 평균\n",
    "df.groupby(['시도명','읍면동명']).mean()['거주인구']\n",
    "df.groupby(['시도명','읍면동명'])['거주인구'].mean()"
   ]
  },
  {
   "cell_type": "code",
   "execution_count": null,
   "metadata": {
    "id": "185Iw1WFNmuA"
   },
   "outputs": [],
   "source": [
    "# 31. 시도명별 읍면동명별 거주인구 평균, 최소, 최대 한번에 출력\n",
    "df.groupby(['시도명','읍면동명'])['거주인구'].agg(['mean','min','max','sum'])"
   ]
  },
  {
   "cell_type": "code",
   "execution_count": null,
   "metadata": {
    "id": "9nehYgQra3hL"
   },
   "outputs": [],
   "source": [
    "# 32. 제주시의 읍면동명별 거주인구 평균, 최소, 최대 출력\n",
    "df.loc[df['시도명'] == '제주시'].groupby('읍면동명')\\\n",
    "['거주인구'].agg(['mean','min','max'])"
   ]
  },
  {
   "cell_type": "code",
   "execution_count": 118,
   "metadata": {
    "id": "v6JeOpmIbTHL"
   },
   "outputs": [],
   "source": [
    "# 33. 시도명2 컬럼을 생성해 제주시는 0, 서귀포시는 1로 저장\n",
    "df['시도명2']=df['시도명'].map({'제주시':0, '서귀포시':1})"
   ]
  },
  {
   "cell_type": "code",
   "execution_count": null,
   "metadata": {
    "id": "ZbDMpAG9daM8"
   },
   "outputs": [],
   "source": [
    "df['시도명2'].value_counts()"
   ]
  },
  {
   "cell_type": "code",
   "execution_count": 122,
   "metadata": {
    "colab": {
     "base_uri": "https://localhost:8080/"
    },
    "id": "TydbSobYdjLy",
    "outputId": "a277a6e2-0882-4354-cc72-de567c908de7"
   },
   "outputs": [
    {
     "data": {
      "text/plain": [
       "0        도두동\n",
       "1        외도동\n",
       "2       이도2동\n",
       "3       일도1동\n",
       "4        대천동\n",
       "        ... \n",
       "9616     표선면\n",
       "9617     한림읍\n",
       "9618     도두동\n",
       "9619     안덕면\n",
       "9620      연동\n",
       "Name: 읍면동명, Length: 9621, dtype: object"
      ]
     },
     "execution_count": 122,
     "metadata": {},
     "output_type": "execute_result"
    }
   ],
   "source": [
    "# 34. 읍면동2 컬럼을 생성해 읍은 0, 면은 1, 동은 2로 저장\n",
    "def mapping(v):\n",
    "  if v[-1] == '읍':\n",
    "    return 0\n",
    "  elif v[-1] == '면':\n",
    "    return 1\n",
    "  elif v[-1] == '동':\n",
    "    return 2\n",
    "\n",
    "df['읍면동명'].apply(mapping)"
   ]
  },
  {
   "cell_type": "code",
   "execution_count": null,
   "metadata": {
    "id": "GhOLsI6hf4JL"
   },
   "outputs": [],
   "source": [
    "# 시도=제주시, 읍면동=읍 -> 0\n",
    "# 시도=제주시, 읍면동=면 -> 1\n",
    "# 시도=제주시, 읍면동=동 -> 2\n",
    "# 시도=서귀포시, 읍면동=읍 -> 3\n",
    "# 시도=서귀포시, 읍면동=면 -> 4\n",
    "# 시도=서귀포시, 읍면동=동 -> 5\n",
    "def test(row):\n",
    "  #print(row[1])\n",
    "  if row[2] == '제주시' and row[3][-1] == '읍':\n",
    "    return 0\n",
    "df.apply(test, axis=1)"
   ]
  },
  {
   "cell_type": "code",
   "execution_count": 131,
   "metadata": {
    "colab": {
     "base_uri": "https://localhost:8080/"
    },
    "id": "lPcW_A-vhQPU",
    "outputId": "95336245-aad1-41bf-b466-b88265e62896"
   },
   "outputs": [
    {
     "name": "stdout",
     "output_type": "stream",
     "text": [
      "3054008274.285\n"
     ]
    }
   ],
   "source": [
    "total = 0\n",
    "for i, row in df.iterrows():\n",
    "  #print(row)\n",
    "  total += row['거주인구']\n",
    "print(total)"
   ]
  },
  {
   "cell_type": "code",
   "execution_count": 135,
   "metadata": {
    "id": "46fsvEjvhwCM"
   },
   "outputs": [],
   "source": [
    "# 35. 요일컬럼 추가\n",
    "df['요일'] = df['일자'].dt.dayofweek"
   ]
  },
  {
   "cell_type": "code",
   "execution_count": null,
   "metadata": {
    "id": "Var5wZKBj4lc"
   },
   "outputs": [],
   "source": [
    "df.head()"
   ]
  },
  {
   "cell_type": "code",
   "execution_count": null,
   "metadata": {
    "id": "l8TT-Dp5kRn0"
   },
   "outputs": [],
   "source": []
  }
 ],
 "metadata": {
  "colab": {
   "provenance": []
  },
  "kernelspec": {
   "display_name": "Python 3 (ipykernel)",
   "language": "python",
   "name": "python3"
  },
  "language_info": {
   "codemirror_mode": {
    "name": "ipython",
    "version": 3
   },
   "file_extension": ".py",
   "mimetype": "text/x-python",
   "name": "python",
   "nbconvert_exporter": "python",
   "pygments_lexer": "ipython3",
   "version": "3.9.12"
  }
 },
 "nbformat": 4,
 "nbformat_minor": 1
}
