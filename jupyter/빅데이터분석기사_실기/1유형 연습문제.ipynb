{
 "cells": [
  {
   "cell_type": "code",
   "execution_count": 3,
   "id": "615fe77b",
   "metadata": {},
   "outputs": [],
   "source": [
    "from sklearn import datasets\n",
    "import pandas as pd\n",
    "iris = datasets.load_iris()\n",
    "\n",
    "target = iris['target']\n",
    "data = pd.DataFrame(data=iris['data'], columns=iris['feature_names'])\n",
    "target = pd.DataFrame(data=iris['target'], columns=['species'])\n",
    "df = pd.concat([data, target], axis=1)"
   ]
  },
  {
   "cell_type": "code",
   "execution_count": null,
   "id": "f8fec620",
   "metadata": {},
   "outputs": [],
   "source": [
    "'''\n",
    "1.  종(species) 별로 petal_width 상위 25%값을 구한 후, 가장 큰값과 가장 작은값 사이의 차이를 출력하시오.\n",
    "'''"
   ]
  },
  {
   "cell_type": "code",
   "execution_count": 30,
   "id": "01d75d18",
   "metadata": {},
   "outputs": [
    {
     "name": "stdout",
     "output_type": "stream",
     "text": [
      "1.9999999999999998\n"
     ]
    }
   ],
   "source": [
    "print(df.groupby('species')['petal width (cm)'].quantile(0.75).max() - df.groupby('species')['petal width (cm)'].quantile(0.75).min())"
   ]
  },
  {
   "cell_type": "code",
   "execution_count": 28,
   "id": "adcc8e03",
   "metadata": {},
   "outputs": [
    {
     "name": "stdout",
     "output_type": "stream",
     "text": [
      "1.9999999999999998\n"
     ]
    }
   ],
   "source": [
    "result = df.groupby('species').describe()['petal width (cm)',   '75%']\n",
    "print(result.max()-result.min())\n",
    "# print(df.info())"
   ]
  },
  {
   "cell_type": "code",
   "execution_count": null,
   "id": "7de2e80e",
   "metadata": {},
   "outputs": [],
   "source": [
    "'''\n",
    "2. sepal_length 변수의 전체 값들을 중복 없이, 오른차순으로 정렬했을 때 리스트의 10번째 값을 출력하시오.\n",
    "'''"
   ]
  },
  {
   "cell_type": "code",
   "execution_count": 55,
   "id": "f60fe823",
   "metadata": {},
   "outputs": [
    {
     "name": "stdout",
     "output_type": "stream",
     "text": [
      "5.2\n"
     ]
    }
   ],
   "source": [
    "import numpy as np\n",
    "\n",
    "result = df['sepal length (cm)'].unique()\n",
    "result.sort()\n",
    "print(result[9])"
   ]
  },
  {
   "cell_type": "code",
   "execution_count": 63,
   "id": "bd62272d",
   "metadata": {},
   "outputs": [
    {
     "name": "stdout",
     "output_type": "stream",
     "text": [
      "5.2\n"
     ]
    }
   ],
   "source": [
    "result = pd.DataFrame(df['sepal length (cm)'].unique())\n",
    "print(result.sort_values(0).iloc[9, 0])"
   ]
  },
  {
   "cell_type": "code",
   "execution_count": null,
   "id": "4dfc2f6a",
   "metadata": {},
   "outputs": [],
   "source": [
    "'''\n",
    "3. sepal_width 변수 값으로 내림차순 후 위에서부터 100개 행의 표준편차 값을 구한 후 50을 곱한 값을 출력하시오.(단 최종 계산값의 소수점 이하는 버림)\n",
    "'''"
   ]
  },
  {
   "cell_type": "code",
   "execution_count": 83,
   "id": "7fa3ba57",
   "metadata": {},
   "outputs": [
    {
     "name": "stdout",
     "output_type": "stream",
     "text": [
      "16\n"
     ]
    }
   ],
   "source": [
    "print(int(df.sort_values('sepal width (cm)', ascending=False).iloc[0:100,]['sepal width (cm)'].std()*50))"
   ]
  },
  {
   "cell_type": "code",
   "execution_count": null,
   "id": "bf3896ce",
   "metadata": {},
   "outputs": [],
   "source": [
    "'''\n",
    "4. 종(species) 별로 petal_length 상위 10개 행(큰 값)의 평균값을 구한 후, 평균값의 합을 출력하시오.(소수점 이하 버림)\n",
    "'''"
   ]
  },
  {
   "cell_type": "code",
   "execution_count": 116,
   "id": "67980434",
   "metadata": {},
   "outputs": [
    {
     "name": "stdout",
     "output_type": "stream",
     "text": [
      "12.92\n"
     ]
    },
    {
     "name": "stderr",
     "output_type": "stream",
     "text": [
      "C:\\Users\\tjoeun-jr-902-02\\AppData\\Local\\Temp\\ipykernel_30412\\3832424349.py:2: FutureWarning: Indexing with multiple keys (implicitly converted to a tuple of keys) will be deprecated, use a list instead.\n",
      "  data = data.groupby('species')['species','petal length (cm)'].head(10)\n"
     ]
    }
   ],
   "source": [
    "data = df.sort_values('petal length (cm)', ascending=False)\n",
    "data = data.groupby('species')['species','petal length (cm)'].head(10)\n",
    "# print(data.groupby('species').mean())\n",
    "print(data.groupby('species').mean().sum()[0])\n",
    "# print(dir(pd.core.groupby.generic.DataFrameGroupBy))"
   ]
  },
  {
   "cell_type": "code",
   "execution_count": null,
   "id": "ac6f1a54",
   "metadata": {},
   "outputs": [],
   "source": [
    "'''\n",
    "5. speal_length 변수가 이상치를 가지는 데이터 행의 수를 출력하시오 (단, 이상치 범위는 (평균+2*표준편차) 이상이거나 (평균-2*표준편차) 이하)\n",
    "'''"
   ]
  },
  {
   "cell_type": "code",
   "execution_count": 130,
   "id": "3adbe1f2",
   "metadata": {},
   "outputs": [
    {
     "name": "stdout",
     "output_type": "stream",
     "text": [
      "6\n"
     ]
    }
   ],
   "source": [
    "mean = df['sepal length (cm)'].mean()\n",
    "std = df['sepal length (cm)'].std()\n",
    "upper = mean + 2*std\n",
    "lower = mean - 2*std\n",
    "print(len(df[(df['sepal length (cm)'] > upper) | (df['sepal length (cm)'] < lower)]))"
   ]
  }
 ],
 "metadata": {
  "kernelspec": {
   "display_name": "Python 3 (ipykernel)",
   "language": "python",
   "name": "python3"
  },
  "language_info": {
   "codemirror_mode": {
    "name": "ipython",
    "version": 3
   },
   "file_extension": ".py",
   "mimetype": "text/x-python",
   "name": "python",
   "nbconvert_exporter": "python",
   "pygments_lexer": "ipython3",
   "version": "3.9.12"
  }
 },
 "nbformat": 4,
 "nbformat_minor": 5
}
