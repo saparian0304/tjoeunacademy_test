{
 "cells": [
  {
   "cell_type": "markdown",
   "id": "ecb016b6",
   "metadata": {},
   "source": [
    "# 데이터 준비"
   ]
  },
  {
   "cell_type": "code",
   "execution_count": 63,
   "id": "87655bfc",
   "metadata": {},
   "outputs": [],
   "source": [
    "from sklearn import datasets\n",
    "import pandas as pd\n",
    "wine = datasets.load_wine()\n",
    "\n",
    "target = wine['target']\n",
    "\n",
    "data = pd.DataFrame(data=wine['data'], columns=wine['feature_names'])\n",
    "target = pd.DataFrame(data=wine['target'], columns=['class'])\n",
    "\n",
    "df = pd.concat([data, target], axis=1)"
   ]
  },
  {
   "cell_type": "markdown",
   "id": "c4c1bb01",
   "metadata": {},
   "source": [
    "1. total_phenols 결측치를 제거하고 alcalinity_of_ash 변수의 결측치는 중앙값으로 대체한 후, alcalinity_of_ash 평균값을 출력하시오.(소수점 이하 버림)"
   ]
  },
  {
   "cell_type": "code",
   "execution_count": 66,
   "id": "b6c85003",
   "metadata": {},
   "outputs": [
    {
     "name": "stdout",
     "output_type": "stream",
     "text": [
      "19\n"
     ]
    }
   ],
   "source": [
    "# print(data.info())\n",
    "# print(data.head())\n",
    "condition = data['total_phenols'].isnull()\n",
    "data = data.loc[~condition]\n",
    "condition = data['alcalinity_of_ash'].isnull()\n",
    "data.loc[condition] = data['alcalinity_of_ash'].median()\n",
    "print(int(data['alcalinity_of_ash'].mean()))"
   ]
  },
  {
   "cell_type": "markdown",
   "id": "d6d17356",
   "metadata": {},
   "source": [
    "2. alcohol 값이 alcohol 평균값 이상이고, color_intensity값이 color_intensity 평균값 이상인 데이터만 남겼을 때, 가장 많은 class 값을 출력하시오."
   ]
  },
  {
   "cell_type": "code",
   "execution_count": 72,
   "id": "39d20521",
   "metadata": {},
   "outputs": [
    {
     "name": "stdout",
     "output_type": "stream",
     "text": [
      "0\n"
     ]
    }
   ],
   "source": [
    "mean_alcohol = df['alcohol'].mean()\n",
    "mean_color = df['color_intensity'].mean()\n",
    "# print(mean_alcohol, mean_color)\n",
    "# print(data[(data['alcohol'] > mean_alcohol) & (data['color_intensity'] > mean_color)])\n",
    "data_mod = df[(df['alcohol'] > mean_alcohol) & (df['color_intensity'] > mean_color)]\n",
    "\n",
    "# print(data_mod['class'].value_counts())\n",
    "print(data_mod['class'].value_counts().index[0])"
   ]
  },
  {
   "cell_type": "markdown",
   "id": "1ac13b9b",
   "metadata": {},
   "source": [
    "3. class 1에 해당하는 데이터의 ash 평균값과 모든 데이터의 결측치를 제거한 후의 ash값의 평균값의 차이의 절대값을 출력하시오.(소수점 4번째 자리에서 반올림)"
   ]
  },
  {
   "cell_type": "code",
   "execution_count": 42,
   "id": "3ef84bee",
   "metadata": {},
   "outputs": [
    {
     "name": "stdout",
     "output_type": "stream",
     "text": [
      "2.244788732394365\n",
      "0.122\n"
     ]
    }
   ],
   "source": [
    "# print(df[df['class'] == 1]['ash'].mean())\n",
    "\n",
    "print(round(abs(df[df['class'] == 1]['ash'].mean() - df[~df.isnull()]['ash'].mean()),3))"
   ]
  },
  {
   "cell_type": "markdown",
   "id": "3fe4366a",
   "metadata": {},
   "source": [
    "4. alcohol 변수의 오름차순 상위 20번째 값으로 상위 20개의 값을 변환한 후, proantocyanins가 2이하인 데이터를 추출하여 alchol의 평균값을 출력하시오(소수점 3번째 자리에서 반올림)"
   ]
  },
  {
   "cell_type": "code",
   "execution_count": 87,
   "id": "a5251c6e",
   "metadata": {},
   "outputs": [
    {
     "name": "stdout",
     "output_type": "stream",
     "text": [
      "12.97\n"
     ]
    }
   ],
   "source": [
    "df1 = df.sort_values('alcohol').reset_index(drop=True)\n",
    "df1.iloc[:20, 0] = df1['alcohol'].iloc[19]\n",
    "# print(df1.info())\n",
    "mean = df1[df1['proanthocyanins'] <= 2]['alcohol'].mean()\n",
    "print(round(mean, 2))"
   ]
  },
  {
   "cell_type": "markdown",
   "id": "a34760f6",
   "metadata": {},
   "source": [
    "5. class 1에 해당하는 데이터의 proline변수의 제3사분위수와 제1사분위수 차를 구하고, class 2에 해당하는 데이터의 proline 변수의 제3사분위수와 제1사분위수 차를 구하여 두 값의 차이의 절대값을 출력하시오."
   ]
  },
  {
   "cell_type": "code",
   "execution_count": 65,
   "id": "b6a8450c",
   "metadata": {},
   "outputs": [
    {
     "name": "stdout",
     "output_type": "stream",
     "text": [
      "625.0 406.5\n",
      "68.5\n"
     ]
    }
   ],
   "source": [
    "df_class1 = df[df['class']==1]\n",
    "df_class2 = df[df['class']==2]\n",
    "# print(df_class1['proline'].quantile(0.75), df_class1['proline'].quantile(0.25))\n",
    "iqr_class1 = df_class1['proline'].quantile(0.75) - df_class1['proline'].quantile(0.25)\n",
    "# print(df_class2['proline'].quantile(0.75), df_class2['proline'].quantile(0.25))\n",
    "iqr_class2 = df_class2['proline'].quantile(0.75) - df_class2['proline'].quantile(0.25)\n",
    "print(abs(iqr_class1 - iqr_class2))"
   ]
  },
  {
   "cell_type": "code",
   "execution_count": null,
   "id": "93a4e5c8",
   "metadata": {},
   "outputs": [],
   "source": []
  }
 ],
 "metadata": {
  "kernelspec": {
   "display_name": "Python 3 (ipykernel)",
   "language": "python",
   "name": "python3"
  },
  "language_info": {
   "codemirror_mode": {
    "name": "ipython",
    "version": 3
   },
   "file_extension": ".py",
   "mimetype": "text/x-python",
   "name": "python",
   "nbconvert_exporter": "python",
   "pygments_lexer": "ipython3",
   "version": "3.9.12"
  }
 },
 "nbformat": 4,
 "nbformat_minor": 5
}
