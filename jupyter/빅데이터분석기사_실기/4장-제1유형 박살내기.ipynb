{
 "cells": [
  {
   "cell_type": "code",
   "execution_count": 2,
   "id": "451ebbdb",
   "metadata": {},
   "outputs": [],
   "source": [
    "# pandas 라이브러리 가져오기\n",
    "import pandas as pd\n",
    "# boston.csv 파일의 데이터를 읽은 후, 해당 데이터를 data 변수에 저장하기\n",
    "data = pd.read_csv('bigData-main/boston.csv')"
   ]
  },
  {
   "cell_type": "code",
   "execution_count": 3,
   "id": "bac035ca",
   "metadata": {},
   "outputs": [
    {
     "name": "stdout",
     "output_type": "stream",
     "text": [
      "      CRIM    ZN  INDUS  CHAS    NOX     RM   AGE     DIS  RAD  TAX  PTRATIO  \\\n",
      "0  0.00632  18.0   2.31     0  0.538  6.575  65.2  4.0900    1  296     15.3   \n",
      "1  0.02731   0.0   7.07     0  0.469  6.421  78.9  4.9671    2  242     17.8   \n",
      "2  0.02729   0.0   7.07     0  0.469  7.185  61.1  4.9671    2  242     17.8   \n",
      "3  0.03237   0.0   2.18     0  0.458  6.998  45.8  6.0622    3  222     18.7   \n",
      "4  0.06905   0.0   2.18     0  0.458  7.147  54.2  6.0622    3  222     18.7   \n",
      "\n",
      "        B  LSTAT  MEDV  \n",
      "0  396.90   4.98  24.0  \n",
      "1  396.90   9.14  21.6  \n",
      "2  392.83   4.03  34.7  \n",
      "3  394.63   2.94  33.4  \n",
      "4  396.90   5.33  36.2  \n"
     ]
    }
   ],
   "source": [
    "# data 변수의 상위 5개 행을 출력하기\n",
    "print(data.head())"
   ]
  },
  {
   "cell_type": "code",
   "execution_count": 4,
   "id": "d302d6ad",
   "metadata": {},
   "outputs": [
    {
     "name": "stdout",
     "output_type": "stream",
     "text": [
      "         CRIM    ZN  INDUS  CHAS    NOX     RM    AGE     DIS  RAD  TAX  \\\n",
      "398  38.35180   0.0  18.10     0  0.693    NaN  100.0  1.4896   24  666   \n",
      "405  67.92080   0.0  18.10     0  0.693  5.683  100.0  1.4254   24  666   \n",
      "400  25.04610   0.0  18.10     0  0.693  5.987  100.0  1.5888   24  666   \n",
      "399   9.91655   0.0  18.10     0  0.693  5.852   77.8  1.5004   24  666   \n",
      "414  45.74610   0.0  18.10     0  0.693  4.519  100.0  1.6582   24  666   \n",
      "..        ...   ...    ...   ...    ...    ...    ...     ...  ...  ...   \n",
      "166   2.01019   0.0  19.58     0  0.605  7.929   96.2  2.0459    5  403   \n",
      "195   0.01381  80.0   0.46     0  0.422  7.875   32.0  5.6484    4  255   \n",
      "283   0.01501  90.0   1.21     1  0.401  7.923   24.8  5.8850    1  198   \n",
      "225   0.52693   0.0   6.20     0  0.504  8.725   83.0  2.8944    8  307   \n",
      "186   0.05602   0.0   2.46     0  0.488  7.831   53.6  3.1992    3  193   \n",
      "\n",
      "     PTRATIO       B  LSTAT  MEDV  \n",
      "398     20.2  396.90  30.59   5.0  \n",
      "405     20.2  384.97  22.98   5.0  \n",
      "400     20.2  396.90  26.77   5.6  \n",
      "399     20.2  338.16  29.97   6.3  \n",
      "414     20.2   88.27  36.98   7.0  \n",
      "..       ...     ...    ...   ...  \n",
      "166     14.7  369.30   3.70  50.0  \n",
      "195     14.4  394.23   2.97  50.0  \n",
      "283     13.6  395.52   3.16  50.0  \n",
      "225     17.4  382.00   4.63  50.0  \n",
      "186     17.8  392.63   4.45  50.0  \n",
      "\n",
      "[506 rows x 14 columns]\n"
     ]
    }
   ],
   "source": [
    "# data 변수를 MEDV 컬럼 기준으로 오름차순으로 정렬하기\n",
    "print(data.sort_values(by='MEDV', ascending=True))"
   ]
  },
  {
   "cell_type": "code",
   "execution_count": 5,
   "id": "19ca04e2",
   "metadata": {},
   "outputs": [
    {
     "name": "stdout",
     "output_type": "stream",
     "text": [
      "Help on function sort_values in module pandas.core.frame:\n",
      "\n",
      "sort_values(self, by, axis: 'Axis' = 0, ascending=True, inplace: 'bool' = False, kind: 'str' = 'quicksort', na_position: 'str' = 'last', ignore_index: 'bool' = False, key: 'ValueKeyFunc' = None)\n",
      "    Sort by the values along either axis.\n",
      "    \n",
      "    Parameters\n",
      "    ----------\n",
      "            by : str or list of str\n",
      "                Name or list of names to sort by.\n",
      "    \n",
      "                - if `axis` is 0 or `'index'` then `by` may contain index\n",
      "                  levels and/or column labels.\n",
      "                - if `axis` is 1 or `'columns'` then `by` may contain column\n",
      "                  levels and/or index labels.\n",
      "    axis : {0 or 'index', 1 or 'columns'}, default 0\n",
      "         Axis to be sorted.\n",
      "    ascending : bool or list of bool, default True\n",
      "         Sort ascending vs. descending. Specify list for multiple sort\n",
      "         orders.  If this is a list of bools, must match the length of\n",
      "         the by.\n",
      "    inplace : bool, default False\n",
      "         If True, perform operation in-place.\n",
      "    kind : {'quicksort', 'mergesort', 'heapsort', 'stable'}, default 'quicksort'\n",
      "         Choice of sorting algorithm. See also :func:`numpy.sort` for more\n",
      "         information. `mergesort` and `stable` are the only stable algorithms. For\n",
      "         DataFrames, this option is only applied when sorting on a single\n",
      "         column or label.\n",
      "    na_position : {'first', 'last'}, default 'last'\n",
      "         Puts NaNs at the beginning if `first`; `last` puts NaNs at the\n",
      "         end.\n",
      "    ignore_index : bool, default False\n",
      "         If True, the resulting axis will be labeled 0, 1, …, n - 1.\n",
      "    \n",
      "         .. versionadded:: 1.0.0\n",
      "    \n",
      "    key : callable, optional\n",
      "        Apply the key function to the values\n",
      "        before sorting. This is similar to the `key` argument in the\n",
      "        builtin :meth:`sorted` function, with the notable difference that\n",
      "        this `key` function should be *vectorized*. It should expect a\n",
      "        ``Series`` and return a Series with the same shape as the input.\n",
      "        It will be applied to each column in `by` independently.\n",
      "    \n",
      "        .. versionadded:: 1.1.0\n",
      "    \n",
      "    Returns\n",
      "    -------\n",
      "    DataFrame or None\n",
      "        DataFrame with sorted values or None if ``inplace=True``.\n",
      "    \n",
      "    See Also\n",
      "    --------\n",
      "    DataFrame.sort_index : Sort a DataFrame by the index.\n",
      "    Series.sort_values : Similar method for a Series.\n",
      "    \n",
      "    Examples\n",
      "    --------\n",
      "    >>> df = pd.DataFrame({\n",
      "    ...     'col1': ['A', 'A', 'B', np.nan, 'D', 'C'],\n",
      "    ...     'col2': [2, 1, 9, 8, 7, 4],\n",
      "    ...     'col3': [0, 1, 9, 4, 2, 3],\n",
      "    ...     'col4': ['a', 'B', 'c', 'D', 'e', 'F']\n",
      "    ... })\n",
      "    >>> df\n",
      "      col1  col2  col3 col4\n",
      "    0    A     2     0    a\n",
      "    1    A     1     1    B\n",
      "    2    B     9     9    c\n",
      "    3  NaN     8     4    D\n",
      "    4    D     7     2    e\n",
      "    5    C     4     3    F\n",
      "    \n",
      "    Sort by col1\n",
      "    \n",
      "    >>> df.sort_values(by=['col1'])\n",
      "      col1  col2  col3 col4\n",
      "    0    A     2     0    a\n",
      "    1    A     1     1    B\n",
      "    2    B     9     9    c\n",
      "    5    C     4     3    F\n",
      "    4    D     7     2    e\n",
      "    3  NaN     8     4    D\n",
      "    \n",
      "    Sort by multiple columns\n",
      "    \n",
      "    >>> df.sort_values(by=['col1', 'col2'])\n",
      "      col1  col2  col3 col4\n",
      "    1    A     1     1    B\n",
      "    0    A     2     0    a\n",
      "    2    B     9     9    c\n",
      "    5    C     4     3    F\n",
      "    4    D     7     2    e\n",
      "    3  NaN     8     4    D\n",
      "    \n",
      "    Sort Descending\n",
      "    \n",
      "    >>> df.sort_values(by='col1', ascending=False)\n",
      "      col1  col2  col3 col4\n",
      "    4    D     7     2    e\n",
      "    5    C     4     3    F\n",
      "    2    B     9     9    c\n",
      "    0    A     2     0    a\n",
      "    1    A     1     1    B\n",
      "    3  NaN     8     4    D\n",
      "    \n",
      "    Putting NAs first\n",
      "    \n",
      "    >>> df.sort_values(by='col1', ascending=False, na_position='first')\n",
      "      col1  col2  col3 col4\n",
      "    3  NaN     8     4    D\n",
      "    4    D     7     2    e\n",
      "    5    C     4     3    F\n",
      "    2    B     9     9    c\n",
      "    0    A     2     0    a\n",
      "    1    A     1     1    B\n",
      "    \n",
      "    Sorting with a key function\n",
      "    \n",
      "    >>> df.sort_values(by='col4', key=lambda col: col.str.lower())\n",
      "       col1  col2  col3 col4\n",
      "    0    A     2     0    a\n",
      "    1    A     1     1    B\n",
      "    2    B     9     9    c\n",
      "    3  NaN     8     4    D\n",
      "    4    D     7     2    e\n",
      "    5    C     4     3    F\n",
      "    \n",
      "    Natural sort with the key argument,\n",
      "    using the `natsort <https://github.com/SethMMorton/natsort>` package.\n",
      "    \n",
      "    >>> df = pd.DataFrame({\n",
      "    ...    \"time\": ['0hr', '128hr', '72hr', '48hr', '96hr'],\n",
      "    ...    \"value\": [10, 20, 30, 40, 50]\n",
      "    ... })\n",
      "    >>> df\n",
      "        time  value\n",
      "    0    0hr     10\n",
      "    1  128hr     20\n",
      "    2   72hr     30\n",
      "    3   48hr     40\n",
      "    4   96hr     50\n",
      "    >>> from natsort import index_natsorted\n",
      "    >>> df.sort_values(\n",
      "    ...    by=\"time\",\n",
      "    ...    key=lambda x: np.argsort(index_natsorted(df[\"time\"]))\n",
      "    ... )\n",
      "        time  value\n",
      "    0    0hr     10\n",
      "    3   48hr     40\n",
      "    2   72hr     30\n",
      "    4   96hr     50\n",
      "    1  128hr     20\n",
      "\n",
      "None\n"
     ]
    }
   ],
   "source": [
    "print(help(pd.DataFrame.sort_values))"
   ]
  },
  {
   "cell_type": "code",
   "execution_count": 6,
   "id": "3f60bbb3",
   "metadata": {},
   "outputs": [
    {
     "name": "stdout",
     "output_type": "stream",
     "text": [
      "398     5.0\n",
      "405     5.0\n",
      "400     5.6\n",
      "399     6.3\n",
      "414     7.0\n",
      "       ... \n",
      "166    50.0\n",
      "195    50.0\n",
      "283    50.0\n",
      "225    50.0\n",
      "186    50.0\n",
      "Name: MEDV, Length: 506, dtype: float64\n"
     ]
    }
   ],
   "source": [
    "# MDEV 칼럼만 추출하기\n",
    "print(data.sort_values(by='MEDV', ascending=True)['MEDV'])"
   ]
  },
  {
   "cell_type": "code",
   "execution_count": 7,
   "id": "05163fac",
   "metadata": {},
   "outputs": [
    {
     "name": "stdout",
     "output_type": "stream",
     "text": [
      "398    5.0\n",
      "405    5.0\n",
      "400    5.6\n",
      "399    6.3\n",
      "414    7.0\n",
      "489    7.0\n",
      "401    7.2\n",
      "385    7.2\n",
      "415    7.2\n",
      "387    7.4\n",
      "Name: MEDV, dtype: float64\n"
     ]
    }
   ],
   "source": [
    "# 상위 10개 행을 출력하기\n",
    "print(data.sort_values(by='MEDV', ascending=True)['MEDV'].head(10))"
   ]
  },
  {
   "cell_type": "markdown",
   "id": "c9bf4ec3",
   "metadata": {},
   "source": [
    "### 1.2 결측치 확인하기\n",
    "boston 데이터 세트의 RM 칼럼에 대한 결측치 처리를 평균값으로 대치하거나 삭제할 수 있다. RM 칼럼의 결측치를 평균값으로 대치한 후에 산출된 표준편차 값과 결측치를 삭제한 후에 산출된 표준편차 값의 차이를 구하시오. 단, 최종적으로 출력하는 차이는 양수이다."
   ]
  },
  {
   "cell_type": "code",
   "execution_count": 8,
   "id": "9dbe07b0",
   "metadata": {},
   "outputs": [],
   "source": [
    "import pandas as pd\n",
    "data = pd.read_csv('bigData-main/boston.csv')"
   ]
  },
  {
   "cell_type": "code",
   "execution_count": 9,
   "id": "206730c6",
   "metadata": {},
   "outputs": [
    {
     "name": "stdout",
     "output_type": "stream",
     "text": [
      "      CRIM     ZN  INDUS   CHAS    NOX     RM    AGE    DIS    RAD    TAX  \\\n",
      "0    False  False  False  False  False  False  False  False  False  False   \n",
      "1    False  False  False  False  False  False  False  False  False  False   \n",
      "2    False  False  False  False  False  False  False  False  False  False   \n",
      "3    False  False  False  False  False  False  False  False  False  False   \n",
      "4    False  False  False  False  False  False  False  False  False  False   \n",
      "..     ...    ...    ...    ...    ...    ...    ...    ...    ...    ...   \n",
      "501  False  False  False  False  False  False  False  False  False  False   \n",
      "502  False  False  False  False  False   True  False  False  False  False   \n",
      "503  False  False  False  False  False  False  False  False  False  False   \n",
      "504  False  False  False  False  False  False  False  False  False  False   \n",
      "505  False  False  False  False  False  False  False  False  False  False   \n",
      "\n",
      "     PTRATIO      B  LSTAT   MEDV  \n",
      "0      False  False  False  False  \n",
      "1      False  False  False  False  \n",
      "2      False  False  False  False  \n",
      "3      False  False  False  False  \n",
      "4      False  False  False  False  \n",
      "..       ...    ...    ...    ...  \n",
      "501    False  False  False  False  \n",
      "502    False  False  False  False  \n",
      "503    False  False  False  False  \n",
      "504    False  False  False  False  \n",
      "505    False  False  False  False  \n",
      "\n",
      "[506 rows x 14 columns]\n"
     ]
    }
   ],
   "source": [
    "# 결측치 여부 확인하기\n",
    "print(data.isnull())"
   ]
  },
  {
   "cell_type": "code",
   "execution_count": 10,
   "id": "3f8fbd18",
   "metadata": {},
   "outputs": [
    {
     "name": "stdout",
     "output_type": "stream",
     "text": [
      "CRIM        0\n",
      "ZN          0\n",
      "INDUS       0\n",
      "CHAS        0\n",
      "NOX         0\n",
      "RM         15\n",
      "AGE         0\n",
      "DIS         0\n",
      "RAD         0\n",
      "TAX         0\n",
      "PTRATIO     0\n",
      "B           0\n",
      "LSTAT       0\n",
      "MEDV        0\n",
      "dtype: int64\n"
     ]
    }
   ],
   "source": [
    "# 결측치인 True값들을 모두 더하기\n",
    "print(data.isnull().sum())"
   ]
  },
  {
   "cell_type": "code",
   "execution_count": 11,
   "id": "409c01db",
   "metadata": {},
   "outputs": [
    {
     "name": "stdout",
     "output_type": "stream",
     "text": [
      "15\n"
     ]
    }
   ],
   "source": [
    "# RM 칼럼을 추출한 후, data_mean 변수에 저장하기\n",
    "data_mean = data['RM'].copy()\n",
    "# data_mean 변수에서도 결측치 개수를 확인하기\n",
    "print(data_mean.isnull().sum())"
   ]
  },
  {
   "cell_type": "code",
   "execution_count": 12,
   "id": "d7272a4c",
   "metadata": {},
   "outputs": [
    {
     "name": "stdout",
     "output_type": "stream",
     "text": [
      "0    6.575\n",
      "1    6.421\n",
      "2    7.185\n",
      "Name: RM, dtype: float64\n"
     ]
    }
   ],
   "source": [
    "# data_mean 변수의 상위 3개 행 확인하기\n",
    "print(data_mean.head(3))"
   ]
  },
  {
   "cell_type": "code",
   "execution_count": 14,
   "id": "c23177d7",
   "metadata": {},
   "outputs": [
    {
     "name": "stdout",
     "output_type": "stream",
     "text": [
      "6.285101832993899\n"
     ]
    }
   ],
   "source": [
    "# data_mean 평균값을 rm_mean 변수에 저장하기\n",
    "rm_mean = data_mean.mean()\n",
    "# RM 칼럼의 평균값(rm_mean 변수)을 출력하기\n",
    "print(rm_mean)"
   ]
  },
  {
   "cell_type": "code",
   "execution_count": 15,
   "id": "9887d195",
   "metadata": {},
   "outputs": [
    {
     "name": "stdout",
     "output_type": "stream",
     "text": [
      "0      6.575000\n",
      "1      6.421000\n",
      "2      7.185000\n",
      "3      6.998000\n",
      "4      7.147000\n",
      "         ...   \n",
      "501    6.593000\n",
      "502    6.285102\n",
      "503    6.976000\n",
      "504    6.794000\n",
      "505    6.030000\n",
      "Name: RM, Length: 506, dtype: float64\n"
     ]
    }
   ],
   "source": [
    "# data_mean의 변경결과를 저장하지 않고 결측치를 평균값으로 대치하기\n",
    "print(data_mean.fillna(rm_mean, inplace=False))"
   ]
  },
  {
   "cell_type": "code",
   "execution_count": 16,
   "id": "b0ac6cac",
   "metadata": {},
   "outputs": [
    {
     "name": "stdout",
     "output_type": "stream",
     "text": [
      "15\n"
     ]
    }
   ],
   "source": [
    "# data_mean의 결측치 개수 확인하기\n",
    "print(data_mean.isnull().sum()) # inplace=False 옵션은 data_mean 변수에 영향을 미치지 못함"
   ]
  },
  {
   "cell_type": "code",
   "execution_count": 17,
   "id": "7350023f",
   "metadata": {},
   "outputs": [
    {
     "name": "stdout",
     "output_type": "stream",
     "text": [
      "0\n"
     ]
    }
   ],
   "source": [
    "# data_mean의 변동결과를 저장하고 결측치를 평균값으로 대치하기\n",
    "data_mean.fillna(rm_mean, inplace=True)\n",
    "# data_mean의 결측치 개수 확인하기\n",
    "print(data_mean.isnull().sum())"
   ]
  },
  {
   "cell_type": "code",
   "execution_count": 18,
   "id": "6c71cfc8",
   "metadata": {},
   "outputs": [
    {
     "name": "stdout",
     "output_type": "stream",
     "text": [
      "15\n"
     ]
    }
   ],
   "source": [
    "# RM 칼럼을 추출한 후, data_del 변수에 저장하기\n",
    "data_del = data['RM'].copy()\n",
    "\n",
    "# data_del 변수에서도 결측치 개수를 확인하기\n",
    "print(data_del.isnull().sum())"
   ]
  },
  {
   "cell_type": "code",
   "execution_count": 19,
   "id": "5cd64eb4",
   "metadata": {},
   "outputs": [
    {
     "name": "stdout",
     "output_type": "stream",
     "text": [
      "(506,)\n"
     ]
    }
   ],
   "source": [
    "# data_del 변수의 행/열 구조 확인하기\n",
    "print(data_del.shape)"
   ]
  },
  {
   "cell_type": "code",
   "execution_count": 20,
   "id": "059fd1c0",
   "metadata": {},
   "outputs": [],
   "source": [
    "# data_del 변수의 저장과 함께 결측치 삭제하기\n",
    "data_del.dropna(inplace=True)"
   ]
  },
  {
   "cell_type": "code",
   "execution_count": 21,
   "id": "e9b6d6ec",
   "metadata": {},
   "outputs": [
    {
     "name": "stdout",
     "output_type": "stream",
     "text": [
      "(491,)\n",
      "0\n"
     ]
    }
   ],
   "source": [
    "# data_del 변수의 행/열 구조 확인하기\n",
    "print(data_del.shape)\n",
    "# data_del의 결측치 개수 확인하기\n",
    "print(data_del.isnull().sum())"
   ]
  },
  {
   "cell_type": "code",
   "execution_count": 22,
   "id": "6eb03625",
   "metadata": {},
   "outputs": [
    {
     "name": "stdout",
     "output_type": "stream",
     "text": [
      "0.6975001826300911\n",
      "0.7080957287241957\n"
     ]
    }
   ],
   "source": [
    "# data_mean 변수의 표준편차 구하기\n",
    "print(data_mean.std())\n",
    "# data_del 변수의 표준편차 구하기\n",
    "print(data_del.std())"
   ]
  },
  {
   "cell_type": "code",
   "execution_count": 25,
   "id": "32e9708c",
   "metadata": {},
   "outputs": [
    {
     "name": "stdout",
     "output_type": "stream",
     "text": [
      "0.010595546094104624\n"
     ]
    }
   ],
   "source": [
    "# data_mean 변수와 data_del 변수를 빼고 나서 절댓값을 취한 결과를 확인하기\n",
    "print(abs(data_mean.std() - data_del.std()))"
   ]
  },
  {
   "cell_type": "code",
   "execution_count": 26,
   "id": "42dccde3",
   "metadata": {},
   "outputs": [
    {
     "name": "stdout",
     "output_type": "stream",
     "text": [
      "0.010595546094104624\n"
     ]
    }
   ],
   "source": [
    "# 최종 제출코드\n",
    "import pandas as pd\n",
    "data = pd.read_csv('bigData-main/boston.csv')\n",
    "data_mean = data['RM'].copy()\n",
    "rm_mean = data_mean.mean()\n",
    "data_mean.fillna(rm_mean, inplace=True)\n",
    "data_del = data['RM'].copy()\n",
    "data_del.dropna(inplace=True)\n",
    "print(abs(data_mean.std() - data_del.std()))"
   ]
  },
  {
   "cell_type": "markdown",
   "id": "8c52f11a",
   "metadata": {},
   "source": [
    "### 1.3 이상값 확인하기\n",
    "boston 데이터 세트의 ZN 칼럼을 대상으로 ZN 값의 평균값에서 표준편차의 1.5배보다 크거나 작은 ZN 값의 합계를 구하시오."
   ]
  },
  {
   "cell_type": "code",
   "execution_count": 27,
   "id": "68919b87",
   "metadata": {},
   "outputs": [],
   "source": [
    "import pandas as pd\n",
    "data = pd.read_csv('bigData-main/boston.csv')"
   ]
  },
  {
   "cell_type": "code",
   "execution_count": 28,
   "id": "d966e443",
   "metadata": {},
   "outputs": [],
   "source": [
    "# ZN 칼럼의 평균값을 zn_mean 변수에 저장하기\n",
    "zn_mean = data['ZN'].mean()\n",
    "# ZN 칼럼의 표준편차를 zn_std 변수에 저장하기\n",
    "zn_std = data['ZN'].std()"
   ]
  },
  {
   "cell_type": "code",
   "execution_count": 29,
   "id": "73876ba1",
   "metadata": {},
   "outputs": [
    {
     "name": "stdout",
     "output_type": "stream",
     "text": [
      "46.34731585540892\n"
     ]
    }
   ],
   "source": [
    "# 평균값에서 1.5*표준편차 만큼 떨어진 값 구하기\n",
    "zn_max = zn_mean + (1.5 * zn_std)\n",
    "# 1.5*표준편차 만큼 떨어진 값을 확인하기\n",
    "print(zn_max)"
   ]
  },
  {
   "cell_type": "code",
   "execution_count": 30,
   "id": "cb45d6b0",
   "metadata": {},
   "outputs": [
    {
     "name": "stdout",
     "output_type": "stream",
     "text": [
      "-23.620043128136192\n"
     ]
    }
   ],
   "source": [
    "# 평균값에서 -1.5*표준편차 만큼 떨어진 값 구하기\n",
    "zn_min = zn_mean - (1.5 * zn_std)\n",
    "# -1.5*표준편차만큼 떨어진 값을 확인하기\n",
    "print(zn_min)"
   ]
  },
  {
   "cell_type": "code",
   "execution_count": 31,
   "id": "6bb0b6d2",
   "metadata": {},
   "outputs": [
    {
     "name": "stdout",
     "output_type": "stream",
     "text": [
      "0      False\n",
      "1      False\n",
      "2      False\n",
      "3      False\n",
      "4      False\n",
      "       ...  \n",
      "501    False\n",
      "502    False\n",
      "503    False\n",
      "504    False\n",
      "505    False\n",
      "Name: ZN, Length: 506, dtype: bool\n"
     ]
    }
   ],
   "source": [
    "# zn_max보다 큰지 여부를 확인하기 \n",
    "print(data['ZN'] > zn_max)"
   ]
  },
  {
   "cell_type": "code",
   "execution_count": 32,
   "id": "b2f41287",
   "metadata": {},
   "outputs": [
    {
     "name": "stdout",
     "output_type": "stream",
     "text": [
      "        CRIM     ZN  INDUS  CHAS     NOX     RM   AGE      DIS  RAD  TAX  \\\n",
      "39   0.02763   75.0   2.95     0  0.4280  6.595  21.8   5.4011    3  252   \n",
      "40   0.03359   75.0   2.95     0  0.4280  7.024  15.8   5.4011    3  252   \n",
      "54   0.01360   75.0   4.00     0  0.4100  5.888  47.6   7.3197    3  469   \n",
      "55   0.01311   90.0   1.22     0  0.4030  7.249  21.9   8.6966    5  226   \n",
      "56   0.02055   85.0   0.74     0  0.4100  6.383  35.7   9.1876    2  313   \n",
      "57   0.01432  100.0   1.32     0  0.4110  6.816  40.5   8.3248    5  256   \n",
      "65   0.03584   80.0   3.37     0  0.3980  6.290  17.8   6.6115    4  337   \n",
      "66   0.04379   80.0   3.37     0  0.3980  5.787  31.1   6.6115    4  337   \n",
      "193  0.02187   60.0   2.93     0  0.4010  6.800   9.9   6.2196    1  265   \n",
      "194  0.01439   60.0   2.93     0  0.4010  6.604  18.8   6.2196    1  265   \n",
      "195  0.01381   80.0   0.46     0  0.4220  7.875  32.0   5.6484    4  255   \n",
      "196  0.04011   80.0   1.52     0  0.4040  7.287  34.1   7.3090    2  329   \n",
      "197  0.04666   80.0   1.52     0  0.4040  7.107  36.6   7.3090    2  329   \n",
      "198  0.03768   80.0   1.52     0  0.4040  7.274  38.3   7.3090    2  329   \n",
      "199  0.03150   95.0   1.47     0  0.4030  6.975  15.3   7.6534    3  402   \n",
      "200  0.01778   95.0   1.47     0  0.4030  7.135  13.9   7.6534    3  402   \n",
      "201  0.03445   82.5   2.03     0  0.4150  6.162  38.4   6.2700    2  348   \n",
      "202  0.02177   82.5   2.03     0  0.4150  7.610  15.7   6.2700    2  348   \n",
      "203  0.03510   95.0   2.68     0  0.4161  7.853  33.2   5.1180    4  224   \n",
      "204  0.02009   95.0   2.68     0  0.4161  8.034  31.9   5.1180    4  224   \n",
      "254  0.04819   80.0   3.64     0  0.3920  6.108  32.0   9.2203    1  315   \n",
      "255  0.03548   80.0   3.64     0  0.3920  5.876  19.1   9.2203    1  315   \n",
      "256  0.01538   90.0   3.75     0  0.3940  7.454  34.2   6.3361    3  244   \n",
      "283  0.01501   90.0   1.21     1  0.4010  7.923  24.8   5.8850    1  198   \n",
      "284  0.00906   90.0   2.97     0  0.4000  7.088  20.8   7.3073    1  285   \n",
      "285  0.01096   55.0   2.25     0  0.3890  6.453  31.9   7.3073    1  300   \n",
      "286  0.01965   80.0   1.76     0  0.3850  6.230  31.5   9.0892    1  241   \n",
      "287  0.03871   52.5   5.32     0  0.4050  6.209  31.3   7.3172    6  293   \n",
      "288  0.04590   52.5   5.32     0  0.4050  6.315  45.6   7.3172    6  293   \n",
      "289  0.04297   52.5   5.32     0  0.4050  6.565  22.9   7.3172    6  293   \n",
      "290  0.03502   80.0   4.95     0  0.4110  6.861  27.9   5.1167    4  245   \n",
      "291  0.07886   80.0   4.95     0  0.4110  7.148  27.7   5.1167    4  245   \n",
      "292  0.03615   80.0   4.95     0  0.4110  6.630  23.4   5.1167    4  245   \n",
      "298  0.06466   70.0   2.24     0  0.4000  6.345  20.1   7.8278    5  358   \n",
      "299  0.05561   70.0   2.24     0  0.4000  7.041  10.0   7.8278    5  358   \n",
      "300  0.04417   70.0   2.24     0  0.4000  6.871  47.4   7.8278    5  358   \n",
      "343  0.02543   55.0   3.78     0  0.4840  6.696  56.4   5.7321    5  370   \n",
      "344  0.03049   55.0   3.78     0  0.4840    NaN  28.1   6.4654    5  370   \n",
      "347  0.01870   85.0   4.15     0  0.4290  6.516  27.7   8.5353    4  351   \n",
      "348  0.01501   80.0   2.01     0  0.4350  6.635  29.7   8.3440    4  280   \n",
      "351  0.07950   60.0   1.69     0  0.4110  6.579  35.9  10.7103    4  411   \n",
      "352  0.07244   60.0   1.69     0  0.4110  5.884  18.5  10.7103    4  411   \n",
      "353  0.01709   90.0   2.02     0  0.4100  6.728  36.1  12.1265    5  187   \n",
      "354  0.04301   80.0   1.91     0  0.4130  5.663  21.9  10.5857    4  334   \n",
      "355  0.10659   80.0   1.91     0  0.4130  5.936  19.5  10.5857    4  334   \n",
      "\n",
      "     PTRATIO       B  LSTAT  MEDV  \n",
      "39      18.3  395.63   4.32  30.8  \n",
      "40      18.3  395.62   1.98  34.9  \n",
      "54      21.1  396.90  14.80  18.9  \n",
      "55      17.9  395.93   4.81  35.4  \n",
      "56      17.3  396.90   5.77  24.7  \n",
      "57      15.1  392.90   3.95  31.6  \n",
      "65      16.1  396.90   4.67  23.5  \n",
      "66      16.1  396.90  10.24  19.4  \n",
      "193     15.6  393.37   5.03  31.1  \n",
      "194     15.6  376.70   4.38  29.1  \n",
      "195     14.4  394.23   2.97  50.0  \n",
      "196     12.6  396.90   4.08  33.3  \n",
      "197     12.6  354.31   8.61  30.3  \n",
      "198     12.6  392.20   6.62  34.6  \n",
      "199     17.0  396.90   4.56  34.9  \n",
      "200     17.0  384.30   4.45  32.9  \n",
      "201     14.7  393.77   7.43  24.1  \n",
      "202     14.7  395.38   3.11  42.3  \n",
      "203     14.7  392.78   3.81  48.5  \n",
      "204     14.7  390.55   2.88  50.0  \n",
      "254     16.4  392.89   6.57  21.9  \n",
      "255     16.4  395.18   9.25  20.9  \n",
      "256     15.9  386.34   3.11  44.0  \n",
      "283     13.6  395.52   3.16  50.0  \n",
      "284     15.3  394.72   7.85  32.2  \n",
      "285     15.3  394.72   8.23  22.0  \n",
      "286     18.2  341.60  12.93  20.1  \n",
      "287     16.6  396.90   7.14  23.2  \n",
      "288     16.6  396.90   7.60  22.3  \n",
      "289     16.6  371.72   9.51  24.8  \n",
      "290     19.2  396.90   3.33  28.5  \n",
      "291     19.2  396.90   3.56  37.3  \n",
      "292     19.2  396.90   4.70  27.9  \n",
      "298     14.8  368.24   4.97  22.5  \n",
      "299     14.8  371.58   4.74  29.0  \n",
      "300     14.8  390.86   6.07  24.8  \n",
      "343     17.6  396.90   7.18  23.9  \n",
      "344     17.6  387.97   4.61  31.2  \n",
      "347     17.9  392.43   6.36  23.1  \n",
      "348     17.0  390.94   5.99  24.5  \n",
      "351     18.3  370.78   5.49  24.1  \n",
      "352     18.3  392.33   7.79  18.6  \n",
      "353     17.0  384.46   4.50  30.1  \n",
      "354     22.0  382.80   8.05  18.2  \n",
      "355     22.0  376.04   5.57  20.6  \n"
     ]
    }
   ],
   "source": [
    "# ZN 칼럼이 zn_max보다 큰 값들만 확인하기\n",
    "print(data[ data['ZN'] > zn_max])"
   ]
  },
  {
   "cell_type": "code",
   "execution_count": 33,
   "id": "0549b6db",
   "metadata": {},
   "outputs": [
    {
     "name": "stdout",
     "output_type": "stream",
     "text": [
      "39      75.0\n",
      "40      75.0\n",
      "54      75.0\n",
      "55      90.0\n",
      "56      85.0\n",
      "57     100.0\n",
      "65      80.0\n",
      "66      80.0\n",
      "193     60.0\n",
      "194     60.0\n",
      "195     80.0\n",
      "196     80.0\n",
      "197     80.0\n",
      "198     80.0\n",
      "199     95.0\n",
      "200     95.0\n",
      "201     82.5\n",
      "202     82.5\n",
      "203     95.0\n",
      "204     95.0\n",
      "254     80.0\n",
      "255     80.0\n",
      "256     90.0\n",
      "283     90.0\n",
      "284     90.0\n",
      "285     55.0\n",
      "286     80.0\n",
      "287     52.5\n",
      "288     52.5\n",
      "289     52.5\n",
      "290     80.0\n",
      "291     80.0\n",
      "292     80.0\n",
      "298     70.0\n",
      "299     70.0\n",
      "300     70.0\n",
      "343     55.0\n",
      "344     55.0\n",
      "347     85.0\n",
      "348     80.0\n",
      "351     60.0\n",
      "352     60.0\n",
      "353     90.0\n",
      "354     80.0\n",
      "355     80.0\n",
      "Name: ZN, dtype: float64\n"
     ]
    }
   ],
   "source": [
    "# ZN칼럼만 추출한 후, 해당 데이터를 zn_max2 변수에 저장하기\n",
    "zn_max2 = data[data['ZN'] > zn_max]['ZN']\n",
    "# zn_max2 변수의 데이터 확인하기\n",
    "print(zn_max2)"
   ]
  },
  {
   "cell_type": "code",
   "execution_count": 34,
   "id": "488858f2",
   "metadata": {},
   "outputs": [
    {
     "name": "stdout",
     "output_type": "stream",
     "text": [
      "Empty DataFrame\n",
      "Columns: [CRIM, ZN, INDUS, CHAS, NOX, RM, AGE, DIS, RAD, TAX, PTRATIO, B, LSTAT, MEDV]\n",
      "Index: []\n"
     ]
    }
   ],
   "source": [
    "# ZN 칼럼이 zn_min보다 작은 값들을 확인하기\n",
    "print(data[data['ZN'] < zn_min])"
   ]
  },
  {
   "cell_type": "code",
   "execution_count": 35,
   "id": "8bc30b2b",
   "metadata": {},
   "outputs": [
    {
     "name": "stdout",
     "output_type": "stream",
     "text": [
      "3462.5\n"
     ]
    }
   ],
   "source": [
    "# zn_max2 변수값의 합계 구하기\n",
    "print(sum(zn_max2))"
   ]
  },
  {
   "cell_type": "code",
   "execution_count": 36,
   "id": "85f23621",
   "metadata": {},
   "outputs": [
    {
     "name": "stdout",
     "output_type": "stream",
     "text": [
      "3462.5\n"
     ]
    }
   ],
   "source": [
    "import pandas as pd\n",
    "data = pd.read_csv('bigData-main/boston.csv')\n",
    "zn_mean = data['ZN'].mean()\n",
    "zn_std = data['ZN'].std()\n",
    "zn_max = zn_mean + (1.5 * zn_std)\n",
    "zn_min = zn_mean - (1.5 * zn_std)\n",
    "zn_max2 = data[data['ZN'] > zn_max]['ZN']\n",
    "print(sum(zn_max2))"
   ]
  },
  {
   "cell_type": "code",
   "execution_count": 41,
   "id": "89ebca2b",
   "metadata": {},
   "outputs": [
    {
     "data": {
      "text/plain": [
       "3462.5"
      ]
     },
     "execution_count": 41,
     "metadata": {},
     "output_type": "execute_result"
    }
   ],
   "source": [
    "data[(data['ZN'] > zn_max) | (data['ZN'] < zn_min)]['ZN'].sum()"
   ]
  },
  {
   "cell_type": "markdown",
   "id": "5f7a315d",
   "metadata": {},
   "source": [
    "### 1.4 사분위수 구하기\n",
    "boston 데이터 세트에서 CHAS 칼럼과 RAD 칼럼을 제외한 칼럼에 한해서 칼럼별 IQR 값을 구하시오. 단 출력구조는 2열이고 1열은 보스턴 세트의 칼럼 이름이 표시되어야 한다."
   ]
  },
  {
   "cell_type": "code",
   "execution_count": 42,
   "id": "0f872757",
   "metadata": {},
   "outputs": [],
   "source": [
    "import pandas as pd\n",
    "data = pd.read_csv('bigData-main/boston.csv')"
   ]
  },
  {
   "cell_type": "code",
   "execution_count": 43,
   "id": "e9f86722",
   "metadata": {},
   "outputs": [
    {
     "name": "stdout",
     "output_type": "stream",
     "text": [
      "(506, 14)\n"
     ]
    }
   ],
   "source": [
    "# data 변수의 행/열 구조 확인하기\n",
    "print(data.shape)"
   ]
  },
  {
   "cell_type": "code",
   "execution_count": 44,
   "id": "893fa00f",
   "metadata": {},
   "outputs": [
    {
     "name": "stdout",
     "output_type": "stream",
     "text": [
      "        CRIM    ZN  INDUS    NOX     RM   AGE     DIS  TAX  PTRATIO       B  \\\n",
      "0    0.00632  18.0   2.31  0.538  6.575  65.2  4.0900  296     15.3  396.90   \n",
      "1    0.02731   0.0   7.07  0.469  6.421  78.9  4.9671  242     17.8  396.90   \n",
      "2    0.02729   0.0   7.07  0.469  7.185  61.1  4.9671  242     17.8  392.83   \n",
      "3    0.03237   0.0   2.18  0.458  6.998  45.8  6.0622  222     18.7  394.63   \n",
      "4    0.06905   0.0   2.18  0.458  7.147  54.2  6.0622  222     18.7  396.90   \n",
      "..       ...   ...    ...    ...    ...   ...     ...  ...      ...     ...   \n",
      "501  0.06263   0.0  11.93  0.573  6.593  69.1  2.4786  273     21.0  391.99   \n",
      "502  0.04527   0.0  11.93  0.573    NaN  76.7  2.2875  273     21.0  396.90   \n",
      "503  0.06076   0.0  11.93  0.573  6.976  91.0  2.1675  273     21.0  396.90   \n",
      "504  0.10959   0.0  11.93  0.573  6.794  89.3  2.3889  273     21.0  393.45   \n",
      "505  0.04741   0.0  11.93  0.573  6.030  80.8  2.5050  273     21.0  396.90   \n",
      "\n",
      "     LSTAT  MEDV  \n",
      "0     4.98  24.0  \n",
      "1     9.14  21.6  \n",
      "2     4.03  34.7  \n",
      "3     2.94  33.4  \n",
      "4     5.33  36.2  \n",
      "..     ...   ...  \n",
      "501   9.67  22.4  \n",
      "502   9.08  20.6  \n",
      "503   5.64  23.9  \n",
      "504   6.48  22.0  \n",
      "505   7.88  11.9  \n",
      "\n",
      "[506 rows x 12 columns]\n"
     ]
    }
   ],
   "source": [
    "# CHAS, RAD 칼럼을 삭제하기\n",
    "print(data.drop(columns=['CHAS', 'RAD']))"
   ]
  },
  {
   "cell_type": "code",
   "execution_count": 45,
   "id": "08c74500",
   "metadata": {},
   "outputs": [
    {
     "name": "stdout",
     "output_type": "stream",
     "text": [
      "(506, 12)\n"
     ]
    }
   ],
   "source": [
    "# data 변수에서 CHAS 칼럼과 RAD 칼럼을 삭제하기\n",
    "data_col12 = data.drop(columns=['CHAS','RAD'])\n",
    "\n",
    "# data_col12 변수의 행/열 확인하기\n",
    "print(data_col12.shape)"
   ]
  },
  {
   "cell_type": "code",
   "execution_count": 46,
   "id": "48a808d6",
   "metadata": {},
   "outputs": [
    {
     "name": "stdout",
     "output_type": "stream",
     "text": [
      "             CRIM          ZN       INDUS         NOX          RM         AGE  \\\n",
      "count  506.000000  506.000000  506.000000  506.000000  491.000000  506.000000   \n",
      "mean     3.613524   11.363636   11.136779    0.554695    6.285102   68.574901   \n",
      "std      8.601545   23.322453    6.860353    0.115878    0.708096   28.148861   \n",
      "min      0.006320    0.000000    0.460000    0.385000    3.561000    2.900000   \n",
      "25%      0.082045    0.000000    5.190000    0.449000    5.886000   45.025000   \n",
      "50%      0.256510    0.000000    9.690000    0.538000    6.209000   77.500000   \n",
      "75%      3.677083   12.500000   18.100000    0.624000    6.622000   94.075000   \n",
      "max     88.976200  100.000000   27.740000    0.871000    8.780000  100.000000   \n",
      "\n",
      "              DIS         TAX     PTRATIO           B       LSTAT        MEDV  \n",
      "count  506.000000  506.000000  506.000000  506.000000  506.000000  506.000000  \n",
      "mean     3.795043  408.237154   18.455534  356.674032   12.653063   22.532806  \n",
      "std      2.105710  168.537116    2.164946   91.294864    7.141062    9.197104  \n",
      "min      1.129600  187.000000   12.600000    0.320000    1.730000    5.000000  \n",
      "25%      2.100175  279.000000   17.400000  375.377500    6.950000   17.025000  \n",
      "50%      3.207450  330.000000   19.050000  391.440000   11.360000   21.200000  \n",
      "75%      5.188425  666.000000   20.200000  396.225000   16.955000   25.000000  \n",
      "max     12.126500  711.000000   22.000000  396.900000   37.970000   50.000000  \n"
     ]
    }
   ],
   "source": [
    "# data_col12 변수의 기초통계량 정보를 data_col12_desc 변수에 저장하기\n",
    "data_col12_desc = data_col12.describe()\n",
    "\n",
    "# data_col12_desc 변수 부르기\n",
    "print(data_col12_desc)"
   ]
  },
  {
   "cell_type": "code",
   "execution_count": 47,
   "id": "331e26e5",
   "metadata": {},
   "outputs": [
    {
     "name": "stdout",
     "output_type": "stream",
     "text": [
      "         CRIM    ZN  INDUS    NOX     RM     AGE       DIS    TAX  PTRATIO  \\\n",
      "25%  0.082045   0.0   5.19  0.449  5.886  45.025  2.100175  279.0     17.4   \n",
      "75%  3.677083  12.5  18.10  0.624  6.622  94.075  5.188425  666.0     20.2   \n",
      "\n",
      "            B   LSTAT    MEDV  \n",
      "25%  375.3775   6.950  17.025  \n",
      "75%  396.2250  16.955  25.000  \n"
     ]
    }
   ],
   "source": [
    "# data_col12_desc 변수에서 4번행, 6번행 데이터를 가져오기\n",
    "print(data_col12_desc.iloc[[4,6]])"
   ]
  },
  {
   "cell_type": "code",
   "execution_count": 48,
   "id": "13dcfffe",
   "metadata": {},
   "outputs": [
    {
     "name": "stdout",
     "output_type": "stream",
     "text": [
      "                25%         75%\n",
      "CRIM       0.082045    3.677083\n",
      "ZN         0.000000   12.500000\n",
      "INDUS      5.190000   18.100000\n",
      "NOX        0.449000    0.624000\n",
      "RM         5.886000    6.622000\n",
      "AGE       45.025000   94.075000\n",
      "DIS        2.100175    5.188425\n",
      "TAX      279.000000  666.000000\n",
      "PTRATIO   17.400000   20.200000\n",
      "B        375.377500  396.225000\n",
      "LSTAT      6.950000   16.955000\n",
      "MEDV      17.025000   25.000000\n"
     ]
    }
   ],
   "source": [
    "# data_col12_desc 변수의 4번, 6번 데이터의 행/열 구조를 바꾸기\n",
    "print(data_col12_desc.iloc[[4,6]].T)"
   ]
  },
  {
   "cell_type": "code",
   "execution_count": 49,
   "id": "dceaff0d",
   "metadata": {},
   "outputs": [],
   "source": [
    "# 행/열이 바뀐 결과 데이터는 data_col12_desc_T 변수에 저장하기\n",
    "data_col12_desc_T = data_col12_desc.iloc[[4,6]].T"
   ]
  },
  {
   "cell_type": "code",
   "execution_count": 50,
   "id": "55b4a206",
   "metadata": {},
   "outputs": [
    {
     "name": "stdout",
     "output_type": "stream",
     "text": [
      "                25%         75%\n",
      "CRIM       0.082045    3.677083\n",
      "ZN         0.000000   12.500000\n",
      "INDUS      5.190000   18.100000\n",
      "NOX        0.449000    0.624000\n",
      "RM         5.886000    6.622000\n",
      "AGE       45.025000   94.075000\n",
      "DIS        2.100175    5.188425\n",
      "TAX      279.000000  666.000000\n",
      "PTRATIO   17.400000   20.200000\n",
      "B        375.377500  396.225000\n",
      "LSTAT      6.950000   16.955000\n",
      "MEDV      17.025000   25.000000\n"
     ]
    }
   ],
   "source": [
    "# data_col12_desc_T 변수의 데이터 확인하기\n",
    "print(data_col12_desc_T)"
   ]
  },
  {
   "cell_type": "code",
   "execution_count": 51,
   "id": "a530b894",
   "metadata": {},
   "outputs": [
    {
     "name": "stdout",
     "output_type": "stream",
     "text": [
      "CRIM         3.595038\n",
      "ZN          12.500000\n",
      "INDUS       12.910000\n",
      "NOX          0.175000\n",
      "RM           0.736000\n",
      "AGE         49.050000\n",
      "DIS          3.088250\n",
      "TAX        387.000000\n",
      "PTRATIO      2.800000\n",
      "B           20.847500\n",
      "LSTAT       10.005000\n",
      "MEDV         7.975000\n",
      "dtype: float64\n"
     ]
    }
   ],
   "source": [
    "# 3사분위수에서 1사분위수를 빼서 IQR 구하기\n",
    "print(data_col12_desc_T['75%'] - data_col12_desc_T['25%'])"
   ]
  },
  {
   "cell_type": "code",
   "execution_count": 53,
   "id": "72dcf4c4",
   "metadata": {},
   "outputs": [
    {
     "name": "stdout",
     "output_type": "stream",
     "text": [
      "CRIM         3.595038\n",
      "ZN          12.500000\n",
      "INDUS       12.910000\n",
      "NOX          0.175000\n",
      "RM           0.736000\n",
      "AGE         49.050000\n",
      "DIS          3.088250\n",
      "TAX        387.000000\n",
      "PTRATIO      2.800000\n",
      "B           20.847500\n",
      "LSTAT       10.005000\n",
      "MEDV         7.975000\n",
      "dtype: float64\n"
     ]
    }
   ],
   "source": [
    "import pandas as pd\n",
    "data = pd.read_csv('bigData-main/boston.csv')\n",
    "data_col12 = data.drop(columns=['CHAS', 'RAD'])\n",
    "data_col12_desc = data_col12.describe()\n",
    "data_col12_desc_T = data_col12_desc.iloc[[4,6]].T\n",
    "print(data_col12_desc_T['75%'] - data_col12_desc_T['25%'])"
   ]
  },
  {
   "cell_type": "markdown",
   "id": "84c82337",
   "metadata": {},
   "source": [
    "### 1.5 순위 구하기\n",
    "boston 데이터 세트의 MEDV 칼럼을 기준으로 30번째로 큰 값을 1번~29번째로 큰 값에 적용한다. 그리고 MEDV 칼럼의 평균값, 중위값, 최소값, 최대값 순으로 한 줄에 출력하시오."
   ]
  },
  {
   "cell_type": "code",
   "execution_count": 55,
   "id": "27df8f40",
   "metadata": {},
   "outputs": [],
   "source": [
    "import pandas as pd \n",
    "data = pd.read_csv('bigData-main/boston.csv')"
   ]
  },
  {
   "cell_type": "code",
   "execution_count": 56,
   "id": "07c902b9",
   "metadata": {},
   "outputs": [
    {
     "name": "stdout",
     "output_type": "stream",
     "text": [
      "0    24.0\n",
      "1    21.6\n",
      "2    34.7\n",
      "Name: MEDV, dtype: float64\n"
     ]
    }
   ],
   "source": [
    "# data 변수에서 MEDV 칼럼 값을 추출하여 상위 3개의 행 확인하기\n",
    "print(data['MEDV'].head(3))"
   ]
  },
  {
   "cell_type": "code",
   "execution_count": 57,
   "id": "7f2e707c",
   "metadata": {},
   "outputs": [
    {
     "name": "stdout",
     "output_type": "stream",
     "text": [
      "283    50.0\n",
      "225    50.0\n",
      "369    50.0\n",
      "370    50.0\n",
      "371    50.0\n",
      "372    50.0\n",
      "186    50.0\n",
      "204    50.0\n",
      "257    50.0\n",
      "195    50.0\n",
      "166    50.0\n",
      "163    50.0\n",
      "267    50.0\n",
      "162    50.0\n",
      "161    50.0\n",
      "368    50.0\n",
      "262    48.8\n",
      "203    48.5\n",
      "233    48.3\n",
      "228    46.7\n",
      "282    46.0\n",
      "280    45.4\n",
      "224    44.8\n",
      "256    44.0\n",
      "98     43.8\n",
      "268    43.5\n",
      "261    43.1\n",
      "253    42.8\n",
      "202    42.3\n",
      "232    41.7\n",
      "Name: MEDV, dtype: float64\n"
     ]
    }
   ],
   "source": [
    "# MEDV 칼럼을 내림차순으로 정렬한 후, data_new 변수에 저장하기\n",
    "data_new = data['MEDV'].sort_values(ascending=False)\n",
    "# data_new 변수의 상위 30개 데이터 확인하기\n",
    "print(data_new.head(30))"
   ]
  },
  {
   "cell_type": "code",
   "execution_count": 58,
   "id": "1fe1c02c",
   "metadata": {},
   "outputs": [
    {
     "name": "stdout",
     "output_type": "stream",
     "text": [
      "41.7\n"
     ]
    }
   ],
   "source": [
    "# 30번째로 큰 값을 확인하기\n",
    "print(data_new.iloc[29])"
   ]
  },
  {
   "cell_type": "code",
   "execution_count": 59,
   "id": "2a42c75a",
   "metadata": {},
   "outputs": [
    {
     "name": "stdout",
     "output_type": "stream",
     "text": [
      "283    50.0\n",
      "225    50.0\n",
      "369    50.0\n",
      "370    50.0\n",
      "371    50.0\n",
      "372    50.0\n",
      "186    50.0\n",
      "204    50.0\n",
      "257    50.0\n",
      "195    50.0\n",
      "166    50.0\n",
      "163    50.0\n",
      "267    50.0\n",
      "162    50.0\n",
      "161    50.0\n",
      "368    50.0\n",
      "262    48.8\n",
      "203    48.5\n",
      "233    48.3\n",
      "228    46.7\n",
      "282    46.0\n",
      "280    45.4\n",
      "224    44.8\n",
      "256    44.0\n",
      "98     43.8\n",
      "268    43.5\n",
      "261    43.1\n",
      "253    42.8\n",
      "Name: MEDV, dtype: float64\n"
     ]
    }
   ],
   "source": [
    "# 1번~29번째 (행번호 0~28)로 큰 값 확인하기\n",
    "print(data_new.iloc[0:28])"
   ]
  },
  {
   "cell_type": "code",
   "execution_count": 60,
   "id": "04317579",
   "metadata": {},
   "outputs": [
    {
     "name": "stdout",
     "output_type": "stream",
     "text": [
      "283    41.7\n",
      "225    41.7\n",
      "369    41.7\n",
      "370    41.7\n",
      "371    41.7\n",
      "372    41.7\n",
      "186    41.7\n",
      "204    41.7\n",
      "257    41.7\n",
      "195    41.7\n",
      "166    41.7\n",
      "163    41.7\n",
      "267    41.7\n",
      "162    41.7\n",
      "161    41.7\n",
      "368    41.7\n",
      "262    41.7\n",
      "203    41.7\n",
      "233    41.7\n",
      "228    41.7\n",
      "282    41.7\n",
      "280    41.7\n",
      "224    41.7\n",
      "256    41.7\n",
      "98     41.7\n",
      "268    41.7\n",
      "261    41.7\n",
      "253    41.7\n",
      "Name: MEDV, dtype: float64\n"
     ]
    }
   ],
   "source": [
    "# 1번째~29번째 큰 값들은 41.7로 변경하기\n",
    "data_new.iloc[0:28] = 41.7\n",
    "\n",
    "# 1번째~29번째 큰 값들을 확인하기\n",
    "print(data_new.iloc[0:28])"
   ]
  },
  {
   "cell_type": "code",
   "execution_count": 61,
   "id": "4e14d990",
   "metadata": {},
   "outputs": [
    {
     "name": "stdout",
     "output_type": "stream",
     "text": [
      "22.180830039525684 21.2 5.0 42.3\n"
     ]
    }
   ],
   "source": [
    "# data_new 변수에서 평균값, 중위값, 최솟값, 최댓값 구하기\n",
    "print(data_new.mean(), data_new.median(), data_new.min(), data_new.max())"
   ]
  },
  {
   "cell_type": "code",
   "execution_count": 62,
   "id": "3fe2b058",
   "metadata": {},
   "outputs": [
    {
     "name": "stdout",
     "output_type": "stream",
     "text": [
      "22.180830039525684 21.2 5.0 42.3\n"
     ]
    }
   ],
   "source": [
    "import pandas as pd\n",
    "data = pd.read_csv('bigData-main/boston.csv')\n",
    "data_new = data['MEDV'].sort_values(ascending=False)\n",
    "data_new_30th = data_new.iloc[29]\n",
    "data_new.iloc[0:28] = data_new_30th\n",
    "print(data_new.mean(), data_new.median(), data_new.min(), data_new.max())"
   ]
  },
  {
   "cell_type": "markdown",
   "id": "1a8cb961",
   "metadata": {},
   "source": [
    "## 2. 복잡한 데이터 분석"
   ]
  },
  {
   "cell_type": "markdown",
   "id": "7a10996e",
   "metadata": {},
   "source": [
    "### 2.1 그룹별 집계/요약하기\n",
    "boston 데이터세트의 TAX 칼럼이 TAX 칼럼의 중위값보다 큰 데이터를 대상으로, CHAS 칼럼과 RAD 칼럼 순으로 그룹을 지은 후 각 그룹의 데이터 개수를 구하시오. 단, CHAS, RAD 칼럼별 데이터 개수는 COUNT라는 칼럼으로 출력합니다."
   ]
  },
  {
   "cell_type": "code",
   "execution_count": 8,
   "id": "54392813",
   "metadata": {},
   "outputs": [
    {
     "name": "stdout",
     "output_type": "stream",
     "text": [
      "          CRIM   ZN  INDUS  NOX   RM  AGE  DIS  TAX  PTRATIO    B  LSTAT  MEDV\n",
      "CHAS RAD                                                                      \n",
      "0    1       3    3      3    3    3    3    3    3        3    3      3     3\n",
      "     2       2    2      2    2    2    2    2    2        2    2      2     2\n",
      "     3       5    5      5    5    5    5    5    5        5    5      5     5\n",
      "     4      33   33     33   33   32   33   33   33       33   33     33    33\n",
      "     5      51   51     51   51   48   51   51   51       51   51     51    51\n",
      "     6      17   17     17   17   16   17   17   17       17   17     17    17\n",
      "     24    124  124    124  124  122  124  124  124      124  124    124   124\n",
      "1    5       7    7      7    7    7    7    7    7        7    7      7     7\n",
      "     24      8    8      8    8    8    8    8    8        8    8      8     8\n"
     ]
    }
   ],
   "source": [
    "import pandas as pd\n",
    "data = pd.read_csv('bigData-main/boston.csv')"
   ]
  },
  {
   "cell_type": "code",
   "execution_count": 9,
   "id": "0a9d1a12",
   "metadata": {},
   "outputs": [
    {
     "name": "stdout",
     "output_type": "stream",
     "text": [
      "330.0\n"
     ]
    }
   ],
   "source": [
    "# TAX 칼럼의 중위값 구하기\n",
    "tax_median = data['TAX'].median()\n",
    "\n",
    "# TAX 칼럼의 중위값 확인하기\n",
    "print(tax_median)"
   ]
  },
  {
   "cell_type": "code",
   "execution_count": 10,
   "id": "a3e90b7a",
   "metadata": {},
   "outputs": [
    {
     "name": "stdout",
     "output_type": "stream",
     "text": [
      "0      False\n",
      "1      False\n",
      "2      False\n",
      "3      False\n",
      "4      False\n",
      "       ...  \n",
      "501    False\n",
      "502    False\n",
      "503    False\n",
      "504    False\n",
      "505    False\n",
      "Name: TAX, Length: 506, dtype: bool\n"
     ]
    }
   ],
   "source": [
    "# TAX 칼럼에서 tax_median보다 큰지 여부를 확인하기\n",
    "print(data['TAX'] > tax_median)"
   ]
  },
  {
   "cell_type": "code",
   "execution_count": 11,
   "id": "a24ffcb4",
   "metadata": {},
   "outputs": [
    {
     "name": "stdout",
     "output_type": "stream",
     "text": [
      "        CRIM    ZN  INDUS  CHAS    NOX     RM   AGE     DIS  RAD  TAX  \\\n",
      "54   0.01360  75.0   4.00     0  0.410  5.888  47.6  7.3197    3  469   \n",
      "65   0.03584  80.0   3.37     0  0.398  6.290  17.8  6.6115    4  337   \n",
      "66   0.04379  80.0   3.37     0  0.398  5.787  31.1  6.6115    4  337   \n",
      "67   0.05789  12.5   6.07     0  0.409  5.878  21.4  6.4980    4  345   \n",
      "68   0.13554  12.5   6.07     0  0.409  5.594  36.8  6.4980    4  345   \n",
      "..       ...   ...    ...   ...    ...    ...   ...     ...  ...  ...   \n",
      "496  0.28960   0.0   9.69     0  0.585  5.390  72.9  2.7986    6  391   \n",
      "497  0.26838   0.0   9.69     0  0.585    NaN  70.6  2.8927    6  391   \n",
      "498  0.23912   0.0   9.69     0  0.585  6.019  65.3  2.4091    6  391   \n",
      "499  0.17783   0.0   9.69     0  0.585  5.569  73.5  2.3999    6  391   \n",
      "500  0.22438   0.0   9.69     0  0.585  6.027  79.7  2.4982    6  391   \n",
      "\n",
      "     PTRATIO       B  LSTAT  MEDV  \n",
      "54      21.1  396.90  14.80  18.9  \n",
      "65      16.1  396.90   4.67  23.5  \n",
      "66      16.1  396.90  10.24  19.4  \n",
      "67      18.9  396.21   8.10  22.0  \n",
      "68      18.9  396.90  13.09  17.4  \n",
      "..       ...     ...    ...   ...  \n",
      "496     19.2  396.90  21.14  19.7  \n",
      "497     19.2  396.90  14.10  18.3  \n",
      "498     19.2  396.90  12.92  21.2  \n",
      "499     19.2  395.77  15.10  17.5  \n",
      "500     19.2  396.90  14.33  16.8  \n",
      "\n",
      "[250 rows x 14 columns]\n"
     ]
    }
   ],
   "source": [
    "# TAX 칼럼이 중위값보다 큰 값들만 추출해서 확인하기\n",
    "print(data[data['TAX'] > tax_median])"
   ]
  },
  {
   "cell_type": "code",
   "execution_count": 14,
   "id": "f125dd5d",
   "metadata": {},
   "outputs": [
    {
     "name": "stdout",
     "output_type": "stream",
     "text": [
      "     CHAS  RAD\n",
      "54      0    3\n",
      "65      0    4\n",
      "66      0    4\n",
      "67      0    4\n",
      "68      0    4\n",
      "..    ...  ...\n",
      "496     0    6\n",
      "497     0    6\n",
      "498     0    6\n",
      "499     0    6\n",
      "500     0    6\n",
      "\n",
      "[250 rows x 2 columns]\n"
     ]
    }
   ],
   "source": [
    "# TAX 칼럼에서 중위값보다 큰 값을 기준으로 CHAS 칼럼과 RAD 칼럼만 추출하기\n",
    "print(data[data['TAX'] > tax_median][['CHAS', 'RAD']])\n",
    "\n",
    "# 앞선 결과를 data_new 변수에 저장하기\n",
    "data_new = data[data['TAX'] > tax_median][['CHAS', 'RAD']]"
   ]
  },
  {
   "cell_type": "code",
   "execution_count": 15,
   "id": "de9fca96",
   "metadata": {},
   "outputs": [
    {
     "name": "stdout",
     "output_type": "stream",
     "text": [
      "[0 1]\n",
      "[ 3  4  5  6  2  1 24]\n"
     ]
    }
   ],
   "source": [
    "# CHAS 칼럼에 들어있는 값 종류를 확인하기\n",
    "print(data_new['CHAS'].unique())\n",
    "# RAD 칼럼에 들어있는 값 종류를 확인하기\n",
    "print(data_new['RAD'].unique())"
   ]
  },
  {
   "cell_type": "code",
   "execution_count": 16,
   "id": "b2eaab5e",
   "metadata": {},
   "outputs": [
    {
     "name": "stdout",
     "output_type": "stream",
     "text": [
      "CHAS  RAD\n",
      "0     1        3\n",
      "      2        2\n",
      "      3        5\n",
      "      4       33\n",
      "      5       51\n",
      "      6       17\n",
      "      24     124\n",
      "1     5        7\n",
      "      24       8\n",
      "Name: RAD, dtype: int64\n"
     ]
    }
   ],
   "source": [
    "# CHAS, RAD 칼럼 순으로 그룹을 짓고, 그룹 안에 속한 RAD 칼럼 값을 센 변수 만들기\n",
    "data_new2 = data_new.groupby(['CHAS','RAD'])['RAD'].count()\n",
    "\n",
    "# data_new2 변수의 결과 확인하기\n",
    "print(data_new2)"
   ]
  },
  {
   "cell_type": "code",
   "execution_count": 21,
   "id": "8bce6736",
   "metadata": {},
   "outputs": [
    {
     "name": "stdout",
     "output_type": "stream",
     "text": [
      "<class 'pandas.core.series.Series'>\n",
      "          COUNT\n",
      "CHAS RAD       \n",
      "0    1        3\n",
      "     2        2\n",
      "     3        5\n",
      "     4       33\n",
      "     5       51\n",
      "     6       17\n",
      "     24     124\n",
      "1    5        7\n",
      "     24       8\n"
     ]
    }
   ],
   "source": [
    "# data_new2 변수의 데이터타입 확인하기\n",
    "print(type(data_new2))\n",
    "# data_new2 변수를 데이터프레임 타입으로 변경하고, data_new3 변수에 저장하기\n",
    "data_new3 = pd.DataFrame(data_new2)\n",
    "# data_new3 변수에서 카운트 연산을 수행한 결과 컬럼 이름은 COUNT로 설정하기\n",
    "data_new3.columns = ['COUNT']\n",
    "# 최종 제출 가능한 data_new3 값을 확인하기\n",
    "print(data_new3)"
   ]
  },
  {
   "cell_type": "code",
   "execution_count": 23,
   "id": "2b15893e",
   "metadata": {},
   "outputs": [
    {
     "name": "stdout",
     "output_type": "stream",
     "text": [
      "          COUNT\n",
      "CHAS RAD       \n",
      "0    1        3\n",
      "     2        2\n",
      "     3        5\n",
      "     4       33\n",
      "     5       51\n",
      "     6       17\n",
      "     24     124\n",
      "1    5        7\n",
      "     24       8\n"
     ]
    }
   ],
   "source": [
    "# 최종 정리\n",
    "import pandas as pd\n",
    "data = pd.read_csv('bigData-main/boston.csv')\n",
    "tax_median = data['TAX'].median()\n",
    "data[data['TAX'] > tax_median]\n",
    "data_new = data[data['TAX'] > tax_median][['CHAS', 'RAD']]\n",
    "data_new2 = data_new.groupby(['CHAS', 'RAD'])['RAD'].count()\n",
    "data_new3 = pd.DataFrame(data_new2)\n",
    "data_new3.columns = ['COUNT']\n",
    "print(data_new3)"
   ]
  },
  {
   "cell_type": "markdown",
   "id": "cd3e203c",
   "metadata": {},
   "source": [
    "### 2.2 오름차순/내림차순 정렬하기\n",
    "boston 데이터 세트의 TAX 칼럼을 오름차순으로 정렬한 결과와 내림차순으로 정렬한 결과를 각각 구한다. 그리고 각 순번에 맞는 오름차순 값과 내림차순 값의 차이를 구하여 분산 값을 출력하시오."
   ]
  },
  {
   "cell_type": "code",
   "execution_count": 28,
   "id": "06d6568b",
   "metadata": {},
   "outputs": [],
   "source": [
    "import pandas as pd\n",
    "data = pd.read_csv('bigData-main/boston.csv')"
   ]
  },
  {
   "cell_type": "code",
   "execution_count": 29,
   "id": "9cf91db8",
   "metadata": {},
   "outputs": [],
   "source": [
    "# TAX 칼럼을 추출하여 data_asc 변수에 저장하기\n",
    "data_asc = data['TAX'].copy()\n",
    "# TAX 칼럼을 추출하여 data_desc 변수에 저장하기\n",
    "data_desc = data['TAX'].copy()"
   ]
  },
  {
   "cell_type": "code",
   "execution_count": 30,
   "id": "d0a1167f",
   "metadata": {},
   "outputs": [
    {
     "name": "stdout",
     "output_type": "stream",
     "text": [
      "353    187\n",
      "123    188\n",
      "122    188\n",
      "126    188\n",
      "125    188\n",
      "      ... \n",
      "492    711\n",
      "491    711\n",
      "490    711\n",
      "489    711\n",
      "488    711\n",
      "Name: TAX, Length: 506, dtype: int64\n"
     ]
    }
   ],
   "source": [
    "# data_asc 변수를 오름차순으로 정렬하기\n",
    "print(data_asc.sort_values(ascending=True))"
   ]
  },
  {
   "cell_type": "code",
   "execution_count": 31,
   "id": "66d62da7",
   "metadata": {},
   "outputs": [
    {
     "name": "stdout",
     "output_type": "stream",
     "text": [
      "353    187\n",
      "123    188\n",
      "122    188\n",
      "126    188\n",
      "125    188\n",
      "      ... \n",
      "492    711\n",
      "491    711\n",
      "490    711\n",
      "489    711\n",
      "488    711\n",
      "Name: TAX, Length: 506, dtype: int64\n"
     ]
    }
   ],
   "source": [
    "# data_asc 변수를 오름차순으로 정렬하고, 정렬된 데이터를 data_asc 변수에 저장하기\n",
    "data_asc.sort_values(inplace=True)\n",
    "# data_asc 변수를 확인하기\n",
    "print(data_asc)"
   ]
  },
  {
   "cell_type": "code",
   "execution_count": 32,
   "id": "310b43a9",
   "metadata": {},
   "outputs": [
    {
     "name": "stdout",
     "output_type": "stream",
     "text": [
      "492    711\n",
      "491    711\n",
      "490    711\n",
      "489    711\n",
      "488    711\n",
      "      ... \n",
      "121    188\n",
      "120    188\n",
      "125    188\n",
      "124    188\n",
      "353    187\n",
      "Name: TAX, Length: 506, dtype: int64\n"
     ]
    }
   ],
   "source": [
    "# data_desc 변수를 내림차순으로 정렬하기\n",
    "print(data_desc.sort_values(ascending=False))"
   ]
  },
  {
   "cell_type": "code",
   "execution_count": 33,
   "id": "f988aeca",
   "metadata": {},
   "outputs": [
    {
     "name": "stdout",
     "output_type": "stream",
     "text": [
      "492    711\n",
      "491    711\n",
      "490    711\n",
      "489    711\n",
      "488    711\n",
      "      ... \n",
      "121    188\n",
      "120    188\n",
      "125    188\n",
      "124    188\n",
      "353    187\n",
      "Name: TAX, Length: 506, dtype: int64\n"
     ]
    }
   ],
   "source": [
    "# data_desc 변수를 내림차순으로 정렬하고, 정렬된 데이터를 data_desc 변수에 저장하기\n",
    "data_desc.sort_values(ascending=False, inplace=True)\n",
    "# data_desc 변수를 확인하기\n",
    "print(data_desc)"
   ]
  },
  {
   "cell_type": "code",
   "execution_count": 35,
   "id": "b77b8a23",
   "metadata": {},
   "outputs": [
    {
     "name": "stdout",
     "output_type": "stream",
     "text": [
      "0      187\n",
      "1      188\n",
      "2      188\n",
      "3      188\n",
      "4      188\n",
      "      ... \n",
      "501    711\n",
      "502    711\n",
      "503    711\n",
      "504    711\n",
      "505    711\n",
      "Name: TAX, Length: 506, dtype: int64\n"
     ]
    }
   ],
   "source": [
    "# data_asc 변수의 인덱스를 재설정하기\n",
    "data_asc.reset_index(drop=True, inplace=True)\n",
    "\n",
    "# data_asc 변수를 확인하기\n",
    "print(data_asc)\n",
    "# data_desc 변수의 인덱스를 재설정하기\n",
    "data_desc.reset_index(drop=True, inplace=True)"
   ]
  },
  {
   "cell_type": "code",
   "execution_count": 36,
   "id": "3dd599bb",
   "metadata": {},
   "outputs": [
    {
     "name": "stdout",
     "output_type": "stream",
     "text": [
      "     TAX  TAX\n",
      "0    187  711\n",
      "1    188  711\n",
      "2    188  711\n",
      "3    188  711\n",
      "4    188  711\n",
      "..   ...  ...\n",
      "501  711  188\n",
      "502  711  188\n",
      "503  711  188\n",
      "504  711  188\n",
      "505  711  187\n",
      "\n",
      "[506 rows x 2 columns]\n"
     ]
    }
   ],
   "source": [
    "# data_asc, data_desc 변수를 칼럼 기준으로 통합한 후, data_concat 변수에 저장하기\n",
    "data_concat = pd.concat([data_asc, data_desc], axis=1)\n",
    "# data_concat 변수 확인하기\n",
    "print(data_concat)"
   ]
  },
  {
   "cell_type": "code",
   "execution_count": 37,
   "id": "a8011c01",
   "metadata": {},
   "outputs": [
    {
     "name": "stdout",
     "output_type": "stream",
     "text": [
      "0      187\n",
      "1      188\n",
      "2      188\n",
      "3      188\n",
      "4      188\n",
      "      ... \n",
      "501    711\n",
      "502    711\n",
      "503    711\n",
      "504    711\n",
      "505    711\n",
      "Name: TAX, Length: 506, dtype: int64\n"
     ]
    }
   ],
   "source": [
    "# data_concat 변수에서 첫번째 칼럼을 추출하기\n",
    "print(data_concat.iloc[:, 0])"
   ]
  },
  {
   "cell_type": "code",
   "execution_count": 38,
   "id": "abc5571f",
   "metadata": {},
   "outputs": [
    {
     "name": "stdout",
     "output_type": "stream",
     "text": [
      "0      711\n",
      "1      711\n",
      "2      711\n",
      "3      711\n",
      "4      711\n",
      "      ... \n",
      "501    188\n",
      "502    188\n",
      "503    188\n",
      "504    188\n",
      "505    187\n",
      "Name: TAX, Length: 506, dtype: int64\n"
     ]
    }
   ],
   "source": [
    "# data_concat 변수에서 두번째 칼럼을 추출하기\n",
    "print(data_concat.iloc[:, 1])"
   ]
  },
  {
   "cell_type": "code",
   "execution_count": 39,
   "id": "269a6433",
   "metadata": {},
   "outputs": [
    {
     "name": "stdout",
     "output_type": "stream",
     "text": [
      "     TAX  TAX  diff\n",
      "0    187  711   524\n",
      "1    188  711   523\n",
      "2    188  711   523\n",
      "3    188  711   523\n",
      "4    188  711   523\n",
      "..   ...  ...   ...\n",
      "501  711  188   523\n",
      "502  711  188   523\n",
      "503  711  188   523\n",
      "504  711  188   523\n",
      "505  711  187   524\n",
      "\n",
      "[506 rows x 3 columns]\n"
     ]
    }
   ],
   "source": [
    "# (첫번째 칼럼- 두번째 칼럼)에 절댓값을 취한 후, data_concat 변수의 diff에 저장하기\n",
    "data_concat['diff'] = abs(data_concat.iloc[:,0] - data_concat.iloc[:,1])\n",
    "# diff 칼럼이 추가된 data_concat 변수 확인하기\n",
    "print(data_concat)"
   ]
  },
  {
   "cell_type": "code",
   "execution_count": 40,
   "id": "719edd9d",
   "metadata": {},
   "outputs": [
    {
     "name": "stdout",
     "output_type": "stream",
     "text": [
      "28490.5986459515\n"
     ]
    }
   ],
   "source": [
    "# diff 칼럼의 분산 구하기\n",
    "print(data_concat['diff'].var())"
   ]
  },
  {
   "cell_type": "code",
   "execution_count": 42,
   "id": "f5d9c83d",
   "metadata": {},
   "outputs": [
    {
     "name": "stdout",
     "output_type": "stream",
     "text": [
      "28490.5986459515\n"
     ]
    }
   ],
   "source": [
    "# 정리 \n",
    "import pandas as pd \n",
    "data = pd.read_csv('bigData-main/boston.csv')\n",
    "data_asc = data['TAX'].copy()\n",
    "data_desc = data['TAX'].copy()\n",
    "data_asc.sort_values(ascending=True, inplace=True)\n",
    "data_desc.sort_values(ascending=False, inplace=True)\n",
    "data_asc.reset_index(drop=True, inplace=True)\n",
    "data_desc.reset_index(drop=True, inplace=True)\n",
    "data_concat = pd.concat([data_asc, data_desc], axis=1)\n",
    "data_concat['diff'] = abs(data_concat.iloc[:, 0] - data_concat.iloc[:, 1])\n",
    "print(data_concat['diff'].var())"
   ]
  },
  {
   "cell_type": "markdown",
   "id": "99ab3e00",
   "metadata": {},
   "source": [
    "### 2.3 최소 최대 변환하기(MinMaxScaler)\n",
    "boston 데이터 세트의 MEDV 칼럼을 최소최대 척도(MinMaxScale)로 변환한 후 0.5보다 큰 값을 가지는 레코드 수를 구하시오."
   ]
  },
  {
   "cell_type": "code",
   "execution_count": 51,
   "id": "b93662d0",
   "metadata": {},
   "outputs": [],
   "source": [
    "import pandas as pd\n",
    "data = pd.read_csv('bigData-main/boston.csv')\n",
    "# sklearn 라이브러리의 preprocessing 모듈에서 MinMaxScaler 함수를 가져오기\n",
    "from sklearn.preprocessing import MinMaxScaler"
   ]
  },
  {
   "cell_type": "code",
   "execution_count": 52,
   "id": "651b7582",
   "metadata": {},
   "outputs": [],
   "source": [
    "# MinMaxScaler() 함수를 수행할 빈 박스 생성하기\n",
    "scaler = MinMaxScaler()\n",
    "# 최소 최대 척도로 변환하기\n",
    "data_minmax = scaler.fit_transform(data)"
   ]
  },
  {
   "cell_type": "code",
   "execution_count": 53,
   "id": "4692e093",
   "metadata": {},
   "outputs": [
    {
     "name": "stdout",
     "output_type": "stream",
     "text": [
      "<class 'numpy.ndarray'>\n"
     ]
    }
   ],
   "source": [
    "# data_minmax 변수의 데이터 타입 확인하기\n",
    "print(type(data_minmax))"
   ]
  },
  {
   "cell_type": "code",
   "execution_count": 54,
   "id": "065b4b51",
   "metadata": {},
   "outputs": [
    {
     "name": "stdout",
     "output_type": "stream",
     "text": [
      "       CRIM    ZN     INDUS  CHAS       NOX        RM       AGE       DIS  \\\n",
      "0  0.000000  0.18  0.067815   0.0  0.314815  0.577505  0.641607  0.269203   \n",
      "1  0.000236  0.00  0.242302   0.0  0.172840  0.547998  0.782698  0.348962   \n",
      "2  0.000236  0.00  0.242302   0.0  0.172840  0.694386  0.599382  0.348962   \n",
      "\n",
      "        RAD       TAX   PTRATIO         B     LSTAT      MEDV  \n",
      "0  0.000000  0.208015  0.287234  1.000000  0.089680  0.422222  \n",
      "1  0.043478  0.104962  0.553191  1.000000  0.204470  0.368889  \n",
      "2  0.043478  0.104962  0.553191  0.989737  0.063466  0.660000  \n"
     ]
    }
   ],
   "source": [
    "# data_minmax 변수를 데이터프레임으로 변환하기\n",
    "data_minmax = pd.DataFrame(data_minmax, columns=data.columns)\n",
    "# data_minmax 변수의 상위 3개 행을 출력하기\n",
    "print(data_minmax.head(3))"
   ]
  },
  {
   "cell_type": "code",
   "execution_count": 55,
   "id": "f8fff46a",
   "metadata": {},
   "outputs": [
    {
     "name": "stdout",
     "output_type": "stream",
     "text": [
      "count    506.000000\n",
      "mean       0.389618\n",
      "std        0.204380\n",
      "min        0.000000\n",
      "25%        0.267222\n",
      "50%        0.360000\n",
      "75%        0.444444\n",
      "max        1.000000\n",
      "Name: MEDV, dtype: float64\n"
     ]
    }
   ],
   "source": [
    "# data_minmax 변수의 MEDV 칼럼에 대한 기초통계량 구하기\n",
    "print(data_minmax['MEDV'].describe())"
   ]
  },
  {
   "cell_type": "code",
   "execution_count": 56,
   "id": "ed9b758c",
   "metadata": {},
   "outputs": [
    {
     "name": "stdout",
     "output_type": "stream",
     "text": [
      "0      False\n",
      "1      False\n",
      "2       True\n",
      "3       True\n",
      "4       True\n",
      "       ...  \n",
      "501    False\n",
      "502    False\n",
      "503    False\n",
      "504    False\n",
      "505    False\n",
      "Name: MEDV, Length: 506, dtype: bool\n"
     ]
    }
   ],
   "source": [
    "# MEDV 칼럼의 값이 0.5보다 큰지를 확인하기\n",
    "print(data_minmax['MEDV'] > 0.5)"
   ]
  },
  {
   "cell_type": "code",
   "execution_count": 57,
   "id": "83cbc3a6",
   "metadata": {},
   "outputs": [
    {
     "name": "stdout",
     "output_type": "stream",
     "text": [
      "         CRIM    ZN     INDUS  CHAS       NOX        RM       AGE       DIS  \\\n",
      "2    0.000236  0.00  0.242302   0.0  0.172840  0.694386  0.599382  0.348962   \n",
      "3    0.000293  0.00  0.063050   0.0  0.150206  0.658555  0.441813  0.448545   \n",
      "4    0.000705  0.00  0.063050   0.0  0.150206  0.687105  0.528321  0.448545   \n",
      "5    0.000264  0.00  0.063050   0.0  0.150206  0.549722  0.574665  0.448545   \n",
      "39   0.000240  0.75  0.091276   0.0  0.088477  0.581337  0.194645  0.388428   \n",
      "..        ...   ...       ...   ...       ...       ...       ...       ...   \n",
      "370  0.073423  0.00  0.646628   1.0  0.506173  0.662004  0.974253  0.006620   \n",
      "371  0.103698  0.00  0.646628   0.0  0.506173  0.508718  1.000000  0.003592   \n",
      "372  0.092851  0.00  0.646628   1.0  0.582305  0.443380  0.892894  0.000000   \n",
      "407  0.134256  0.00  0.646628   0.0  0.563786  0.392221  1.000000  0.014149   \n",
      "473  0.052159  0.00  0.646628   0.0  0.471193  0.655106  0.666323  0.127609   \n",
      "\n",
      "          RAD       TAX   PTRATIO         B     LSTAT      MEDV  \n",
      "2    0.043478  0.104962  0.553191  0.989737  0.063466  0.660000  \n",
      "3    0.086957  0.066794  0.648936  0.994276  0.033389  0.631111  \n",
      "4    0.086957  0.066794  0.648936  1.000000  0.099338  0.693333  \n",
      "5    0.086957  0.066794  0.648936  0.992990  0.096026  0.526667  \n",
      "39   0.086957  0.124046  0.606383  0.996798  0.071468  0.573333  \n",
      "..        ...       ...       ...       ...       ...       ...  \n",
      "370  1.000000  0.914122  0.808511  0.987770  0.033940  1.000000  \n",
      "371  1.000000  0.914122  0.808511  0.922462  0.215232  1.000000  \n",
      "372  1.000000  0.914122  0.808511  0.876393  0.197296  1.000000  \n",
      "407  1.000000  0.914122  0.808511  0.836578  0.286976  0.508889  \n",
      "473  1.000000  0.914122  0.808511  0.943971  0.274007  0.551111  \n",
      "\n",
      "[106 rows x 14 columns]\n"
     ]
    }
   ],
   "source": [
    "# data_minmax 변수의 MEDV 칼럼에서 0.5를 초과하는 전체 값을 출력하기\n",
    "print(data_minmax[data_minmax['MEDV'] > 0.5])"
   ]
  },
  {
   "cell_type": "code",
   "execution_count": 58,
   "id": "8cbaeed1",
   "metadata": {},
   "outputs": [
    {
     "name": "stdout",
     "output_type": "stream",
     "text": [
      "2      0.660000\n",
      "3      0.631111\n",
      "4      0.693333\n",
      "5      0.526667\n",
      "39     0.573333\n",
      "         ...   \n",
      "370    1.000000\n",
      "371    1.000000\n",
      "372    1.000000\n",
      "407    0.508889\n",
      "473    0.551111\n",
      "Name: MEDV, Length: 106, dtype: float64\n",
      "106\n"
     ]
    }
   ],
   "source": [
    "# data_minmax 변수의 MEDV 칼럼에서 0.5를 초과하는 MEDV 값만 출력하기\n",
    "print(data_minmax[data_minmax['MEDV'] > 0.5]['MEDV'])\n",
    "\n",
    "# data_minmax 변수의 MEDV 칼럼에서 0.5를 초과하는 MEDV 값의 개수 세기\n",
    "print(data_minmax[data_minmax['MEDV'] > 0.5]['MEDV'].count())"
   ]
  },
  {
   "cell_type": "code",
   "execution_count": 59,
   "id": "c79b8748",
   "metadata": {},
   "outputs": [
    {
     "name": "stdout",
     "output_type": "stream",
     "text": [
      "106\n"
     ]
    }
   ],
   "source": [
    "import pandas as pd\n",
    "from sklearn.preprocessing import MinMaxScaler\n",
    "data = pd.read_csv('bigData-main/boston.csv')\n",
    "scaler = MinMaxScaler()\n",
    "data_minmax = scaler.fit_transform(data)\n",
    "data_minmax = pd.DataFrame(data_minmax, columns = data.columns)\n",
    "print(data_minmax[data_minmax['MEDV'] > 0.5]['MEDV'].count())\n"
   ]
  },
  {
   "cell_type": "markdown",
   "id": "6b148091",
   "metadata": {},
   "source": [
    "### 2.4 빈도값 구하기\n",
    "boston 데이터 세트의 AGE 칼럼을 소수점 첫번째 자리에서 반올림하고, 가장 많은 비중을 차지하는 AGE 값과 그 개수를 차례대로 출력하시오. 즉, AGE 칼럼의 최빈값과 그 개수를 출력하시오."
   ]
  },
  {
   "cell_type": "code",
   "execution_count": 82,
   "id": "dfb1a295",
   "metadata": {},
   "outputs": [],
   "source": [
    "import pandas as pd\n",
    "data = pd.read_csv('bigData-main/boston.csv')"
   ]
  },
  {
   "cell_type": "code",
   "execution_count": 83,
   "id": "d4fe66bc",
   "metadata": {},
   "outputs": [
    {
     "name": "stdout",
     "output_type": "stream",
     "text": [
      "0      65.2\n",
      "1      78.9\n",
      "2      61.1\n",
      "3      45.8\n",
      "4      54.2\n",
      "       ... \n",
      "501    69.1\n",
      "502    76.7\n",
      "503    91.0\n",
      "504    89.3\n",
      "505    80.8\n",
      "Name: AGE, Length: 506, dtype: float64\n"
     ]
    }
   ],
   "source": [
    "# data 변수의 AGE 칼럼 확인하기\n",
    "print(data['AGE'])"
   ]
  },
  {
   "cell_type": "code",
   "execution_count": 84,
   "id": "25e99ac3",
   "metadata": {},
   "outputs": [
    {
     "name": "stdout",
     "output_type": "stream",
     "text": [
      "0      65.0\n",
      "1      79.0\n",
      "2      61.0\n",
      "3      46.0\n",
      "4      54.0\n",
      "       ... \n",
      "501    69.0\n",
      "502    77.0\n",
      "503    91.0\n",
      "504    89.0\n",
      "505    81.0\n",
      "Name: AGE, Length: 506, dtype: float64\n"
     ]
    }
   ],
   "source": [
    "# data 변수의 AGE 칼럼을 반올림해서 일의 자리로 만들기\n",
    "print(round(data['AGE'], 0))\n",
    "# 반올림한 값들을 data2 변수에 저장하기\n",
    "data2 = round(data['AGE'], 0)"
   ]
  },
  {
   "cell_type": "code",
   "execution_count": 97,
   "id": "63ef2193",
   "metadata": {},
   "outputs": [
    {
     "name": "stdout",
     "output_type": "stream",
     "text": [
      "AGE\n",
      "3.0       1\n",
      "6.0       3\n",
      "7.0       3\n",
      "8.0       3\n",
      "9.0       1\n",
      "         ..\n",
      "96.0     15\n",
      "97.0     17\n",
      "98.0     19\n",
      "99.0     10\n",
      "100.0    43\n",
      "Name: AGE, Length: 91, dtype: int64\n"
     ]
    }
   ],
   "source": [
    "# 시리즈인 data2 변수를 데이터프레임으로 변환하여 data2에 다시 저장하기\n",
    "data2 = pd.DataFrame(data2)\n",
    "\n",
    "# data2 변수에서 AGE 칼럼으로 그룹화하고, 그룹별 AGE 칼럼의 개수 세기\n",
    "print(data2.groupby(['AGE'])['AGE'].count())"
   ]
  },
  {
   "cell_type": "code",
   "execution_count": 98,
   "id": "1e480561",
   "metadata": {},
   "outputs": [
    {
     "name": "stdout",
     "output_type": "stream",
     "text": [
      "AGE\n",
      "3.0       1\n",
      "6.0       3\n",
      "7.0       3\n",
      "8.0       3\n",
      "9.0       1\n",
      "         ..\n",
      "96.0     15\n",
      "97.0     17\n",
      "98.0     19\n",
      "99.0     10\n",
      "100.0    43\n",
      "Name: AGE, Length: 91, dtype: int64\n"
     ]
    }
   ],
   "source": [
    "# 그룹화 결과를 data3 변수에 저장하기\n",
    "data3 = data2.groupby(['AGE'])['AGE'].count()\n",
    "\n",
    "# data3 변수 확인하기\n",
    "print(data3)"
   ]
  },
  {
   "cell_type": "code",
   "execution_count": 99,
   "id": "f442fb34",
   "metadata": {},
   "outputs": [
    {
     "name": "stdout",
     "output_type": "stream",
     "text": [
      "<class 'pandas.core.series.Series'>\n",
      "<class 'pandas.core.frame.DataFrame'>\n"
     ]
    }
   ],
   "source": [
    "# data3 변수의 데이터 타입 확인하기\n",
    "print(type(data3))\n",
    "# data3 변수를 데이터프레임 타입으로 변환하기\n",
    "data3 = pd.DataFrame(data3)\n",
    "# data3 변수의 데이터타입 확인하기\n",
    "print(type(data3))"
   ]
  },
  {
   "cell_type": "code",
   "execution_count": 100,
   "id": "21562336",
   "metadata": {},
   "outputs": [
    {
     "name": "stdout",
     "output_type": "stream",
     "text": [
      "Index(['AGE'], dtype='object')\n",
      "     COUNT\n",
      "AGE       \n",
      "3.0      1\n",
      "6.0      3\n",
      "7.0      3\n"
     ]
    }
   ],
   "source": [
    "# data3 변수의 칼럼 이름 확인하기\n",
    "print(data3.columns)\n",
    "# data3 변수의 유일한 칼럼은 COUNT로 설정하기\n",
    "data3.columns = ['COUNT']\n",
    "# data3 변수의 상위 3개 데이터 확인하기\n",
    "print(data3.head(3))"
   ]
  },
  {
   "cell_type": "code",
   "execution_count": 101,
   "id": "681ba656",
   "metadata": {},
   "outputs": [
    {
     "name": "stdout",
     "output_type": "stream",
     "text": [
      "   AGE  COUNT\n",
      "0  3.0      1\n",
      "1  6.0      3\n",
      "2  7.0      3\n"
     ]
    }
   ],
   "source": [
    "# data3 변수의 기존 인덱스는 칼럼으로 사용하고, 일련번호를 새로운 인덱스로 저장하기\n",
    "data3.reset_index(drop=False, inplace=True)\n",
    "# data3 변수의 상위 3개 데이터 확인하기\n",
    "print(data3.head(3))"
   ]
  },
  {
   "cell_type": "code",
   "execution_count": 102,
   "id": "40d8cc49",
   "metadata": {},
   "outputs": [
    {
     "name": "stdout",
     "output_type": "stream",
     "text": [
      "      AGE  COUNT\n",
      "90  100.0     43\n",
      "88   98.0     19\n",
      "87   97.0     17\n"
     ]
    }
   ],
   "source": [
    "# data3 변수의 COUNT 칼럼 기준으로 내림차순 정렬하기\n",
    "data3.sort_values(by='COUNT', ascending=False, inplace=True)\n",
    "# data3 변수의 상위 3개 데이터 확인하기\n",
    "print(data3.head(3))"
   ]
  },
  {
   "cell_type": "code",
   "execution_count": 103,
   "id": "41d5f845",
   "metadata": {},
   "outputs": [
    {
     "name": "stdout",
     "output_type": "stream",
     "text": [
      "100.0 43\n"
     ]
    }
   ],
   "source": [
    "# data3 변수의 AGE 칼럼에서 최빈값과 그 개수를 출력하기\n",
    "print(data3.iloc[0, 0], data3.iloc[0, 1])"
   ]
  },
  {
   "cell_type": "code",
   "execution_count": 104,
   "id": "51956adc",
   "metadata": {},
   "outputs": [
    {
     "name": "stdout",
     "output_type": "stream",
     "text": [
      "0      65.2\n",
      "1      78.9\n",
      "2      61.1\n",
      "3      45.8\n",
      "4      54.2\n",
      "       ... \n",
      "501    69.1\n",
      "502    76.7\n",
      "503    91.0\n",
      "504    89.3\n",
      "505    80.8\n",
      "Name: AGE, Length: 506, dtype: float64\n",
      "0      65.0\n",
      "1      79.0\n",
      "2      61.0\n",
      "3      46.0\n",
      "4      54.0\n",
      "       ... \n",
      "501    69.0\n",
      "502    77.0\n",
      "503    91.0\n",
      "504    89.0\n",
      "505    81.0\n",
      "Name: AGE, Length: 506, dtype: float64\n"
     ]
    }
   ],
   "source": [
    "# 두번째 방법\n",
    "import pandas as pd\n",
    "data = pd.read_csv('bigData-main/boston.csv')\n",
    "# data 변수의 AGE 칼럼 확인하기\n",
    "print(data['AGE'])\n",
    "# data 변수의 AGE 칼럼을 반올림해서 일의 자리로 만들기\n",
    "print(round(data['AGE'], 0))\n",
    "# 반올림한 값들을 data2 변수에 저장하기\n",
    "data2 = round(data['AGE'], 0)"
   ]
  },
  {
   "cell_type": "code",
   "execution_count": 105,
   "id": "464742ea",
   "metadata": {},
   "outputs": [],
   "source": [
    "# scipy 라이브러리의 stats 모듈에서 mode 함수 가져오기\n",
    "from scipy.stats import mode"
   ]
  },
  {
   "cell_type": "code",
   "execution_count": 106,
   "id": "9528901d",
   "metadata": {},
   "outputs": [
    {
     "name": "stdout",
     "output_type": "stream",
     "text": [
      "ModeResult(mode=array([100.]), count=array([43]))\n"
     ]
    }
   ],
   "source": [
    "# data2 변수의 최빈값과 개수 구하기\n",
    "print(mode(data2))"
   ]
  },
  {
   "cell_type": "code",
   "execution_count": 107,
   "id": "776be558",
   "metadata": {},
   "outputs": [
    {
     "name": "stdout",
     "output_type": "stream",
     "text": [
      "[100.]\n",
      "[43]\n"
     ]
    }
   ],
   "source": [
    "# data2 변수의 최빈값만 추출하기\n",
    "print(mode(data2)[0])\n",
    "# data2 변수의 최빈값 개수만 추출하기\n",
    "print(mode(data2)[1])"
   ]
  },
  {
   "cell_type": "code",
   "execution_count": 108,
   "id": "3718c6b7",
   "metadata": {},
   "outputs": [
    {
     "name": "stdout",
     "output_type": "stream",
     "text": [
      "100\n",
      "43\n"
     ]
    }
   ],
   "source": [
    "# 최빈값을 정수형으로 변환하기\n",
    "print(int(mode(data2)[0]))\n",
    "# 최빈값 개수를 정수형으로 변환하기\n",
    "print(int(mode(data2)[1]))"
   ]
  },
  {
   "cell_type": "code",
   "execution_count": 109,
   "id": "b4223bdf",
   "metadata": {},
   "outputs": [
    {
     "name": "stdout",
     "output_type": "stream",
     "text": [
      "100 43\n"
     ]
    }
   ],
   "source": [
    "# 각 코드를 통합하여 최종 출력하기\n",
    "print(int(mode(data2)[0]), int(mode(data2)[1]))"
   ]
  },
  {
   "cell_type": "code",
   "execution_count": 110,
   "id": "ec6db827",
   "metadata": {},
   "outputs": [
    {
     "name": "stdout",
     "output_type": "stream",
     "text": [
      "100 43\n"
     ]
    }
   ],
   "source": [
    "import pandas as pd\n",
    "data = pd.read_csv('bigData-main/boston.csv')\n",
    "from scipy.stats import mode\n",
    "print(int(mode(round(data['AGE'], 0))[0]), int(mode(round(data['AGE'], 0))[1]))"
   ]
  },
  {
   "cell_type": "markdown",
   "id": "51ebcd61",
   "metadata": {},
   "source": [
    "### 2.5 표준 변환하기\n",
    "boston 데이터 세트(boston.csv)의 DIS 칼럼을 표준화 척도(Standard Scale)로 변환한 후, 0.4보다 크면서 0.6보다 작은 값들에 대한 평균을 구하시오. 단, 소수점 셋째 자리에서 반올림하여 소수점 둘째 자리까지 출력하시오"
   ]
  },
  {
   "cell_type": "code",
   "execution_count": 128,
   "id": "3fb1fb97",
   "metadata": {},
   "outputs": [],
   "source": [
    "import pandas as pd\n",
    "data = pd.read_csv('bigData-main/boston.csv')\n",
    "# sklearn 라이브러리의 preprocessing 모듈에서 StandardScaler 함수를 가져오기\n",
    "from sklearn.preprocessing import StandardScaler"
   ]
  },
  {
   "cell_type": "code",
   "execution_count": 129,
   "id": "4e2ce5e7",
   "metadata": {},
   "outputs": [
    {
     "name": "stdout",
     "output_type": "stream",
     "text": [
      "<class 'numpy.ndarray'>\n"
     ]
    }
   ],
   "source": [
    "# StandardScaler 함수를 수행할 빈 박스 생성하기\n",
    "scaler = StandardScaler()\n",
    "# 표준화 척도로 변환하기\n",
    "data_stdd = scaler.fit_transform(data)\n",
    "# data_stdd 변수의 데이터 타입 확인하기\n",
    "print(type(data_stdd))"
   ]
  },
  {
   "cell_type": "code",
   "execution_count": 130,
   "id": "51569ea5",
   "metadata": {},
   "outputs": [],
   "source": [
    "# data_stdd 변수를 데이터 프레임으로 변환하기\n",
    "data_stdd = pd.DataFrame(data_stdd, columns=data.columns)"
   ]
  },
  {
   "cell_type": "code",
   "execution_count": 131,
   "id": "950a6c55",
   "metadata": {},
   "outputs": [
    {
     "name": "stdout",
     "output_type": "stream",
     "text": [
      "0      False\n",
      "1       True\n",
      "2       True\n",
      "3      False\n",
      "4      False\n",
      "       ...  \n",
      "501    False\n",
      "502    False\n",
      "503    False\n",
      "504    False\n",
      "505    False\n",
      "Name: DIS, Length: 506, dtype: bool\n"
     ]
    }
   ],
   "source": [
    "# DIS 칼럼의 값이 0.4보다 크고, 0.6보다 작은지를 확인하기\n",
    "print((data_stdd['DIS'] > 0.4) & (data_stdd['DIS'] < 0.6))"
   ]
  },
  {
   "cell_type": "code",
   "execution_count": 132,
   "id": "92228ff6",
   "metadata": {},
   "outputs": [
    {
     "name": "stdout",
     "output_type": "stream",
     "text": [
      "         CRIM        ZN     INDUS      CHAS       NOX        RM       AGE  \\\n",
      "1   -0.417339 -0.487722 -0.593381 -0.272599 -0.740262  0.192116  0.367166   \n",
      "2   -0.417342 -0.487722 -0.593381 -0.272599 -0.740262  1.272167 -0.265812   \n",
      "13  -0.347230 -0.487722 -0.437258 -0.272599 -0.144217 -0.475140 -0.240919   \n",
      "26  -0.342325 -0.487722 -0.437258 -0.272599 -0.144217 -0.667400  0.772557   \n",
      "78  -0.413947 -0.487722  0.247057 -0.272599 -1.016689 -0.075069 -0.528960   \n",
      "84  -0.414630 -0.487722 -0.969827 -0.272599 -0.913029  0.146879 -0.731655   \n",
      "276 -0.408334  1.229060 -0.689681  3.668398 -0.930305  1.388089 -0.696095   \n",
      "277 -0.413387  1.229060 -0.689681  3.668398 -0.930305  0.764656 -1.457091   \n",
      "280 -0.416354  0.370669 -1.139082 -0.272599 -0.965723  2.169853 -0.144906   \n",
      "322 -0.379654 -0.487722 -0.548149 -0.272599 -0.532942 -0.345082 -0.664090   \n",
      "323 -0.387477 -0.487722 -0.548149 -0.272599 -0.532942 -0.815837  0.203588   \n",
      "324 -0.380824 -0.487722 -0.548149 -0.272599 -0.532942  0.183634 -1.012584   \n",
      "338 -0.416670 -0.487722 -0.867691 -0.272599 -0.342899 -0.319635 -1.112153   \n",
      "339 -0.414120 -0.487722 -0.867691 -0.272599 -0.342899 -0.424248 -0.824113   \n",
      "340 -0.413359 -0.487722 -0.867691 -0.272599 -0.342899 -0.448280 -0.358269   \n",
      "\n",
      "          DIS       RAD       TAX   PTRATIO         B     LSTAT      MEDV  \n",
      "1    0.557160 -0.867883 -0.987329 -0.303094  0.441052 -0.492439 -0.101524  \n",
      "2    0.557160 -0.867883 -0.987329 -0.303094  0.396427 -1.208727  1.324247  \n",
      "13   0.433754 -0.637962 -0.601276  1.176466  0.441052 -0.615792 -0.232129  \n",
      "26   0.421632 -0.637962 -0.601276  1.176466  0.221545  0.302346 -0.645712  \n",
      "78   0.579502 -0.523001 -0.060801  0.113032  0.325926 -0.043883 -0.145059  \n",
      "84   0.467933 -0.752922 -0.957633  0.020560  0.441052 -0.425156  0.148802  \n",
      "276  0.471641 -0.637962 -0.916058 -0.395567  0.357175 -0.925576  1.160990  \n",
      "277  0.507579 -0.637962 -0.916058 -0.395567  0.403225 -1.190505  1.150107  \n",
      "280  0.427669 -0.523001 -1.141751 -1.643945  0.335904 -1.246574  2.488808  \n",
      "322  0.440219 -0.523001 -0.720062  0.529158  0.441052 -0.694290 -0.232129  \n",
      "323  0.440219 -0.523001 -0.720062  0.529158  0.377788 -0.127988 -0.438920  \n",
      "324  0.440219 -0.523001 -0.720062  0.529158  0.441052 -0.915764  0.268523  \n",
      "338  0.483525 -0.523001 -1.094237  0.806576  0.432719 -0.580749 -0.210362  \n",
      "339  0.483525 -0.523001 -1.094237  0.806576  0.441052 -0.408335 -0.384502  \n",
      "340  0.483525 -0.523001 -1.094237  0.806576  0.441052 -0.471413 -0.417153  \n"
     ]
    }
   ],
   "source": [
    "# data_stdd 변수의 DIS 칼럼이 0.4~0.6 사이에 있는 전체 값을 출력하기\n",
    "print(data_stdd[(data_stdd['DIS'] > 0.4) & (data_stdd['DIS'] < 0.6)])"
   ]
  },
  {
   "cell_type": "code",
   "execution_count": 133,
   "id": "d2c9e363",
   "metadata": {},
   "outputs": [],
   "source": [
    "# 간소화 목적으로 앞의 결과 데이터를 data_stdd 변수에 다시 저장하기\n",
    "data_stdd = data_stdd[(data_stdd['DIS'] > 0.4) & (data_stdd['DIS'] < 0.6)]"
   ]
  },
  {
   "cell_type": "code",
   "execution_count": 134,
   "id": "d834d2d9",
   "metadata": {},
   "outputs": [
    {
     "name": "stdout",
     "output_type": "stream",
     "text": [
      "1      0.557160\n",
      "2      0.557160\n",
      "13     0.433754\n",
      "26     0.421632\n",
      "78     0.579502\n",
      "84     0.467933\n",
      "276    0.471641\n",
      "277    0.507579\n",
      "280    0.427669\n",
      "322    0.440219\n",
      "323    0.440219\n",
      "324    0.440219\n",
      "338    0.483525\n",
      "339    0.483525\n",
      "340    0.483525\n",
      "Name: DIS, dtype: float64\n"
     ]
    }
   ],
   "source": [
    "# data_stdd 변수의 DIS 칼럼만 추출하기 \n",
    "print(data_stdd['DIS'])"
   ]
  },
  {
   "cell_type": "code",
   "execution_count": 135,
   "id": "aa28076f",
   "metadata": {},
   "outputs": [
    {
     "name": "stdout",
     "output_type": "stream",
     "text": [
      "0.479684212855197\n",
      "0.48\n"
     ]
    }
   ],
   "source": [
    "# DIS 칼럼의 평균값 구하기\n",
    "print(data_stdd['DIS'].mean())\n",
    "# DIS 칼럼의 평균값을 소수점 셋째 자리에서 반올림하기\n",
    "print(round(data_stdd['DIS'].mean(), 2))"
   ]
  },
  {
   "cell_type": "code",
   "execution_count": 136,
   "id": "03fe14ce",
   "metadata": {},
   "outputs": [
    {
     "name": "stdout",
     "output_type": "stream",
     "text": [
      "0.48\n"
     ]
    }
   ],
   "source": [
    "import pandas as pd\n",
    "from sklearn.preprocessing import StandardScaler\n",
    "data = pd.read_csv('bigData-main/boston.csv')\n",
    "scaler = StandardScaler()\n",
    "data_stdd = scaler.fit_transform(data)\n",
    "data_stdd = pd.DataFrame(data_stdd, columns=data.columns)\n",
    "data_stdd = data_stdd[(data_stdd['DIS'] > 0.4) & (data_stdd['DIS'] < 0.6)]\n",
    "print(round(data_stdd['DIS'].mean(), 2))"
   ]
  },
  {
   "cell_type": "markdown",
   "id": "c7623a0d",
   "metadata": {},
   "source": [
    "### 2.6 유니크한 값 구하기\n",
    "boston 데이터 세트의 전체 칼럼에 대해서 중복을 제거한 유니크한 값을 구한 후, 칼럼별로 유니크한 값의 개수를 기준으로 평균값을 구하시오."
   ]
  },
  {
   "cell_type": "code",
   "execution_count": 139,
   "id": "191aa666",
   "metadata": {},
   "outputs": [
    {
     "name": "stdout",
     "output_type": "stream",
     "text": [
      "Index(['CRIM', 'ZN', 'INDUS', 'CHAS', 'NOX', 'RM', 'AGE', 'DIS', 'RAD', 'TAX',\n",
      "       'PTRATIO', 'B', 'LSTAT', 'MEDV'],\n",
      "      dtype='object')\n",
      "14\n"
     ]
    }
   ],
   "source": [
    "import pandas as pd\n",
    "data = pd.read_csv('bigData-main/boston.csv')\n",
    "# data 변수의 칼럼 목록 확인하기\n",
    "print(data.columns)\n",
    "# data 변수의 칼럼 목록을 data_col 변수에 저장하기\n",
    "data_col = data.columns\n",
    "# data_col 변수 안의 개수 구하기\n",
    "print(data_col.size)"
   ]
  },
  {
   "cell_type": "code",
   "execution_count": 140,
   "id": "39abfca3",
   "metadata": {},
   "outputs": [
    {
     "name": "stdout",
     "output_type": "stream",
     "text": [
      "[0 1]\n"
     ]
    }
   ],
   "source": [
    "# CHAS 칼럼에서 유일한 값들의 목록 확인하기\n",
    "print(data['CHAS'].unique())"
   ]
  },
  {
   "cell_type": "code",
   "execution_count": 141,
   "id": "688c72bf",
   "metadata": {},
   "outputs": [
    {
     "name": "stdout",
     "output_type": "stream",
     "text": [
      "   0\n",
      "0  0\n",
      "1  1\n",
      "0    2\n",
      "dtype: int64\n"
     ]
    }
   ],
   "source": [
    "# 데이터 프레임 타입으로 변환하기\n",
    "print(pd.DataFrame(data['CHAS'].unique()))\n",
    "# 결과 건수를 계산하기\n",
    "print(pd.DataFrame(data['CHAS'].unique()).count())"
   ]
  },
  {
   "cell_type": "code",
   "execution_count": 142,
   "id": "55b791d6",
   "metadata": {},
   "outputs": [
    {
     "name": "stdout",
     "output_type": "stream",
     "text": [
      "2\n"
     ]
    }
   ],
   "source": [
    "# CHAS 칼럼의 유니크한 값 개수를 정수형으로 변환해 출력하기\n",
    "print(int(pd.DataFrame(data['CHAS'].unique()).count()))"
   ]
  },
  {
   "cell_type": "code",
   "execution_count": 145,
   "id": "107ae73c",
   "metadata": {},
   "outputs": [
    {
     "name": "stdout",
     "output_type": "stream",
     "text": [
      "Index(['CRIM', 'ZN', 'INDUS', 'CHAS', 'NOX', 'RM', 'AGE', 'DIS', 'RAD', 'TAX',\n",
      "       'PTRATIO', 'B', 'LSTAT', 'MEDV'],\n",
      "      dtype='object')\n",
      "14\n"
     ]
    }
   ],
   "source": [
    "# 두번째 방법\n",
    "import pandas as pd\n",
    "data = pd.read_csv('bigData-main/boston.csv')\n",
    "# data 변수의 칼럼 목록 확인하기\n",
    "print(data.columns)\n",
    "# data 변수의 칼럼 목록을 data_col 변수에 저장하기\n",
    "data_col = data.columns\n",
    "# data_col 변수 안의 개수 구하기\n",
    "print(data_col.size)"
   ]
  },
  {
   "cell_type": "code",
   "execution_count": 146,
   "id": "39dbf944",
   "metadata": {},
   "outputs": [
    {
     "name": "stdout",
     "output_type": "stream",
     "text": [
      "3052\n"
     ]
    }
   ],
   "source": [
    "# 최초 합계는 0으로 설정하기\n",
    "sum = 0 \n",
    "# data 변수의 칼럼별로 유니크한 값 개수를 구한 후, sum 변수에 더하는 for문 만들기\n",
    "for 한개씩 in data_col:\n",
    "    sum = sum + int(pd.DataFrame(data[한개씩].unique()).count()[0])\n",
    "\n",
    "# sum 변수 확인하기\n",
    "print(sum)"
   ]
  },
  {
   "cell_type": "code",
   "execution_count": 147,
   "id": "4cd767f6",
   "metadata": {},
   "outputs": [
    {
     "name": "stdout",
     "output_type": "stream",
     "text": [
      "14\n",
      "218.0\n"
     ]
    }
   ],
   "source": [
    "# data_col 변수의 사이즈 확인하기\n",
    "print(data_col.size)\n",
    "# sum 변수의 data_col.size 값을 나누기\n",
    "print(sum / data_col.size)"
   ]
  },
  {
   "cell_type": "code",
   "execution_count": 150,
   "id": "84a88546",
   "metadata": {},
   "outputs": [
    {
     "name": "stdout",
     "output_type": "stream",
     "text": [
      "218.0\n"
     ]
    }
   ],
   "source": [
    "import pandas as pd \n",
    "data = pd.read_csv('bigData-main/boston.csv')\n",
    "data_col = data.columns\n",
    "sum = 0\n",
    "for 한개씩 in data_col : \n",
    "    sum = sum + int(pd.DataFrame(data[한개씩].unique()).count()[0])\n",
    "print(sum / data_col.size)"
   ]
  },
  {
   "cell_type": "code",
   "execution_count": null,
   "id": "a150320d",
   "metadata": {},
   "outputs": [],
   "source": []
  }
 ],
 "metadata": {
  "kernelspec": {
   "display_name": "Python 3 (ipykernel)",
   "language": "python",
   "name": "python3"
  },
  "language_info": {
   "codemirror_mode": {
    "name": "ipython",
    "version": 3
   },
   "file_extension": ".py",
   "mimetype": "text/x-python",
   "name": "python",
   "nbconvert_exporter": "python",
   "pygments_lexer": "ipython3",
   "version": "3.9.12"
  }
 },
 "nbformat": 4,
 "nbformat_minor": 5
}
