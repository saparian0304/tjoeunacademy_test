{
 "cells": [
  {
   "cell_type": "markdown",
   "id": "38c1977d",
   "metadata": {},
   "source": [
    "https://codro.notion.site/4-db5c33bae7f841e79e6f19a86534e7f7"
   ]
  },
  {
   "cell_type": "markdown",
   "id": "24728650",
   "metadata": {},
   "source": [
    "# 작업형 1유형"
   ]
  },
  {
   "cell_type": "code",
   "execution_count": null,
   "id": "3c0a90b3",
   "metadata": {},
   "outputs": [],
   "source": [
    "'''\n",
    "1. age 컬럼의 3사분위수와 1사분위수의 차를 절대값으로 구하고, 소수점 버려서, 정수로 출력\n",
    "'''"
   ]
  },
  {
   "cell_type": "code",
   "execution_count": 6,
   "id": "47186b15",
   "metadata": {},
   "outputs": [
    {
     "name": "stdout",
     "output_type": "stream",
     "text": [
      "50\n"
     ]
    }
   ],
   "source": [
    "import pandas as pd\n",
    "data = pd.read_csv('401_basic1.csv')\n",
    "print(int(abs(data['age'].quantile(0.75) - data['age'].quantile(0.25))))"
   ]
  },
  {
   "cell_type": "code",
   "execution_count": null,
   "id": "48dd1df3",
   "metadata": {},
   "outputs": [],
   "source": [
    "'''\n",
    "2. (loves반응+wows반응)/(reactions반응) 비율이 0.4보다 크고 0.5보다 작으면서, type 컬럼이 'video'인 데이터의 갯수\n",
    "'''"
   ]
  },
  {
   "cell_type": "code",
   "execution_count": 10,
   "id": "0ef003ab",
   "metadata": {},
   "outputs": [
    {
     "name": "stdout",
     "output_type": "stream",
     "text": [
      "90\n"
     ]
    }
   ],
   "source": [
    "import pandas as pd\n",
    "data = pd.read_csv('402_fb.csv')\n",
    "val =( data['loves'] + data['wows'] ) / data['reactions']\n",
    "print(len(data.loc[((val > 0.4) & (val < 0.5)) & (data['type'] == 'video')]))"
   ]
  },
  {
   "cell_type": "code",
   "execution_count": null,
   "id": "7f6afc1a",
   "metadata": {},
   "outputs": [],
   "source": [
    "'''\n",
    "3. date_added가 2018년 1월 이면서 country가 United Kingdom 단독 제작인 데이터의 갯수\n",
    "'''"
   ]
  },
  {
   "cell_type": "code",
   "execution_count": 117,
   "id": "da3f9bce",
   "metadata": {},
   "outputs": [
    {
     "name": "stdout",
     "output_type": "stream",
     "text": [
      "6\n"
     ]
    }
   ],
   "source": [
    "import pandas as pd\n",
    "import datetime\n",
    "data = pd.read_csv('403_nf.csv')\n",
    "data['date_added'] = pd.to_datetime(data['date_added'])\n",
    "data['year'] = data['date_added'].dt.year\n",
    "data['month'] = data['date_added'].dt.month\n",
    "print(len(data[(data['year']==2018) & (data['month'] == 1) & (data['country'] =='United Kingdom')]))"
   ]
  },
  {
   "cell_type": "markdown",
   "id": "c0bc65b3",
   "metadata": {},
   "source": [
    "# 작업형 2유형"
   ]
  },
  {
   "cell_type": "code",
   "execution_count": 1,
   "id": "707ea91b",
   "metadata": {
    "collapsed": true
   },
   "outputs": [
    {
     "data": {
      "text/plain": [
       "'\\n**[마케팅] 자동차 시장 세분화**\\n\\n- 자동차 회사는 새로운 전략을 수립하기 위해 4개의 시장으로 세분화했습니다.\\n- 기존 고객 분류 자료를 바탕으로 신규 고객이 어떤 분류에 속할지 예측해주세요!\\n- 예측할 값(y): \"Segmentation\" (1,2,3,4)\\n- 평가: Macro f1-score\\n- data: train.csv, test.csv\\n- 제출 형식: ID, Segmentation\\n'"
      ]
     },
     "execution_count": 1,
     "metadata": {},
     "output_type": "execute_result"
    }
   ],
   "source": [
    "'''\n",
    "**[마케팅] 자동차 시장 세분화**\n",
    "\n",
    "- 자동차 회사는 새로운 전략을 수립하기 위해 4개의 시장으로 세분화했습니다.\n",
    "- 기존 고객 분류 자료를 바탕으로 신규 고객이 어떤 분류에 속할지 예측해주세요!\n",
    "- 예측할 값(y): \"Segmentation\" (1,2,3,4)\n",
    "- 평가: Macro f1-score\n",
    "- data: train.csv, test.csv\n",
    "- 제출 형식: ID, Segmentation\n",
    "'''"
   ]
  },
  {
   "cell_type": "code",
   "execution_count": 243,
   "id": "23d4a2e9",
   "metadata": {},
   "outputs": [
    {
     "name": "stderr",
     "output_type": "stream",
     "text": [
      "E:\\kdigital_a\\anaconda3\\lib\\site-packages\\sklearn\\ensemble\\_gb.py:570: DataConversionWarning: A column-vector y was passed when a 1d array was expected. Please change the shape of y to (n_samples, ), for example using ravel().\n",
      "  y = column_or_1d(y, warn=True)\n",
      "E:\\kdigital_a\\anaconda3\\lib\\site-packages\\sklearn\\ensemble\\_gb.py:570: DataConversionWarning: A column-vector y was passed when a 1d array was expected. Please change the shape of y to (n_samples, ), for example using ravel().\n",
      "  y = column_or_1d(y, warn=True)\n"
     ]
    },
    {
     "name": "stdout",
     "output_type": "stream",
     "text": [
      "          ID  Segmentation\n",
      "0     458989             2\n",
      "1     458994             3\n",
      "2     459000             3\n",
      "3     459003             3\n",
      "4     459005             1\n",
      "...      ...           ...\n",
      "2149  467950             1\n",
      "2150  467954             4\n",
      "2151  467958             2\n",
      "2152  467961             3\n",
      "2153  467968             4\n",
      "\n",
      "[2154 rows x 2 columns]\n"
     ]
    }
   ],
   "source": [
    "import pandas as pd\n",
    "x_train = pd.read_csv('404_x_train.csv')\n",
    "y_train = pd.read_csv('404_y_train.csv')\n",
    "x_test = pd.read_csv('404_x_test.csv')\n",
    "# print(y_train)\n",
    "# 데이터 살펴보기\n",
    "# print(x_train.shape, y_train.shape, x_test.shape)\n",
    "# print(x_train.info())\n",
    "# print(x_test.info())\n",
    "# print(x_train.head())\n",
    "# print(x_train['Var_1'].value_counts())\n",
    "# print(x_test['Var_1'].value_counts())\n",
    "\n",
    "# 결측치, 이상값 제거\n",
    "x_train.drop(columns=['ID'], inplace=True)\n",
    "y_train.drop(columns=['ID'], inplace=True)\n",
    "id_col =  x_test['ID']\n",
    "x_test.drop(columns=['ID'], inplace=True)\n",
    "\n",
    "# 데이터 인코딩\n",
    "from sklearn.preprocessing import LabelEncoder\n",
    "encoder = LabelEncoder()\n",
    "x_train['Gender']=encoder.fit_transform(x_train['Gender'])\n",
    "x_test['Gender']=encoder.transform(x_test['Gender'])\n",
    "\n",
    "encoder = LabelEncoder()\n",
    "x_train['Ever_Married']=encoder.fit_transform(x_train['Ever_Married'])\n",
    "x_test['Ever_Married']=encoder.transform(x_test['Ever_Married'])\n",
    "\n",
    "encoder = LabelEncoder()\n",
    "x_train['Graduated']=encoder.fit_transform(x_train['Graduated'])\n",
    "x_test['Graduated']=encoder.transform(x_test['Graduated'])\n",
    "\n",
    "encoder = LabelEncoder()\n",
    "x_train['Profession']=encoder.fit_transform(x_train['Profession'])\n",
    "x_test['Profession']=encoder.transform(x_test['Profession'])\n",
    "\n",
    "encoder = LabelEncoder()\n",
    "x_train['Spending_Score']=encoder.fit_transform(x_train['Spending_Score'])\n",
    "x_test['Spending_Score']=encoder.transform(x_test['Spending_Score'])\n",
    "\n",
    "encoder = LabelEncoder()\n",
    "x_train['Var_1']=encoder.fit_transform(x_train['Var_1'])\n",
    "x_test['Var_1']=encoder.transform(x_test['Var_1'])\n",
    "\n",
    "# print(x_train.describe())\n",
    "# 데이터 스케일링\n",
    "from sklearn.preprocessing import MinMaxScaler\n",
    "scaler = MinMaxScaler()\n",
    "x_train['Age'] = scaler.fit_transform(x_train[['Age']])\n",
    "x_test['Age'] = scaler.transform(x_test[['Age']])\n",
    "\n",
    "# 데이터 스플릿\n",
    "from sklearn.model_selection import train_test_split\n",
    "X_TRAIN, X_TEST, Y_TRAIN, Y_TEST = train_test_split(x_train, y_train, test_size=0.2)\n",
    "# print(X_TRAIN.shape, X_TEST.shape, Y_TRAIN.shape, Y_TEST.shape)\n",
    "\n",
    "# 모델 학습\n",
    "from sklearn.ensemble import GradientBoostingClassifier\n",
    "model = GradientBoostingClassifier(n_estimators=700, max_depth=7)\n",
    "model.fit(X_TRAIN, Y_TRAIN)\n",
    "Y_TEST_PREDICTED = model.predict(X_TEST)\n",
    "\n",
    "# 모델 평가\n",
    "from sklearn.metrics import f1_score\n",
    "# print(f1_score(Y_TEST, Y_TEST_PREDICTED, average='macro'))\n",
    "\n",
    "# 모델 재학습, 결과물 제출\n",
    "model = GradientBoostingClassifier(n_estimators=700, max_depth=7)\n",
    "model.fit(x_train, y_train)\n",
    "y_test_predicted = pd.DataFrame(model.predict(x_test))\n",
    "\n",
    "result = pd.concat([id_col, y_test_predicted], axis=1)\n",
    "result.columns = ['ID', 'Segmentation']\n",
    "result.to_csv('12345.csv', index=False)\n",
    "\n",
    "print(pd.read_csv('12345.csv'))"
   ]
  },
  {
   "cell_type": "code",
   "execution_count": 248,
   "id": "b6b3ed3d",
   "metadata": {},
   "outputs": [
    {
     "data": {
      "text/plain": [
       "'1.6.2'"
      ]
     },
     "execution_count": 248,
     "metadata": {},
     "output_type": "execute_result"
    }
   ],
   "source": [
    "import xgboost\n",
    "xgboost.__version__"
   ]
  },
  {
   "cell_type": "code",
   "execution_count": 245,
   "id": "87ca7a99",
   "metadata": {},
   "outputs": [
    {
     "name": "stdout",
     "output_type": "stream",
     "text": [
      "Collecting xgboost==1.4.2\n",
      "  Downloading xgboost-1.4.2-py3-none-win_amd64.whl (97.8 MB)\n",
      "Requirement already satisfied: scipy in e:\\kdigital_a\\anaconda3\\lib\\site-packages (from xgboost==1.4.2) (1.7.3)\n",
      "Requirement already satisfied: numpy in e:\\kdigital_a\\anaconda3\\lib\\site-packages (from xgboost==1.4.2) (1.21.5)\n",
      "Installing collected packages: xgboost\n",
      "  Attempting uninstall: xgboost\n",
      "    Found existing installation: xgboost 1.6.2\n",
      "    Uninstalling xgboost-1.6.2:\n",
      "      Successfully uninstalled xgboost-1.6.2\n"
     ]
    },
    {
     "name": "stderr",
     "output_type": "stream",
     "text": [
      "ERROR: Could not install packages due to an OSError: [WinError 5] 액세스가 거부되었습니다: 'E:\\\\kdigital_a\\\\anaconda3\\\\Lib\\\\site-packages\\\\~gboost\\\\lib\\\\xgboost.dll'\n",
      "Consider using the `--user` option or check the permissions.\n",
      "\n"
     ]
    }
   ],
   "source": [
    "!PIP install xgboost==1.4.2"
   ]
  }
 ],
 "metadata": {
  "kernelspec": {
   "display_name": "Python 3 (ipykernel)",
   "language": "python",
   "name": "python3"
  },
  "language_info": {
   "codemirror_mode": {
    "name": "ipython",
    "version": 3
   },
   "file_extension": ".py",
   "mimetype": "text/x-python",
   "name": "python",
   "nbconvert_exporter": "python",
   "pygments_lexer": "ipython3",
   "version": "3.9.12"
  }
 },
 "nbformat": 4,
 "nbformat_minor": 5
}
