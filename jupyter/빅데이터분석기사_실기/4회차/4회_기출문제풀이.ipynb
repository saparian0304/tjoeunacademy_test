{
 "cells": [
  {
   "cell_type": "markdown",
   "metadata": {
    "id": "pW62fr_CllF7"
   },
   "source": [
    "1. age 컬럼의 3사분위수와 1사분위수의 차를 절대값으로 구하고, 소수점 버려서, 정수로 출력"
   ]
  },
  {
   "cell_type": "code",
   "execution_count": 5,
   "metadata": {
    "colab": {
     "base_uri": "https://localhost:8080/"
    },
    "id": "utu9QXL-ktQT",
    "outputId": "e6b29f1d-2f76-4fa9-a595-8c5f24aa3065"
   },
   "outputs": [
    {
     "name": "stdout",
     "output_type": "stream",
     "text": [
      "50\n"
     ]
    }
   ],
   "source": [
    "import pandas as pd\n",
    "df = pd.read_csv('401_basic1.csv')\n",
    "#print(df.head())\n",
    "r = df['age'].quantile(0.75) - df['age'].quantile(0.25)\n",
    "print(int(abs(r)))"
   ]
  },
  {
   "cell_type": "markdown",
   "metadata": {
    "id": "ylJhdbgenmpq"
   },
   "source": [
    "2. (loves반응+wows반응)/(reactions반응) 비율이 0.4보다 크고 0.5보다 작으면서, type 컬럼이 'video'인 데이터의 갯수"
   ]
  },
  {
   "cell_type": "code",
   "execution_count": 7,
   "metadata": {
    "colab": {
     "base_uri": "https://localhost:8080/"
    },
    "id": "9tQnc7HOlyw7",
    "outputId": "ecdf5459-6673-4109-9ad7-7ca8ffdfff61"
   },
   "outputs": [
    {
     "name": "stdout",
     "output_type": "stream",
     "text": [
      "90\n"
     ]
    }
   ],
   "source": [
    "import pandas as pd\n",
    "df = pd.read_csv('402_fb.csv')\n",
    "#print(df.head())\n",
    "con = (df['loves']+df['wows'])/df['reactions']\n",
    "print(len(df[(con > 0.4) & (con < 0.5) & (df['type'] == 'video')]))"
   ]
  },
  {
   "cell_type": "markdown",
   "metadata": {
    "id": "CuQ2zWL0qAIZ"
   },
   "source": [
    "3. date_added가 2018년 1월 이면서 country가 United Kingdom 단독 제작인 데이터의 갯수"
   ]
  },
  {
   "cell_type": "code",
   "execution_count": 15,
   "metadata": {
    "colab": {
     "base_uri": "https://localhost:8080/"
    },
    "id": "n9WpUuwunsVS",
    "outputId": "046df391-8403-4c5b-a64d-f396db5deecb"
   },
   "outputs": [
    {
     "name": "stdout",
     "output_type": "stream",
     "text": [
      "6\n"
     ]
    }
   ],
   "source": [
    "import pandas as pd\n",
    "df = pd.read_csv('403_nf.csv')\n",
    "#print(df.info())\n",
    "df['date_added2']=pd.to_datetime(df['date_added'])\n",
    "df['year'] = df['date_added2'].dt.year\n",
    "df['month'] = df['date_added2'].dt.month\n",
    "#print(df[['date_added','year','month']].head())\n",
    "print(len(df[(df['year']==2018) & (df['month']==1) & (df['country']=='United Kingdom')]))"
   ]
  },
  {
   "cell_type": "markdown",
   "metadata": {
    "id": "nETvAROouzO7"
   },
   "source": [
    "💡 **[마케팅] 자동차 시장 세분화**\n",
    "\n",
    "- 자동차 회사는 새로운 전략을 수립하기 위해 4개의 시장으로 세분화했습니다.\n",
    "- 기존 고객 분류 자료를 바탕으로 신규 고객이 어떤 분류에 속할지 예측해주세요!\n",
    "- 예측할 값(y): \"Segmentation\" (1,2,3,4)\n",
    "- 평가: Macro f1-score\n",
    "- data: train.csv, test.csv\n",
    "- 제출 형식: ID, Segmentation"
   ]
  },
  {
   "cell_type": "code",
   "execution_count": null,
   "metadata": {
    "id": "IHmU1fdcsdAS"
   },
   "outputs": [],
   "source": [
    "import pandas as pd\n",
    "x_train = pd.read_csv('404_x_train.csv')\n",
    "y_train = pd.read_csv('404_y_train.csv')\n",
    "x_test = pd.read_csv('404_x_test.csv')\n",
    "\n",
    "#print(x_train.info())\n",
    "#print(x_train['Var_1'].value_counts())\n",
    "# 원핫인코딩\n",
    "col = ['Gender','Ever_Married','Graduated','Profession','Spending_Score','Var_1']\n",
    "x_train = pd.concat([x_train, pd.get_dummies(x_train[col])], axis=1)\n",
    "x_test = pd.concat([x_test, pd.get_dummies(x_test[col])], axis=1)\n",
    "\n",
    "x_train = x_train.drop(col, 1)\n",
    "x_test = x_test.drop(col, 1)\n",
    "\n",
    "#print(x_train.head())\n",
    "# 스케일링 Age Family_Size\n",
    "from sklearn.preprocessing import StandardScaler\n",
    "scaler = StandardScaler()\n",
    "scaler.fit(x_train[['Age','Family_Size']])\n",
    "x_train[['Age','Family_Size']] = scaler.transform(x_train[['Age','Family_Size']])\n",
    "x_test[['Age','Family_Size']] = scaler.transform(x_test[['Age','Family_Size']])\n",
    "#print(x_train.head())\n",
    "\n",
    "from sklearn.model_selection import train_test_split\n",
    "X_train, X_test, Y_train, Y_test = train_test_split(x_train.drop('ID',1),\n",
    "                                                    y_train.drop('ID',1),\n",
    "                                                    test_size=0.2)\n",
    "#print(X_train.shape, X_test.shape, Y_train.shape, Y_test.shape)\n",
    "from xgboost import XGBClassifier\n",
    "model1 = XGBClassifier()\n",
    "model1.fit(X_train, Y_train)\n",
    "#pred1 = model1.predict(X_test)\n",
    "\n",
    "# from sklearn.metrics import f1_score\n",
    "#print(f1_score(Y_test, pred1, average='macro'))\n",
    "\n",
    "# from sklearn.ensemble import RandomForestClassifier\n",
    "# model2 = RandomForestClassifier()\n",
    "# model2.fit(X_train, Y_train)\n",
    "# pred2 = model2.predict(X_test)\n",
    "#print(f1_score(Y_test, pred2, average='macro'))\n",
    "\n",
    "pred=model1.predict(x_test.drop('ID',1))\n",
    "pd.DataFrame({'ID':x_test['ID'], 'Segmentation':pred}).to_csv('1234.csv',index=False)\n",
    "pd.read_csv('1234.csv')"
   ]
  },
  {
   "cell_type": "code",
   "execution_count": 34,
   "metadata": {
    "colab": {
     "base_uri": "https://localhost:8080/",
     "height": 35
    },
    "id": "L4hZKHOoyZ-6",
    "outputId": "7b3598bc-5c81-4c2e-e665-4a3421a736c4"
   },
   "outputs": [
    {
     "data": {
      "application/vnd.google.colaboratory.intrinsic+json": {
       "type": "string"
      },
      "text/plain": [
       "'0.90'"
      ]
     },
     "execution_count": 34,
     "metadata": {},
     "output_type": "execute_result"
    }
   ],
   "source": [
    "import xgboost\n",
    "xgboost.__version__"
   ]
  },
  {
   "cell_type": "code",
   "execution_count": null,
   "metadata": {
    "id": "Jt3xp6ZH6fBR"
   },
   "outputs": [],
   "source": []
  }
 ],
 "metadata": {
  "colab": {
   "provenance": []
  },
  "kernelspec": {
   "display_name": "Python 3 (ipykernel)",
   "language": "python",
   "name": "python3"
  },
  "language_info": {
   "codemirror_mode": {
    "name": "ipython",
    "version": 3
   },
   "file_extension": ".py",
   "mimetype": "text/x-python",
   "name": "python",
   "nbconvert_exporter": "python",
   "pygments_lexer": "ipython3",
   "version": "3.9.12"
  }
 },
 "nbformat": 4,
 "nbformat_minor": 1
}
