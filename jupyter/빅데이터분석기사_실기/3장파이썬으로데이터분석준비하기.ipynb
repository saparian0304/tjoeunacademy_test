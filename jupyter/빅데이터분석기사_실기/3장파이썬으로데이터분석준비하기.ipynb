{
 "cells": [
  {
   "cell_type": "code",
   "execution_count": 1,
   "id": "8219ba2a",
   "metadata": {},
   "outputs": [],
   "source": [
    "import pandas as pd\n",
    "data = pd.read_csv(\"bigData-main/mtcars.csv\")"
   ]
  },
  {
   "cell_type": "code",
   "execution_count": 2,
   "id": "0cf704c8",
   "metadata": {},
   "outputs": [
    {
     "name": "stdout",
     "output_type": "stream",
     "text": [
      "             Unnamed: 0   mpg   cyl   disp   hp  drat     wt    qsec  vs  \\\n",
      "0             Mazda RX4  21.0   6.0  160.0  110  3.90  2.620   16.46   0   \n",
      "1         Mazda RX4 Wag  21.0   6.0  160.0  110  3.90  2.875   17.02   0   \n",
      "2            Datsun 710  22.8   4.0  108.0   93  3.85  2.320   18.61   1   \n",
      "3        Hornet 4 Drive  21.4   6.0  258.0  110  3.08  3.215    0.10   1   \n",
      "4     Hornet Sportabout  18.7   8.0  360.0  175  3.15  3.440   17.02   0   \n",
      "5               Valiant  18.1   6.0  225.0  105  2.76  3.460   20.22   1   \n",
      "6            Duster 360  14.3   8.0  360.0  245  3.21  3.570   15.84   0   \n",
      "7             Merc 240D  24.4   NaN  146.7   62  3.69  3.190   20.00   1   \n",
      "8              Merc 230  22.8   4.0  140.8   95  3.92  3.150   22.90   1   \n",
      "9              Merc 280  19.2   6.0  167.6  123  3.92  3.440   18.30   1   \n",
      "10            Merc 280C  17.8   6.0  167.6  123  3.92  3.440     NaN   1   \n",
      "11           Merc 450SE  16.4   8.0  275.8  180  3.07  4.070   17.40   0   \n",
      "12           Merc 450SL  17.3   8.0  275.8  180  3.07  3.730   17.60   0   \n",
      "13          Merc 450SLC  15.2   8.0  275.8  180  3.07  3.780   18.00   0   \n",
      "14   Cadillac Fleetwood  10.4  50.0  472.0  205  2.93  5.250   17.98   0   \n",
      "15  Lincoln Continental  10.4   8.0  460.0  215  3.00  5.424   17.82   0   \n",
      "16    Chrysler Imperial  14.7   8.0  440.0  230  3.23  5.345   17.42   0   \n",
      "17             Fiat 128  32.4   4.0   78.7   66  4.08  2.200   19.47   1   \n",
      "18          Honda Civic  30.4   4.0   75.7   52  4.93  1.615   18.52   1   \n",
      "19       Toyota Corolla  33.9   4.0   71.1   65  4.22  1.835   19.90   1   \n",
      "20        Toyota Corona  21.5   4.0  120.1   97  3.70  2.465   20.01   1   \n",
      "21     Dodge Challenger  15.5   8.0  318.0  150  2.76  3.520   16.87   0   \n",
      "22          AMC Javelin  15.2   8.0  304.0  150  3.15  3.435   17.30   0   \n",
      "23           Camaro Z28  13.3   8.0  350.0  245  3.73  3.840   15.41   0   \n",
      "24     Pontiac Firebird  19.2   NaN  400.0  175  3.08  3.845  100.00   0   \n",
      "25            Fiat X1-9  27.3   4.0   79.0   66  4.08  1.935   18.90   1   \n",
      "26        Porsche 914-2  26.0   4.0  120.3   91  4.43  2.140   16.70   0   \n",
      "27         Lotus Europa  30.4   4.0   95.1  113  3.77  1.513   16.90   1   \n",
      "28       Ford Pantera L  15.8   8.0  351.0  264  4.22  3.170   14.50   0   \n",
      "29         Ferrari Dino  19.7   6.0  145.0  175  3.62  2.770   15.50   0   \n",
      "30        Maserati Bora  15.0   8.0  301.0  335  3.54  3.570   14.60   0   \n",
      "31           Volvo 142E  21.4   4.0  121.0  109  4.11  2.780   18.60   1   \n",
      "\n",
      "        am gear  carb  \n",
      "0   manual    4     4  \n",
      "1   manual    4     4  \n",
      "2   manual    4     1  \n",
      "3     auto    3     1  \n",
      "4     auto    3     2  \n",
      "5     auto    3     1  \n",
      "6     auto    3     4  \n",
      "7     auto    4     2  \n",
      "8     auto    4     2  \n",
      "9     auto    4     4  \n",
      "10    auto    4     4  \n",
      "11    auto    3     3  \n",
      "12    auto   *3     3  \n",
      "13    auto    3     3  \n",
      "14    auto    3     4  \n",
      "15    auto    3     4  \n",
      "16    auto    3     4  \n",
      "17  manual    4     1  \n",
      "18  manual    4     2  \n",
      "19  manual    4     1  \n",
      "20    auto    3     1  \n",
      "21    auto    3     2  \n",
      "22    auto    3     2  \n",
      "23    auto    3     4  \n",
      "24    auto    3     2  \n",
      "25  manual    4     1  \n",
      "26  manual    5     2  \n",
      "27  manual    5     2  \n",
      "28  manual   *5     4  \n",
      "29  manual    5     6  \n",
      "30  manual    5     8  \n",
      "31  manual    4     2  \n"
     ]
    }
   ],
   "source": [
    "# data 변수의 상위 5개 데이터를 출력하기\n",
    "print(data)"
   ]
  },
  {
   "cell_type": "code",
   "execution_count": 3,
   "id": "f226d01f",
   "metadata": {},
   "outputs": [
    {
     "name": "stdout",
     "output_type": "stream",
     "text": [
      "(32, 12)\n"
     ]
    }
   ],
   "source": [
    "# data 변수의 행/열 확인하기\n",
    "print(data.shape)  # 32행 12열"
   ]
  },
  {
   "cell_type": "code",
   "execution_count": 4,
   "id": "31dbf5b8",
   "metadata": {},
   "outputs": [
    {
     "name": "stdout",
     "output_type": "stream",
     "text": [
      "<class 'pandas.core.frame.DataFrame'>\n"
     ]
    }
   ],
   "source": [
    "# data 변수의 데이터타입 확인하기\n",
    "print(type(data))\n"
   ]
  },
  {
   "cell_type": "code",
   "execution_count": 5,
   "id": "ad48d5f0",
   "metadata": {},
   "outputs": [
    {
     "name": "stdout",
     "output_type": "stream",
     "text": [
      "Index(['Unnamed: 0', 'mpg', 'cyl', 'disp', 'hp', 'drat', 'wt', 'qsec', 'vs',\n",
      "       'am', 'gear', 'carb'],\n",
      "      dtype='object')\n"
     ]
    }
   ],
   "source": [
    "# 데이터의 열 확인하기\n",
    "print(data.columns)"
   ]
  },
  {
   "cell_type": "code",
   "execution_count": 6,
   "id": "44fd9090",
   "metadata": {},
   "outputs": [
    {
     "name": "stdout",
     "output_type": "stream",
     "text": [
      "             mpg        cyl        disp          hp       drat         wt  \\\n",
      "count  32.000000  30.000000   32.000000   32.000000  32.000000  32.000000   \n",
      "mean   20.090625   7.600000  230.721875  146.687500   3.596563   3.217250   \n",
      "std     6.026948   8.194195  123.938694   68.562868   0.534679   0.978457   \n",
      "min    10.400000   4.000000   71.100000   52.000000   2.760000   1.513000   \n",
      "25%    15.425000   4.000000  120.825000   96.500000   3.080000   2.581250   \n",
      "50%    19.200000   6.000000  196.300000  123.000000   3.695000   3.325000   \n",
      "75%    22.800000   8.000000  326.000000  180.000000   3.920000   3.610000   \n",
      "max    33.900000  50.000000  472.000000  335.000000   4.930000   5.424000   \n",
      "\n",
      "             qsec         vs     carb  \n",
      "count   31.000000  32.000000  32.0000  \n",
      "mean    19.866774   0.437500   2.8125  \n",
      "std     15.310469   0.504016   1.6152  \n",
      "min      0.100000   0.000000   1.0000  \n",
      "25%     16.785000   0.000000   2.0000  \n",
      "50%     17.600000   0.000000   2.0000  \n",
      "75%     18.755000   1.000000   4.0000  \n",
      "max    100.000000   1.000000   8.0000  \n"
     ]
    }
   ],
   "source": [
    "print(data.describe())"
   ]
  },
  {
   "cell_type": "code",
   "execution_count": 7,
   "id": "a9270560",
   "metadata": {},
   "outputs": [
    {
     "name": "stdout",
     "output_type": "stream",
     "text": [
      "count     32.000000\n",
      "mean     146.687500\n",
      "std       68.562868\n",
      "min       52.000000\n",
      "25%       96.500000\n",
      "50%      123.000000\n",
      "75%      180.000000\n",
      "max      335.000000\n",
      "Name: hp, dtype: float64\n"
     ]
    }
   ],
   "source": [
    "print(data['hp'].describe())"
   ]
  },
  {
   "cell_type": "code",
   "execution_count": 8,
   "id": "8a05cafc",
   "metadata": {},
   "outputs": [
    {
     "data": {
      "text/plain": [
       "array(['manual', 'auto'], dtype=object)"
      ]
     },
     "execution_count": 8,
     "metadata": {},
     "output_type": "execute_result"
    }
   ],
   "source": [
    "# am 칼럼에서 중복을 제거한 값들 구하기\n",
    "data['am'].unique()"
   ]
  },
  {
   "cell_type": "code",
   "execution_count": 9,
   "id": "7a1442ad",
   "metadata": {},
   "outputs": [
    {
     "name": "stdout",
     "output_type": "stream",
     "text": [
      "['4' '3' '*3' '5' '*5']\n"
     ]
    }
   ],
   "source": [
    "print(data['gear'].unique())"
   ]
  },
  {
   "cell_type": "code",
   "execution_count": 10,
   "id": "19f05174",
   "metadata": {},
   "outputs": [
    {
     "name": "stdout",
     "output_type": "stream",
     "text": [
      "[0 1]\n"
     ]
    }
   ],
   "source": [
    "print(data['vs'].unique())"
   ]
  },
  {
   "cell_type": "code",
   "execution_count": 11,
   "id": "78a73869",
   "metadata": {},
   "outputs": [
    {
     "name": "stdout",
     "output_type": "stream",
     "text": [
      "<class 'pandas.core.frame.DataFrame'>\n",
      "RangeIndex: 32 entries, 0 to 31\n",
      "Data columns (total 12 columns):\n",
      " #   Column      Non-Null Count  Dtype  \n",
      "---  ------      --------------  -----  \n",
      " 0   Unnamed: 0  32 non-null     object \n",
      " 1   mpg         32 non-null     float64\n",
      " 2   cyl         30 non-null     float64\n",
      " 3   disp        32 non-null     float64\n",
      " 4   hp          32 non-null     int64  \n",
      " 5   drat        32 non-null     float64\n",
      " 6   wt          32 non-null     float64\n",
      " 7   qsec        31 non-null     float64\n",
      " 8   vs          32 non-null     int64  \n",
      " 9   am          32 non-null     object \n",
      " 10  gear        32 non-null     object \n",
      " 11  carb        32 non-null     int64  \n",
      "dtypes: float64(6), int64(3), object(3)\n",
      "memory usage: 3.1+ KB\n",
      "None\n"
     ]
    }
   ],
   "source": [
    "print(data.info())\n"
   ]
  },
  {
   "cell_type": "code",
   "execution_count": 12,
   "id": "f38a29dd",
   "metadata": {},
   "outputs": [
    {
     "data": {
      "text/html": [
       "<div>\n",
       "<style scoped>\n",
       "    .dataframe tbody tr th:only-of-type {\n",
       "        vertical-align: middle;\n",
       "    }\n",
       "\n",
       "    .dataframe tbody tr th {\n",
       "        vertical-align: top;\n",
       "    }\n",
       "\n",
       "    .dataframe thead th {\n",
       "        text-align: right;\n",
       "    }\n",
       "</style>\n",
       "<table border=\"1\" class=\"dataframe\">\n",
       "  <thead>\n",
       "    <tr style=\"text-align: right;\">\n",
       "      <th></th>\n",
       "      <th>mpg</th>\n",
       "      <th>cyl</th>\n",
       "      <th>disp</th>\n",
       "      <th>hp</th>\n",
       "      <th>drat</th>\n",
       "      <th>wt</th>\n",
       "      <th>qsec</th>\n",
       "      <th>vs</th>\n",
       "      <th>carb</th>\n",
       "    </tr>\n",
       "  </thead>\n",
       "  <tbody>\n",
       "    <tr>\n",
       "      <th>mpg</th>\n",
       "      <td>1.000000</td>\n",
       "      <td>-0.460227</td>\n",
       "      <td>-0.847551</td>\n",
       "      <td>-0.776168</td>\n",
       "      <td>0.681172</td>\n",
       "      <td>-0.867659</td>\n",
       "      <td>0.013668</td>\n",
       "      <td>0.664039</td>\n",
       "      <td>-0.550925</td>\n",
       "    </tr>\n",
       "    <tr>\n",
       "      <th>cyl</th>\n",
       "      <td>-0.460227</td>\n",
       "      <td>1.000000</td>\n",
       "      <td>0.544876</td>\n",
       "      <td>0.323293</td>\n",
       "      <td>-0.372671</td>\n",
       "      <td>0.533690</td>\n",
       "      <td>-0.012755</td>\n",
       "      <td>-0.323960</td>\n",
       "      <td>0.239980</td>\n",
       "    </tr>\n",
       "    <tr>\n",
       "      <th>disp</th>\n",
       "      <td>-0.847551</td>\n",
       "      <td>0.544876</td>\n",
       "      <td>1.000000</td>\n",
       "      <td>0.790949</td>\n",
       "      <td>-0.710214</td>\n",
       "      <td>0.887980</td>\n",
       "      <td>0.181810</td>\n",
       "      <td>-0.710416</td>\n",
       "      <td>0.394977</td>\n",
       "    </tr>\n",
       "    <tr>\n",
       "      <th>hp</th>\n",
       "      <td>-0.776168</td>\n",
       "      <td>0.323293</td>\n",
       "      <td>0.790949</td>\n",
       "      <td>1.000000</td>\n",
       "      <td>-0.448759</td>\n",
       "      <td>0.658748</td>\n",
       "      <td>0.010807</td>\n",
       "      <td>-0.723097</td>\n",
       "      <td>0.749812</td>\n",
       "    </tr>\n",
       "    <tr>\n",
       "      <th>drat</th>\n",
       "      <td>0.681172</td>\n",
       "      <td>-0.372671</td>\n",
       "      <td>-0.710214</td>\n",
       "      <td>-0.448759</td>\n",
       "      <td>1.000000</td>\n",
       "      <td>-0.712441</td>\n",
       "      <td>-0.120283</td>\n",
       "      <td>0.440278</td>\n",
       "      <td>-0.090790</td>\n",
       "    </tr>\n",
       "    <tr>\n",
       "      <th>wt</th>\n",
       "      <td>-0.867659</td>\n",
       "      <td>0.533690</td>\n",
       "      <td>0.887980</td>\n",
       "      <td>0.658748</td>\n",
       "      <td>-0.712441</td>\n",
       "      <td>1.000000</td>\n",
       "      <td>0.093900</td>\n",
       "      <td>-0.554916</td>\n",
       "      <td>0.427606</td>\n",
       "    </tr>\n",
       "    <tr>\n",
       "      <th>qsec</th>\n",
       "      <td>0.013668</td>\n",
       "      <td>-0.012755</td>\n",
       "      <td>0.181810</td>\n",
       "      <td>0.010807</td>\n",
       "      <td>-0.120283</td>\n",
       "      <td>0.093900</td>\n",
       "      <td>1.000000</td>\n",
       "      <td>-0.112146</td>\n",
       "      <td>-0.120312</td>\n",
       "    </tr>\n",
       "    <tr>\n",
       "      <th>vs</th>\n",
       "      <td>0.664039</td>\n",
       "      <td>-0.323960</td>\n",
       "      <td>-0.710416</td>\n",
       "      <td>-0.723097</td>\n",
       "      <td>0.440278</td>\n",
       "      <td>-0.554916</td>\n",
       "      <td>-0.112146</td>\n",
       "      <td>1.000000</td>\n",
       "      <td>-0.569607</td>\n",
       "    </tr>\n",
       "    <tr>\n",
       "      <th>carb</th>\n",
       "      <td>-0.550925</td>\n",
       "      <td>0.239980</td>\n",
       "      <td>0.394977</td>\n",
       "      <td>0.749812</td>\n",
       "      <td>-0.090790</td>\n",
       "      <td>0.427606</td>\n",
       "      <td>-0.120312</td>\n",
       "      <td>-0.569607</td>\n",
       "      <td>1.000000</td>\n",
       "    </tr>\n",
       "  </tbody>\n",
       "</table>\n",
       "</div>"
      ],
      "text/plain": [
       "           mpg       cyl      disp        hp      drat        wt      qsec  \\\n",
       "mpg   1.000000 -0.460227 -0.847551 -0.776168  0.681172 -0.867659  0.013668   \n",
       "cyl  -0.460227  1.000000  0.544876  0.323293 -0.372671  0.533690 -0.012755   \n",
       "disp -0.847551  0.544876  1.000000  0.790949 -0.710214  0.887980  0.181810   \n",
       "hp   -0.776168  0.323293  0.790949  1.000000 -0.448759  0.658748  0.010807   \n",
       "drat  0.681172 -0.372671 -0.710214 -0.448759  1.000000 -0.712441 -0.120283   \n",
       "wt   -0.867659  0.533690  0.887980  0.658748 -0.712441  1.000000  0.093900   \n",
       "qsec  0.013668 -0.012755  0.181810  0.010807 -0.120283  0.093900  1.000000   \n",
       "vs    0.664039 -0.323960 -0.710416 -0.723097  0.440278 -0.554916 -0.112146   \n",
       "carb -0.550925  0.239980  0.394977  0.749812 -0.090790  0.427606 -0.120312   \n",
       "\n",
       "            vs      carb  \n",
       "mpg   0.664039 -0.550925  \n",
       "cyl  -0.323960  0.239980  \n",
       "disp -0.710416  0.394977  \n",
       "hp   -0.723097  0.749812  \n",
       "drat  0.440278 -0.090790  \n",
       "wt   -0.554916  0.427606  \n",
       "qsec -0.112146 -0.120312  \n",
       "vs    1.000000 -0.569607  \n",
       "carb -0.569607  1.000000  "
      ]
     },
     "execution_count": 12,
     "metadata": {},
     "output_type": "execute_result"
    }
   ],
   "source": [
    "data.corr()"
   ]
  },
  {
   "cell_type": "code",
   "execution_count": 13,
   "id": "ff9b27f3",
   "metadata": {},
   "outputs": [],
   "source": [
    "X = data.drop(columns='mpg')\n",
    "Y = data['mpg']"
   ]
  },
  {
   "cell_type": "code",
   "execution_count": 14,
   "id": "d0f99fb8",
   "metadata": {},
   "outputs": [
    {
     "name": "stdout",
     "output_type": "stream",
     "text": [
      "          Unnamed: 0  cyl   disp   hp  drat     wt   qsec  vs      am gear  \\\n",
      "0          Mazda RX4  6.0  160.0  110  3.90  2.620  16.46   0  manual    4   \n",
      "1      Mazda RX4 Wag  6.0  160.0  110  3.90  2.875  17.02   0  manual    4   \n",
      "2         Datsun 710  4.0  108.0   93  3.85  2.320  18.61   1  manual    4   \n",
      "3     Hornet 4 Drive  6.0  258.0  110  3.08  3.215   0.10   1    auto    3   \n",
      "4  Hornet Sportabout  8.0  360.0  175  3.15  3.440  17.02   0    auto    3   \n",
      "\n",
      "   carb  \n",
      "0     4  \n",
      "1     4  \n",
      "2     1  \n",
      "3     1  \n",
      "4     2  \n"
     ]
    }
   ],
   "source": [
    "print(X.head())"
   ]
  },
  {
   "cell_type": "code",
   "execution_count": 15,
   "id": "0e1685f5",
   "metadata": {},
   "outputs": [
    {
     "name": "stdout",
     "output_type": "stream",
     "text": [
      "Index(['Unnamed: 0', 'cyl', 'disp', 'hp', 'drat', 'wt', 'qsec', 'vs', 'am',\n",
      "       'gear', 'carb'],\n",
      "      dtype='object')\n"
     ]
    }
   ],
   "source": [
    "print(X.columns)"
   ]
  },
  {
   "cell_type": "code",
   "execution_count": 16,
   "id": "47c86b3a",
   "metadata": {},
   "outputs": [
    {
     "name": "stdout",
     "output_type": "stream",
     "text": [
      "0    21.0\n",
      "1    21.0\n",
      "2    22.8\n",
      "3    21.4\n",
      "4    18.7\n",
      "Name: mpg, dtype: float64\n"
     ]
    }
   ],
   "source": [
    "print(Y.head())"
   ]
  },
  {
   "cell_type": "code",
   "execution_count": 17,
   "id": "82851a90",
   "metadata": {},
   "outputs": [],
   "source": [
    "X = X.iloc[:, 1:]"
   ]
  },
  {
   "cell_type": "code",
   "execution_count": 18,
   "id": "3a0d5639",
   "metadata": {},
   "outputs": [
    {
     "name": "stdout",
     "output_type": "stream",
     "text": [
      "   cyl   disp   hp  drat     wt   qsec  vs      am gear  carb\n",
      "0  6.0  160.0  110  3.90  2.620  16.46   0  manual    4     4\n",
      "1  6.0  160.0  110  3.90  2.875  17.02   0  manual    4     4\n",
      "2  4.0  108.0   93  3.85  2.320  18.61   1  manual    4     1\n",
      "3  6.0  258.0  110  3.08  3.215   0.10   1    auto    3     1\n",
      "4  8.0  360.0  175  3.15  3.440  17.02   0    auto    3     2\n",
      "(32, 10)\n"
     ]
    }
   ],
   "source": [
    "print(X.head())\n",
    "print(X.shape)"
   ]
  },
  {
   "cell_type": "code",
   "execution_count": 19,
   "id": "8254b802",
   "metadata": {},
   "outputs": [
    {
     "data": {
      "text/html": [
       "<div>\n",
       "<style scoped>\n",
       "    .dataframe tbody tr th:only-of-type {\n",
       "        vertical-align: middle;\n",
       "    }\n",
       "\n",
       "    .dataframe tbody tr th {\n",
       "        vertical-align: top;\n",
       "    }\n",
       "\n",
       "    .dataframe thead th {\n",
       "        text-align: right;\n",
       "    }\n",
       "</style>\n",
       "<table border=\"1\" class=\"dataframe\">\n",
       "  <thead>\n",
       "    <tr style=\"text-align: right;\">\n",
       "      <th></th>\n",
       "      <th>cyl</th>\n",
       "      <th>disp</th>\n",
       "      <th>hp</th>\n",
       "      <th>drat</th>\n",
       "      <th>wt</th>\n",
       "      <th>qsec</th>\n",
       "      <th>vs</th>\n",
       "      <th>am</th>\n",
       "      <th>gear</th>\n",
       "      <th>carb</th>\n",
       "    </tr>\n",
       "  </thead>\n",
       "  <tbody>\n",
       "    <tr>\n",
       "      <th>0</th>\n",
       "      <td>False</td>\n",
       "      <td>False</td>\n",
       "      <td>False</td>\n",
       "      <td>False</td>\n",
       "      <td>False</td>\n",
       "      <td>False</td>\n",
       "      <td>False</td>\n",
       "      <td>False</td>\n",
       "      <td>False</td>\n",
       "      <td>False</td>\n",
       "    </tr>\n",
       "    <tr>\n",
       "      <th>1</th>\n",
       "      <td>False</td>\n",
       "      <td>False</td>\n",
       "      <td>False</td>\n",
       "      <td>False</td>\n",
       "      <td>False</td>\n",
       "      <td>False</td>\n",
       "      <td>False</td>\n",
       "      <td>False</td>\n",
       "      <td>False</td>\n",
       "      <td>False</td>\n",
       "    </tr>\n",
       "    <tr>\n",
       "      <th>2</th>\n",
       "      <td>False</td>\n",
       "      <td>False</td>\n",
       "      <td>False</td>\n",
       "      <td>False</td>\n",
       "      <td>False</td>\n",
       "      <td>False</td>\n",
       "      <td>False</td>\n",
       "      <td>False</td>\n",
       "      <td>False</td>\n",
       "      <td>False</td>\n",
       "    </tr>\n",
       "  </tbody>\n",
       "</table>\n",
       "</div>"
      ],
      "text/plain": [
       "     cyl   disp     hp   drat     wt   qsec     vs     am   gear   carb\n",
       "0  False  False  False  False  False  False  False  False  False  False\n",
       "1  False  False  False  False  False  False  False  False  False  False\n",
       "2  False  False  False  False  False  False  False  False  False  False"
      ]
     },
     "execution_count": 19,
     "metadata": {},
     "output_type": "execute_result"
    }
   ],
   "source": [
    "X.isnull().head(3)"
   ]
  },
  {
   "cell_type": "code",
   "execution_count": 20,
   "id": "a19b19be",
   "metadata": {},
   "outputs": [
    {
     "name": "stdout",
     "output_type": "stream",
     "text": [
      "cyl     2\n",
      "disp    0\n",
      "hp      0\n",
      "drat    0\n",
      "wt      0\n",
      "qsec    1\n",
      "vs      0\n",
      "am      0\n",
      "gear    0\n",
      "carb    0\n",
      "dtype: int64\n"
     ]
    }
   ],
   "source": [
    "print(X.isnull().sum())"
   ]
  },
  {
   "cell_type": "code",
   "execution_count": 21,
   "id": "116c3a3c",
   "metadata": {},
   "outputs": [
    {
     "name": "stdout",
     "output_type": "stream",
     "text": [
      "7.6\n"
     ]
    }
   ],
   "source": [
    "# cyl열의 평균값을 X_cyl_mean 변수에 저장하기\n",
    "X_cyl_mean = X['cyl'].mean()\n",
    "# X_cyl_mean 변수 확인하기\n",
    "print(X_cyl_mean)"
   ]
  },
  {
   "cell_type": "code",
   "execution_count": 22,
   "id": "71a8f7c9",
   "metadata": {},
   "outputs": [],
   "source": [
    "# cyl 열의 결측치를 X_cyl_mean값으로 채운 후, 다시 cyl 열에 저장하기\n",
    "X['cyl'] = X['cyl'].fillna(X_cyl_mean)"
   ]
  },
  {
   "cell_type": "code",
   "execution_count": 23,
   "id": "2563f588",
   "metadata": {},
   "outputs": [
    {
     "name": "stdout",
     "output_type": "stream",
     "text": [
      "cyl     0\n",
      "disp    0\n",
      "hp      0\n",
      "drat    0\n",
      "wt      0\n",
      "qsec    1\n",
      "vs      0\n",
      "am      0\n",
      "gear    0\n",
      "carb    0\n",
      "dtype: int64\n"
     ]
    }
   ],
   "source": [
    "print(X.isnull().sum())"
   ]
  },
  {
   "cell_type": "code",
   "execution_count": 24,
   "id": "57d7ddc4",
   "metadata": {},
   "outputs": [
    {
     "name": "stdout",
     "output_type": "stream",
     "text": [
      "17.6\n"
     ]
    }
   ],
   "source": [
    "# 중위값으로 대치하기\n",
    "X_qsec_median = X['qsec'].median()\n",
    "print(X_qsec_median)"
   ]
  },
  {
   "cell_type": "code",
   "execution_count": 25,
   "id": "5c11e3ab",
   "metadata": {},
   "outputs": [],
   "source": [
    "X['qsec'] = X['qsec'].fillna(X_qsec_median)"
   ]
  },
  {
   "cell_type": "code",
   "execution_count": 26,
   "id": "8f09b79b",
   "metadata": {},
   "outputs": [
    {
     "name": "stdout",
     "output_type": "stream",
     "text": [
      "0\n"
     ]
    }
   ],
   "source": [
    "print(X['qsec'].isnull().sum())"
   ]
  },
  {
   "cell_type": "code",
   "execution_count": 27,
   "id": "0aeaccde",
   "metadata": {},
   "outputs": [
    {
     "name": "stdout",
     "output_type": "stream",
     "text": [
      "<class 'pandas.core.frame.DataFrame'>\n",
      "RangeIndex: 32 entries, 0 to 31\n",
      "Data columns (total 10 columns):\n",
      " #   Column  Non-Null Count  Dtype  \n",
      "---  ------  --------------  -----  \n",
      " 0   cyl     32 non-null     float64\n",
      " 1   disp    32 non-null     float64\n",
      " 2   hp      32 non-null     int64  \n",
      " 3   drat    32 non-null     float64\n",
      " 4   wt      32 non-null     float64\n",
      " 5   qsec    32 non-null     float64\n",
      " 6   vs      32 non-null     int64  \n",
      " 7   am      32 non-null     object \n",
      " 8   gear    32 non-null     object \n",
      " 9   carb    32 non-null     int64  \n",
      "dtypes: float64(5), int64(3), object(2)\n",
      "memory usage: 2.6+ KB\n",
      "   gear      am\n",
      "0     4  manual\n",
      "1     4  manual\n",
      "2     4  manual\n",
      "3     3    auto\n",
      "4     3    auto\n",
      "5     3    auto\n",
      "6     3    auto\n",
      "7     4    auto\n",
      "8     4    auto\n",
      "9     4    auto\n",
      "10    4    auto\n",
      "11    3    auto\n",
      "12   *3    auto\n",
      "13    3    auto\n",
      "14    3    auto\n",
      "15    3    auto\n",
      "16    3    auto\n",
      "17    4  manual\n",
      "18    4  manual\n",
      "19    4  manual\n",
      "20    3    auto\n",
      "21    3    auto\n",
      "22    3    auto\n",
      "23    3    auto\n",
      "24    3    auto\n",
      "25    4  manual\n",
      "26    5  manual\n",
      "27    5  manual\n",
      "28   *5  manual\n",
      "29    5  manual\n",
      "30    5  manual\n",
      "31    4  manual\n"
     ]
    }
   ],
   "source": [
    "X.info()\n",
    "print(X[['gear', 'am']])"
   ]
  },
  {
   "cell_type": "code",
   "execution_count": 28,
   "id": "bd021124",
   "metadata": {},
   "outputs": [
    {
     "name": "stdout",
     "output_type": "stream",
     "text": [
      "['4' '3' '*3' '5' '*5']\n"
     ]
    }
   ],
   "source": [
    "print(X['gear'].unique())"
   ]
  },
  {
   "cell_type": "code",
   "execution_count": 29,
   "id": "d14f8e06",
   "metadata": {},
   "outputs": [
    {
     "name": "stdout",
     "output_type": "stream",
     "text": [
      "0     4\n",
      "1     4\n",
      "2     4\n",
      "3     3\n",
      "4     3\n",
      "5     3\n",
      "6     3\n",
      "7     4\n",
      "8     4\n",
      "9     4\n",
      "10    4\n",
      "11    3\n",
      "12    3\n",
      "13    3\n",
      "14    3\n",
      "15    3\n",
      "16    3\n",
      "17    4\n",
      "18    4\n",
      "19    4\n",
      "20    3\n",
      "21    3\n",
      "22    3\n",
      "23    3\n",
      "24    3\n",
      "25    4\n",
      "26    5\n",
      "27    5\n",
      "28    5\n",
      "29    5\n",
      "30    5\n",
      "31    4\n",
      "Name: gear, dtype: object\n"
     ]
    }
   ],
   "source": [
    "print(X['gear'].replace('*3', '3').replace('*5', '5'))"
   ]
  },
  {
   "cell_type": "code",
   "execution_count": 30,
   "id": "539cb2b8",
   "metadata": {},
   "outputs": [],
   "source": [
    "X['gear'] = X['gear'].replace('*3', '3').replace('*5', '5')"
   ]
  },
  {
   "cell_type": "code",
   "execution_count": 31,
   "id": "9c5f7313",
   "metadata": {},
   "outputs": [
    {
     "name": "stdout",
     "output_type": "stream",
     "text": [
      "['4' '3' '5']\n"
     ]
    }
   ],
   "source": [
    "print(X['gear'].unique())"
   ]
  },
  {
   "cell_type": "code",
   "execution_count": 32,
   "id": "b120ccaa",
   "metadata": {},
   "outputs": [
    {
     "name": "stdout",
     "output_type": "stream",
     "text": [
      "             cyl        disp          hp       drat         wt        qsec  \\\n",
      "count  32.000000   32.000000   32.000000  32.000000  32.000000   32.000000   \n",
      "mean    7.600000  230.721875  146.687500   3.596563   3.217250   19.795938   \n",
      "std     7.925459  123.938694   68.562868   0.534679   0.978457   15.066831   \n",
      "min     4.000000   71.100000   52.000000   2.760000   1.513000    0.100000   \n",
      "25%     4.000000  120.825000   96.500000   3.080000   2.581250   16.827500   \n",
      "50%     6.000000  196.300000  123.000000   3.695000   3.325000   17.600000   \n",
      "75%     8.000000  326.000000  180.000000   3.920000   3.610000   18.682500   \n",
      "max    50.000000  472.000000  335.000000   4.930000   5.424000  100.000000   \n",
      "\n",
      "              vs     carb  \n",
      "count  32.000000  32.0000  \n",
      "mean    0.437500   2.8125  \n",
      "std     0.504016   1.6152  \n",
      "min     0.000000   1.0000  \n",
      "25%     0.000000   2.0000  \n",
      "50%     0.000000   2.0000  \n",
      "75%     1.000000   4.0000  \n",
      "max     1.000000   8.0000  \n"
     ]
    }
   ],
   "source": [
    "X_describe = X.describe()\n",
    "print(X_describe)"
   ]
  },
  {
   "cell_type": "code",
   "execution_count": 33,
   "id": "17704bc5",
   "metadata": {},
   "outputs": [
    {
     "name": "stdout",
     "output_type": "stream",
     "text": [
      "cyl       8.0000\n",
      "disp    326.0000\n",
      "hp      180.0000\n",
      "drat      3.9200\n",
      "wt        3.6100\n",
      "qsec     18.6825\n",
      "vs        1.0000\n",
      "carb      4.0000\n",
      "Name: 75%, dtype: float64 cyl       4.00000\n",
      "disp    120.82500\n",
      "hp       96.50000\n",
      "drat      3.08000\n",
      "wt        2.58125\n",
      "qsec     16.82750\n",
      "vs        0.00000\n",
      "carb      2.00000\n",
      "Name: 25%, dtype: float64\n"
     ]
    }
   ],
   "source": [
    "print(X_describe.loc['75%'], X_describe.loc['25%'])"
   ]
  },
  {
   "cell_type": "code",
   "execution_count": 34,
   "id": "055a97ae",
   "metadata": {},
   "outputs": [
    {
     "name": "stdout",
     "output_type": "stream",
     "text": [
      "cyl       4.00000\n",
      "disp    205.17500\n",
      "hp       83.50000\n",
      "drat      0.84000\n",
      "wt        1.02875\n",
      "qsec      1.85500\n",
      "vs        1.00000\n",
      "carb      2.00000\n",
      "dtype: float64\n"
     ]
    }
   ],
   "source": [
    "# IQR을 계산한 후, X_iqr 변수에 저장하기\n",
    "X_iqr = X_describe.loc['75%']  - X_describe.loc['25%']\n",
    "print(X_iqr)"
   ]
  },
  {
   "cell_type": "code",
   "execution_count": 35,
   "id": "250282d7",
   "metadata": {},
   "outputs": [
    {
     "name": "stdout",
     "output_type": "stream",
     "text": [
      "cyl      14.000000\n",
      "disp    633.762500\n",
      "hp      305.250000\n",
      "drat      5.180000\n",
      "wt        5.153125\n",
      "qsec     21.465000\n",
      "vs        2.500000\n",
      "carb      7.000000\n",
      "dtype: float64\n"
     ]
    }
   ],
   "source": [
    "# 각 열의 3 사분위수 + 1.5*IQR 값을 계산하기\n",
    "print(X_describe.loc['75%'] + (1.5*X_iqr))"
   ]
  },
  {
   "cell_type": "code",
   "execution_count": 36,
   "id": "01ccb566",
   "metadata": {},
   "outputs": [
    {
     "name": "stdout",
     "output_type": "stream",
     "text": [
      "cyl      50.000\n",
      "disp    472.000\n",
      "hp      335.000\n",
      "drat      4.930\n",
      "wt        5.424\n",
      "qsec    100.000\n",
      "vs        1.000\n",
      "carb      8.000\n",
      "Name: max, dtype: float64\n"
     ]
    }
   ],
   "source": [
    "# X 변수의 최댓값 확인하기\n",
    "print(X_describe.loc['max'])"
   ]
  },
  {
   "cell_type": "code",
   "execution_count": 37,
   "id": "2ca09289",
   "metadata": {},
   "outputs": [
    {
     "name": "stdout",
     "output_type": "stream",
     "text": [
      "     cyl   disp   hp  drat    wt   qsec  vs    am gear  carb\n",
      "14  50.0  472.0  205  2.93  5.25  17.98   0  auto    3     4\n"
     ]
    }
   ],
   "source": [
    "#cyl 열 값이 14를 초과하는 값 추출하기\n",
    "print(X.loc[X['cyl'] > 14])"
   ]
  },
  {
   "cell_type": "code",
   "execution_count": 38,
   "id": "dbd49dcc",
   "metadata": {},
   "outputs": [
    {
     "data": {
      "text/plain": [
       "14.0"
      ]
     },
     "execution_count": 38,
     "metadata": {},
     "output_type": "execute_result"
    }
   ],
   "source": [
    "# X 변수에서 인덱스 14이고 열이 cyl인 값을 14로 변경하기\n",
    "X.loc[14, 'cyl'] = 14\n",
    "X.loc[14, 'cyl']"
   ]
  },
  {
   "cell_type": "code",
   "execution_count": 39,
   "id": "860033e8",
   "metadata": {},
   "outputs": [
    {
     "name": "stdout",
     "output_type": "stream",
     "text": [
      "    cyl   disp   hp  drat    wt  qsec  vs      am gear  carb\n",
      "30  8.0  301.0  335  3.54  3.57  14.6   0  manual    5     8\n"
     ]
    }
   ],
   "source": [
    "# hp 열 값이 305.25를 초과하는 값 추출하기\n",
    "print(X.loc[X['hp'] > 305.25])"
   ]
  },
  {
   "cell_type": "code",
   "execution_count": 40,
   "id": "24ad269e",
   "metadata": {},
   "outputs": [
    {
     "data": {
      "text/plain": [
       "305.25"
      ]
     },
     "execution_count": 40,
     "metadata": {},
     "output_type": "execute_result"
    }
   ],
   "source": [
    "X.loc[30, 'hp'] = 305.25\n",
    "X.loc[30,'hp']"
   ]
  },
  {
   "cell_type": "code",
   "execution_count": 41,
   "id": "eb04f3ef",
   "metadata": {},
   "outputs": [
    {
     "name": "stdout",
     "output_type": "stream",
     "text": [
      "cyl      -2.000000\n",
      "disp   -186.937500\n",
      "hp      -28.750000\n",
      "drat      1.820000\n",
      "wt        1.038125\n",
      "qsec     14.045000\n",
      "vs       -1.500000\n",
      "carb     -1.000000\n",
      "dtype: float64\n"
     ]
    }
   ],
   "source": [
    "# 각 열의 1사분위수 - 1.5 * IQR 값을 계산하기\n",
    "print(X_describe.loc['25%'] -1.5 * X_iqr)"
   ]
  },
  {
   "cell_type": "code",
   "execution_count": 42,
   "id": "ff726ec9",
   "metadata": {},
   "outputs": [],
   "source": [
    "# 평균과 표준편차로 이상값 처리하기 \n",
    "# 데이터(data)와 열(column)을 전달하면 이상값 정보가 출력되는 outlier() 함수 만들기\n",
    "def outlier(data, column):\n",
    "    mean = data[column].mean()\n",
    "    std = data[column].std()\n",
    "    lowest = mean - (std * 1.5)\n",
    "    highest = mean + (std * 1.5)\n",
    "    print('최소 경계값: ', lowest, ' 최대경계값: ', highest)\n",
    "    outlier_index = data[column][(data[column] < lowest) | (data[column] > highest)].index\n",
    "    return outlier_index"
   ]
  },
  {
   "cell_type": "code",
   "execution_count": 43,
   "id": "28e709c0",
   "metadata": {},
   "outputs": [
    {
     "name": "stdout",
     "output_type": "stream",
     "text": [
      "최소 경계값:  -2.8043094560577657  최대경계값:  42.39618445605777\n",
      "Int64Index([24], dtype='int64')\n"
     ]
    }
   ],
   "source": [
    "print(outlier(X, 'qsec'))"
   ]
  },
  {
   "cell_type": "code",
   "execution_count": 44,
   "id": "f59d618c",
   "metadata": {},
   "outputs": [
    {
     "name": "stdout",
     "output_type": "stream",
     "text": [
      "100.0\n"
     ]
    }
   ],
   "source": [
    "print(X.loc[24, 'qsec'])"
   ]
  },
  {
   "cell_type": "code",
   "execution_count": 45,
   "id": "feea4f24",
   "metadata": {},
   "outputs": [
    {
     "name": "stdout",
     "output_type": "stream",
     "text": [
      "42.396\n"
     ]
    }
   ],
   "source": [
    "X.loc[24, 'qsec'] = 42.396\n",
    "print(X.loc[24, 'qsec'])"
   ]
  },
  {
   "cell_type": "code",
   "execution_count": 46,
   "id": "bb6ee27a",
   "metadata": {},
   "outputs": [
    {
     "name": "stdout",
     "output_type": "stream",
     "text": [
      "최소 경계값:  0.3897000335522218  최대경계값:  5.235299966447778\n",
      "Int64Index([29, 30], dtype='int64')\n"
     ]
    }
   ],
   "source": [
    "# X 변수와 carb 열을 전달하여 이상값 정보를 출력하기\n",
    "print(outlier(X, 'carb'))"
   ]
  },
  {
   "cell_type": "code",
   "execution_count": 47,
   "id": "f0e2e23f",
   "metadata": {},
   "outputs": [
    {
     "name": "stdout",
     "output_type": "stream",
     "text": [
      "29    6\n",
      "30    8\n",
      "Name: carb, dtype: int64\n"
     ]
    }
   ],
   "source": [
    "print(X.loc[[29,30], 'carb'])"
   ]
  },
  {
   "cell_type": "code",
   "execution_count": 48,
   "id": "84407d05",
   "metadata": {},
   "outputs": [
    {
     "data": {
      "text/plain": [
       "29    5.235\n",
       "30    5.235\n",
       "Name: carb, dtype: float64"
      ]
     },
     "execution_count": 48,
     "metadata": {},
     "output_type": "execute_result"
    }
   ],
   "source": [
    "# 인덱스 29, 30 이고, 열은 carb인 값을 5.245로 변경하기\n",
    "X.loc[[29, 30], 'carb'] = 5.235\n",
    "X.loc[[29, 30], 'carb']"
   ]
  },
  {
   "cell_type": "code",
   "execution_count": 49,
   "id": "ef6211c0",
   "metadata": {},
   "outputs": [
    {
     "data": {
      "text/html": [
       "<div>\n",
       "<style scoped>\n",
       "    .dataframe tbody tr th:only-of-type {\n",
       "        vertical-align: middle;\n",
       "    }\n",
       "\n",
       "    .dataframe tbody tr th {\n",
       "        vertical-align: top;\n",
       "    }\n",
       "\n",
       "    .dataframe thead th {\n",
       "        text-align: right;\n",
       "    }\n",
       "</style>\n",
       "<table border=\"1\" class=\"dataframe\">\n",
       "  <thead>\n",
       "    <tr style=\"text-align: right;\">\n",
       "      <th></th>\n",
       "      <th>qsec</th>\n",
       "    </tr>\n",
       "  </thead>\n",
       "  <tbody>\n",
       "    <tr>\n",
       "      <th>0</th>\n",
       "      <td>16.460</td>\n",
       "    </tr>\n",
       "    <tr>\n",
       "      <th>1</th>\n",
       "      <td>17.020</td>\n",
       "    </tr>\n",
       "    <tr>\n",
       "      <th>2</th>\n",
       "      <td>18.610</td>\n",
       "    </tr>\n",
       "    <tr>\n",
       "      <th>3</th>\n",
       "      <td>0.100</td>\n",
       "    </tr>\n",
       "    <tr>\n",
       "      <th>4</th>\n",
       "      <td>17.020</td>\n",
       "    </tr>\n",
       "    <tr>\n",
       "      <th>5</th>\n",
       "      <td>20.220</td>\n",
       "    </tr>\n",
       "    <tr>\n",
       "      <th>6</th>\n",
       "      <td>15.840</td>\n",
       "    </tr>\n",
       "    <tr>\n",
       "      <th>7</th>\n",
       "      <td>20.000</td>\n",
       "    </tr>\n",
       "    <tr>\n",
       "      <th>8</th>\n",
       "      <td>22.900</td>\n",
       "    </tr>\n",
       "    <tr>\n",
       "      <th>9</th>\n",
       "      <td>18.300</td>\n",
       "    </tr>\n",
       "    <tr>\n",
       "      <th>10</th>\n",
       "      <td>17.600</td>\n",
       "    </tr>\n",
       "    <tr>\n",
       "      <th>11</th>\n",
       "      <td>17.400</td>\n",
       "    </tr>\n",
       "    <tr>\n",
       "      <th>12</th>\n",
       "      <td>17.600</td>\n",
       "    </tr>\n",
       "    <tr>\n",
       "      <th>13</th>\n",
       "      <td>18.000</td>\n",
       "    </tr>\n",
       "    <tr>\n",
       "      <th>14</th>\n",
       "      <td>17.980</td>\n",
       "    </tr>\n",
       "    <tr>\n",
       "      <th>15</th>\n",
       "      <td>17.820</td>\n",
       "    </tr>\n",
       "    <tr>\n",
       "      <th>16</th>\n",
       "      <td>17.420</td>\n",
       "    </tr>\n",
       "    <tr>\n",
       "      <th>17</th>\n",
       "      <td>19.470</td>\n",
       "    </tr>\n",
       "    <tr>\n",
       "      <th>18</th>\n",
       "      <td>18.520</td>\n",
       "    </tr>\n",
       "    <tr>\n",
       "      <th>19</th>\n",
       "      <td>19.900</td>\n",
       "    </tr>\n",
       "    <tr>\n",
       "      <th>20</th>\n",
       "      <td>20.010</td>\n",
       "    </tr>\n",
       "    <tr>\n",
       "      <th>21</th>\n",
       "      <td>16.870</td>\n",
       "    </tr>\n",
       "    <tr>\n",
       "      <th>22</th>\n",
       "      <td>17.300</td>\n",
       "    </tr>\n",
       "    <tr>\n",
       "      <th>23</th>\n",
       "      <td>15.410</td>\n",
       "    </tr>\n",
       "    <tr>\n",
       "      <th>24</th>\n",
       "      <td>42.396</td>\n",
       "    </tr>\n",
       "    <tr>\n",
       "      <th>25</th>\n",
       "      <td>18.900</td>\n",
       "    </tr>\n",
       "    <tr>\n",
       "      <th>26</th>\n",
       "      <td>16.700</td>\n",
       "    </tr>\n",
       "    <tr>\n",
       "      <th>27</th>\n",
       "      <td>16.900</td>\n",
       "    </tr>\n",
       "    <tr>\n",
       "      <th>28</th>\n",
       "      <td>14.500</td>\n",
       "    </tr>\n",
       "    <tr>\n",
       "      <th>29</th>\n",
       "      <td>15.500</td>\n",
       "    </tr>\n",
       "    <tr>\n",
       "      <th>30</th>\n",
       "      <td>14.600</td>\n",
       "    </tr>\n",
       "    <tr>\n",
       "      <th>31</th>\n",
       "      <td>18.600</td>\n",
       "    </tr>\n",
       "  </tbody>\n",
       "</table>\n",
       "</div>"
      ],
      "text/plain": [
       "      qsec\n",
       "0   16.460\n",
       "1   17.020\n",
       "2   18.610\n",
       "3    0.100\n",
       "4   17.020\n",
       "5   20.220\n",
       "6   15.840\n",
       "7   20.000\n",
       "8   22.900\n",
       "9   18.300\n",
       "10  17.600\n",
       "11  17.400\n",
       "12  17.600\n",
       "13  18.000\n",
       "14  17.980\n",
       "15  17.820\n",
       "16  17.420\n",
       "17  19.470\n",
       "18  18.520\n",
       "19  19.900\n",
       "20  20.010\n",
       "21  16.870\n",
       "22  17.300\n",
       "23  15.410\n",
       "24  42.396\n",
       "25  18.900\n",
       "26  16.700\n",
       "27  16.900\n",
       "28  14.500\n",
       "29  15.500\n",
       "30  14.600\n",
       "31  18.600"
      ]
     },
     "execution_count": 49,
     "metadata": {},
     "output_type": "execute_result"
    }
   ],
   "source": [
    "# sklearn 패키지의 preprocessing 모듈에서 StandardScaler 함수를 가져오기\n",
    "from sklearn.preprocessing import StandardScaler\n",
    "\n",
    "# X 변수에서 qsec 열만 추출한 후, temp 변수에 저장하기\n",
    "temp = X[['qsec']]\n",
    "temp"
   ]
  },
  {
   "cell_type": "markdown",
   "id": "85ea83df",
   "metadata": {},
   "source": [
    "## 표준 크기변환 : StandardScaler\n",
    "- 평균값이 0, 표준편차가 1인 정규분포로 변환시키는 방법\n",
    "- 종속변수가 범주형인 분류 문제에 주로 활용"
   ]
  },
  {
   "cell_type": "code",
   "execution_count": 50,
   "id": "d2beec34",
   "metadata": {},
   "outputs": [
    {
     "name": "stdout",
     "output_type": "stream",
     "text": [
      "[[-2.73145534e-01]\n",
      " [-1.73549067e-01]\n",
      " [ 1.09233759e-01]\n",
      " [-3.18278518e+00]\n",
      " [-1.73549067e-01]\n",
      " [ 3.95573602e-01]\n",
      " [-3.83413051e-01]\n",
      " [ 3.56446419e-01]\n",
      " [ 8.72213838e-01]\n",
      " [ 5.41000006e-02]\n",
      " [-7.03955833e-02]\n",
      " [-1.05965750e-01]\n",
      " [-7.03955833e-02]\n",
      " [ 7.44750368e-04]\n",
      " [-2.81226632e-03]\n",
      " [-3.12683998e-02]\n",
      " [-1.02408733e-01]\n",
      " [ 2.62185477e-01]\n",
      " [ 9.32271841e-02]\n",
      " [ 3.38661335e-01]\n",
      " [ 3.58224927e-01]\n",
      " [-2.00226692e-01]\n",
      " [-1.23750834e-01]\n",
      " [-4.59888910e-01]\n",
      " [ 4.33959370e+00]\n",
      " [ 1.60810501e-01]\n",
      " [-2.30461334e-01]\n",
      " [-1.94891167e-01]\n",
      " [-6.21733169e-01]\n",
      " [-4.43882335e-01]\n",
      " [-6.03948086e-01]\n",
      " [ 1.07455251e-01]]\n"
     ]
    }
   ],
   "source": [
    "# StandardScaler 함수를 호출하여 표준 크기변환 기능을 갖는 scaler라는 객체 만들기\n",
    "scaler = StandardScaler()\n",
    "\n",
    "# 표준 크기변환하는 scaler에게 fit_transform 명령으로 temp 변수의 크기 변환 요청하기\n",
    "print(scaler.fit_transform(temp))"
   ]
  },
  {
   "cell_type": "code",
   "execution_count": 52,
   "id": "de68a575",
   "metadata": {},
   "outputs": [
    {
     "name": "stdout",
     "output_type": "stream",
     "text": [
      "                  0\n",
      "count  3.200000e+01\n",
      "mean   8.066464e-17\n",
      "std    1.016001e+00\n",
      "min   -3.182785e+00\n",
      "25%   -2.077854e-01\n",
      "50%   -7.039558e-02\n",
      "75%    1.221279e-01\n",
      "max    4.339594e+00\n"
     ]
    }
   ],
   "source": [
    "# 표준 크기변환을 수행한 결과를 qsec_s_scaler 변수에 저장하기\n",
    "qsec_s_scaler = pd.DataFrame(scaler.fit_transform(temp))\n",
    "\n",
    "# qsec_s_scaler 변수의 기초 통계량 확인하기\n",
    "print(qsec_s_scaler.describe())"
   ]
  },
  {
   "cell_type": "markdown",
   "id": "8712581e",
   "metadata": {},
   "source": [
    "## 최소-최대 크기 변환 : MinMaxScaler\n",
    "- 최소값을 0, 최대값을 1인 분포로 변환시키는 방법\n",
    "- 주로 종속변수가 연속형 범주인 회귀 문제에 활용됨"
   ]
  },
  {
   "cell_type": "code",
   "execution_count": 53,
   "id": "78e695d7",
   "metadata": {},
   "outputs": [],
   "source": [
    "# sklearn 패키지의 preprocessing 모듈에서 MinMaxScaler 함수를 가져고이\n",
    "from sklearn.preprocessing import MinMaxScaler\n",
    "\n",
    "# X 변수에서 qsec 열만 추출한 후, temp 변수에 저장하기\n",
    "temp = X[['qsec']]"
   ]
  },
  {
   "cell_type": "code",
   "execution_count": 56,
   "id": "347910db",
   "metadata": {},
   "outputs": [
    {
     "name": "stdout",
     "output_type": "stream",
     "text": [
      "           0\n",
      "0   0.386798\n",
      "1   0.400038\n",
      "2   0.437630\n",
      "3   0.000000\n",
      "4   0.400038\n",
      "5   0.475695\n",
      "6   0.372139\n",
      "7   0.470494\n",
      "8   0.539058\n",
      "9   0.430301\n",
      "10  0.413751\n",
      "11  0.409022\n",
      "12  0.413751\n",
      "13  0.423208\n",
      "14  0.422735\n",
      "15  0.418952\n",
      "16  0.409495\n",
      "17  0.457963\n",
      "18  0.435502\n",
      "19  0.468129\n",
      "20  0.470730\n",
      "21  0.396491\n",
      "22  0.406658\n",
      "23  0.361973\n",
      "24  1.000000\n",
      "25  0.444486\n",
      "26  0.392472\n",
      "27  0.397201\n",
      "28  0.340458\n",
      "29  0.364101\n",
      "30  0.342822\n",
      "31  0.437394\n"
     ]
    }
   ],
   "source": [
    "# MinMaxScaler 함수를 호출하여 최소-최대 크기변환 기능을 갖는 scaler 객체 만들기\n",
    "scaler = MinMaxScaler()\n",
    "\n",
    "# 최소최대 크기 변환 기능이 있는 scaler에게 temp 변수의 크기 변환을 요청하고\n",
    "# 변환 결과는 qsec_m_scaler 변수에 저장하기\n",
    "qsec_m_scaler = pd.DataFrame(scaler.fit_transform(temp))\n",
    "\n",
    "# 최소최대 크기 변환 결과인 qsec_m_scaler 변수 확인하기\n",
    "print(qsec_m_scaler)"
   ]
  },
  {
   "cell_type": "code",
   "execution_count": 58,
   "id": "b42cfa22",
   "metadata": {},
   "outputs": [
    {
     "name": "stdout",
     "output_type": "stream",
     "text": [
      "               0\n",
      "count  32.000000\n",
      "mean    0.423109\n",
      "std     0.135064\n",
      "min     0.000000\n",
      "25%     0.395487\n",
      "50%     0.413751\n",
      "75%     0.439344\n",
      "max     1.000000\n"
     ]
    }
   ],
   "source": [
    "# qsec_m_scaler 변수의 기초 통계량 확인하기\n",
    "print(qsec_m_scaler.describe())"
   ]
  },
  {
   "cell_type": "markdown",
   "id": "d7240a34",
   "metadata": {},
   "source": [
    "## 로버스트 크기변환 : RobustScaler\n",
    "- 중앙값이 0, 사분범위(IQR)가 1인 분포로 변환시키는 방법\n",
    "- 이상값의 영향을 잘 받지 않는 변환기법"
   ]
  },
  {
   "cell_type": "code",
   "execution_count": 59,
   "id": "2c68490e",
   "metadata": {},
   "outputs": [
    {
     "name": "stdout",
     "output_type": "stream",
     "text": [
      "      qsec\n",
      "0   16.460\n",
      "1   17.020\n",
      "2   18.610\n",
      "3    0.100\n",
      "4   17.020\n",
      "5   20.220\n",
      "6   15.840\n",
      "7   20.000\n",
      "8   22.900\n",
      "9   18.300\n",
      "10  17.600\n",
      "11  17.400\n",
      "12  17.600\n",
      "13  18.000\n",
      "14  17.980\n",
      "15  17.820\n",
      "16  17.420\n",
      "17  19.470\n",
      "18  18.520\n",
      "19  19.900\n",
      "20  20.010\n",
      "21  16.870\n",
      "22  17.300\n",
      "23  15.410\n",
      "24  42.396\n",
      "25  18.900\n",
      "26  16.700\n",
      "27  16.900\n",
      "28  14.500\n",
      "29  15.500\n",
      "30  14.600\n",
      "31  18.600\n"
     ]
    }
   ],
   "source": [
    "# sklearn 패키지의 preprocessing 모듈에서 RobustScaler 함수를 가져오기\n",
    "from sklearn.preprocessing import RobustScaler\n",
    "\n",
    "# X 변수에서 qsec열만 추출한 후, temp 변수에 저장하기\n",
    "temp = X[['qsec']]\n",
    "print(temp)"
   ]
  },
  {
   "cell_type": "code",
   "execution_count": 61,
   "id": "25fd2d4d",
   "metadata": {},
   "outputs": [
    {
     "name": "stdout",
     "output_type": "stream",
     "text": [
      "            0\n",
      "0   -0.614555\n",
      "1   -0.312668\n",
      "2    0.544474\n",
      "3   -9.433962\n",
      "4   -0.312668\n",
      "5    1.412399\n",
      "6   -0.948787\n",
      "7    1.293801\n",
      "8    2.857143\n",
      "9    0.377358\n",
      "10   0.000000\n",
      "11  -0.107817\n",
      "12   0.000000\n",
      "13   0.215633\n",
      "14   0.204852\n",
      "15   0.118598\n",
      "16  -0.097035\n",
      "17   1.008086\n",
      "18   0.495957\n",
      "19   1.239892\n",
      "20   1.299191\n",
      "21  -0.393531\n",
      "22  -0.161725\n",
      "23  -1.180593\n",
      "24  13.367116\n",
      "25   0.700809\n",
      "26  -0.485175\n",
      "27  -0.377358\n",
      "28  -1.671159\n",
      "29  -1.132075\n",
      "30  -1.617251\n",
      "31   0.539084\n"
     ]
    }
   ],
   "source": [
    "# RobustScaler 함수를 호출하여 로버스트 크기변환 기능을 갖는 scaler 객체 만들기\n",
    "scaler = RobustScaler()\n",
    "\n",
    "# 로버스트 크기변환 기능이 있는 scaler에게 temp 변수의 크기변환을 요청하고\n",
    "# 변환결과는 qsec_r_scaler 변수에 저장하기\n",
    "qsec_r_scaler = pd.DataFrame(scaler.fit_transform(temp))\n",
    "\n",
    "# 로버스트 크기 변환 결과인 qsec_r_scaler 변수 확인하기\n",
    "print(qsec_r_scaler)"
   ]
  },
  {
   "cell_type": "code",
   "execution_count": 63,
   "id": "cd5b3907",
   "metadata": {},
   "outputs": [
    {
     "name": "stdout",
     "output_type": "stream",
     "text": [
      "               0\n",
      "count  32.000000\n",
      "mean    0.213376\n",
      "std     3.079600\n",
      "min    -9.433962\n",
      "25%    -0.416442\n",
      "50%     0.000000\n",
      "75%     0.583558\n",
      "max    13.367116\n"
     ]
    }
   ],
   "source": [
    "# qsec_r_scaler 변수의 기초 통계량 확인하기\n",
    "print(qsec_r_scaler.describe())"
   ]
  },
  {
   "cell_type": "code",
   "execution_count": 65,
   "id": "ad033bfa",
   "metadata": {},
   "outputs": [
    {
     "name": "stdout",
     "output_type": "stream",
     "text": [
      "<class 'pandas.core.frame.DataFrame'>\n",
      "RangeIndex: 32 entries, 0 to 31\n",
      "Data columns (total 10 columns):\n",
      " #   Column  Non-Null Count  Dtype  \n",
      "---  ------  --------------  -----  \n",
      " 0   cyl     32 non-null     float64\n",
      " 1   disp    32 non-null     float64\n",
      " 2   hp      32 non-null     float64\n",
      " 3   drat    32 non-null     float64\n",
      " 4   wt      32 non-null     float64\n",
      " 5   qsec    32 non-null     float64\n",
      " 6   vs      32 non-null     int64  \n",
      " 7   am      32 non-null     object \n",
      " 8   gear    32 non-null     object \n",
      " 9   carb    32 non-null     float64\n",
      "dtypes: float64(7), int64(1), object(2)\n",
      "memory usage: 2.6+ KB\n",
      "None\n"
     ]
    }
   ],
   "source": [
    "print(X.info())"
   ]
  },
  {
   "cell_type": "code",
   "execution_count": 69,
   "id": "cd68bbc4",
   "metadata": {},
   "outputs": [
    {
     "data": {
      "text/plain": [
       "dtype('int64')"
      ]
     },
     "execution_count": 69,
     "metadata": {},
     "output_type": "execute_result"
    }
   ],
   "source": [
    "# gear 열의 데이터 타입을 int64로 변경한 후, 다시 gear 열에 저장하기\n",
    "X['gear'] = X['gear'].astype('int64')\n",
    "\n",
    "# gear열의 데이터타입(dtype) 확인하기\n",
    "X['gear'].dtype"
   ]
  },
  {
   "cell_type": "markdown",
   "id": "a1d0e941",
   "metadata": {},
   "source": [
    "## 인코딩(encoding)\n",
    " ### 범주형을 수치형으로 변경하기\n",
    " - 원핫 인코딩 : 각 범주형 테이터를 개별 열로 만들어서 표현\n",
    "   - pd.get_dummies(X, drop_first = True)\n",
    " - 라벨 인코딩 : 범주형 데이터에 일련번호를 부여하여 수치형 데이터로 변경\n",
    "   - from sklearn.preprocessing import LabelEncoder\n",
    "   - encoder = LabelEncoder(0\n",
    "   - encoder.fit_transform(X['am'])"
   ]
  },
  {
   "cell_type": "markdown",
   "id": "650d30ba",
   "metadata": {},
   "source": [
    "### 원핫 인코딩 : One-Hot Encoding\n"
   ]
  },
  {
   "cell_type": "code",
   "execution_count": 71,
   "id": "1a4af715",
   "metadata": {},
   "outputs": [
    {
     "name": "stdout",
     "output_type": "stream",
     "text": [
      "   cyl   disp     hp  drat     wt   qsec  vs      am  gear  carb\n",
      "0  6.0  160.0  110.0  3.90  2.620  16.46   0  manual     4   4.0\n",
      "1  6.0  160.0  110.0  3.90  2.875  17.02   0  manual     4   4.0\n",
      "2  4.0  108.0   93.0  3.85  2.320  18.61   1  manual     4   1.0\n",
      "3  6.0  258.0  110.0  3.08  3.215   0.10   1    auto     3   1.0\n",
      "4  8.0  360.0  175.0  3.15  3.440  17.02   0    auto     3   2.0\n"
     ]
    }
   ],
   "source": [
    "# X 변수의 상위 5개 행 확인하기\n",
    "print(X.head())"
   ]
  },
  {
   "cell_type": "code",
   "execution_count": 72,
   "id": "44a59f43",
   "metadata": {},
   "outputs": [
    {
     "name": "stdout",
     "output_type": "stream",
     "text": [
      "['manual' 'auto']\n"
     ]
    }
   ],
   "source": [
    "# am열에서 중복 제거한 값들을 확인하기\n",
    "print(X['am'].unique())"
   ]
  },
  {
   "cell_type": "code",
   "execution_count": 74,
   "id": "9bd17566",
   "metadata": {},
   "outputs": [
    {
     "name": "stdout",
     "output_type": "stream",
     "text": [
      "    auto  manual\n",
      "0      0       1\n",
      "1      0       1\n",
      "2      0       1\n",
      "3      1       0\n",
      "4      1       0\n",
      "5      1       0\n",
      "6      1       0\n",
      "7      1       0\n",
      "8      1       0\n",
      "9      1       0\n",
      "10     1       0\n",
      "11     1       0\n",
      "12     1       0\n",
      "13     1       0\n",
      "14     1       0\n",
      "15     1       0\n",
      "16     1       0\n",
      "17     0       1\n",
      "18     0       1\n",
      "19     0       1\n",
      "20     1       0\n",
      "21     1       0\n",
      "22     1       0\n",
      "23     1       0\n",
      "24     1       0\n",
      "25     0       1\n",
      "26     0       1\n",
      "27     0       1\n",
      "28     0       1\n",
      "29     0       1\n",
      "30     0       1\n",
      "31     0       1\n"
     ]
    }
   ],
   "source": [
    "# X 변수의 am 열에 대해서 원핫 인코딩 수행하기\n",
    "print(pd.get_dummies(X['am']))"
   ]
  },
  {
   "cell_type": "code",
   "execution_count": 75,
   "id": "5a0b9226",
   "metadata": {},
   "outputs": [
    {
     "name": "stdout",
     "output_type": "stream",
     "text": [
      "    manual\n",
      "0        1\n",
      "1        1\n",
      "2        1\n",
      "3        0\n",
      "4        0\n",
      "5        0\n",
      "6        0\n",
      "7        0\n",
      "8        0\n",
      "9        0\n",
      "10       0\n",
      "11       0\n",
      "12       0\n",
      "13       0\n",
      "14       0\n",
      "15       0\n",
      "16       0\n",
      "17       1\n",
      "18       1\n",
      "19       1\n",
      "20       0\n",
      "21       0\n",
      "22       0\n",
      "23       0\n",
      "24       0\n",
      "25       1\n",
      "26       1\n",
      "27       1\n",
      "28       1\n",
      "29       1\n",
      "30       1\n",
      "31       1\n"
     ]
    }
   ],
   "source": [
    "# X 변수의 am열에 원핫 인코딩 수행하기.\n",
    "# 단, 생성된 첫번째 열은 삭제하기\n",
    "print(pd.get_dummies(X['am'], drop_first = True))"
   ]
  },
  {
   "cell_type": "code",
   "execution_count": 77,
   "id": "48a297d9",
   "metadata": {},
   "outputs": [
    {
     "name": "stdout",
     "output_type": "stream",
     "text": [
      "<class 'pandas.core.frame.DataFrame'>\n",
      "RangeIndex: 32 entries, 0 to 31\n",
      "Data columns (total 10 columns):\n",
      " #   Column  Non-Null Count  Dtype  \n",
      "---  ------  --------------  -----  \n",
      " 0   cyl     32 non-null     float64\n",
      " 1   disp    32 non-null     float64\n",
      " 2   hp      32 non-null     float64\n",
      " 3   drat    32 non-null     float64\n",
      " 4   wt      32 non-null     float64\n",
      " 5   qsec    32 non-null     float64\n",
      " 6   vs      32 non-null     int64  \n",
      " 7   am      32 non-null     object \n",
      " 8   gear    32 non-null     int64  \n",
      " 9   carb    32 non-null     float64\n",
      "dtypes: float64(7), int64(2), object(1)\n",
      "memory usage: 2.6+ KB\n",
      "None\n",
      "     cyl   disp      hp  drat     wt    qsec  vs  gear   carb  am_manual\n",
      "0    6.0  160.0  110.00  3.90  2.620  16.460   0     4  4.000          1\n",
      "1    6.0  160.0  110.00  3.90  2.875  17.020   0     4  4.000          1\n",
      "2    4.0  108.0   93.00  3.85  2.320  18.610   1     4  1.000          1\n",
      "3    6.0  258.0  110.00  3.08  3.215   0.100   1     3  1.000          0\n",
      "4    8.0  360.0  175.00  3.15  3.440  17.020   0     3  2.000          0\n",
      "5    6.0  225.0  105.00  2.76  3.460  20.220   1     3  1.000          0\n",
      "6    8.0  360.0  245.00  3.21  3.570  15.840   0     3  4.000          0\n",
      "7    7.6  146.7   62.00  3.69  3.190  20.000   1     4  2.000          0\n",
      "8    4.0  140.8   95.00  3.92  3.150  22.900   1     4  2.000          0\n",
      "9    6.0  167.6  123.00  3.92  3.440  18.300   1     4  4.000          0\n",
      "10   6.0  167.6  123.00  3.92  3.440  17.600   1     4  4.000          0\n",
      "11   8.0  275.8  180.00  3.07  4.070  17.400   0     3  3.000          0\n",
      "12   8.0  275.8  180.00  3.07  3.730  17.600   0     3  3.000          0\n",
      "13   8.0  275.8  180.00  3.07  3.780  18.000   0     3  3.000          0\n",
      "14  14.0  472.0  205.00  2.93  5.250  17.980   0     3  4.000          0\n",
      "15   8.0  460.0  215.00  3.00  5.424  17.820   0     3  4.000          0\n",
      "16   8.0  440.0  230.00  3.23  5.345  17.420   0     3  4.000          0\n",
      "17   4.0   78.7   66.00  4.08  2.200  19.470   1     4  1.000          1\n",
      "18   4.0   75.7   52.00  4.93  1.615  18.520   1     4  2.000          1\n",
      "19   4.0   71.1   65.00  4.22  1.835  19.900   1     4  1.000          1\n",
      "20   4.0  120.1   97.00  3.70  2.465  20.010   1     3  1.000          0\n",
      "21   8.0  318.0  150.00  2.76  3.520  16.870   0     3  2.000          0\n",
      "22   8.0  304.0  150.00  3.15  3.435  17.300   0     3  2.000          0\n",
      "23   8.0  350.0  245.00  3.73  3.840  15.410   0     3  4.000          0\n",
      "24   7.6  400.0  175.00  3.08  3.845  42.396   0     3  2.000          0\n",
      "25   4.0   79.0   66.00  4.08  1.935  18.900   1     4  1.000          1\n",
      "26   4.0  120.3   91.00  4.43  2.140  16.700   0     5  2.000          1\n",
      "27   4.0   95.1  113.00  3.77  1.513  16.900   1     5  2.000          1\n",
      "28   8.0  351.0  264.00  4.22  3.170  14.500   0     5  4.000          1\n",
      "29   6.0  145.0  175.00  3.62  2.770  15.500   0     5  5.235          1\n",
      "30   8.0  301.0  305.25  3.54  3.570  14.600   0     5  5.235          1\n",
      "31   4.0  121.0  109.00  4.11  2.780  18.600   1     4  2.000          1\n"
     ]
    }
   ],
   "source": [
    "# X 변수의 데이터 타입 확인하기\n",
    "print(X.info())\n",
    "# X 변수의 전체 열을 대상으로 원핫 인코딩 수행하기\n",
    "print(pd.get_dummies(X, drop_first = True))"
   ]
  },
  {
   "cell_type": "markdown",
   "id": "4904111c",
   "metadata": {},
   "source": [
    "### 라벨 인코딩  : Label Encoding\n",
    " - 값의 크고 작음에 따라 모델이 영향을 받기때문에 트리계열의 데이터 분석에 사용됨"
   ]
  },
  {
   "cell_type": "code",
   "execution_count": 79,
   "id": "02882059",
   "metadata": {},
   "outputs": [
    {
     "name": "stdout",
     "output_type": "stream",
     "text": [
      "0    manual\n",
      "1    manual\n",
      "2    manual\n",
      "3      auto\n",
      "4      auto\n",
      "Name: am, dtype: object\n"
     ]
    }
   ],
   "source": [
    "# am 열의 상위 5개 행을 확인하기\n",
    "print(X['am'].head())"
   ]
  },
  {
   "cell_type": "code",
   "execution_count": 82,
   "id": "a7294f6d",
   "metadata": {},
   "outputs": [],
   "source": [
    "# sklearn 라이브러리에서 LabelEncoder 함수 가져오기\n",
    "from sklearn.preprocessing import LabelEncoder\n",
    "\n",
    "# LabelEncoder 호출을 통해, 인코딩 기능을 갖는 encoder 변수 만들기\n",
    "encoder = LabelEncoder()"
   ]
  },
  {
   "cell_type": "code",
   "execution_count": 84,
   "id": "9a53003c",
   "metadata": {},
   "outputs": [
    {
     "name": "stdout",
     "output_type": "stream",
     "text": [
      "[1 1 1 0 0 0 0 0 0 0 0 0 0 0 0 0 0 1 1 1 0 0 0 0 0 1 1 1 1 1 1 1]\n"
     ]
    }
   ],
   "source": [
    "# encoder를 통해 am열 값에 대해 라벨 인코딩 수행하기\n",
    "print(encoder.fit_transform(X['am'])) # 인코더에 'am'값을 넣어서 변환하기"
   ]
  },
  {
   "cell_type": "code",
   "execution_count": 85,
   "id": "decca54a",
   "metadata": {},
   "outputs": [
    {
     "name": "stdout",
     "output_type": "stream",
     "text": [
      "['apple', 'banana', 'grape'] [0 1 2]\n"
     ]
    }
   ],
   "source": [
    "# 3가지 과일이 들어있는 fruit 변수 만들기\n",
    "fruit = ['apple', 'banana', 'grape']\n",
    "\n",
    "# LabelEncoder 호출을 통해 라벨 인코딩 기능을 갖는 encoder 변수 만들기\n",
    "encoder = LabelEncoder()\n",
    "\n",
    "# encoder를 통해 fruit 변수에 대한 라벨 인코딩 수행 후, 결과는 fruit_new에 저장하기\n",
    "fruit_new = encoder.fit_transform(fruit)\n",
    "\n",
    "# 기존의 fruit 변수와 라벨인코딩한 fruit_new 변수를 비교해보기\n",
    "print(fruit, fruit_new)"
   ]
  },
  {
   "cell_type": "markdown",
   "id": "ef4125db",
   "metadata": {},
   "source": [
    "### 수동인코딩 : replace()\n",
    "- 데이터의 종류가 많지 않은 경우"
   ]
  },
  {
   "cell_type": "code",
   "execution_count": 86,
   "id": "9a965978",
   "metadata": {},
   "outputs": [
    {
     "name": "stdout",
     "output_type": "stream",
     "text": [
      "   cyl   disp     hp  drat     wt   qsec  vs      am  gear  carb  am_new\n",
      "0  6.0  160.0  110.0  3.90  2.620  16.46   0  manual     4   4.0       0\n",
      "1  6.0  160.0  110.0  3.90  2.875  17.02   0  manual     4   4.0       0\n",
      "2  4.0  108.0   93.0  3.85  2.320  18.61   1  manual     4   1.0       0\n",
      "3  6.0  258.0  110.0  3.08  3.215   0.10   1    auto     3   1.0       1\n",
      "4  8.0  360.0  175.0  3.15  3.440  17.02   0    auto     3   2.0       1\n"
     ]
    }
   ],
   "source": [
    "# am 열에서 manual은 0으로, auto는 1로 변경한 후, 새로운 am_new열에 저장하기\n",
    "X['am_new'] = X['am'].replace('manual', 0).replace('auto', 1)\n",
    "\n",
    "# X변수의 am_new 열을 확인하기\n",
    "print(X.head())"
   ]
  },
  {
   "cell_type": "code",
   "execution_count": 87,
   "id": "3903ed95",
   "metadata": {},
   "outputs": [
    {
     "name": "stdout",
     "output_type": "stream",
     "text": [
      "   cyl   disp     hp  drat     wt   qsec  vs  gear  carb  am_new\n",
      "0  6.0  160.0  110.0  3.90  2.620  16.46   0     4   4.0       0\n",
      "1  6.0  160.0  110.0  3.90  2.875  17.02   0     4   4.0       0\n",
      "2  4.0  108.0   93.0  3.85  2.320  18.61   1     4   1.0       0\n",
      "3  6.0  258.0  110.0  3.08  3.215   0.10   1     3   1.0       1\n",
      "4  8.0  360.0  175.0  3.15  3.440  17.02   0     3   2.0       1\n"
     ]
    }
   ],
   "source": [
    "# X 변수에서 am열을 삭제한 후, X 변수에 다시 저장하기\n",
    "X = X.drop(columns=['am'])\n",
    "\n",
    "# X 변수의 상위 5개 행을 확인하기\n",
    "print(X.head())"
   ]
  },
  {
   "cell_type": "markdown",
   "id": "200f80a7",
   "metadata": {},
   "source": [
    "## 파생변수 만들기"
   ]
  },
  {
   "cell_type": "code",
   "execution_count": 88,
   "id": "75eb1cdb",
   "metadata": {},
   "outputs": [
    {
     "name": "stdout",
     "output_type": "stream",
     "text": [
      "0     2.620\n",
      "1     2.875\n",
      "2     2.320\n",
      "3     3.215\n",
      "4     3.440\n",
      "5     3.460\n",
      "6     3.570\n",
      "7     3.190\n",
      "8     3.150\n",
      "9     3.440\n",
      "10    3.440\n",
      "11    4.070\n",
      "12    3.730\n",
      "13    3.780\n",
      "14    5.250\n",
      "15    5.424\n",
      "16    5.345\n",
      "17    2.200\n",
      "18    1.615\n",
      "19    1.835\n",
      "20    2.465\n",
      "21    3.520\n",
      "22    3.435\n",
      "23    3.840\n",
      "24    3.845\n",
      "25    1.935\n",
      "26    2.140\n",
      "27    1.513\n",
      "28    3.170\n",
      "29    2.770\n",
      "30    3.570\n",
      "31    2.780\n",
      "Name: wt, dtype: float64\n"
     ]
    }
   ],
   "source": [
    "print(X['wt'])"
   ]
  },
  {
   "cell_type": "code",
   "execution_count": 94,
   "id": "012aae5f",
   "metadata": {},
   "outputs": [
    {
     "name": "stdout",
     "output_type": "stream",
     "text": [
      "0      True\n",
      "1      True\n",
      "2      True\n",
      "3      True\n",
      "4     False\n",
      "5     False\n",
      "6     False\n",
      "7      True\n",
      "8      True\n",
      "9     False\n",
      "10    False\n",
      "11    False\n",
      "12    False\n",
      "13    False\n",
      "14    False\n",
      "15    False\n",
      "16    False\n",
      "17     True\n",
      "18     True\n",
      "19     True\n",
      "20     True\n",
      "21    False\n",
      "22    False\n",
      "23    False\n",
      "24    False\n",
      "25     True\n",
      "26     True\n",
      "27     True\n",
      "28     True\n",
      "29     True\n",
      "30    False\n",
      "31     True\n",
      "Name: wt, dtype: bool\n"
     ]
    }
   ],
   "source": [
    "print(X['wt'] < 3.3)"
   ]
  },
  {
   "cell_type": "code",
   "execution_count": 97,
   "id": "b2a42bbc",
   "metadata": {},
   "outputs": [],
   "source": [
    "# wt 열이 3.3보다 작은지 여부의 결과는 condition 변수에 저장하기\n",
    "condition = X['wt'] < 3.3\n",
    "# X 변수가 condition 조건을 만족하면, wt_class 열에 0으로 저장하기\n",
    "X.loc[condition, 'wt_class'] = 0\n",
    "# X 변수가 condition 조건을 맍고하지 않으면, wt_class 열에 1로 저장하기\n",
    "X.loc[~condition, 'wt_class'] = 1"
   ]
  },
  {
   "cell_type": "code",
   "execution_count": 99,
   "id": "8abc26aa",
   "metadata": {},
   "outputs": [
    {
     "name": "stdout",
     "output_type": "stream",
     "text": [
      "       wt  wt_class\n",
      "0   2.620       0.0\n",
      "1   2.875       0.0\n",
      "2   2.320       0.0\n",
      "3   3.215       0.0\n",
      "4   3.440       1.0\n",
      "5   3.460       1.0\n",
      "6   3.570       1.0\n",
      "7   3.190       0.0\n",
      "8   3.150       0.0\n",
      "9   3.440       1.0\n",
      "10  3.440       1.0\n",
      "11  4.070       1.0\n",
      "12  3.730       1.0\n",
      "13  3.780       1.0\n",
      "14  5.250       1.0\n",
      "15  5.424       1.0\n",
      "16  5.345       1.0\n",
      "17  2.200       0.0\n",
      "18  1.615       0.0\n",
      "19  1.835       0.0\n",
      "20  2.465       0.0\n",
      "21  3.520       1.0\n",
      "22  3.435       1.0\n",
      "23  3.840       1.0\n",
      "24  3.845       1.0\n",
      "25  1.935       0.0\n",
      "26  2.140       0.0\n",
      "27  1.513       0.0\n",
      "28  3.170       0.0\n",
      "29  2.770       0.0\n",
      "30  3.570       1.0\n",
      "31  2.780       0.0\n"
     ]
    }
   ],
   "source": [
    "# wt 열과 wt_class 열 값을 확인하기\n",
    "print(X[['wt', 'wt_class']])"
   ]
  },
  {
   "cell_type": "code",
   "execution_count": 100,
   "id": "3f555223",
   "metadata": {},
   "outputs": [
    {
     "name": "stdout",
     "output_type": "stream",
     "text": [
      "   cyl   disp     hp  drat   qsec  vs  gear  carb  am_new  wt_class\n",
      "0  6.0  160.0  110.0  3.90  16.46   0     4   4.0       0       0.0\n",
      "1  6.0  160.0  110.0  3.90  17.02   0     4   4.0       0       0.0\n",
      "2  4.0  108.0   93.0  3.85  18.61   1     4   1.0       0       0.0\n",
      "3  6.0  258.0  110.0  3.08   0.10   1     3   1.0       1       0.0\n",
      "4  8.0  360.0  175.0  3.15  17.02   0     3   2.0       1       1.0\n"
     ]
    }
   ],
   "source": [
    "# X 변수에서 wt 열을 삭제한 후, 삭제 결과를 X 변수에 다시 저장하기\n",
    "X = X.drop(columns=['wt'])\n",
    "\n",
    "# X 변수의 상위 5개 행을 확인하기\n",
    "print(X.head())"
   ]
  },
  {
   "cell_type": "code",
   "execution_count": 102,
   "id": "d885c706",
   "metadata": {},
   "outputs": [
    {
     "name": "stdout",
     "output_type": "stream",
     "text": [
      "      qsec   qsec_4\n",
      "0   16.460   65.840\n",
      "1   17.020   68.080\n",
      "2   18.610   74.440\n",
      "3    0.100    0.400\n",
      "4   17.020   68.080\n",
      "5   20.220   80.880\n",
      "6   15.840   63.360\n",
      "7   20.000   80.000\n",
      "8   22.900   91.600\n",
      "9   18.300   73.200\n",
      "10  17.600   70.400\n",
      "11  17.400   69.600\n",
      "12  17.600   70.400\n",
      "13  18.000   72.000\n",
      "14  17.980   71.920\n",
      "15  17.820   71.280\n",
      "16  17.420   69.680\n",
      "17  19.470   77.880\n",
      "18  18.520   74.080\n",
      "19  19.900   79.600\n",
      "20  20.010   80.040\n",
      "21  16.870   67.480\n",
      "22  17.300   69.200\n",
      "23  15.410   61.640\n",
      "24  42.396  169.584\n",
      "25  18.900   75.600\n",
      "26  16.700   66.800\n",
      "27  16.900   67.600\n",
      "28  14.500   58.000\n",
      "29  15.500   62.000\n",
      "30  14.600   58.400\n",
      "31  18.600   74.400\n"
     ]
    }
   ],
   "source": [
    "# qsec 열에 4를 곱한 결과를 qsec_4열에 저장하기\n",
    "X['qsec_4'] = X['qsec'] * 4\n",
    "\n",
    "# qsec열과 qsec_4열 값을 확인하기\n",
    "print(X[['qsec', 'qsec_4']])"
   ]
  },
  {
   "cell_type": "code",
   "execution_count": 103,
   "id": "e642829c",
   "metadata": {},
   "outputs": [
    {
     "name": "stdout",
     "output_type": "stream",
     "text": [
      "   cyl   disp     hp  drat  vs  gear  carb  am_new  wt_class  qsec_4\n",
      "0  6.0  160.0  110.0  3.90   0     4   4.0       0       0.0   65.84\n",
      "1  6.0  160.0  110.0  3.90   0     4   4.0       0       0.0   68.08\n",
      "2  4.0  108.0   93.0  3.85   1     4   1.0       0       0.0   74.44\n",
      "3  6.0  258.0  110.0  3.08   1     3   1.0       1       0.0    0.40\n",
      "4  8.0  360.0  175.0  3.15   0     3   2.0       1       1.0   68.08\n"
     ]
    }
   ],
   "source": [
    "# X 변수에서 qsec 열을 삭제한 후, X 변수에 다시 저장하기\n",
    "X = X.drop(columns = ['qsec'])\n",
    "\n",
    "# X 변수의 상위 5개 행을 확인하기\n",
    "print(X.head())"
   ]
  },
  {
   "cell_type": "markdown",
   "id": "6b3e5ba3",
   "metadata": {},
   "source": [
    "### 학습데이터와 테스트 데이터를 분리하기\n",
    "- train_test_split() (model_selection 모듈)"
   ]
  },
  {
   "cell_type": "code",
   "execution_count": 104,
   "id": "22168387",
   "metadata": {},
   "outputs": [],
   "source": [
    "# 데이터 분리를 위해 train_test_split 함수를 가져오기\n",
    "from sklearn.model_selection import train_test_split"
   ]
  },
  {
   "cell_type": "code",
   "execution_count": 105,
   "id": "f2972643",
   "metadata": {},
   "outputs": [],
   "source": [
    "# X, Y 변수로 학습 데이터는 70%, 테스트 데이터는 30%로 분리하기\n",
    "x_train, x_test, y_train, y_test = train_test_split(X, Y, test_size=0.3, random_state = 10)"
   ]
  },
  {
   "cell_type": "code",
   "execution_count": 108,
   "id": "109edb8f",
   "metadata": {},
   "outputs": [
    {
     "data": {
      "text/plain": [
       "((22, 10), (10, 10), (22,), (10,))"
      ]
     },
     "execution_count": 108,
     "metadata": {},
     "output_type": "execute_result"
    }
   ],
   "source": [
    "x_train.shape, x_test.shape, y_train.shape, y_test.shape"
   ]
  },
  {
   "cell_type": "code",
   "execution_count": 110,
   "id": "dcd59427",
   "metadata": {},
   "outputs": [
    {
     "name": "stdout",
     "output_type": "stream",
     "text": [
      "     cyl   disp     hp  drat  vs  gear  carb  am_new  wt_class  qsec_4\n",
      "19   4.0   71.1   65.0  4.22   1     4   1.0       0       0.0   79.60\n",
      "14  14.0  472.0  205.0  2.93   0     3   4.0       1       1.0   71.92\n",
      "18   4.0   75.7   52.0  4.93   1     4   2.0       0       0.0   74.08\n",
      "6    8.0  360.0  245.0  3.21   0     3   4.0       1       1.0   63.36\n",
      "11   8.0  275.8  180.0  3.07   0     3   3.0       1       1.0   69.60\n",
      "19    33.9\n",
      "14    10.4\n",
      "18    30.4\n",
      "6     14.3\n",
      "11    16.4\n",
      "Name: mpg, dtype: float64\n",
      "    cyl   disp     hp  drat  vs  gear  carb  am_new  wt_class  qsec_4\n",
      "20  4.0  120.1   97.0  3.70   1     3   1.0       1       0.0   80.04\n",
      "7   7.6  146.7   62.0  3.69   1     4   2.0       1       0.0   80.00\n",
      "5   6.0  225.0  105.0  2.76   1     3   1.0       1       1.0   80.88\n",
      "2   4.0  108.0   93.0  3.85   1     4   1.0       0       0.0   74.44\n",
      "3   6.0  258.0  110.0  3.08   1     3   1.0       1       0.0    0.40\n",
      "20    21.5\n",
      "7     24.4\n",
      "5     18.1\n",
      "2     22.8\n",
      "3     21.4\n",
      "Name: mpg, dtype: float64\n"
     ]
    }
   ],
   "source": [
    "# 독립변수인 학습데이터의 상위 5개 행 확인하기\n",
    "print(x_train.head())\n",
    "\n",
    "# 종속변수인 학습 데이터의 상위 5개 행 확인하기\n",
    "print(y_train.head())\n",
    "\n",
    "# 독립변수인 테스트 데이터의 상위 5개 행 확인하기\n",
    "print(x_test.head())\n",
    "\n",
    "# 종속변수인 테스트 데이터의 상위 5개 행 확인하기\n",
    "print(y_test.head())"
   ]
  },
  {
   "cell_type": "markdown",
   "id": "d534b032",
   "metadata": {},
   "source": [
    "## 모델링\n",
    "- 모델을 학습시키고, 결과를 평가하기\n",
    "\n",
    "(1) 사용할 모델의 함수 가져오기\n",
    "- from sklearn.모듈 import 모델함수  \n",
    "\n",
    "(2) 학습 모델을 만들기\n",
    "- model = 모델함수()  \n",
    "\n",
    "(3) 학습 데이터로 모델 학습시키기\n",
    "- model.fit(x_train, y_train)  \n",
    "\n",
    "(4) 학습된 모델로 값을 예측하기\n",
    "- y_train의 예측값 = model.predict(x_train)\n",
    "- y_test의 예측값 = model.predict(x_test)"
   ]
  },
  {
   "cell_type": "markdown",
   "id": "35f88f07",
   "metadata": {},
   "source": [
    "### 모델 평가와 파이썬 코드\n",
    "(1) 평가할 함수 가져오기\n",
    "- from sklearn.metrics import 평가함수\n",
    "\n",
    "(2) 모델 평가하기\n",
    "- print(평가함수(y_train, y_train의 예측값))\n",
    "- print(평가함수(y_test, y_test의 예측값))"
   ]
  },
  {
   "cell_type": "markdown",
   "id": "ebe6a2d3",
   "metadata": {},
   "source": [
    "#### 선형회귀 ( LinearRegression )"
   ]
  },
  {
   "cell_type": "code",
   "execution_count": 111,
   "id": "a4a55695",
   "metadata": {},
   "outputs": [],
   "source": [
    "# 선형회귀 분석 : linear_model모듈에서 LinearRegression 모델을 가져오기\n",
    "from sklearn.linear_model import LinearRegression\n",
    "\n",
    "# 선형회귀 분석을 수행할 기본적인 모델(model) 만들기\n",
    "model = LinearRegression()\n",
    "\n",
    "# 생성한 모델에 x_train, y_train을 전달해서 선형회귀 방법으로 공부시키기\n",
    "model.fit(x_train, y_train)\n",
    "\n",
    "# 학습이 완료된 모델에 x_train을 전달하여 y_train 값을 예측하기\n",
    "y_train_predicted = model.predict(x_train)\n",
    "\n",
    "# 학습이 완료된 모델에 x_test를 전달하여 y_test값을 예측하기\n",
    "y_test_predicted = model.predict(x_test)"
   ]
  },
  {
   "cell_type": "code",
   "execution_count": 112,
   "id": "a01f71d2",
   "metadata": {},
   "outputs": [
    {
     "name": "stdout",
     "output_type": "stream",
     "text": [
      "24.269976151248546\n"
     ]
    }
   ],
   "source": [
    "# 선형회귀 모델로 도출된 y절편 값 구하기\n",
    "print(model.intercept_)"
   ]
  },
  {
   "cell_type": "code",
   "execution_count": 113,
   "id": "535a1d35",
   "metadata": {},
   "outputs": [
    {
     "name": "stdout",
     "output_type": "stream",
     "text": [
      "[-0.13806535 -0.01231226 -0.00409045  0.96664468  1.12299283  0.65737698\n",
      " -1.97459464 -3.57949528  0.01935106  0.02389729]\n"
     ]
    }
   ],
   "source": [
    "# 선형회귀 모델에 포함된 독립변수들의 각 기울기 값 구하기\n",
    "print(model.coef_) # 회귀계수 값"
   ]
  },
  {
   "cell_type": "code",
   "execution_count": null,
   "id": "ac760483",
   "metadata": {},
   "outputs": [],
   "source": [
    "''' \n",
    "평가지표\n",
    " - MAE(Mean Absolute Error)\n",
    " - MSE(Mean Squared Error)\n",
    " - RMSE(Root Mean Squared Error)\n",
    " - 결정계수\n",
    "'''"
   ]
  },
  {
   "cell_type": "code",
   "execution_count": 114,
   "id": "23eef8da",
   "metadata": {},
   "outputs": [
    {
     "name": "stdout",
     "output_type": "stream",
     "text": [
      "0.9063060047456276\n"
     ]
    }
   ],
   "source": [
    "# 선형회귀 분석 model에서 학습 데이터에 대한 결정계수 구하기\n",
    "print(model.score(x_train, y_train))"
   ]
  },
  {
   "cell_type": "code",
   "execution_count": 115,
   "id": "7598936d",
   "metadata": {},
   "outputs": [
    {
     "name": "stdout",
     "output_type": "stream",
     "text": [
      "0.101814271494583\n"
     ]
    }
   ],
   "source": [
    "# 선형회귀 분석 model에서 테스트 데이터에 대한 결정계수 구하기\n",
    "print(model.score(x_test, y_test))"
   ]
  },
  {
   "cell_type": "code",
   "execution_count": 116,
   "id": "25f4a39e",
   "metadata": {},
   "outputs": [],
   "source": [
    "# 결정계수를 계산하는 r2_score 함수 가져오기\n",
    "from sklearn.metrics import r2_score\n",
    "\n",
    "# MAE를 계산하는 mean_absolute_error 함수 가져오기\n",
    "from sklearn.metrics import mean_absolute_error\n",
    "\n",
    "# MSE를 계산하는 mean_squared_error 함수 가져오기\n",
    "from sklearn.metrics import mean_squared_error\n",
    "\n",
    "# w제곱근 계산을 위하여 numpy 라이브러리 가져오기\n",
    "import numpy as np"
   ]
  },
  {
   "cell_type": "code",
   "execution_count": 117,
   "id": "5db5e072",
   "metadata": {},
   "outputs": [
    {
     "name": "stdout",
     "output_type": "stream",
     "text": [
      "0.9063060047456276\n",
      "0.101814271494583\n",
      "8.922577026972812\n",
      "2.9870682996832882\n",
      "2.3740787517183937\n"
     ]
    }
   ],
   "source": [
    "# (1) 학습 데이터의 결정계수 구하기\n",
    "print(r2_score(y_train, y_train_predicted))\n",
    "\n",
    "# (2) 테스트 데이터의 결정계수 구하기\n",
    "print(r2_score(y_test, y_test_predicted))\n",
    "\n",
    "# (3) 테스트 데이터의 MSE 지표 구하기\n",
    "print(mean_squared_error(y_test, y_test_predicted))\n",
    "\n",
    "# (4) 테스트 데이터의 RMSE 지표 구하기\n",
    "print(np.sqrt(mean_squared_error(y_test, y_test_predicted)))\n",
    "\n",
    "# (5) 테스트 데이터의 MAE 지표 구하기\n",
    "print(mean_absolute_error(y_test, y_test_predicted))"
   ]
  },
  {
   "cell_type": "code",
   "execution_count": null,
   "id": "07b36ecb",
   "metadata": {},
   "outputs": [],
   "source": []
  }
 ],
 "metadata": {
  "kernelspec": {
   "display_name": "Python 3 (ipykernel)",
   "language": "python",
   "name": "python3"
  },
  "language_info": {
   "codemirror_mode": {
    "name": "ipython",
    "version": 3
   },
   "file_extension": ".py",
   "mimetype": "text/x-python",
   "name": "python",
   "nbconvert_exporter": "python",
   "pygments_lexer": "ipython3",
   "version": "3.9.12"
  }
 },
 "nbformat": 4,
 "nbformat_minor": 5
}
