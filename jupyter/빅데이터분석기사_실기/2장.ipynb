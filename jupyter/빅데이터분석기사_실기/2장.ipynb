{
 "cells": [
  {
   "cell_type": "code",
   "execution_count": null,
   "id": "4d9963e0",
   "metadata": {},
   "outputs": [],
   "source": [
    "# 시리즈 변수"
   ]
  },
  {
   "cell_type": "code",
   "execution_count": 2,
   "id": "bf1a8f0b",
   "metadata": {},
   "outputs": [
    {
     "data": {
      "text/plain": [
       "pandas.core.series.Series"
      ]
     },
     "execution_count": 2,
     "metadata": {},
     "output_type": "execute_result"
    }
   ],
   "source": [
    "import pandas as pd\n",
    "리스트변수 = ['홍길동', '이순신', '유관순', '윤봉길']\n",
    "시리즈변수 = pd.Series(리스트변수)\n",
    "type(시리즈변수)"
   ]
  },
  {
   "cell_type": "code",
   "execution_count": 5,
   "id": "e4ab7b9f",
   "metadata": {},
   "outputs": [
    {
     "data": {
      "text/plain": [
       "0    홍길동\n",
       "1    이순신\n",
       "2    유관순\n",
       "3    윤봉길\n",
       "dtype: object"
      ]
     },
     "execution_count": 5,
     "metadata": {},
     "output_type": "execute_result"
    }
   ],
   "source": [
    "시리즈변수"
   ]
  },
  {
   "cell_type": "code",
   "execution_count": 8,
   "id": "06e1cd37",
   "metadata": {},
   "outputs": [
    {
     "data": {
      "text/plain": [
       "pandas.core.frame.DataFrame"
      ]
     },
     "execution_count": 8,
     "metadata": {},
     "output_type": "execute_result"
    }
   ],
   "source": [
    "# 데이터프레임\n",
    "import pandas as pd\n",
    "리스트변수 = (['홍길동', 29, '여'], ['이순신', 24, '남'],\n",
    "                ['유관순', 38, '남'], ['윤봉길', 31, '여'])\n",
    "# '리스트변수'를 데이터프레임 타입으로 변경하여 '데이터프레임변수'에 저장하기\n",
    "데이터프레임변수 = pd.DataFrame(리스트변수)\n",
    "type(데이터프레임변수)"
   ]
  },
  {
   "cell_type": "code",
   "execution_count": 9,
   "id": "6c90ed1f",
   "metadata": {},
   "outputs": [
    {
     "data": {
      "text/html": [
       "<div>\n",
       "<style scoped>\n",
       "    .dataframe tbody tr th:only-of-type {\n",
       "        vertical-align: middle;\n",
       "    }\n",
       "\n",
       "    .dataframe tbody tr th {\n",
       "        vertical-align: top;\n",
       "    }\n",
       "\n",
       "    .dataframe thead th {\n",
       "        text-align: right;\n",
       "    }\n",
       "</style>\n",
       "<table border=\"1\" class=\"dataframe\">\n",
       "  <thead>\n",
       "    <tr style=\"text-align: right;\">\n",
       "      <th></th>\n",
       "      <th>0</th>\n",
       "      <th>1</th>\n",
       "      <th>2</th>\n",
       "    </tr>\n",
       "  </thead>\n",
       "  <tbody>\n",
       "    <tr>\n",
       "      <th>0</th>\n",
       "      <td>홍길동</td>\n",
       "      <td>29</td>\n",
       "      <td>여</td>\n",
       "    </tr>\n",
       "    <tr>\n",
       "      <th>1</th>\n",
       "      <td>이순신</td>\n",
       "      <td>24</td>\n",
       "      <td>남</td>\n",
       "    </tr>\n",
       "    <tr>\n",
       "      <th>2</th>\n",
       "      <td>유관순</td>\n",
       "      <td>38</td>\n",
       "      <td>남</td>\n",
       "    </tr>\n",
       "    <tr>\n",
       "      <th>3</th>\n",
       "      <td>윤봉길</td>\n",
       "      <td>31</td>\n",
       "      <td>여</td>\n",
       "    </tr>\n",
       "  </tbody>\n",
       "</table>\n",
       "</div>"
      ],
      "text/plain": [
       "     0   1  2\n",
       "0  홍길동  29  여\n",
       "1  이순신  24  남\n",
       "2  유관순  38  남\n",
       "3  윤봉길  31  여"
      ]
     },
     "execution_count": 9,
     "metadata": {},
     "output_type": "execute_result"
    }
   ],
   "source": [
    "데이터프레임변수"
   ]
  },
  {
   "cell_type": "code",
   "execution_count": 15,
   "id": "e114f14a",
   "metadata": {},
   "outputs": [
    {
     "data": {
      "text/html": [
       "<div>\n",
       "<style scoped>\n",
       "    .dataframe tbody tr th:only-of-type {\n",
       "        vertical-align: middle;\n",
       "    }\n",
       "\n",
       "    .dataframe tbody tr th {\n",
       "        vertical-align: top;\n",
       "    }\n",
       "\n",
       "    .dataframe thead th {\n",
       "        text-align: right;\n",
       "    }\n",
       "</style>\n",
       "<table border=\"1\" class=\"dataframe\">\n",
       "  <thead>\n",
       "    <tr style=\"text-align: right;\">\n",
       "      <th></th>\n",
       "      <th>0</th>\n",
       "      <th>1</th>\n",
       "      <th>2</th>\n",
       "    </tr>\n",
       "  </thead>\n",
       "  <tbody>\n",
       "    <tr>\n",
       "      <th>1번</th>\n",
       "      <td>홍길동</td>\n",
       "      <td>29</td>\n",
       "      <td>여</td>\n",
       "    </tr>\n",
       "    <tr>\n",
       "      <th>2번</th>\n",
       "      <td>이순신</td>\n",
       "      <td>24</td>\n",
       "      <td>남</td>\n",
       "    </tr>\n",
       "    <tr>\n",
       "      <th>3번</th>\n",
       "      <td>유관순</td>\n",
       "      <td>38</td>\n",
       "      <td>남</td>\n",
       "    </tr>\n",
       "    <tr>\n",
       "      <th>4번</th>\n",
       "      <td>윤봉길</td>\n",
       "      <td>31</td>\n",
       "      <td>여</td>\n",
       "    </tr>\n",
       "  </tbody>\n",
       "</table>\n",
       "</div>"
      ],
      "text/plain": [
       "      0   1  2\n",
       "1번  홍길동  29  여\n",
       "2번  이순신  24  남\n",
       "3번  유관순  38  남\n",
       "4번  윤봉길  31  여"
      ]
     },
     "execution_count": 15,
     "metadata": {},
     "output_type": "execute_result"
    }
   ],
   "source": [
    "데이터프레임변수.index = ['1번', '2번', '3번', '4번']\n",
    "데이터프레임변수"
   ]
  },
  {
   "cell_type": "code",
   "execution_count": 17,
   "id": "991c1604",
   "metadata": {},
   "outputs": [
    {
     "data": {
      "text/html": [
       "<div>\n",
       "<style scoped>\n",
       "    .dataframe tbody tr th:only-of-type {\n",
       "        vertical-align: middle;\n",
       "    }\n",
       "\n",
       "    .dataframe tbody tr th {\n",
       "        vertical-align: top;\n",
       "    }\n",
       "\n",
       "    .dataframe thead th {\n",
       "        text-align: right;\n",
       "    }\n",
       "</style>\n",
       "<table border=\"1\" class=\"dataframe\">\n",
       "  <thead>\n",
       "    <tr style=\"text-align: right;\">\n",
       "      <th></th>\n",
       "      <th>이름</th>\n",
       "      <th>나이</th>\n",
       "      <th>성별</th>\n",
       "    </tr>\n",
       "  </thead>\n",
       "  <tbody>\n",
       "    <tr>\n",
       "      <th>1번</th>\n",
       "      <td>홍길동</td>\n",
       "      <td>29</td>\n",
       "      <td>여</td>\n",
       "    </tr>\n",
       "    <tr>\n",
       "      <th>2번</th>\n",
       "      <td>이순신</td>\n",
       "      <td>24</td>\n",
       "      <td>남</td>\n",
       "    </tr>\n",
       "    <tr>\n",
       "      <th>3번</th>\n",
       "      <td>유관순</td>\n",
       "      <td>38</td>\n",
       "      <td>남</td>\n",
       "    </tr>\n",
       "    <tr>\n",
       "      <th>4번</th>\n",
       "      <td>윤봉길</td>\n",
       "      <td>31</td>\n",
       "      <td>여</td>\n",
       "    </tr>\n",
       "  </tbody>\n",
       "</table>\n",
       "</div>"
      ],
      "text/plain": [
       "     이름  나이 성별\n",
       "1번  홍길동  29  여\n",
       "2번  이순신  24  남\n",
       "3번  유관순  38  남\n",
       "4번  윤봉길  31  여"
      ]
     },
     "execution_count": 17,
     "metadata": {},
     "output_type": "execute_result"
    }
   ],
   "source": [
    "데이터프레임변수.columns = ['이름', '나이', '성별']\n",
    "데이터프레임변수"
   ]
  },
  {
   "cell_type": "code",
   "execution_count": 18,
   "id": "db4c43ad",
   "metadata": {},
   "outputs": [
    {
     "data": {
      "text/plain": [
       "1번    29\n",
       "2번    24\n",
       "3번    38\n",
       "4번    31\n",
       "Name: 나이, dtype: int64"
      ]
     },
     "execution_count": 18,
     "metadata": {},
     "output_type": "execute_result"
    }
   ],
   "source": [
    "# '데이터프레임변수'에서 '나이' 열의 데이터만 가져오기\n",
    "데이터프레임변수['나이']"
   ]
  },
  {
   "cell_type": "code",
   "execution_count": 19,
   "id": "b6838661",
   "metadata": {},
   "outputs": [
    {
     "data": {
      "text/html": [
       "<div>\n",
       "<style scoped>\n",
       "    .dataframe tbody tr th:only-of-type {\n",
       "        vertical-align: middle;\n",
       "    }\n",
       "\n",
       "    .dataframe tbody tr th {\n",
       "        vertical-align: top;\n",
       "    }\n",
       "\n",
       "    .dataframe thead th {\n",
       "        text-align: right;\n",
       "    }\n",
       "</style>\n",
       "<table border=\"1\" class=\"dataframe\">\n",
       "  <thead>\n",
       "    <tr style=\"text-align: right;\">\n",
       "      <th></th>\n",
       "      <th>나이</th>\n",
       "      <th>성별</th>\n",
       "    </tr>\n",
       "  </thead>\n",
       "  <tbody>\n",
       "    <tr>\n",
       "      <th>1번</th>\n",
       "      <td>29</td>\n",
       "      <td>여</td>\n",
       "    </tr>\n",
       "    <tr>\n",
       "      <th>2번</th>\n",
       "      <td>24</td>\n",
       "      <td>남</td>\n",
       "    </tr>\n",
       "    <tr>\n",
       "      <th>3번</th>\n",
       "      <td>38</td>\n",
       "      <td>남</td>\n",
       "    </tr>\n",
       "    <tr>\n",
       "      <th>4번</th>\n",
       "      <td>31</td>\n",
       "      <td>여</td>\n",
       "    </tr>\n",
       "  </tbody>\n",
       "</table>\n",
       "</div>"
      ],
      "text/plain": [
       "    나이 성별\n",
       "1번  29  여\n",
       "2번  24  남\n",
       "3번  38  남\n",
       "4번  31  여"
      ]
     },
     "execution_count": 19,
     "metadata": {},
     "output_type": "execute_result"
    }
   ],
   "source": [
    "# '데이터프레임변수'에서 '나이', '성별'열의 데이터만 가져오기\n",
    "데이터프레임변수[['나이', '성별']]"
   ]
  },
  {
   "cell_type": "code",
   "execution_count": 20,
   "id": "3a136cc5",
   "metadata": {},
   "outputs": [
    {
     "data": {
      "text/html": [
       "<div>\n",
       "<style scoped>\n",
       "    .dataframe tbody tr th:only-of-type {\n",
       "        vertical-align: middle;\n",
       "    }\n",
       "\n",
       "    .dataframe tbody tr th {\n",
       "        vertical-align: top;\n",
       "    }\n",
       "\n",
       "    .dataframe thead th {\n",
       "        text-align: right;\n",
       "    }\n",
       "</style>\n",
       "<table border=\"1\" class=\"dataframe\">\n",
       "  <thead>\n",
       "    <tr style=\"text-align: right;\">\n",
       "      <th></th>\n",
       "      <th>이름</th>\n",
       "      <th>나이</th>\n",
       "      <th>성별</th>\n",
       "    </tr>\n",
       "  </thead>\n",
       "  <tbody>\n",
       "    <tr>\n",
       "      <th>2번</th>\n",
       "      <td>이순신</td>\n",
       "      <td>24</td>\n",
       "      <td>남</td>\n",
       "    </tr>\n",
       "    <tr>\n",
       "      <th>3번</th>\n",
       "      <td>유관순</td>\n",
       "      <td>38</td>\n",
       "      <td>남</td>\n",
       "    </tr>\n",
       "  </tbody>\n",
       "</table>\n",
       "</div>"
      ],
      "text/plain": [
       "     이름  나이 성별\n",
       "2번  이순신  24  남\n",
       "3번  유관순  38  남"
      ]
     },
     "execution_count": 20,
     "metadata": {},
     "output_type": "execute_result"
    }
   ],
   "source": [
    "데이터프레임변수[1:3]"
   ]
  },
  {
   "cell_type": "code",
   "execution_count": 21,
   "id": "aa8e3073",
   "metadata": {},
   "outputs": [
    {
     "data": {
      "text/html": [
       "<div>\n",
       "<style scoped>\n",
       "    .dataframe tbody tr th:only-of-type {\n",
       "        vertical-align: middle;\n",
       "    }\n",
       "\n",
       "    .dataframe tbody tr th {\n",
       "        vertical-align: top;\n",
       "    }\n",
       "\n",
       "    .dataframe thead th {\n",
       "        text-align: right;\n",
       "    }\n",
       "</style>\n",
       "<table border=\"1\" class=\"dataframe\">\n",
       "  <thead>\n",
       "    <tr style=\"text-align: right;\">\n",
       "      <th></th>\n",
       "      <th>이름</th>\n",
       "      <th>나이</th>\n",
       "      <th>성별</th>\n",
       "    </tr>\n",
       "  </thead>\n",
       "  <tbody>\n",
       "    <tr>\n",
       "      <th>2번</th>\n",
       "      <td>이순신</td>\n",
       "      <td>24</td>\n",
       "      <td>남</td>\n",
       "    </tr>\n",
       "    <tr>\n",
       "      <th>3번</th>\n",
       "      <td>유관순</td>\n",
       "      <td>38</td>\n",
       "      <td>남</td>\n",
       "    </tr>\n",
       "  </tbody>\n",
       "</table>\n",
       "</div>"
      ],
      "text/plain": [
       "     이름  나이 성별\n",
       "2번  이순신  24  남\n",
       "3번  유관순  38  남"
      ]
     },
     "execution_count": 21,
     "metadata": {},
     "output_type": "execute_result"
    }
   ],
   "source": [
    "데이터프레임변수['2번':'3번']"
   ]
  },
  {
   "cell_type": "code",
   "execution_count": null,
   "id": "deb44219",
   "metadata": {},
   "outputs": [],
   "source": [
    "# 파일 읽고 쓰기 위한 판다스 라이브러리를 가져오기\n",
    "import pandas as pd\n",
    "# data 경로의 train.csv 파일 가져오기\n",
    "데이터 = pd.read_csv('./bigData-main/train.csvT')"
   ]
  },
  {
   "cell_type": "markdown",
   "id": "0c2318a0",
   "metadata": {},
   "source": [
    "# sklearn : 진짜 머신러닝하기\n"
   ]
  },
  {
   "cell_type": "code",
   "execution_count": 6,
   "id": "ab6b24f9",
   "metadata": {},
   "outputs": [],
   "source": [
    "# train_test_split 함수를 가져오는 코드\n",
    "from sklearn.model_selection import train_test_split\n",
    "# DecisionTreeClassifier 함수를 가져오는 코드\n",
    "from sklearn.tree import DecisionTreeClassifier"
   ]
  },
  {
   "cell_type": "markdown",
   "id": "35421d3b",
   "metadata": {},
   "source": [
    "## numpy : 수학 계산하기\n",
    " - 벡터, 행렬 등 수치 연산을 수행하는 선형대수 라이브러리"
   ]
  },
  {
   "cell_type": "code",
   "execution_count": 9,
   "id": "aaaf6581",
   "metadata": {},
   "outputs": [
    {
     "data": {
      "text/plain": [
       "array([[0., 0., 0.],\n",
       "       [0., 0., 0.]])"
      ]
     },
     "execution_count": 9,
     "metadata": {},
     "output_type": "execute_result"
    }
   ],
   "source": [
    "import numpy as np\n",
    "# 2행 3열의 행렬을 만들때 모두 0으로 채우기\n",
    "np.zeros((2,3))"
   ]
  },
  {
   "cell_type": "code",
   "execution_count": 10,
   "id": "8bf81843",
   "metadata": {},
   "outputs": [
    {
     "data": {
      "text/plain": [
       "array([[1., 1., 1.],\n",
       "       [1., 1., 1.]])"
      ]
     },
     "execution_count": 10,
     "metadata": {},
     "output_type": "execute_result"
    }
   ],
   "source": [
    "# 2행 3열의 행렬을 만들때 모두 1로 채우기\n",
    "np.ones((2,3))"
   ]
  },
  {
   "cell_type": "code",
   "execution_count": 11,
   "id": "a9fb39f1",
   "metadata": {},
   "outputs": [
    {
     "data": {
      "text/plain": [
       "array([[10, 10, 10],\n",
       "       [10, 10, 10]])"
      ]
     },
     "execution_count": 11,
     "metadata": {},
     "output_type": "execute_result"
    }
   ],
   "source": [
    "# 2행, 3열의 행렬을 만들 때, 모두 10으로 채우기\n",
    "np.full((2,3), 10)"
   ]
  },
  {
   "cell_type": "code",
   "execution_count": 12,
   "id": "15368ce1",
   "metadata": {},
   "outputs": [
    {
     "data": {
      "text/plain": [
       "array([ 0,  1,  2,  3,  4,  5,  6,  7,  8,  9, 10, 11, 12, 13, 14, 15, 16,\n",
       "       17, 18, 19])"
      ]
     },
     "execution_count": 12,
     "metadata": {},
     "output_type": "execute_result"
    }
   ],
   "source": [
    "# 0부터 20개의 숫자 만들기\n",
    "np.array(range(20))"
   ]
  },
  {
   "cell_type": "code",
   "execution_count": 14,
   "id": "a7ae66c6",
   "metadata": {},
   "outputs": [
    {
     "data": {
      "text/plain": [
       "array([[ 0,  1,  2,  3,  4],\n",
       "       [ 5,  6,  7,  8,  9],\n",
       "       [10, 11, 12, 13, 14],\n",
       "       [15, 16, 17, 18, 19]])"
      ]
     },
     "execution_count": 14,
     "metadata": {},
     "output_type": "execute_result"
    }
   ],
   "source": [
    "# 0부터 20개의 숫자로, 4행 5열의 행렬 만들기\n",
    "np.array(range(20)).reshape(4,5)"
   ]
  },
  {
   "cell_type": "markdown",
   "id": "413603f7",
   "metadata": {},
   "source": [
    "## 2.3 유용한 내장함수 활용하기"
   ]
  },
  {
   "cell_type": "code",
   "execution_count": 16,
   "id": "5fe4a1c1",
   "metadata": {},
   "outputs": [],
   "source": [
    "import pandas as pd\n",
    "import numpy as np\n",
    "\n",
    "# 나이, 성별로 이루어진 2차원 데이터, '\\'는 여러줄에 작성하기 위한 기호\n",
    "데이터 = { \\\n",
    "    '나이' : [20, 23, 49, 38, 32, 29, 25, 30, 32, 26], \\\n",
    "    '성별' : ['남', '여', '남', '여', '여', '여', '여', '여', '남', np.nan] \\\n",
    "}"
   ]
  },
  {
   "cell_type": "code",
   "execution_count": 20,
   "id": "9793677b",
   "metadata": {},
   "outputs": [],
   "source": [
    "# 생성한 딕셔너리 '데이터'를 DataFrame으로 변환하기\n",
    "데이터 = pd.DataFrame(데이터)"
   ]
  },
  {
   "cell_type": "code",
   "execution_count": 21,
   "id": "762682b0",
   "metadata": {},
   "outputs": [
    {
     "data": {
      "text/html": [
       "<div>\n",
       "<style scoped>\n",
       "    .dataframe tbody tr th:only-of-type {\n",
       "        vertical-align: middle;\n",
       "    }\n",
       "\n",
       "    .dataframe tbody tr th {\n",
       "        vertical-align: top;\n",
       "    }\n",
       "\n",
       "    .dataframe thead th {\n",
       "        text-align: right;\n",
       "    }\n",
       "</style>\n",
       "<table border=\"1\" class=\"dataframe\">\n",
       "  <thead>\n",
       "    <tr style=\"text-align: right;\">\n",
       "      <th></th>\n",
       "      <th>나이</th>\n",
       "      <th>성별</th>\n",
       "    </tr>\n",
       "  </thead>\n",
       "  <tbody>\n",
       "    <tr>\n",
       "      <th>0</th>\n",
       "      <td>20</td>\n",
       "      <td>남</td>\n",
       "    </tr>\n",
       "    <tr>\n",
       "      <th>1</th>\n",
       "      <td>23</td>\n",
       "      <td>여</td>\n",
       "    </tr>\n",
       "    <tr>\n",
       "      <th>2</th>\n",
       "      <td>49</td>\n",
       "      <td>남</td>\n",
       "    </tr>\n",
       "    <tr>\n",
       "      <th>3</th>\n",
       "      <td>38</td>\n",
       "      <td>여</td>\n",
       "    </tr>\n",
       "    <tr>\n",
       "      <th>4</th>\n",
       "      <td>32</td>\n",
       "      <td>여</td>\n",
       "    </tr>\n",
       "    <tr>\n",
       "      <th>5</th>\n",
       "      <td>29</td>\n",
       "      <td>여</td>\n",
       "    </tr>\n",
       "    <tr>\n",
       "      <th>6</th>\n",
       "      <td>25</td>\n",
       "      <td>여</td>\n",
       "    </tr>\n",
       "    <tr>\n",
       "      <th>7</th>\n",
       "      <td>30</td>\n",
       "      <td>여</td>\n",
       "    </tr>\n",
       "    <tr>\n",
       "      <th>8</th>\n",
       "      <td>32</td>\n",
       "      <td>남</td>\n",
       "    </tr>\n",
       "    <tr>\n",
       "      <th>9</th>\n",
       "      <td>26</td>\n",
       "      <td>NaN</td>\n",
       "    </tr>\n",
       "  </tbody>\n",
       "</table>\n",
       "</div>"
      ],
      "text/plain": [
       "   나이   성별\n",
       "0  20    남\n",
       "1  23    여\n",
       "2  49    남\n",
       "3  38    여\n",
       "4  32    여\n",
       "5  29    여\n",
       "6  25    여\n",
       "7  30    여\n",
       "8  32    남\n",
       "9  26  NaN"
      ]
     },
     "execution_count": 21,
     "metadata": {},
     "output_type": "execute_result"
    }
   ],
   "source": [
    "데이터"
   ]
  },
  {
   "cell_type": "code",
   "execution_count": 22,
   "id": "2f77d6ba",
   "metadata": {},
   "outputs": [
    {
     "data": {
      "text/plain": [
       "pandas.core.frame.DataFrame"
      ]
     },
     "execution_count": 22,
     "metadata": {},
     "output_type": "execute_result"
    }
   ],
   "source": [
    "type(데이터)"
   ]
  },
  {
   "cell_type": "code",
   "execution_count": 25,
   "id": "488ed236",
   "metadata": {},
   "outputs": [
    {
     "data": {
      "text/plain": [
       "304"
      ]
     },
     "execution_count": 25,
     "metadata": {},
     "output_type": "execute_result"
    }
   ],
   "source": [
    "데이터['나이'].sum()"
   ]
  },
  {
   "cell_type": "code",
   "execution_count": 26,
   "id": "8e5aed41",
   "metadata": {},
   "outputs": [
    {
     "data": {
      "text/plain": [
       "304"
      ]
     },
     "execution_count": 26,
     "metadata": {},
     "output_type": "execute_result"
    }
   ],
   "source": [
    "sum(데이터['나이'])"
   ]
  },
  {
   "cell_type": "code",
   "execution_count": 27,
   "id": "87230213",
   "metadata": {},
   "outputs": [
    {
     "data": {
      "text/plain": [
       "49"
      ]
     },
     "execution_count": 27,
     "metadata": {},
     "output_type": "execute_result"
    }
   ],
   "source": [
    "데이터['나이'].max()"
   ]
  },
  {
   "cell_type": "code",
   "execution_count": 28,
   "id": "b66bad0b",
   "metadata": {},
   "outputs": [
    {
     "data": {
      "text/plain": [
       "49"
      ]
     },
     "execution_count": 28,
     "metadata": {},
     "output_type": "execute_result"
    }
   ],
   "source": [
    "max(데이터['나이'])"
   ]
  },
  {
   "cell_type": "code",
   "execution_count": 29,
   "id": "b59b60bb",
   "metadata": {},
   "outputs": [
    {
     "data": {
      "text/plain": [
       "20"
      ]
     },
     "execution_count": 29,
     "metadata": {},
     "output_type": "execute_result"
    }
   ],
   "source": [
    "데이터['나이'].min()"
   ]
  },
  {
   "cell_type": "code",
   "execution_count": 30,
   "id": "7d969a37",
   "metadata": {},
   "outputs": [
    {
     "data": {
      "text/plain": [
       "20"
      ]
     },
     "execution_count": 30,
     "metadata": {},
     "output_type": "execute_result"
    }
   ],
   "source": [
    "min(데이터['나이'])"
   ]
  },
  {
   "cell_type": "code",
   "execution_count": 31,
   "id": "ca02d56e",
   "metadata": {},
   "outputs": [
    {
     "data": {
      "text/plain": [
       "30.4"
      ]
     },
     "execution_count": 31,
     "metadata": {},
     "output_type": "execute_result"
    }
   ],
   "source": [
    "데이터['나이'].mean()"
   ]
  },
  {
   "cell_type": "code",
   "execution_count": 32,
   "id": "51363652",
   "metadata": {},
   "outputs": [
    {
     "data": {
      "text/plain": [
       "29.5"
      ]
     },
     "execution_count": 32,
     "metadata": {},
     "output_type": "execute_result"
    }
   ],
   "source": [
    "데이터['나이'].median()"
   ]
  },
  {
   "cell_type": "code",
   "execution_count": 33,
   "id": "e627d192",
   "metadata": {},
   "outputs": [
    {
     "data": {
      "text/plain": [
       "69.15555555555557"
      ]
     },
     "execution_count": 33,
     "metadata": {},
     "output_type": "execute_result"
    }
   ],
   "source": [
    "데이터['나이'].var()"
   ]
  },
  {
   "cell_type": "code",
   "execution_count": 34,
   "id": "b130097b",
   "metadata": {},
   "outputs": [
    {
     "data": {
      "text/plain": [
       "8.315981935740094"
      ]
     },
     "execution_count": 34,
     "metadata": {},
     "output_type": "execute_result"
    }
   ],
   "source": [
    "데이터['나이'].std()"
   ]
  },
  {
   "cell_type": "code",
   "execution_count": 37,
   "id": "10add676",
   "metadata": {},
   "outputs": [
    {
     "data": {
      "text/plain": [
       "0      8000\n",
       "1     12167\n",
       "2    117649\n",
       "3     54872\n",
       "4     32768\n",
       "5     24389\n",
       "6     15625\n",
       "7     27000\n",
       "8     32768\n",
       "9     17576\n",
       "Name: 나이, dtype: int64"
      ]
     },
     "execution_count": 37,
     "metadata": {},
     "output_type": "execute_result"
    }
   ],
   "source": [
    "pow(데이터['나이'], 3)"
   ]
  },
  {
   "cell_type": "code",
   "execution_count": 38,
   "id": "f76a75a4",
   "metadata": {},
   "outputs": [
    {
     "data": {
      "text/plain": [
       "나이    25.25\n",
       "Name: 0.25, dtype: float64"
      ]
     },
     "execution_count": 38,
     "metadata": {},
     "output_type": "execute_result"
    }
   ],
   "source": [
    "데이터.quantile(0.25)\n"
   ]
  },
  {
   "cell_type": "code",
   "execution_count": 41,
   "id": "b8cfc970",
   "metadata": {},
   "outputs": [
    {
     "data": {
      "text/plain": [
       "나이    29.5\n",
       "Name: 0.5, dtype: float64"
      ]
     },
     "execution_count": 41,
     "metadata": {},
     "output_type": "execute_result"
    }
   ],
   "source": [
    "데이터.quantile(0.5)"
   ]
  },
  {
   "cell_type": "code",
   "execution_count": 42,
   "id": "8ec1ddcd",
   "metadata": {},
   "outputs": [
    {
     "data": {
      "text/plain": [
       "나이    32.0\n",
       "Name: 0.75, dtype: float64"
      ]
     },
     "execution_count": 42,
     "metadata": {},
     "output_type": "execute_result"
    }
   ],
   "source": [
    "데이터.quantile(0.75)"
   ]
  },
  {
   "cell_type": "code",
   "execution_count": 43,
   "id": "cf472c2b",
   "metadata": {},
   "outputs": [
    {
     "data": {
      "text/plain": [
       "나이    49.0\n",
       "Name: 1.0, dtype: float64"
      ]
     },
     "execution_count": 43,
     "metadata": {},
     "output_type": "execute_result"
    }
   ],
   "source": [
    "데이터.quantile(1)"
   ]
  },
  {
   "cell_type": "code",
   "execution_count": 47,
   "id": "ed32ebec",
   "metadata": {},
   "outputs": [
    {
     "data": {
      "text/plain": [
       "0    3.0\n",
       "1    3.0\n",
       "2    7.0\n",
       "3    5.0\n",
       "4    5.0\n",
       "5    4.0\n",
       "6    4.0\n",
       "7    4.0\n",
       "8    5.0\n",
       "9    4.0\n",
       "Name: 나이, dtype: float64"
      ]
     },
     "execution_count": 47,
     "metadata": {},
     "output_type": "execute_result"
    }
   ],
   "source": [
    "round(데이터['나이']/7)"
   ]
  },
  {
   "cell_type": "code",
   "execution_count": 48,
   "id": "5e0a196b",
   "metadata": {},
   "outputs": [
    {
     "data": {
      "text/plain": [
       "0    2.86\n",
       "1    3.29\n",
       "2    7.00\n",
       "3    5.43\n",
       "4    4.57\n",
       "5    4.14\n",
       "6    3.57\n",
       "7    4.29\n",
       "8    4.57\n",
       "9    3.71\n",
       "Name: 나이, dtype: float64"
      ]
     },
     "execution_count": 48,
     "metadata": {},
     "output_type": "execute_result"
    }
   ],
   "source": [
    "round(데이터['나이']/7, 2)"
   ]
  },
  {
   "cell_type": "code",
   "execution_count": null,
   "id": "3a6fc18d",
   "metadata": {},
   "outputs": [],
   "source": []
  }
 ],
 "metadata": {
  "kernelspec": {
   "display_name": "Python 3 (ipykernel)",
   "language": "python",
   "name": "python3"
  },
  "language_info": {
   "codemirror_mode": {
    "name": "ipython",
    "version": 3
   },
   "file_extension": ".py",
   "mimetype": "text/x-python",
   "name": "python",
   "nbconvert_exporter": "python",
   "pygments_lexer": "ipython3",
   "version": "3.9.12"
  }
 },
 "nbformat": 4,
 "nbformat_minor": 5
}
