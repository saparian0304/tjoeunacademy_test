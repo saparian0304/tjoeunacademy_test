{
 "cells": [
  {
   "cell_type": "markdown",
   "id": "275f23d5",
   "metadata": {},
   "source": [
    "# 작업형 1유형"
   ]
  },
  {
   "cell_type": "code",
   "execution_count": null,
   "id": "58215f4d",
   "metadata": {},
   "outputs": [],
   "source": [
    "'''\n",
    "1. 다음은 California Housing 데이터 세트이다. 데이터 중 결측치가 있는 경우 해당 데이터의 행을 모두 제거하고, 첫번째 행부터 순서대로 70%까지의 데이터를 훈련 데이터로 추출한 데이터 세트를 구성한다. 변수 중 ‘housing_median_age’의 Q1(제1사분위수)값을 정수로 계산하시오.\n",
    "301_housing.csv\n",
    "'''"
   ]
  },
  {
   "cell_type": "code",
   "execution_count": 21,
   "id": "0106e4c1",
   "metadata": {},
   "outputs": [
    {
     "name": "stdout",
     "output_type": "stream",
     "text": [
      "19\n"
     ]
    }
   ],
   "source": [
    "import pandas as pd\n",
    "data = pd.read_csv('301_housing.csv')\n",
    "# print(data.info())\n",
    "data1 = data[~data['total_bedrooms'].isnull()]\n",
    "# print(len(data1)*0.7)\n",
    "num = int(len(data1)*0.7)\n",
    "print(int(data1.iloc[:num]['housing_median_age'].quantile(0.25)))\n",
    "# print(data1.quantile(0.25))\n",
    "# print(data1.describe())"
   ]
  },
  {
   "cell_type": "code",
   "execution_count": null,
   "id": "5edd2015",
   "metadata": {},
   "outputs": [],
   "source": [
    "'''\n",
    "2. 다음은 국가별 연도별 인구 10만명당 결핵 유병률 데이터세트이다. 2000년도의 국가별 결핵 유병률 데이터 세트에서 2000년도의 평균값보다 더 큰 유병률 값을 가진 국가의 수를 계산하시오.\n",
    "302_worlddata.csv\n",
    "'''"
   ]
  },
  {
   "cell_type": "code",
   "execution_count": 50,
   "id": "bec48c78",
   "metadata": {},
   "outputs": [
    {
     "name": "stdout",
     "output_type": "stream",
     "text": [
      "Albania                 132.0\n",
      "Andorra                 138.0\n",
      "Antigua & Barbuda       128.0\n",
      "Armenia                 179.0\n",
      "Bahamas                 176.0\n",
      "                        ...  \n",
      "United Arab Emirates    135.0\n",
      "United Kingdom          126.0\n",
      "USA                     158.0\n",
      "Uzbekistan              101.0\n",
      "Venezuela               100.0\n",
      "Name: 2000, Length: 76, dtype: float64\n",
      "76\n"
     ]
    }
   ],
   "source": [
    "import pandas as pd\n",
    "data = pd.read_csv('302_worlddata.csv')\n",
    "# print(help(pd.DataFrame.transpose))\n",
    "data = data.set_index('year')\n",
    "data1 = data.T\n",
    "data2 = data1.loc[:, 2000]\n",
    "print(data2[data2 > data2.mean()])\n",
    "# data1 = data.loc[data.loc[:,] == 2002].T\n",
    "\n",
    "print(int(len(data2[data2 > data2.mean()])))"
   ]
  },
  {
   "cell_type": "code",
   "execution_count": 62,
   "id": "f25f2d2f",
   "metadata": {},
   "outputs": [
    {
     "name": "stdout",
     "output_type": "stream",
     "text": [
      "76\n"
     ]
    }
   ],
   "source": [
    "import pandas as pd\n",
    "data = pd.read_csv('302_worlddata.csv')\n",
    "# print(data.head())\n",
    "data1 = data[data['year']==2000].T\n",
    "data1 = data1.drop('year')\n",
    "# print(data1, data1.drop('year'))\n",
    "print(len(data1[data1[1] > data1[1].mean()]))"
   ]
  },
  {
   "cell_type": "code",
   "execution_count": null,
   "id": "93052780",
   "metadata": {},
   "outputs": [],
   "source": [
    "'''\n",
    "3. 다음은 Titanic 데이터 세트이다. 주어진 데이터 세트의 컬럼 중 빈 값 또는 결측치를 확인하여, 결측치의 비율이 가장 높은 변수명을 출력하시오.\n",
    "303_titanic.csv\n",
    "'''"
   ]
  },
  {
   "cell_type": "code",
   "execution_count": 77,
   "id": "d31db715",
   "metadata": {},
   "outputs": [
    {
     "name": "stdout",
     "output_type": "stream",
     "text": [
      "Age\n"
     ]
    }
   ],
   "source": [
    "import pandas as pd\n",
    "data = pd.read_csv('303_titanic.csv')\n",
    "# print(data.info())\n",
    "print(data.isnull().sum().sort_values(ascending=False).index[0])\n"
   ]
  },
  {
   "cell_type": "markdown",
   "id": "4a77e38e",
   "metadata": {},
   "source": [
    "# 작업형 2유형"
   ]
  },
  {
   "cell_type": "code",
   "execution_count": null,
   "id": "f42b4185",
   "metadata": {},
   "outputs": [],
   "source": [
    "'''\n",
    "다음은 Travel Insuarance 데이터 세트이다. 주어진 훈련 데이터 세트를 이용하여 고객별 여행보험 가입 여부 예측모형을 만들고, 가장 높은 Accuracy값을 가지는 최종모델을 도출하시오. 해당 모델을 활용하여 보험가입여부 예측값을 계산하고 결과값은 csv파일로 제출하시오.\n",
    "304_x_test.csv\n",
    "304_x_train.csv\n",
    "304_y_train.csv\n",
    "* 결과 제출 양식 : ID, TravelInsurance\n",
    "'''"
   ]
  },
  {
   "cell_type": "code",
   "execution_count": null,
   "id": "6b2776bc",
   "metadata": {},
   "outputs": [],
   "source": []
  }
 ],
 "metadata": {
  "kernelspec": {
   "display_name": "Python 3 (ipykernel)",
   "language": "python",
   "name": "python3"
  },
  "language_info": {
   "codemirror_mode": {
    "name": "ipython",
    "version": 3
   },
   "file_extension": ".py",
   "mimetype": "text/x-python",
   "name": "python",
   "nbconvert_exporter": "python",
   "pygments_lexer": "ipython3",
   "version": "3.9.12"
  }
 },
 "nbformat": 4,
 "nbformat_minor": 5
}
