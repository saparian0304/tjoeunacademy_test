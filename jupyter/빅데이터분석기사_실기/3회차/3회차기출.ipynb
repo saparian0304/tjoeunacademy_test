{
 "cells": [
  {
   "cell_type": "markdown",
   "id": "275f23d5",
   "metadata": {},
   "source": [
    "# 작업형 1유형"
   ]
  },
  {
   "cell_type": "code",
   "execution_count": null,
   "id": "58215f4d",
   "metadata": {},
   "outputs": [],
   "source": [
    "'''\n",
    "1. 다음은 California Housing 데이터 세트이다. 데이터 중 결측치가 있는 경우 해당 데이터의 행을 모두 제거하고, 첫번째 행부터 순서대로 70%까지의 데이터를 훈련 데이터로 추출한 데이터 세트를 구성한다. 변수 중 ‘housing_median_age’의 Q1(제1사분위수)값을 정수로 계산하시오.\n",
    "'''"
   ]
  },
  {
   "cell_type": "code",
   "execution_count": 19,
   "id": "fa44da68",
   "metadata": {},
   "outputs": [
    {
     "name": "stdout",
     "output_type": "stream",
     "text": [
      "19\n"
     ]
    }
   ],
   "source": [
    "import pandas as pd\n",
    "data = pd.read_csv('301_housing.csv')\n",
    "# 결측치 제거\n",
    "data = data[~data['total_bedrooms'].isnull()]\n",
    "# 70%까지 추출\n",
    "data2 = data.iloc[:int(0.7 * len(data)),:]\n",
    "# 제1사분위수 추출\n",
    "print(int(data2['housing_median_age'].quantile(0.25)))"
   ]
  },
  {
   "cell_type": "code",
   "execution_count": null,
   "id": "5edd2015",
   "metadata": {},
   "outputs": [],
   "source": [
    "'''\n",
    "2. 다음은 국가별 연도별 인구 10만명당 결핵 유병률 데이터세트이다. 2000년도의 국가별 결핵 유병률 데이터 세트에서 2000년도의 평균값보다 더 큰 유병률 값을 가진 국가의 수를 계산하시오.\n",
    "'''"
   ]
  },
  {
   "cell_type": "code",
   "execution_count": 116,
   "id": "163bf558",
   "metadata": {},
   "outputs": [
    {
     "name": "stdout",
     "output_type": "stream",
     "text": [
      "76\n"
     ]
    }
   ],
   "source": [
    "import pandas as pd \n",
    "data = pd.read_csv('302_worlddata.csv')\n",
    "data2 = data[data['year']== 2000].drop(columns='year').T\n",
    "#data2.columns = ['2000']\n",
    "#print(data2[1] > data2[1])\n",
    "print(len(data2[data2.loc[:,1] > data2.loc[:,1].mean()]))\n",
    "#answer = (data2 > data2.mean()).sum()\n",
    "# print(answer)\n",
    "#print(answer[0])"
   ]
  },
  {
   "cell_type": "code",
   "execution_count": null,
   "id": "93052780",
   "metadata": {},
   "outputs": [],
   "source": [
    "'''\n",
    "3. 다음은 Titanic 데이터 세트이다. 주어진 데이터 세트의 컬럼 중 빈 값 또는 결측치를 확인하여, 결측치의 비율이 가장 높은 변수명을 출력하시오.\n",
    "'''"
   ]
  },
  {
   "cell_type": "code",
   "execution_count": 71,
   "id": "cf6b5eb8",
   "metadata": {},
   "outputs": [
    {
     "name": "stdout",
     "output_type": "stream",
     "text": [
      "Age\n"
     ]
    }
   ],
   "source": [
    "import pandas as pd\n",
    "data = pd.read_csv('303_titanic.csv')\n",
    "print(data.isnull().sum().sort_values(ascending=False).index[0])"
   ]
  },
  {
   "cell_type": "markdown",
   "id": "4a77e38e",
   "metadata": {},
   "source": [
    "# 작업형 2유형"
   ]
  },
  {
   "cell_type": "code",
   "execution_count": null,
   "id": "f42b4185",
   "metadata": {},
   "outputs": [],
   "source": [
    "'''\n",
    "다음은 Travel Insuarance 데이터 세트이다. 주어진 훈련 데이터 세트를 이용하여 고객별 여행보험 가입 여부 예측모형을 만들고, 가장 높은 Accuracy값을 가지는 최종모델을 도출하시오. 해당 모델을 활용하여 보험가입여부 예측값을 계산하고 결과값은 csv파일로 제출하시오.\n",
    "\n",
    "* 결과 제출 양식 : ID, TravelInsurance\n",
    "'''"
   ]
  },
  {
   "cell_type": "code",
   "execution_count": 275,
   "id": "61060f3c",
   "metadata": {},
   "outputs": [],
   "source": [
    "import pandas as pd\n",
    "x_train = pd.read_csv('304_x_train.csv')\n",
    "y_train = pd.read_csv('304_y_train.csv')\n",
    "x_test = pd.read_csv('304_x_test.csv')\n",
    "\n",
    "# print(x_train.shape, y_train.shape, x_test.shape)\n",
    "data = pd.concat([x_train, y_train.drop(columns=['ID'])], axis=1)\n",
    "\n",
    "\n",
    "# 데이터 확인하기\n",
    "\n",
    "# 라벨인코딩\n",
    "from sklearn.preprocessing import LabelEncoder\n",
    "encoder = LabelEncoder()\n",
    "x_train['Employment Type'] = encoder.fit_transform(x_train['Employment Type'])\n",
    "x_test['Employment Type'] = encoder.transform(x_test['Employment Type'])\n",
    "\n",
    "encoder = LabelEncoder()\n",
    "x_train['GraduateOrNot'] = encoder.fit_transform(x_train['GraduateOrNot'])\n",
    "x_test['GraduateOrNot'] = encoder.transform(x_test['GraduateOrNot'])\n",
    "\n",
    "encoder = LabelEncoder()\n",
    "x_train['FrequentFlyer'] = encoder.fit_transform(x_train['FrequentFlyer'])\n",
    "x_test['FrequentFlyer'] = encoder.transform(x_test['FrequentFlyer'])\n",
    "\n",
    "encoder = LabelEncoder()\n",
    "x_train['EverTravelledAbroad'] = encoder.fit_transform(x_train['EverTravelledAbroad'])\n",
    "x_test['EverTravelledAbroad'] = encoder.transform(x_test['EverTravelledAbroad'])\n",
    "\n",
    "# 전처리 (이상값, 결측치)\n",
    "\n",
    "# 스케일링\n",
    "from sklearn.preprocessing import MinMaxScaler\n",
    "scaler = MinMaxScaler()\n",
    "\n",
    "x_train['Age'] = scaler.fit_transform(x_train[['Age']])\n",
    "x_test['Age'] = scaler.transform(x_test[['Age']])\n",
    "\n",
    "from sklearn.preprocessing import MinMaxScaler\n",
    "scaler = MinMaxScaler()\n",
    "\n",
    "x_train['AnnualIncome'] = scaler.fit_transform(x_train[['AnnualIncome']])\n",
    "x_test['AnnualIncome'] = scaler.transform(x_test[['AnnualIncome']])\n",
    "\n",
    "id_column = x_test['ID']\n",
    "x_test.drop(columns='ID', inplace=True)\n",
    "x_train.drop(columns='ID', inplace=True)\n",
    "y_train.drop(columns='ID', inplace=True)\n",
    "\n",
    "# split\n",
    "from sklearn.model_selection import train_test_split\n",
    "X_TRAIN, X_TEST, Y_TRAIN, Y_TEST = train_test_split(x_train, y_train,test_size=0.2)\n",
    "\n",
    "# model 학습\n",
    "import xgboost\n",
    "\n",
    "from xgboost import XGBClassifier\n",
    "model = XGBClassifier(n_estimators=300, max_depth=3, learning_rate=0.03)\n",
    "model.fit(X_TRAIN, Y_TRAIN)\n",
    "Y_TEST_PREDICTED = model.predict(X_TEST)\n",
    "\n",
    "# 평가\n",
    "from sklearn.metrics import roc_auc_score\n",
    "\n",
    "# 모델 적용\n",
    "model = XGBClassifier(n_estimators=300, max_depth=3, learning_rate=0.03)\n",
    "model.fit(x_train, y_train)\n",
    "y_test_predicted = model.predict(x_test)\n",
    "y_test_predicted = pd.DataFrame({\"TravelInsurance\" : y_test_predicted})\n",
    "result = pd.concat([id_column, y_test_predicted], axis=1)\n",
    "\n",
    "# 제출\n",
    "result.to_csv('12345.csv', index=False)"
   ]
  }
 ],
 "metadata": {
  "kernelspec": {
   "display_name": "Python 3 (ipykernel)",
   "language": "python",
   "name": "python3"
  },
  "language_info": {
   "codemirror_mode": {
    "name": "ipython",
    "version": 3
   },
   "file_extension": ".py",
   "mimetype": "text/x-python",
   "name": "python",
   "nbconvert_exporter": "python",
   "pygments_lexer": "ipython3",
   "version": "3.9.12"
  }
 },
 "nbformat": 4,
 "nbformat_minor": 5
}
