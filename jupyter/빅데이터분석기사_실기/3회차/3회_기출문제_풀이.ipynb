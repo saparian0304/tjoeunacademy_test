{
 "cells": [
  {
   "cell_type": "markdown",
   "metadata": {
    "id": "9jq32D_hj4lB"
   },
   "source": [
    "1. 다음은 California Housing 데이터 세트이다. 데이터 중 결측치가 있는 경우 해당 데이터의 행을 모두 제거하고, 첫번째 행부터 순서대로 70%까지의 데이터를 훈련 데이터로 추출한 데이터 세트를 구성한다. 변수 중 ‘housing_median_age’의 Q1(제1사분위수)값을 정수로 계산하시오."
   ]
  },
  {
   "cell_type": "code",
   "execution_count": null,
   "metadata": {
    "colab": {
     "base_uri": "https://localhost:8080/"
    },
    "id": "Q1hBrs3Oizio",
    "outputId": "2b7eb78c-3840-4b55-d28a-02bb5e2dc74d"
   },
   "outputs": [
    {
     "name": "stdout",
     "output_type": "stream",
     "text": [
      "19\n"
     ]
    }
   ],
   "source": [
    "import pandas as pd\n",
    "df = pd.read_csv('301_housing.csv')\n",
    "#print(df.info())\n",
    "# 결측치행 제거\n",
    "df = df.dropna()\n",
    "#print(df.info())\n",
    "# 70% 추출\n",
    "#print(20433*0.7)\n",
    "df = df.iloc[:int(len(df)*0.7), :]\n",
    "#print(len(df))\n",
    "print(int(df['housing_median_age'].quantile(0.25)))"
   ]
  },
  {
   "cell_type": "code",
   "execution_count": null,
   "metadata": {
    "colab": {
     "base_uri": "https://localhost:8080/"
    },
    "id": "D_WqzNZUledv",
    "outputId": "de5c46b7-220d-49c7-a258-9980fc2d77cf"
   },
   "outputs": [
    {
     "name": "stdout",
     "output_type": "stream",
     "text": [
      "4\n"
     ]
    }
   ],
   "source": [
    "#round(3.65, 1)\n",
    "a = 4.5\n",
    "#print(round(a*10)/10.0)\n",
    "print(round(a))"
   ]
  },
  {
   "cell_type": "code",
   "execution_count": null,
   "metadata": {
    "colab": {
     "base_uri": "https://localhost:8080/"
    },
    "id": "d1v8oNxSnea_",
    "outputId": "ef512cdf-f85e-402a-d143-2195ac81679a"
   },
   "outputs": [
    {
     "name": "stdout",
     "output_type": "stream",
     "text": [
      "True\n"
     ]
    }
   ],
   "source": [
    "a = 0.2\n",
    "b = 0.3\n",
    "c = a*b\n",
    "print(c == 0.06)"
   ]
  },
  {
   "cell_type": "markdown",
   "metadata": {
    "id": "YJP-XgVOqdBX"
   },
   "source": [
    "2. 다음은 국가별 연도별 인구 10만명당 결핵 유병률 데이터세트이다. 2000년도의 국가별 결핵 유병률 데이터 세트에서 2000년도의 평균값보다 더 큰 유병률 값을 가진 국가의 수를 계산하시오."
   ]
  },
  {
   "cell_type": "code",
   "execution_count": null,
   "metadata": {
    "colab": {
     "base_uri": "https://localhost:8080/"
    },
    "id": "D9kYWBygpv-Y",
    "outputId": "10ea8963-f2d8-4820-f95b-cc3051ecf385"
   },
   "outputs": [
    {
     "name": "stdout",
     "output_type": "stream",
     "text": [
      "76\n"
     ]
    },
    {
     "name": "stderr",
     "output_type": "stream",
     "text": [
      "/usr/local/lib/python3.7/dist-packages/ipykernel_launcher.py:7: FutureWarning: In a future version of pandas all arguments of DataFrame.drop except for the argument 'labels' will be keyword-only\n",
      "  import sys\n"
     ]
    }
   ],
   "source": [
    "import pandas as pd\n",
    "df = pd.read_csv('302_worlddata.csv')\n",
    "#print(df.head())\n",
    "# 2000년도 데이터 추출\n",
    "df2 = df[df['year'] == 2000]\n",
    "df2 = df2.T\n",
    "df2 = df2.drop('year',0)\n",
    "#print(df2)\n",
    "# 평균\n",
    "#print(df2.mean())\n",
    "# 평균보다 큰 국가 수\n",
    "print(len(df2[df2[1] > df2[1].mean()]))"
   ]
  },
  {
   "cell_type": "markdown",
   "metadata": {
    "id": "_u3WE6yAvwsu"
   },
   "source": [
    "3. 다음은 Titanic 데이터 세트이다. 주어진 데이터 세트의 컬럼 중 빈 값 또는 결측치를 확인하여, 결측치의 비율이 가장 높은 변수명을 출력하시오."
   ]
  },
  {
   "cell_type": "code",
   "execution_count": null,
   "metadata": {
    "colab": {
     "base_uri": "https://localhost:8080/"
    },
    "id": "W9fmUuM_q9RG",
    "outputId": "643959ab-2f89-4d76-bffb-eea8c47ed581"
   },
   "outputs": [
    {
     "name": "stdout",
     "output_type": "stream",
     "text": [
      "Age\n"
     ]
    }
   ],
   "source": [
    "import pandas as pd\n",
    "df = pd.read_csv('303_titanic.csv')\n",
    "# 결측치 확인\n",
    "#print(df.isnull().sum())\n",
    "# 결측치 개수 순으로 정렬 첫번째 출력\n",
    "#print(df.isnull().sum().sort_values(ascending=False).index[0])\n",
    "df2 = df.isnull().sum()\n",
    "print(df2.sort_values(ascending=False).index[0])"
   ]
  },
  {
   "cell_type": "markdown",
   "metadata": {
    "id": "Le0Tyloryzf3"
   },
   "source": [
    "다음은 Travel Insuarance 데이터 세트이다. 주어진 훈련 데이터 세트를 이용하여 고객별 여행보험 가입 여부 예측모형을 만들고, 가장 높은 Accuracy값을 가지는 최종모델을 도출하시오. 해당 모델을 활용하여 보험가입여부 예측값을 계산하고 결과값은 csv파일로 제출하시오.\n",
    "\n",
    "* ID, TravelInsurance"
   ]
  },
  {
   "cell_type": "code",
   "execution_count": 74,
   "metadata": {
    "colab": {
     "base_uri": "https://localhost:8080/"
    },
    "id": "UeUunfpNxum1",
    "outputId": "345c957b-560a-4d6b-9c92-856c046ca63f"
   },
   "outputs": [
    {
     "name": "stderr",
     "output_type": "stream",
     "text": [
      "/usr/local/lib/python3.7/dist-packages/ipykernel_launcher.py:44: FutureWarning: In a future version of pandas all arguments of DataFrame.drop except for the argument 'labels' will be keyword-only\n",
      "/usr/local/lib/python3.7/dist-packages/ipykernel_launcher.py:45: FutureWarning: In a future version of pandas all arguments of DataFrame.drop except for the argument 'labels' will be keyword-only\n",
      "/usr/local/lib/python3.7/dist-packages/sklearn/preprocessing/_label.py:98: DataConversionWarning: A column-vector y was passed when a 1d array was expected. Please change the shape of y to (n_samples, ), for example using ravel().\n",
      "  y = column_or_1d(y, warn=True)\n",
      "/usr/local/lib/python3.7/dist-packages/sklearn/preprocessing/_label.py:133: DataConversionWarning: A column-vector y was passed when a 1d array was expected. Please change the shape of y to (n_samples, ), for example using ravel().\n",
      "  y = column_or_1d(y, warn=True)\n",
      "/usr/local/lib/python3.7/dist-packages/ipykernel_launcher.py:59: DataConversionWarning: A column-vector y was passed when a 1d array was expected. Please change the shape of y to (n_samples,), for example using ravel().\n",
      "/usr/local/lib/python3.7/dist-packages/ipykernel_launcher.py:63: FutureWarning: In a future version of pandas all arguments of DataFrame.drop except for the argument 'labels' will be keyword-only\n"
     ]
    },
    {
     "name": "stdout",
     "output_type": "stream",
     "text": [
      "       ID  TravelInsurance\n",
      "0    1569                0\n",
      "1    1344                1\n",
      "2    1429                0\n",
      "3     896                0\n",
      "4     101                1\n",
      "..    ...              ...\n",
      "492  1376                0\n",
      "493    87                0\n",
      "494   287                0\n",
      "495   337                0\n",
      "496    92                0\n",
      "\n",
      "[497 rows x 2 columns]\n"
     ]
    }
   ],
   "source": [
    "import pandas as pd\n",
    "x_train = pd.read_csv('304_x_train.csv')\n",
    "y_train = pd.read_csv('304_y_train.csv')\n",
    "X_test = pd.read_csv('304_x_test.csv')\n",
    "#print(x_train.info())\n",
    "# print(y_train.info())\n",
    "# print(x_train.head())\n",
    "#print(x_train['GraduateOrNot'].value_counts())\n",
    "# 원핫인코딩\n",
    "# Employment Type, GraduateOrNot, FrequentFlyer, EverTravelledAbroad\n",
    "col = ['Employment Type', 'GraduateOrNot', 'FrequentFlyer', 'EverTravelledAbroad']\n",
    "# one = pd.get_dummies(x_train[col])\n",
    "# x_train = pd.concat([x_train, one], axis=1)\n",
    "# #print(x_train.head())\n",
    "# x_train = x_train.drop(col, axis=1)\n",
    "# #print(x_train.head())\n",
    "\n",
    "# one = pd.get_dummies(x_test[col])\n",
    "# x_test = pd.concat([x_test, one], axis=1)\n",
    "# x_test = x_test.drop(col, axis=1)\n",
    "#print(len(x_train.columns), len(x_test.columns))\n",
    "\n",
    "# 라벨인코딩\n",
    "from sklearn.preprocessing import LabelEncoder\n",
    "encoder = LabelEncoder()\n",
    "#x_train[col] = encoder.fit_transform(x_train[col])\n",
    "for c in col:\n",
    "  x_train[c] = encoder.fit_transform(x_train[c])\n",
    "  X_test[c] = encoder.fit_transform(X_test[c])\n",
    "#print(x_train.info())\n",
    "\n",
    "#print(x_train.head())\n",
    "# 스케일링\n",
    "col = ['Age','AnnualIncome','FamilyMembers']\n",
    "from sklearn.preprocessing import StandardScaler\n",
    "scaler = StandardScaler()\n",
    "scaler.fit(x_train[col])\n",
    "x_train[col] = scaler.transform(x_train[col])\n",
    "X_test[col] = scaler.transform(X_test[col])\n",
    "#print(x_train.head())\n",
    "\n",
    "# 데이터 분리\n",
    "from sklearn.model_selection import train_test_split\n",
    "x_train, x_test, y_train, y_test = train_test_split(x_train.drop('ID',1),\n",
    "                                                    y_train.drop('ID',1),\n",
    "                                                    test_size=0.2)\n",
    "#print(x_train.shape, x_test.shape, y_train.shape, y_test.shape)\n",
    "\n",
    "from xgboost import XGBClassifier\n",
    "model1 = XGBClassifier()\n",
    "model1.fit(x_train, y_train)\n",
    "pred1 = model1.predict(x_test)\n",
    "\n",
    "from sklearn.metrics import roc_auc_score, accuracy_score\n",
    "#print(accuracy_score(y_test, pred1))\n",
    "\n",
    "from sklearn.ensemble import RandomForestClassifier\n",
    "model2 = RandomForestClassifier()\n",
    "model2.fit(x_train, y_train)\n",
    "pred2 = model2.predict(x_test)\n",
    "#print(accuracy_score(y_test, pred2))\n",
    "\n",
    "pred = model1.predict(X_test.drop('ID',1))\n",
    "(pd.DataFrame({'ID':X_test['ID'], 'TravelInsurance':pred})).to_csv('1234.csv',index=False)\n",
    "print(pd.read_csv('1234.csv'))"
   ]
  },
  {
   "cell_type": "code",
   "execution_count": null,
   "metadata": {
    "id": "t9aQWr1p9HRF"
   },
   "outputs": [],
   "source": []
  }
 ],
 "metadata": {
  "colab": {
   "provenance": []
  },
  "kernelspec": {
   "display_name": "Python 3 (ipykernel)",
   "language": "python",
   "name": "python3"
  },
  "language_info": {
   "codemirror_mode": {
    "name": "ipython",
    "version": 3
   },
   "file_extension": ".py",
   "mimetype": "text/x-python",
   "name": "python",
   "nbconvert_exporter": "python",
   "pygments_lexer": "ipython3",
   "version": "3.9.12"
  }
 },
 "nbformat": 4,
 "nbformat_minor": 1
}
