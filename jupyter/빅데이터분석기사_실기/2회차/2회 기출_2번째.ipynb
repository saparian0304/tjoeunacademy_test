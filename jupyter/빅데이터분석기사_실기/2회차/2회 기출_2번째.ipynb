{
 "cells": [
  {
   "cell_type": "markdown",
   "id": "924def6f",
   "metadata": {},
   "source": [
    "## 작업형 1유형"
   ]
  },
  {
   "cell_type": "code",
   "execution_count": 3,
   "id": "fc709d5d",
   "metadata": {
    "collapsed": true
   },
   "outputs": [
    {
     "data": {
      "text/plain": [
       "'\\n1. 다음은 Boston Housing 데이터 세트에서 범죄율 컬럼(CRIM) 항목의 상위 10번째 값(즉, 범죄율을 큰 순서로 오름차순 정렬했을 때 10번째에 위치한 값)으로 상위 10개의 값을 변환한 후, age가 80이상인 데이터를 추출하여 crim의 평균값을 계산하시오.\\n'"
      ]
     },
     "execution_count": 3,
     "metadata": {},
     "output_type": "execute_result"
    }
   ],
   "source": [
    "'''\n",
    "1. 다음은 Boston Housing 데이터 세트에서 범죄율 컬럼(CRIM) 항목의 상위 10번째 값(즉, 범죄율을 큰 순서로 오름차순 정렬했을 때 10번째에 위치한 값)으로 상위 10개의 값을 변환한 후, age가 80이상인 데이터를 추출하여 crim의 평균값을 계산하시오.\n",
    "'''"
   ]
  },
  {
   "cell_type": "code",
   "execution_count": 25,
   "id": "4f46419a",
   "metadata": {},
   "outputs": [
    {
     "name": "stdout",
     "output_type": "stream",
     "text": [
      "6.710740791666667\n"
     ]
    }
   ],
   "source": [
    "import pandas as pd \n",
    "data = pd.read_csv('201_boston.csv')\n",
    "data1 = data.sort_values('CRIM').reset_index(drop=True)\n",
    "# print(help(pd.DataFrame.reset_index))\n",
    "\n",
    "crim_val = data1.iloc[9,0]\n",
    "data1.iloc[:9,0] = crim_val\n",
    "\n",
    "# print(crim_val)\n",
    "print(data1[data1['AGE'] >= 80]['CRIM'].mean())\n",
    "\n",
    "# print(data1.head(10))"
   ]
  },
  {
   "cell_type": "code",
   "execution_count": null,
   "id": "d450011a",
   "metadata": {},
   "outputs": [],
   "source": [
    "'''\n",
    "2. 다음은 California Housing 데이터 세트에서 주어진 데이터의 첫번째 행부터 순서대로 80%까지의 데이터를 추출 후, 전체 방 개수 컬럼을 위미하는 ‘total_bedrooms’변수의 결측치를 ‘total_bedrooms’ 변수의 중앙값으로 대체한 후 데이터 세트를 구성한다. 결측치 대체 전의 ‘total_bedrooms’변수 표준편차 값과 결측치 대체 후의 ‘total_bedrooms’변수 표준편차 값의 차이에 대한 절대값을 계산하시오.\n",
    "data = 202_housing.csv\n",
    "'''"
   ]
  },
  {
   "cell_type": "code",
   "execution_count": 42,
   "id": "722a1b35",
   "metadata": {},
   "outputs": [
    {
     "name": "stdout",
     "output_type": "stream",
     "text": [
      "1\n"
     ]
    },
    {
     "name": "stderr",
     "output_type": "stream",
     "text": [
      "C:\\Users\\tjoeun-jr-902-02\\AppData\\Local\\Temp\\ipykernel_30128\\2325248421.py:12: SettingWithCopyWarning: \n",
      "A value is trying to be set on a copy of a slice from a DataFrame.\n",
      "Try using .loc[row_indexer,col_indexer] = value instead\n",
      "\n",
      "See the caveats in the documentation: https://pandas.pydata.org/pandas-docs/stable/user_guide/indexing.html#returning-a-view-versus-a-copy\n",
      "  data1['total_bedrooms'] = data1['total_bedrooms'].fillna(med_totalBed)\n"
     ]
    }
   ],
   "source": [
    "import pandas as pd \n",
    "data = pd.read_csv('202_housing.csv')\n",
    "\n",
    "# 데이터의 첫번째 행부터 순서대로 80%까지의 데이터를 추출\n",
    "# print(20640 * 0.8)\n",
    "data1 = data.iloc[:int(20640 * 0.8)]\n",
    "# print(data1.info())\n",
    "\n",
    "# 전체 방 개수 컬럼을 의미하는 ‘total_bedrooms’변수의 결측치를 ‘total_bedrooms’ 변수의 중앙값으로 대체\n",
    "med_totalBed = data1['total_bedrooms'].median()\n",
    "before = data1['total_bedrooms'].std()\n",
    "data1['total_bedrooms'] = data1['total_bedrooms'].fillna(med_totalBed)\n",
    "after = data1['total_bedrooms'].std()\n",
    "print(int(abs(before - after)))\n"
   ]
  },
  {
   "cell_type": "code",
   "execution_count": null,
   "id": "5e4c2253",
   "metadata": {},
   "outputs": [],
   "source": [
    "'''\n",
    "3. 2번 문항에서 활용한 California Housing 데이터 세트를 그대로 활용하여 인구 컬럼인 population 항목의 이상값의 합계를 계산하시오. (이상값은 평균에서 1.5*표준편차를 초과하거나 미만인 값의 범위로 정한다.)\n",
    "data = 202_housing.csv\n",
    "'''"
   ]
  },
  {
   "cell_type": "code",
   "execution_count": 57,
   "id": "3e1a48ac",
   "metadata": {},
   "outputs": [
    {
     "name": "stdout",
     "output_type": "stream",
     "text": [
      "5607295\n"
     ]
    }
   ],
   "source": [
    "import pandas as pd \n",
    "data = pd.read_csv('202_housing.csv')\n",
    "# print(data.info())\n",
    "# print(data.loc[:,'population'].mean())\n",
    "# print(data.loc[:,'population'].std())\n",
    "upper = data.loc[:,'population'].mean() + 1.5 * data.loc[:,'population'].std()\n",
    "lower = data.loc[:,'population'].mean() - 1.5 * data.loc[:,'population'].std()\n",
    "result = data.loc[(data['population'] > upper) | (data['population'] < lower), 'population'].sum()\n",
    "print(int(result))"
   ]
  },
  {
   "cell_type": "markdown",
   "id": "2a308235",
   "metadata": {},
   "source": [
    "## 작업형 2유형"
   ]
  },
  {
   "cell_type": "code",
   "execution_count": null,
   "id": "4f213c2f",
   "metadata": {},
   "outputs": [],
   "source": [
    "'''\n",
    "다음은 e-commerce shipping 데이터 세트이다. 주어진 훈련 데이터 세트를 활용하여 고객이 주문한 물품의 정시 도착 여부를 예측하고 해당 결과를 csv파일로 제출하시오.\n",
    "\n",
    "* 결과 제출 양식 : ID, Reached.on.Time_Y.N\n",
    "data = 204_x_test.csv, 204_x_train.csv, 204_y_test.csv, 204_y_train.csv\n",
    "'''"
   ]
  },
  {
   "cell_type": "code",
   "execution_count": 107,
   "id": "a96bce5d",
   "metadata": {},
   "outputs": [
    {
     "name": "stderr",
     "output_type": "stream",
     "text": [
      "E:\\kdigital_a\\anaconda3\\lib\\site-packages\\xgboost\\sklearn.py:1146: UserWarning: The use of label encoder in XGBClassifier is deprecated and will be removed in a future release. To remove this warning, do the following: 1) Pass option use_label_encoder=False when constructing XGBClassifier object; and 2) Encode your labels (y) as integers starting with 0, i.e. 0, 1, 2, ..., [num_class - 1].\n",
      "  warnings.warn(label_encoder_deprecation_msg, UserWarning)\n",
      "E:\\kdigital_a\\anaconda3\\lib\\site-packages\\sklearn\\preprocessing\\_label.py:98: DataConversionWarning: A column-vector y was passed when a 1d array was expected. Please change the shape of y to (n_samples, ), for example using ravel().\n",
      "  y = column_or_1d(y, warn=True)\n",
      "E:\\kdigital_a\\anaconda3\\lib\\site-packages\\sklearn\\preprocessing\\_label.py:133: DataConversionWarning: A column-vector y was passed when a 1d array was expected. Please change the shape of y to (n_samples, ), for example using ravel().\n",
      "  y = column_or_1d(y, warn=True)\n",
      "E:\\kdigital_a\\anaconda3\\lib\\site-packages\\xgboost\\data.py:208: FutureWarning: pandas.Int64Index is deprecated and will be removed from pandas in a future version. Use pandas.Index with the appropriate dtype instead.\n",
      "  from pandas import MultiIndex, Int64Index\n",
      "C:\\Users\\tjoeun-jr-902-02\\AppData\\Local\\Temp\\ipykernel_30128\\700367058.py:69: DataConversionWarning: A column-vector y was passed when a 1d array was expected. Please change the shape of y to (n_samples,), for example using ravel().\n",
      "  model.fit(X_TRAIN, Y_TRAIN)\n"
     ]
    },
    {
     "name": "stdout",
     "output_type": "stream",
     "text": [
      "[18:33:30] WARNING: C:/Users/Administrator/workspace/xgboost-win64_release_1.4.0/src/learner.cc:1095: Starting in XGBoost 1.3.0, the default evaluation metric used with the objective 'binary:logistic' was changed from 'error' to 'logloss'. Explicitly set eval_metric if you'd like to restore the old behavior.\n",
      "0.7244731655548816\n",
      "0.6699029126213593\n"
     ]
    },
    {
     "name": "stderr",
     "output_type": "stream",
     "text": [
      "C:\\Users\\tjoeun-jr-902-02\\AppData\\Local\\Temp\\ipykernel_30128\\700367058.py:79: DataConversionWarning: A column-vector y was passed when a 1d array was expected. Please change the shape of y to (n_samples,), for example using ravel().\n",
      "  model.fit(x_train.drop(columns='ID'), y_train.drop(columns='ID'))\n"
     ]
    },
    {
     "name": "stdout",
     "output_type": "stream",
     "text": [
      "         ID  Reached.on.Time_Y.N\n",
      "0      7007                    0\n",
      "1      9793                    0\n",
      "2      6593                    0\n",
      "3     10527                    0\n",
      "4      6914                    1\n",
      "...     ...                  ...\n",
      "4395   3142                    0\n",
      "4396   6948                    0\n",
      "4397   7531                    0\n",
      "4398   8398                    0\n",
      "4399  10252                    0\n",
      "\n",
      "[4400 rows x 2 columns]          ID  Reached.on.Time_Y.N\n",
      "0      7007                    0\n",
      "1      9793                    1\n",
      "2      6593                    0\n",
      "3     10527                    0\n",
      "4      6914                    1\n",
      "...     ...                  ...\n",
      "4395   3142                    1\n",
      "4396   6948                    0\n",
      "4397   7531                    1\n",
      "4398   8398                    1\n",
      "4399  10252                    0\n",
      "\n",
      "[4400 rows x 2 columns]\n"
     ]
    }
   ],
   "source": [
    "import pandas as pd\n",
    "x_train = pd.read_csv('204_x_train.csv')\n",
    "x_test = pd.read_csv('204_x_test.csv')\n",
    "y_train = pd.read_csv('204_y_train.csv')\n",
    "y_test = pd.read_csv('204_y_test.csv')\n",
    "\n",
    "# print(x_train.shape, x_test.shape, y_train.shape, y_test.shape)\n",
    "# 데이터 살펴보기\n",
    "# print(x_train['Warehouse_block'].value_counts())\n",
    "# print(x_test['Warehouse_block'].value_counts())\n",
    "\n",
    "# print(x_train['Mode_of_Shipment'].value_counts())\n",
    "# print(x_test['Mode_of_Shipment'].value_counts())\n",
    "\n",
    "# print(x_train['Product_importance'].value_counts())\n",
    "# print(x_test['Product_importance'].value_counts())\n",
    "\n",
    "# print(x_train['Gender'].value_counts())\n",
    "# print(x_test['Gender'].value_counts())\n",
    "\n",
    "# print(x_train.describe())\n",
    "# 이상값, 결측치 확인하기\n",
    "# 범주형 데이터 확인하기 -> 라벨링\n",
    "from sklearn.preprocessing import LabelEncoder\n",
    "encoder = LabelEncoder()\n",
    "x_train['Warehouse_block'] = encoder.fit_transform(x_train['Warehouse_block'])\n",
    "x_test['Warehouse_block'] = encoder.transform(x_test['Warehouse_block'])\n",
    "\n",
    "encoder = LabelEncoder()\n",
    "x_train['Mode_of_Shipment'] = encoder.fit_transform(x_train['Mode_of_Shipment'])\n",
    "x_test['Mode_of_Shipment'] = encoder.transform(x_test['Mode_of_Shipment'])\n",
    "\n",
    "encoder = LabelEncoder()\n",
    "x_train['Product_importance'] = encoder.fit_transform(x_train['Product_importance'])\n",
    "x_test['Product_importance'] = encoder.transform(x_test['Product_importance'])\n",
    "\n",
    "encoder = LabelEncoder()\n",
    "x_train['Gender'] = encoder.fit_transform(x_train['Gender'])\n",
    "x_test['Gender'] = encoder.transform(x_test['Gender'])\n",
    "\n",
    "# 데이터 스케일링\n",
    "from sklearn.preprocessing import MinMaxScaler\n",
    "scaler = MinMaxScaler()\n",
    "x_train['Weight_in_gms'] = scaler.fit_transform(x_train[['Weight_in_gms']])\n",
    "x_test['Weight_in_gms'] = scaler.transform(x_test[['Weight_in_gms']])\n",
    "\n",
    "# scaler = MinMaxScaler()\n",
    "# x_train['Cost_of_the_Product'] = scaler.fit_transform(x_train[['Cost_of_the_Product']])\n",
    "# x_test['Cost_of_the_Product'] = scaler.transform(x_test[['Cost_of_the_Product']])\n",
    "\n",
    "# print(x_train.describe())\n",
    "# print(x_test.describe())\n",
    "# 데이터 스플릿\n",
    "from sklearn.model_selection import train_test_split\n",
    "X_TRAIN, X_VALID, Y_TRAIN, Y_VALID = train_test_split(x_train.drop(columns='ID'), y_train.drop(columns='ID'), test_size=0.2)\n",
    "# print(X_TRAIN.shape, X_VALID.shape, Y_TRAIN.shape, Y_VALID.shape)\n",
    "# 모델 학습\n",
    "from xgboost import XGBClassifier\n",
    "model = XGBClassifier(n_estimators=100, max_depth=4)\n",
    "model.fit(X_TRAIN, Y_TRAIN)\n",
    "Y_VALID_PREDICTED = model.predict(X_VALID)\n",
    "\n",
    "from sklearn.metrics import roc_auc_score, f1_score\n",
    "# print(roc_auc_score(Y_VALID, Y_VALID_PREDICTED))\n",
    "# print(f1_score(Y_VALID, Y_VALID_PREDICTED))\n",
    "\n",
    "from sklearn.ensemble import RandomForestClassifier\n",
    "model = RandomForestClassifier(n_estimators=100, max_depth=4)\n",
    "model.fit(X_TRAIN, Y_TRAIN)\n",
    "Y_VALID_PREDICTED = model.predict(X_VALID)\n",
    "\n",
    "# 모델 평가\n",
    "from sklearn.metrics import roc_auc_score\n",
    "# print(roc_auc_score(Y_VALID, Y_VALID_PREDICTED))\n",
    "# print(f1_score(Y_VALID, Y_VALID_PREDICTED))\n",
    "# 모델 학습\n",
    "from sklearn.ensemble import RandomForestClassifier\n",
    "model = RandomForestClassifier(n_estimators=100, max_depth=4)\n",
    "model.fit(x_train.drop(columns='ID'), y_train.drop(columns='ID'))\n",
    "y_test_predicted = model.predict(x_test.drop(columns='ID'))\n",
    "y_test_predicted = pd.DataFrame(y_test_predicted)\n",
    "# print(roc_auc_score(y_test.drop(columns='ID'), y_test_predicted))\n",
    "result = pd.concat([x_test.loc[:,'ID'], y_test_predicted], axis=1)\n",
    "result.columns = ['ID', 'Reached.on.Time_Y.N']\n",
    "result.to_csv('12345.csv', index=False)\n",
    "print(pd.read_csv('12345.csv'), y_test)"
   ]
  },
  {
   "cell_type": "code",
   "execution_count": null,
   "id": "2d83c7d2",
   "metadata": {},
   "outputs": [],
   "source": []
  },
  {
   "cell_type": "code",
   "execution_count": null,
   "id": "9ceee0fd",
   "metadata": {},
   "outputs": [],
   "source": []
  },
  {
   "cell_type": "code",
   "execution_count": null,
   "id": "c12f8770",
   "metadata": {},
   "outputs": [],
   "source": []
  },
  {
   "cell_type": "code",
   "execution_count": null,
   "id": "6f8d3e2d",
   "metadata": {},
   "outputs": [],
   "source": []
  }
 ],
 "metadata": {
  "kernelspec": {
   "display_name": "Python 3 (ipykernel)",
   "language": "python",
   "name": "python3"
  },
  "language_info": {
   "codemirror_mode": {
    "name": "ipython",
    "version": 3
   },
   "file_extension": ".py",
   "mimetype": "text/x-python",
   "name": "python",
   "nbconvert_exporter": "python",
   "pygments_lexer": "ipython3",
   "version": "3.9.12"
  }
 },
 "nbformat": 4,
 "nbformat_minor": 5
}
