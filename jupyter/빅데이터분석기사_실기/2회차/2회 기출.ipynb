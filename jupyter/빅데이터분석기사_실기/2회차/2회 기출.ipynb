{
 "cells": [
  {
   "cell_type": "markdown",
   "id": "924def6f",
   "metadata": {},
   "source": [
    "## 작업형 1유형"
   ]
  },
  {
   "cell_type": "code",
   "execution_count": 3,
   "id": "fc709d5d",
   "metadata": {
    "collapsed": true
   },
   "outputs": [
    {
     "data": {
      "text/plain": [
       "'\\n1. 다음은 Boston Housing 데이터 세트에서 범죄율 컬럼(CRIM) 항목의 상위 10번째 값(즉, 범죄율을 큰 순서로 오름차순 정렬했을 때 10번째에 위치한 값)으로 상위 10개의 값을 변환한 후, age가 80이상인 데이터를 추출하여 crim의 평균값을 계산하시오.\\n'"
      ]
     },
     "execution_count": 3,
     "metadata": {},
     "output_type": "execute_result"
    }
   ],
   "source": [
    "'''\n",
    "1. 다음은 Boston Housing 데이터 세트에서 범죄율 컬럼(CRIM) 항목의 상위 10번째 값(즉, 범죄율을 큰 순서로 오름차순 정렬했을 때 10번째에 위치한 값)으로 상위 10개의 값을 변환한 후, age가 80이상인 데이터를 추출하여 crim의 평균값을 계산하시오.\n",
    "'''"
   ]
  },
  {
   "cell_type": "code",
   "execution_count": 22,
   "id": "22109e49",
   "metadata": {
    "scrolled": true
   },
   "outputs": [
    {
     "name": "stdout",
     "output_type": "stream",
     "text": [
      "6.710740791666667\n"
     ]
    }
   ],
   "source": [
    "import pandas as pd\n",
    "data = pd.read_csv('201_boston.csv')\n",
    "data2 = data.sort_values('CRIM')\n",
    "data2.iloc[:9] = data2.iloc[9]\n",
    "print(data2[data2['AGE'] >= 80]['CRIM'].mean())"
   ]
  },
  {
   "cell_type": "code",
   "execution_count": null,
   "id": "d450011a",
   "metadata": {},
   "outputs": [],
   "source": [
    "'''\n",
    "2. 다음은 California Housing 데이터 세트에서 주어진 데이터의 첫번째 행부터 순서대로 80%까지의 데이터를 추출 후, 전체 방 개수 컬럼을 위미하는 ‘total_bedrooms’변수의 결측치를 ‘total_bedrooms’ 변수의 중앙값으로 대체한 후 데이터 세트를 구성한다. 결측치 대체 전의 ‘total_bedrooms’변수 표준편차 값과 결측치 대체 후의 ‘total_bedrooms’변수 표준편차 값의 차이에 대한 절대값을 계산하시오.\n",
    "'''"
   ]
  },
  {
   "cell_type": "code",
   "execution_count": 43,
   "id": "7a6485be",
   "metadata": {},
   "outputs": [
    {
     "name": "stdout",
     "output_type": "stream",
     "text": [
      "1.975147291645726\n"
     ]
    },
    {
     "name": "stderr",
     "output_type": "stream",
     "text": [
      "C:\\Users\\tjoeun-jr-902-02\\AppData\\Local\\Temp\\ipykernel_11728\\3850104377.py:6: SettingWithCopyWarning: \n",
      "A value is trying to be set on a copy of a slice from a DataFrame.\n",
      "Try using .loc[row_indexer,col_indexer] = value instead\n",
      "\n",
      "See the caveats in the documentation: https://pandas.pydata.org/pandas-docs/stable/user_guide/indexing.html#returning-a-view-versus-a-copy\n",
      "  data2['total_bedrooms'] = data3\n"
     ]
    }
   ],
   "source": [
    "import pandas as pd\n",
    "data = pd.read_csv('202_housing.csv')\n",
    "data2 = data.iloc[:int(len(data)*0.8)]\n",
    "before_std = data2['total_bedrooms'].std()\n",
    "data3 = data2.loc[:, 'total_bedrooms'].fillna(data2.loc[:, 'total_bedrooms'].median())\n",
    "data2['total_bedrooms'] = data3\n",
    "after_std = data2['total_bedrooms'].std()\n",
    "print(abs(before_std- after_std))\n",
    "# # print(data2['total_bedrooms'].fillna(data2['total_bedrooms'].median()))\n",
    "# print(data2.info())"
   ]
  },
  {
   "cell_type": "code",
   "execution_count": null,
   "id": "5e4c2253",
   "metadata": {},
   "outputs": [],
   "source": [
    "'''\n",
    "3. 2번 문항에서 활용한 California Housing 데이터 세트를 그대로 활용하여 인구 컬럼인 population 항목의 이상값의 합계를 계산하시오. (이상값은 평균에서 1.5*표준편차를 초과하거나 미만인 값의 범위로 정한다.)\n",
    "'''"
   ]
  },
  {
   "cell_type": "code",
   "execution_count": 55,
   "id": "8adbe278",
   "metadata": {},
   "outputs": [
    {
     "name": "stdout",
     "output_type": "stream",
     "text": [
      "1437.6145833333333\n",
      "4530982.0\n"
     ]
    },
    {
     "name": "stderr",
     "output_type": "stream",
     "text": [
      "C:\\Users\\tjoeun-jr-902-02\\AppData\\Local\\Temp\\ipykernel_11728\\563097473.py:6: SettingWithCopyWarning: \n",
      "A value is trying to be set on a copy of a slice from a DataFrame.\n",
      "Try using .loc[row_indexer,col_indexer] = value instead\n",
      "\n",
      "See the caveats in the documentation: https://pandas.pydata.org/pandas-docs/stable/user_guide/indexing.html#returning-a-view-versus-a-copy\n",
      "  data2['total_bedrooms'] = data3\n"
     ]
    }
   ],
   "source": [
    "import pandas as pd\n",
    "data = pd.read_csv('202_housing.csv')\n",
    "data2 = data.iloc[:int(len(data)*0.8)]\n",
    "before_std = data2['total_bedrooms'].std()\n",
    "data3 = data2.loc[:, 'total_bedrooms'].fillna(data2.loc[:, 'total_bedrooms'].median())\n",
    "data2['total_bedrooms'] = data3\n",
    "mean = data2['population'].mean()\n",
    "std = data2['population'].std()\n",
    "upper = mean + 1.5*std\n",
    "lower = mean - 1.5*std\n",
    "\n",
    "print(data2[(data2['population'] > upper) | (data2['population'] < lower)]['population'].sum())\n"
   ]
  },
  {
   "cell_type": "markdown",
   "id": "2a308235",
   "metadata": {},
   "source": [
    "## 작업형 2유형"
   ]
  },
  {
   "cell_type": "code",
   "execution_count": null,
   "id": "4f213c2f",
   "metadata": {},
   "outputs": [],
   "source": [
    "'''\n",
    "다음은 e-commerce shipping 데이터 세트이다. 주어진 훈련 데이터 세트를 활용하여 고객이 주문한 물품의 정시 도착 여부를 예측하고 해당 결과를 csv파일로 제출하시오.\n",
    "\n",
    "* 결과 제출 양식 : ID, Reached.on.Time_Y.N\n",
    "'''"
   ]
  },
  {
   "cell_type": "code",
   "execution_count": 132,
   "id": "3766831d",
   "metadata": {},
   "outputs": [
    {
     "name": "stdout",
     "output_type": "stream",
     "text": [
      "         ID  Reached.on.Time_Y.N\n",
      "0      7007                    0\n",
      "1      9793                    1\n",
      "2      6593                    0\n",
      "3     10527                    0\n",
      "4      6914                    1\n",
      "...     ...                  ...\n",
      "4395   3142                    1\n",
      "4396   6948                    0\n",
      "4397   7531                    1\n",
      "4398   8398                    1\n",
      "4399  10252                    0\n",
      "\n",
      "[4400 rows x 2 columns]\n",
      "0.6890570087189806\n",
      "         ID  Reached.on.Time_Y.N\n",
      "0      7007                    0\n",
      "1      9793                    1\n",
      "2      6593                    0\n",
      "3     10527                    0\n",
      "4      6914                    1\n",
      "...     ...                  ...\n",
      "4395   3142                    0\n",
      "4396   6948                    0\n",
      "4397   7531                    0\n",
      "4398   8398                    0\n",
      "4399  10252                    0\n",
      "\n",
      "[4400 rows x 2 columns]\n"
     ]
    }
   ],
   "source": [
    "# 랜덤포레스트, XGBClassifier\n",
    "import pandas as pd\n",
    "x_train = pd.read_csv('204_x_train.csv')\n",
    "y_train = pd.read_csv('204_y_train.csv')\n",
    "x_test = pd.read_csv('204_x_test.csv')\n",
    "y_test = pd.read_csv('204_y_test.csv')\n",
    "\n",
    "df = pd.concat([x_train, y_train], axis=1)\n",
    "df.drop(columns=['ID'], inplace=True)\n",
    "x_train.drop(columns=['ID'], inplace=True)\n",
    "id_columns = x_test['ID']\n",
    "y_train.drop(columns=['ID'], inplace=True)\n",
    "y_test.drop(columns=['ID'], inplace=True)\n",
    "x_test.drop(columns=['ID'], inplace=True)\n",
    "from sklearn.preprocessing import LabelEncoder\n",
    "encoder = LabelEncoder()\n",
    "df['Warehouse_block'] = encoder.fit_transform(df['Warehouse_block'])\n",
    "x_train['Warehouse_block'] = encoder.fit_transform(x_train['Warehouse_block'])\n",
    "x_test['Warehouse_block'] = encoder.transform(x_test['Warehouse_block'])\n",
    "\n",
    "encoder = LabelEncoder()\n",
    "df['Mode_of_Shipment'] = encoder.fit_transform(df['Mode_of_Shipment'])\n",
    "x_train['Mode_of_Shipment'] = encoder.fit_transform(x_train['Mode_of_Shipment'])\n",
    "x_test['Mode_of_Shipment'] = encoder.transform(x_test['Mode_of_Shipment'])\n",
    "\n",
    "encoder = LabelEncoder()\n",
    "df['Product_importance'] = encoder.fit_transform(df['Product_importance'])\n",
    "x_train['Product_importance'] = encoder.fit_transform(x_train['Product_importance'])\n",
    "x_test['Product_importance'] = encoder.transform(x_test['Product_importance'])\n",
    "\n",
    "encoder = LabelEncoder()\n",
    "df['Gender'] = encoder.fit_transform(df['Gender'])\n",
    "x_train['Gender'] = encoder.fit_transform(x_train['Gender'])\n",
    "x_test['Gender'] = encoder.transform(x_test['Gender'])\n",
    "\n",
    "# print(df['Warehouse_block'].value_counts())\n",
    "# print(x_test['Warehouse_block'].value_counts())\n",
    "# print(df['Mode_of_Shipment'].value_counts())\n",
    "# print(x_test['Mode_of_Shipment'].value_counts())\n",
    "# print(df['Product_importance'].value_counts())\n",
    "# print(x_test['Product_importance'].value_counts())\n",
    "\n",
    "from xgboost import XGBClassifier\n",
    "# print(help(XGBClassifier))\n",
    "model = XGBClassifier(n_estimators=100, max_depth=3)\n",
    "model.fit(x_train, y_train)\n",
    "y_test_predicted = model.predict(x_test)\n",
    "\n",
    "y_test_predicted = pd.DataFrame(y_test_predicted)\n",
    "# print(y_test_predicted)\n",
    "# print(y_test)\n",
    "from sklearn.metrics import roc_auc_score\n",
    "print(roc_auc_score(y_test, y_test_predicted))\n",
    "abc = pd.concat([id_columns, y_test_predicted], axis=1)\n",
    "abc.columns = ['ID',\"Reached.on.Time_Y.N\"]\n",
    "\n",
    "abc.to_csv('124252.csv', index=False)\n",
    "print(pd.read_csv('124252.csv'))\n"
   ]
  },
  {
   "cell_type": "code",
   "execution_count": null,
   "id": "a96bce5d",
   "metadata": {},
   "outputs": [],
   "source": []
  }
 ],
 "metadata": {
  "kernelspec": {
   "display_name": "Python 3 (ipykernel)",
   "language": "python",
   "name": "python3"
  },
  "language_info": {
   "codemirror_mode": {
    "name": "ipython",
    "version": 3
   },
   "file_extension": ".py",
   "mimetype": "text/x-python",
   "name": "python",
   "nbconvert_exporter": "python",
   "pygments_lexer": "ipython3",
   "version": "3.9.12"
  }
 },
 "nbformat": 4,
 "nbformat_minor": 5
}
