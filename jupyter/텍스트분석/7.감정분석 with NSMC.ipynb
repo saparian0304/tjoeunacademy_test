{
 "cells": [
  {
   "cell_type": "markdown",
   "id": "563a6f93",
   "metadata": {},
   "source": [
    "### 감정분석\n",
    "* 텍스트에 숨겨져있는 저자의 의도/정보를 찾아내는 방법\n",
    "* Opinion Mining, Sentiment Mining\n",
    "* 긍정/부정으로 나눠지는 형태\n",
    "* text classification\n",
    "\n",
    "### 텍스트 분류\n",
    "* 벡터형태로 된 텍스트를 분류\n",
    "* 주로 딥러닝(LSTM) 사용\n",
    "* 예) QnA, 챗봇(답변), 질문분류,..."
   ]
  },
  {
   "cell_type": "code",
   "execution_count": 1,
   "id": "60828730",
   "metadata": {},
   "outputs": [],
   "source": [
    "# 파일 읽어오는 함수\n",
    "def readFile(path):\n",
    "    with open(path, encoding='utf-8') as f:\n",
    "        doc = []\n",
    "        for line in f.read().splitlines()[1:]:\n",
    "            doc.append(line.split('\\t')[1:])\n",
    "    return doc"
   ]
  },
  {
   "cell_type": "code",
   "execution_count": 3,
   "id": "e3b969d0",
   "metadata": {},
   "outputs": [],
   "source": [
    "# NSMC 학습데이터와 테스트데이터 파일을 읽어오기\n",
    "train = readFile('ratings_train.txt')\n",
    "test = readFile('ratings_test.txt')"
   ]
  },
  {
   "cell_type": "code",
   "execution_count": 4,
   "id": "c2e89fc0",
   "metadata": {},
   "outputs": [
    {
     "data": {
      "text/plain": [
       "[['아 더빙.. 진짜 짜증나네요 목소리', '0'],\n",
       " ['흠...포스터보고 초딩영화줄....오버연기조차 가볍지 않구나', '1'],\n",
       " ['너무재밓었다그래서보는것을추천한다', '0']]"
      ]
     },
     "execution_count": 4,
     "metadata": {},
     "output_type": "execute_result"
    }
   ],
   "source": [
    "train[:3]"
   ]
  },
  {
   "cell_type": "code",
   "execution_count": 5,
   "id": "0034707e",
   "metadata": {},
   "outputs": [],
   "source": [
    "# 전처리 함수\n",
    "def preprocessing(txt):\n",
    "    import re\n",
    "    txt = re.sub('[^ㄱ-ㅎㅏ-ㅣ가-힣 ]', '', txt)\n",
    "    sw = set()\n",
    "    with open('stopwords-ko.txt', encoding='utf-8') as f:\n",
    "        for word in f:\n",
    "            sw.add(word.replace('\\n', ''))\n",
    "    tokens = []\n",
    "    from eunjeon import Mecab\n",
    "    mecab = Mecab()\n",
    "    for t in mecab.morphs(txt):\n",
    "        if t not in sw and len(t) > 1:\n",
    "            tokens.append(t)    \n",
    "    return tokens\n",
    "\n",
    "# nsmc 텍스트 전처리 함수 \n",
    "def make(data):\n",
    "    result = []\n",
    "    for line in data:\n",
    "        v = preprocessing(line[0])\n",
    "        if v:\n",
    "            result.append((v, line[1])) # 전처리한 텍스트와 label을 튜플로 추가\n",
    "    return result"
   ]
  },
  {
   "cell_type": "code",
   "execution_count": 6,
   "id": "d161e5a9",
   "metadata": {},
   "outputs": [],
   "source": [
    "train_data = make(train)"
   ]
  },
  {
   "cell_type": "code",
   "execution_count": 7,
   "id": "92e91ff1",
   "metadata": {},
   "outputs": [
    {
     "data": {
      "text/plain": [
       "[(['진짜', '짜증', '네요', '목소리'], '0'),\n",
       " (['포스터', '보고', '초딩', '영화', '오버', '연기', '가볍', '구나'], '1'),\n",
       " (['너무', '밓었', '추천', '한다'], '0')]"
      ]
     },
     "execution_count": 7,
     "metadata": {},
     "output_type": "execute_result"
    }
   ],
   "source": [
    "train_data[:3]"
   ]
  },
  {
   "cell_type": "code",
   "execution_count": 8,
   "id": "2a921106",
   "metadata": {},
   "outputs": [],
   "source": [
    "test_data = make(test)"
   ]
  },
  {
   "cell_type": "code",
   "execution_count": 9,
   "id": "24002acf",
   "metadata": {},
   "outputs": [
    {
     "data": {
      "text/plain": [
       "[(['평점', '나쁘', '짜리', '더더욱', '잖아'], '0'),\n",
       " (['지루', '은데', '완전', '막장'], '0'),\n",
       " (['어도', '텐데', '나와서', '심기', '불편'], '0')]"
      ]
     },
     "execution_count": 9,
     "metadata": {},
     "output_type": "execute_result"
    }
   ],
   "source": [
    "test_data[:3]"
   ]
  },
  {
   "cell_type": "code",
   "execution_count": 10,
   "id": "ad8f0f37",
   "metadata": {},
   "outputs": [],
   "source": [
    "import pickle\n",
    "with open('train_data.pkl', 'wb') as f:\n",
    "    pickle.dump(train_data, f)\n",
    "with open('test_data.pkl', 'wb') as f:\n",
    "    pickle.dump(test_data, f)"
   ]
  },
  {
   "cell_type": "code",
   "execution_count": 14,
   "id": "c58e833d",
   "metadata": {},
   "outputs": [
    {
     "data": {
      "text/plain": [
       "(146124, 48760)"
      ]
     },
     "execution_count": 14,
     "metadata": {},
     "output_type": "execute_result"
    }
   ],
   "source": [
    "len(train_data), len(test_data)"
   ]
  },
  {
   "cell_type": "code",
   "execution_count": 15,
   "id": "893e4ddd",
   "metadata": {},
   "outputs": [],
   "source": [
    "# 피클로 불러오기\n",
    "import pickle\n",
    "with open('train_data.pkl', 'rb') as f:\n",
    "    train_data = pickle.load(f)\n",
    "with open('test_data.pkl', 'rb') as f:\n",
    "    test_data = pickle.load(f)"
   ]
  },
  {
   "cell_type": "markdown",
   "id": "ad61a68f",
   "metadata": {},
   "source": [
    "### NSMC 분류"
   ]
  },
  {
   "cell_type": "code",
   "execution_count": 18,
   "id": "dec7bfb1",
   "metadata": {},
   "outputs": [],
   "source": [
    "from sklearn.svm import SVC\n",
    "from sklearn.feature_extraction.text import CountVectorizer\n",
    "from sklearn.pipeline import Pipeline\n",
    "import numpy as np"
   ]
  },
  {
   "cell_type": "code",
   "execution_count": 24,
   "id": "7febe242",
   "metadata": {},
   "outputs": [],
   "source": [
    "# 데이터 전처리\n",
    "# x = ['', '', '', '', '',...]\n",
    "# y = ['0', '1', '0',...]\n",
    "train_x = [' '.join(d) for d, _ in train_data]\n",
    "test_x = [' '.join(d) for d, _ in test_data]\n",
    "train_y = [ l for _, l in train_data]\n",
    "test_y = [ l for _, l in test_data]"
   ]
  },
  {
   "cell_type": "code",
   "execution_count": 27,
   "id": "78c38964",
   "metadata": {},
   "outputs": [
    {
     "data": {
      "text/plain": [
       "(['진짜 짜증 네요 목소리', '포스터 보고 초딩 영화 오버 연기 가볍 구나', '너무 밓었 추천 한다'], ['0', '1', '0'])"
      ]
     },
     "execution_count": 27,
     "metadata": {},
     "output_type": "execute_result"
    }
   ],
   "source": [
    "train_x[:3], train_y[:3]"
   ]
  },
  {
   "cell_type": "code",
   "execution_count": 26,
   "id": "b372d30a",
   "metadata": {},
   "outputs": [],
   "source": [
    "pip = Pipeline([\n",
    "    ('vect', CountVectorizer()),\n",
    "    ('model', SVC())\n",
    "])"
   ]
  },
  {
   "cell_type": "code",
   "execution_count": 28,
   "id": "1d75ae1c",
   "metadata": {},
   "outputs": [],
   "source": [
    "# 학습\n",
    "pip.fit(train_x, train_y)\n",
    "pred = pip.predict(test_x)"
   ]
  },
  {
   "cell_type": "code",
   "execution_count": 30,
   "id": "188d7721",
   "metadata": {},
   "outputs": [
    {
     "data": {
      "text/plain": [
       "0.8145406070549631"
      ]
     },
     "execution_count": 30,
     "metadata": {},
     "output_type": "execute_result"
    }
   ],
   "source": [
    "# 평가\n",
    "(pred == test_y).mean()"
   ]
  },
  {
   "cell_type": "code",
   "execution_count": 32,
   "id": "0c7683c4",
   "metadata": {},
   "outputs": [],
   "source": [
    "from eunjeon import Mecab\n",
    "mecab = Mecab()\n",
    "pip = Pipeline([\n",
    "    ('vect', CountVectorizer(analyzer=mecab.pos)),\n",
    "    ('model', SVC())\n",
    "])\n",
    "pip.fit(train_x[:1000], train_y[:1000])  # 1000개만 학습시켜봄\n",
    "pred_ = pip.predict(test_x)"
   ]
  },
  {
   "cell_type": "code",
   "execution_count": 33,
   "id": "a639b9fb",
   "metadata": {},
   "outputs": [
    {
     "data": {
      "text/plain": [
       "0.6885767022149303"
      ]
     },
     "execution_count": 33,
     "metadata": {},
     "output_type": "execute_result"
    }
   ],
   "source": [
    "(pred_ == test_y).mean()"
   ]
  },
  {
   "cell_type": "code",
   "execution_count": 44,
   "id": "6d0b21da",
   "metadata": {},
   "outputs": [
    {
     "data": {
      "text/plain": [
       "array(['0', '1', '1', '0', '1'], dtype='<U1')"
      ]
     },
     "execution_count": 44,
     "metadata": {},
     "output_type": "execute_result"
    }
   ],
   "source": [
    "# 실제 텍스트 데이터로 바로 예측\n",
    "pip.predict(['넌 참 착한 아이구나', '아주 재밌는 영화네요', '재밌는 영화네요', '재미없네요', '다시 보고싶어요'])"
   ]
  },
  {
   "cell_type": "code",
   "execution_count": 45,
   "id": "039b58cc",
   "metadata": {},
   "outputs": [],
   "source": [
    "from eunjeon import Mecab\n",
    "mecab = Mecab()\n",
    "pip_ = Pipeline([\n",
    "    ('vect', CountVectorizer(analyzer=mecab.pos)),\n",
    "    ('model', SVC())\n",
    "])\n",
    "pip_.fit(train_x, train_y)  # 1000개만 학습시켜봄\n",
    "pred_ = pip_.predict(test_x)"
   ]
  },
  {
   "cell_type": "code",
   "execution_count": 46,
   "id": "450d197b",
   "metadata": {},
   "outputs": [
    {
     "data": {
      "text/plain": [
       "0.8109105824446268"
      ]
     },
     "execution_count": 46,
     "metadata": {},
     "output_type": "execute_result"
    }
   ],
   "source": [
    "(pred_ == test_y).mean()"
   ]
  },
  {
   "cell_type": "code",
   "execution_count": 47,
   "id": "cae26129",
   "metadata": {},
   "outputs": [
    {
     "data": {
      "text/plain": [
       "array(['0', '1', '1', '0', '1'], dtype='<U1')"
      ]
     },
     "execution_count": 47,
     "metadata": {},
     "output_type": "execute_result"
    }
   ],
   "source": [
    "pip_.predict(['넌 참 착한 아이구나', '아주 재밌는 영화네요', '재밌는 영화네요', '재미없네요', '다시 보고싶어요'])"
   ]
  },
  {
   "cell_type": "code",
   "execution_count": null,
   "id": "9d176f25",
   "metadata": {},
   "outputs": [],
   "source": []
  }
 ],
 "metadata": {
  "kernelspec": {
   "display_name": "Python 3 (ipykernel)",
   "language": "python",
   "name": "python3"
  },
  "language_info": {
   "codemirror_mode": {
    "name": "ipython",
    "version": 3
   },
   "file_extension": ".py",
   "mimetype": "text/x-python",
   "name": "python",
   "nbconvert_exporter": "python",
   "pygments_lexer": "ipython3",
   "version": "3.9.12"
  }
 },
 "nbformat": 4,
 "nbformat_minor": 5
}
