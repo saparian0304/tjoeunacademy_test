{
 "cells": [
  {
   "cell_type": "markdown",
   "id": "77f1a2aa",
   "metadata": {},
   "source": [
    "* 자바설치 필요(jdk 1.7 이상)\n",
    "* 환경변수 설정 필요"
   ]
  },
  {
   "cell_type": "code",
   "execution_count": 1,
   "id": "d354a1ca",
   "metadata": {},
   "outputs": [
    {
     "name": "stdout",
     "output_type": "stream",
     "text": [
      "Collecting konlpy\n",
      "  Downloading konlpy-0.6.0-py2.py3-none-any.whl (19.4 MB)\n",
      "Collecting JPype1>=0.7.0\n",
      "  Downloading JPype1-1.4.0-cp39-cp39-win_amd64.whl (344 kB)\n",
      "Requirement already satisfied: numpy>=1.6 in e:\\kdigital_a\\anaconda3\\lib\\site-packages (from konlpy) (1.21.5)\n",
      "Requirement already satisfied: lxml>=4.1.0 in e:\\kdigital_a\\anaconda3\\lib\\site-packages (from konlpy) (4.8.0)\n",
      "Installing collected packages: JPype1, konlpy\n",
      "Successfully installed JPype1-1.4.0 konlpy-0.6.0\n"
     ]
    }
   ],
   "source": [
    "!pip install konlpy"
   ]
  },
  {
   "cell_type": "code",
   "execution_count": 6,
   "id": "f3799985",
   "metadata": {},
   "outputs": [],
   "source": [
    "import konlpy"
   ]
  },
  {
   "cell_type": "code",
   "execution_count": 7,
   "id": "061e50ea",
   "metadata": {},
   "outputs": [],
   "source": [
    "# 형태소분석기\n",
    "from konlpy.tag import Kkma\n",
    "from konlpy.tag import Komoran\n",
    "from konlpy.tag import Hannanum\n",
    "from konlpy.tag import Okt\n",
    "# 각각 조금씩 다름"
   ]
  },
  {
   "cell_type": "code",
   "execution_count": 5,
   "id": "4f96730d",
   "metadata": {
    "collapsed": true
   },
   "outputs": [
    {
     "name": "stdout",
     "output_type": "stream",
     "text": [
      "Collecting eunjeon\n",
      "  Using cached eunjeon-0.4.0.tar.gz (34.7 MB)\n",
      "Building wheels for collected packages: eunjeon\n",
      "  Building wheel for eunjeon (setup.py): started\n",
      "  Building wheel for eunjeon (setup.py): finished with status 'error'\n",
      "  Running setup.py clean for eunjeon\n",
      "Failed to build eunjeon\n",
      "Installing collected packages: eunjeon\n",
      "    Running setup.py install for eunjeon: started\n",
      "    Running setup.py install for eunjeon: finished with status 'error'\n"
     ]
    },
    {
     "name": "stderr",
     "output_type": "stream",
     "text": [
      "  ERROR: Command errored out with exit status 1:\n",
      "   command: 'E:\\kdigital_a\\anaconda3\\python.exe' -u -c 'import io, os, sys, setuptools, tokenize; sys.argv[0] = '\"'\"'C:\\\\Users\\\\tjoeun-jr-902-02\\\\AppData\\\\Local\\\\Temp\\\\pip-install-u3nqt39a\\\\eunjeon_6f2b5a66100d47c2bcaf11717decab2c\\\\setup.py'\"'\"'; __file__='\"'\"'C:\\\\Users\\\\tjoeun-jr-902-02\\\\AppData\\\\Local\\\\Temp\\\\pip-install-u3nqt39a\\\\eunjeon_6f2b5a66100d47c2bcaf11717decab2c\\\\setup.py'\"'\"';f = getattr(tokenize, '\"'\"'open'\"'\"', open)(__file__) if os.path.exists(__file__) else io.StringIO('\"'\"'from setuptools import setup; setup()'\"'\"');code = f.read().replace('\"'\"'\\r\\n'\"'\"', '\"'\"'\\n'\"'\"');f.close();exec(compile(code, __file__, '\"'\"'exec'\"'\"'))' bdist_wheel -d 'C:\\Users\\tjoeun-jr-902-02\\AppData\\Local\\Temp\\pip-wheel-e30wqcgh'\n",
      "       cwd: C:\\Users\\tjoeun-jr-902-02\\AppData\\Local\\Temp\\pip-install-u3nqt39a\\eunjeon_6f2b5a66100d47c2bcaf11717decab2c\\\n",
      "  Complete output (44 lines):\n",
      "  running bdist_wheel\n",
      "  running build\n",
      "  running build_py\n",
      "  creating build\n",
      "  creating build\\lib.win-amd64-3.9\n",
      "  creating build\\lib.win-amd64-3.9\\eunjeon\n",
      "  copying eunjeon\\constants.py -> build\\lib.win-amd64-3.9\\eunjeon\n",
      "  copying eunjeon\\mecab.py -> build\\lib.win-amd64-3.9\\eunjeon\n",
      "  copying eunjeon\\_mecab.py -> build\\lib.win-amd64-3.9\\eunjeon\n",
      "  copying eunjeon\\__init__.py -> build\\lib.win-amd64-3.9\\eunjeon\n",
      "  creating build\\lib.win-amd64-3.9\\eunjeon\\data\n",
      "  copying eunjeon\\data\\char.bin -> build\\lib.win-amd64-3.9\\eunjeon\\data\n",
      "  copying eunjeon\\data\\matrix.bin -> build\\lib.win-amd64-3.9\\eunjeon\\data\n",
      "  copying eunjeon\\data\\model.bin -> build\\lib.win-amd64-3.9\\eunjeon\\data\n",
      "  copying eunjeon\\data\\char.def -> build\\lib.win-amd64-3.9\\eunjeon\\data\n",
      "  copying eunjeon\\data\\feature.def -> build\\lib.win-amd64-3.9\\eunjeon\\data\n",
      "  copying eunjeon\\data\\left-id.def -> build\\lib.win-amd64-3.9\\eunjeon\\data\n",
      "  copying eunjeon\\data\\pos-id.def -> build\\lib.win-amd64-3.9\\eunjeon\\data\n",
      "  copying eunjeon\\data\\rewrite.def -> build\\lib.win-amd64-3.9\\eunjeon\\data\n",
      "  copying eunjeon\\data\\right-id.def -> build\\lib.win-amd64-3.9\\eunjeon\\data\n",
      "  copying eunjeon\\data\\unk.def -> build\\lib.win-amd64-3.9\\eunjeon\\data\n",
      "  copying eunjeon\\data\\sys.dic -> build\\lib.win-amd64-3.9\\eunjeon\\data\n",
      "  copying eunjeon\\data\\unk.dic -> build\\lib.win-amd64-3.9\\eunjeon\\data\n",
      "  copying eunjeon\\data\\dicrc -> build\\lib.win-amd64-3.9\\eunjeon\\data\n",
      "  copying eunjeon\\data\\mecabrc -> build\\lib.win-amd64-3.9\\eunjeon\\data\n",
      "  copying eunjeon\\data\\libmecab.dll -> build\\lib.win-amd64-3.9\\eunjeon\\data\n",
      "  copying eunjeon\\data\\mecab-cost-train.exe -> build\\lib.win-amd64-3.9\\eunjeon\\data\n",
      "  copying eunjeon\\data\\mecab-dict-gen.exe -> build\\lib.win-amd64-3.9\\eunjeon\\data\n",
      "  copying eunjeon\\data\\mecab-dict-index.exe -> build\\lib.win-amd64-3.9\\eunjeon\\data\n",
      "  copying eunjeon\\data\\mecab-system-eval.exe -> build\\lib.win-amd64-3.9\\eunjeon\\data\n",
      "  copying eunjeon\\data\\mecab-test-gen.exe -> build\\lib.win-amd64-3.9\\eunjeon\\data\n",
      "  copying eunjeon\\data\\mecab.exe -> build\\lib.win-amd64-3.9\\eunjeon\\data\n",
      "  creating build\\lib.win-amd64-3.9\\eunjeon\\data\\sdk\n",
      "  copying eunjeon\\data\\sdk\\libmecab.lib -> build\\lib.win-amd64-3.9\\eunjeon\\data\\sdk\n",
      "  copying eunjeon\\data\\sdk\\mecab-cost-train.lib -> build\\lib.win-amd64-3.9\\eunjeon\\data\\sdk\n",
      "  copying eunjeon\\data\\sdk\\mecab-dict-gen.lib -> build\\lib.win-amd64-3.9\\eunjeon\\data\\sdk\n",
      "  copying eunjeon\\data\\sdk\\mecab-dict-index.lib -> build\\lib.win-amd64-3.9\\eunjeon\\data\\sdk\n",
      "  copying eunjeon\\data\\sdk\\mecab-system-eval.lib -> build\\lib.win-amd64-3.9\\eunjeon\\data\\sdk\n",
      "  copying eunjeon\\data\\sdk\\mecab-test-gen.lib -> build\\lib.win-amd64-3.9\\eunjeon\\data\\sdk\n",
      "  copying eunjeon\\data\\sdk\\mecab.h -> build\\lib.win-amd64-3.9\\eunjeon\\data\\sdk\n",
      "  copying eunjeon\\data\\sdk\\mecab.lib -> build\\lib.win-amd64-3.9\\eunjeon\\data\\sdk\n",
      "  running build_ext\n",
      "  building '_MeCab' extension\n",
      "  error: Microsoft Visual C++ 14.0 or greater is required. Get it with \"Microsoft C++ Build Tools\": https://visualstudio.microsoft.com/visual-cpp-build-tools/\n",
      "  ----------------------------------------\n",
      "  ERROR: Failed building wheel for eunjeon\n",
      "    ERROR: Command errored out with exit status 1:\n",
      "     command: 'E:\\kdigital_a\\anaconda3\\python.exe' -u -c 'import io, os, sys, setuptools, tokenize; sys.argv[0] = '\"'\"'C:\\\\Users\\\\tjoeun-jr-902-02\\\\AppData\\\\Local\\\\Temp\\\\pip-install-u3nqt39a\\\\eunjeon_6f2b5a66100d47c2bcaf11717decab2c\\\\setup.py'\"'\"'; __file__='\"'\"'C:\\\\Users\\\\tjoeun-jr-902-02\\\\AppData\\\\Local\\\\Temp\\\\pip-install-u3nqt39a\\\\eunjeon_6f2b5a66100d47c2bcaf11717decab2c\\\\setup.py'\"'\"';f = getattr(tokenize, '\"'\"'open'\"'\"', open)(__file__) if os.path.exists(__file__) else io.StringIO('\"'\"'from setuptools import setup; setup()'\"'\"');code = f.read().replace('\"'\"'\\r\\n'\"'\"', '\"'\"'\\n'\"'\"');f.close();exec(compile(code, __file__, '\"'\"'exec'\"'\"'))' install --record 'C:\\Users\\tjoeun-jr-902-02\\AppData\\Local\\Temp\\pip-record-e0in697g\\install-record.txt' --single-version-externally-managed --compile --install-headers 'E:\\kdigital_a\\anaconda3\\Include\\eunjeon'\n",
      "         cwd: C:\\Users\\tjoeun-jr-902-02\\AppData\\Local\\Temp\\pip-install-u3nqt39a\\eunjeon_6f2b5a66100d47c2bcaf11717decab2c\\\n",
      "    Complete output (46 lines):\n",
      "    running install\n",
      "    E:\\kdigital_a\\anaconda3\\lib\\site-packages\\setuptools\\command\\install.py:34: SetuptoolsDeprecationWarning: setup.py install is deprecated. Use build and pip and other standards-based tools.\n",
      "      warnings.warn(\n",
      "    running build\n",
      "    running build_py\n",
      "    creating build\n",
      "    creating build\\lib.win-amd64-3.9\n",
      "    creating build\\lib.win-amd64-3.9\\eunjeon\n",
      "    copying eunjeon\\constants.py -> build\\lib.win-amd64-3.9\\eunjeon\n",
      "    copying eunjeon\\mecab.py -> build\\lib.win-amd64-3.9\\eunjeon\n",
      "    copying eunjeon\\_mecab.py -> build\\lib.win-amd64-3.9\\eunjeon\n",
      "    copying eunjeon\\__init__.py -> build\\lib.win-amd64-3.9\\eunjeon\n",
      "    creating build\\lib.win-amd64-3.9\\eunjeon\\data\n",
      "    copying eunjeon\\data\\char.bin -> build\\lib.win-amd64-3.9\\eunjeon\\data\n",
      "    copying eunjeon\\data\\matrix.bin -> build\\lib.win-amd64-3.9\\eunjeon\\data\n",
      "    copying eunjeon\\data\\model.bin -> build\\lib.win-amd64-3.9\\eunjeon\\data\n",
      "    copying eunjeon\\data\\char.def -> build\\lib.win-amd64-3.9\\eunjeon\\data\n",
      "    copying eunjeon\\data\\feature.def -> build\\lib.win-amd64-3.9\\eunjeon\\data\n",
      "    copying eunjeon\\data\\left-id.def -> build\\lib.win-amd64-3.9\\eunjeon\\data\n",
      "    copying eunjeon\\data\\pos-id.def -> build\\lib.win-amd64-3.9\\eunjeon\\data\n",
      "    copying eunjeon\\data\\rewrite.def -> build\\lib.win-amd64-3.9\\eunjeon\\data\n",
      "    copying eunjeon\\data\\right-id.def -> build\\lib.win-amd64-3.9\\eunjeon\\data\n",
      "    copying eunjeon\\data\\unk.def -> build\\lib.win-amd64-3.9\\eunjeon\\data\n",
      "    copying eunjeon\\data\\sys.dic -> build\\lib.win-amd64-3.9\\eunjeon\\data\n",
      "    copying eunjeon\\data\\unk.dic -> build\\lib.win-amd64-3.9\\eunjeon\\data\n",
      "    copying eunjeon\\data\\dicrc -> build\\lib.win-amd64-3.9\\eunjeon\\data\n",
      "    copying eunjeon\\data\\mecabrc -> build\\lib.win-amd64-3.9\\eunjeon\\data\n",
      "    copying eunjeon\\data\\libmecab.dll -> build\\lib.win-amd64-3.9\\eunjeon\\data\n",
      "    copying eunjeon\\data\\mecab-cost-train.exe -> build\\lib.win-amd64-3.9\\eunjeon\\data\n",
      "    copying eunjeon\\data\\mecab-dict-gen.exe -> build\\lib.win-amd64-3.9\\eunjeon\\data\n",
      "    copying eunjeon\\data\\mecab-dict-index.exe -> build\\lib.win-amd64-3.9\\eunjeon\\data\n",
      "    copying eunjeon\\data\\mecab-system-eval.exe -> build\\lib.win-amd64-3.9\\eunjeon\\data\n",
      "    copying eunjeon\\data\\mecab-test-gen.exe -> build\\lib.win-amd64-3.9\\eunjeon\\data\n",
      "    copying eunjeon\\data\\mecab.exe -> build\\lib.win-amd64-3.9\\eunjeon\\data\n",
      "    creating build\\lib.win-amd64-3.9\\eunjeon\\data\\sdk\n",
      "    copying eunjeon\\data\\sdk\\libmecab.lib -> build\\lib.win-amd64-3.9\\eunjeon\\data\\sdk\n",
      "    copying eunjeon\\data\\sdk\\mecab-cost-train.lib -> build\\lib.win-amd64-3.9\\eunjeon\\data\\sdk\n",
      "    copying eunjeon\\data\\sdk\\mecab-dict-gen.lib -> build\\lib.win-amd64-3.9\\eunjeon\\data\\sdk\n",
      "    copying eunjeon\\data\\sdk\\mecab-dict-index.lib -> build\\lib.win-amd64-3.9\\eunjeon\\data\\sdk\n",
      "    copying eunjeon\\data\\sdk\\mecab-system-eval.lib -> build\\lib.win-amd64-3.9\\eunjeon\\data\\sdk\n",
      "    copying eunjeon\\data\\sdk\\mecab-test-gen.lib -> build\\lib.win-amd64-3.9\\eunjeon\\data\\sdk\n",
      "    copying eunjeon\\data\\sdk\\mecab.h -> build\\lib.win-amd64-3.9\\eunjeon\\data\\sdk\n",
      "    copying eunjeon\\data\\sdk\\mecab.lib -> build\\lib.win-amd64-3.9\\eunjeon\\data\\sdk\n",
      "    running build_ext\n",
      "    building '_MeCab' extension\n",
      "    error: Microsoft Visual C++ 14.0 or greater is required. Get it with \"Microsoft C++ Build Tools\": https://visualstudio.microsoft.com/visual-cpp-build-tools/\n",
      "    ----------------------------------------\n",
      "ERROR: Command errored out with exit status 1: 'E:\\kdigital_a\\anaconda3\\python.exe' -u -c 'import io, os, sys, setuptools, tokenize; sys.argv[0] = '\"'\"'C:\\\\Users\\\\tjoeun-jr-902-02\\\\AppData\\\\Local\\\\Temp\\\\pip-install-u3nqt39a\\\\eunjeon_6f2b5a66100d47c2bcaf11717decab2c\\\\setup.py'\"'\"'; __file__='\"'\"'C:\\\\Users\\\\tjoeun-jr-902-02\\\\AppData\\\\Local\\\\Temp\\\\pip-install-u3nqt39a\\\\eunjeon_6f2b5a66100d47c2bcaf11717decab2c\\\\setup.py'\"'\"';f = getattr(tokenize, '\"'\"'open'\"'\"', open)(__file__) if os.path.exists(__file__) else io.StringIO('\"'\"'from setuptools import setup; setup()'\"'\"');code = f.read().replace('\"'\"'\\r\\n'\"'\"', '\"'\"'\\n'\"'\"');f.close();exec(compile(code, __file__, '\"'\"'exec'\"'\"'))' install --record 'C:\\Users\\tjoeun-jr-902-02\\AppData\\Local\\Temp\\pip-record-e0in697g\\install-record.txt' --single-version-externally-managed --compile --install-headers 'E:\\kdigital_a\\anaconda3\\Include\\eunjeon' Check the logs for full command output.\n"
     ]
    }
   ],
   "source": [
    "# 은전한닢 프로젝트 - 오픈소스 형태소 분석기 (mecab 기반)\n",
    "!pip install eunjeon"
   ]
  },
  {
   "cell_type": "code",
   "execution_count": 2,
   "id": "5911edcf",
   "metadata": {},
   "outputs": [],
   "source": [
    "from eunjeon import Mecab\n",
    "mecab = Mecab()"
   ]
  },
  {
   "cell_type": "code",
   "execution_count": 6,
   "id": "a76bf6c9",
   "metadata": {},
   "outputs": [],
   "source": [
    "# 객체 생성\n",
    "kkma = Kkma()\n",
    "komoran = Komoran()\n",
    "hannanum = Hannanum()\n",
    "okt = Okt()"
   ]
  },
  {
   "cell_type": "code",
   "execution_count": 7,
   "id": "bf689e7d",
   "metadata": {},
   "outputs": [
    {
     "data": {
      "text/plain": [
       "[('안녕', 'NNG'),\n",
       " ('하', 'XSV'),\n",
       " ('세요', 'EFN'),\n",
       " ('저', 'NP'),\n",
       " ('는', 'JX'),\n",
       " ('홍길동', 'NNG'),\n",
       " ('이', 'VCP'),\n",
       " ('ㅂ니다', 'EFN'),\n",
       " ('.', 'SF')]"
      ]
     },
     "execution_count": 7,
     "metadata": {},
     "output_type": "execute_result"
    }
   ],
   "source": [
    "kkma.pos('안녕하세요 저는 홍길동입니다.')"
   ]
  },
  {
   "cell_type": "code",
   "execution_count": 8,
   "id": "0a3f6c4d",
   "metadata": {},
   "outputs": [
    {
     "data": {
      "text/plain": [
       "[('아버지', 'NNG'),\n",
       " ('가방', 'NNG'),\n",
       " ('에', 'JKM'),\n",
       " ('들어가', 'VV'),\n",
       " ('시', 'EPH'),\n",
       " ('ㅂ니다', 'EFN')]"
      ]
     },
     "execution_count": 8,
     "metadata": {},
     "output_type": "execute_result"
    }
   ],
   "source": [
    "txt = '아버지가방에들어가십니다'\n",
    "kkma.pos(txt)"
   ]
  },
  {
   "cell_type": "code",
   "execution_count": 9,
   "id": "5f95f1c6",
   "metadata": {},
   "outputs": [
    {
     "data": {
      "text/plain": [
       "[('아버지', 'NNG'),\n",
       " ('가방', 'NNP'),\n",
       " ('에', 'JKB'),\n",
       " ('들어가', 'VV'),\n",
       " ('시', 'EP'),\n",
       " ('ㅂ니다', 'EC')]"
      ]
     },
     "execution_count": 9,
     "metadata": {},
     "output_type": "execute_result"
    }
   ],
   "source": [
    "komoran.pos(txt)"
   ]
  },
  {
   "cell_type": "code",
   "execution_count": 10,
   "id": "de2a9e92",
   "metadata": {},
   "outputs": [
    {
     "data": {
      "text/plain": [
       "[('아버지가방에들어가', 'N'), ('이', 'J'), ('시ㅂ니다', 'E')]"
      ]
     },
     "execution_count": 10,
     "metadata": {},
     "output_type": "execute_result"
    }
   ],
   "source": [
    "hannanum.pos(txt)"
   ]
  },
  {
   "cell_type": "code",
   "execution_count": 11,
   "id": "341b2932",
   "metadata": {},
   "outputs": [
    {
     "data": {
      "text/plain": [
       "[('아버지', 'Noun'), ('가방', 'Noun'), ('에', 'Josa'), ('들어가십니다', 'Verb')]"
      ]
     },
     "execution_count": 11,
     "metadata": {},
     "output_type": "execute_result"
    }
   ],
   "source": [
    "okt.pos(txt)"
   ]
  },
  {
   "cell_type": "code",
   "execution_count": 12,
   "id": "935604ab",
   "metadata": {},
   "outputs": [],
   "source": [
    "# 오타난 텍스트\n",
    "txt = 'ㄷㅗㅇㅎㅐㅁㅜㄹ과 백두산이 마르고 닳도록'"
   ]
  },
  {
   "cell_type": "code",
   "execution_count": 13,
   "id": "6f575a72",
   "metadata": {},
   "outputs": [
    {
     "data": {
      "text/plain": [
       "[('ㄷ', 'NNG'),\n",
       " ('ㅗ', 'UN'),\n",
       " ('ㅇ', 'NNG'),\n",
       " ('ㅎ', 'NNG'),\n",
       " ('ㅐ', 'UN'),\n",
       " ('ㅁ', 'NNG'),\n",
       " ('ㅜ', 'UN'),\n",
       " ('ㄹ', 'JKO'),\n",
       " ('과', 'NNG'),\n",
       " ('백두산', 'NNP'),\n",
       " ('이', 'JKS'),\n",
       " ('마르', 'VV'),\n",
       " ('고', 'ECE'),\n",
       " ('닳', 'VV'),\n",
       " ('도록', 'ECD')]"
      ]
     },
     "execution_count": 13,
     "metadata": {},
     "output_type": "execute_result"
    }
   ],
   "source": [
    "kkma.pos(txt)"
   ]
  },
  {
   "cell_type": "code",
   "execution_count": 15,
   "id": "be055923",
   "metadata": {},
   "outputs": [
    {
     "data": {
      "text/plain": [
       "[('동해물과 백두산이', 'NNP'), ('마르고', 'NNP'), ('닳', 'VV'), ('도록', 'EC')]"
      ]
     },
     "execution_count": 15,
     "metadata": {},
     "output_type": "execute_result"
    }
   ],
   "source": [
    "komoran.pos(txt)"
   ]
  },
  {
   "cell_type": "code",
   "execution_count": 16,
   "id": "95ade074",
   "metadata": {},
   "outputs": [
    {
     "data": {
      "text/plain": [
       "[('ㄷㅗㅇㅎㅐㅁㅜㄹ', 'N'),\n",
       " ('과', 'J'),\n",
       " ('백두산', 'N'),\n",
       " ('이', 'J'),\n",
       " ('마르', 'P'),\n",
       " ('고', 'E'),\n",
       " ('닳', 'P'),\n",
       " ('도록', 'E')]"
      ]
     },
     "execution_count": 16,
     "metadata": {},
     "output_type": "execute_result"
    }
   ],
   "source": [
    "hannanum.pos(txt)"
   ]
  },
  {
   "cell_type": "code",
   "execution_count": 17,
   "id": "9ed28034",
   "metadata": {},
   "outputs": [
    {
     "data": {
      "text/plain": [
       "[('ㄷㅗㅇㅎㅐㅁㅜㄹ', 'KoreanParticle'),\n",
       " ('과', 'Noun'),\n",
       " ('백두산', 'Noun'),\n",
       " ('이', 'Josa'),\n",
       " ('마르고', 'Noun'),\n",
       " ('닳도록', 'Verb')]"
      ]
     },
     "execution_count": 17,
     "metadata": {},
     "output_type": "execute_result"
    }
   ],
   "source": [
    "okt.pos(txt)"
   ]
  },
  {
   "cell_type": "code",
   "execution_count": 4,
   "id": "d8437e65",
   "metadata": {},
   "outputs": [],
   "source": [
    "# 속도테스트\n",
    "txt = '\\n이미지 원본보기\\n배우 박해수(왼쪽), 유라. 사진 디아지아코리아 제공제27회 부산국제영화제 프리미어 스폰서로 참여한 디아지오코리아가 스카치위스키 브랜드 조니워커 블루 애프터 파티를 6일 오후 열었다 .부산 해운대구 우동 체스 154에서 열린 스카치위스키 브랜드 조니워커 블루 애프터 파티에는 ‘수리남’, ‘오징어게임’ 등에  출연한 배우 박해수, ‘기상청 사람들’, ‘하우치’에 출연한 배우 유라 등이 참석했다. 이미지 원본보기\\n배우 박해수(왼쪽), 유라. 사진 디오지아코리아 제공디아지오코리아의 스카치위스키 브랜드 조니워커는 한국 영화의 미래를 응원하는 ‘Depth of Blue’ 캠페인을 진행하고 있다. 조니워커는 코로나19 팬데믹 이후 3년 만에 개·폐막식을 비롯한 모든 행사에 프리미어 스폰서로 참여해 전 세계 영화팬들이 부산국제영화제를 더욱 다채롭게 즐길 수 있도록 돕고 있다. 조니워커는 독립영화제 시상 부문 ‘시민평론가상’을 후원하고 영화의 전당 야외 행사장에서 ‘조니워커 하이볼 바’를 운영하고 있다. 오픈 시네마 이벤트에서는 조니워커 블루 브랜드존을 마련하는 등 영화제 방문객들을 위한 다양한 프로그램을 제공하고 있다.김문석 기자 kmseok@kyunghyang.com\\n'"
   ]
  },
  {
   "cell_type": "code",
   "execution_count": 23,
   "id": "4f616b9b",
   "metadata": {},
   "outputs": [
    {
     "name": "stdout",
     "output_type": "stream",
     "text": [
      "[('이미지', 'NNG'), ('원', 'NNG'), ('본보기', 'NNG'), ('배우', 'NNG'), ('박해', 'NNG'), ('수', 'NNG'), ('(', 'SS'), ('왼쪽', 'NNG'), (')', 'SS'), (',', 'SP')]\n",
      "CPU times: total: 297 ms\n",
      "Wall time: 165 ms\n"
     ]
    }
   ],
   "source": [
    "%%time\n",
    "print(kkma.pos(txt)[:10])"
   ]
  },
  {
   "cell_type": "code",
   "execution_count": 20,
   "id": "27a3c343",
   "metadata": {},
   "outputs": [
    {
     "name": "stdout",
     "output_type": "stream",
     "text": [
      "[('이미지', 'NNP'), ('원본', 'NNP'), ('보기', 'NNP'), ('배우', 'NNP'), ('박해수', 'NNP'), ('(', 'SS'), ('왼쪽', 'NNG'), (')', 'SS'), (',', 'SP'), ('유라', 'NNP')]\n",
      "CPU times: total: 93.8 ms\n",
      "Wall time: 32 ms\n"
     ]
    }
   ],
   "source": [
    "%%time\n",
    "print(komoran.pos(txt)[:10])"
   ]
  },
  {
   "cell_type": "code",
   "execution_count": 21,
   "id": "15b3f464",
   "metadata": {},
   "outputs": [
    {
     "name": "stdout",
     "output_type": "stream",
     "text": [
      "[('이미지', 'N'), ('원본보기', 'N'), ('배우', 'N'), ('박해수(왼쪽),', 'N'), ('유', 'N'), ('이', 'J'), ('라', 'E'), ('.', 'S'), ('사', 'P'), ('아', 'E')]\n",
      "CPU times: total: 141 ms\n",
      "Wall time: 53 ms\n"
     ]
    }
   ],
   "source": [
    "%%time\n",
    "print(hannanum.pos(txt)[:10])"
   ]
  },
  {
   "cell_type": "code",
   "execution_count": 22,
   "id": "b6e6c663",
   "metadata": {},
   "outputs": [
    {
     "name": "stdout",
     "output_type": "stream",
     "text": [
      "[('\\n', 'Foreign'), ('이미지', 'Noun'), ('원', 'Modifier'), ('본보기', 'Noun'), ('\\n', 'Foreign'), ('배우', 'Noun'), ('박해수', 'Adjective'), ('(', 'Punctuation'), ('왼쪽', 'Noun'), ('),', 'Punctuation')]\n",
      "CPU times: total: 359 ms\n",
      "Wall time: 99 ms\n"
     ]
    }
   ],
   "source": [
    "%%time\n",
    "print(okt.pos(txt)[:10])"
   ]
  },
  {
   "cell_type": "code",
   "execution_count": 10,
   "id": "5a5a1a09",
   "metadata": {},
   "outputs": [],
   "source": [
    "from eunjeon import Mecab\n",
    "mecab = Mecab()"
   ]
  },
  {
   "cell_type": "code",
   "execution_count": 12,
   "id": "cb9f228e",
   "metadata": {},
   "outputs": [
    {
     "name": "stdout",
     "output_type": "stream",
     "text": [
      "[('이미지', 'NNG'), ('원본', 'NNG'), ('보', 'VV'), ('기', 'ETN'), ('배우', 'NNG'), ('박해수', 'NNP'), ('(', 'SSO'), ('왼쪽', 'NNG'), (')', 'SSC'), (',', 'SC')]\n",
      "CPU times: total: 0 ns\n",
      "Wall time: 1e+03 µs\n"
     ]
    }
   ],
   "source": [
    "%%time\n",
    "print(mecab.pos(txt)[:10])"
   ]
  },
  {
   "cell_type": "code",
   "execution_count": null,
   "id": "0db95544",
   "metadata": {},
   "outputs": [],
   "source": []
  }
 ],
 "metadata": {
  "kernelspec": {
   "display_name": "Python 3 (ipykernel)",
   "language": "python",
   "name": "python3"
  },
  "language_info": {
   "codemirror_mode": {
    "name": "ipython",
    "version": 3
   },
   "file_extension": ".py",
   "mimetype": "text/x-python",
   "name": "python",
   "nbconvert_exporter": "python",
   "pygments_lexer": "ipython3",
   "version": "3.9.12"
  }
 },
 "nbformat": 4,
 "nbformat_minor": 5
}
